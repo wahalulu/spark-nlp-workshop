{
 "cells": [
  {
   "cell_type": "markdown",
   "metadata": {
    "colab_type": "text",
    "id": "sQFJ6aT4nfhw"
   },
   "source": [
    "[![Open In Colab](https://colab.research.google.com/assets/colab-badge.svg)](https://colab.research.google.com/github/JohnSnowLabs/spark-nlp-workshop/blob/master/jupyter/enterprise/healthcare/ChunkMergeClinicalMultiple.ipynb)"
   ]
  },
  {
   "cell_type": "code",
   "execution_count": 1,
   "metadata": {
    "colab": {
     "base_uri": "https://localhost:8080/",
     "height": 34
    },
    "colab_type": "code",
    "id": "MdE588BiY3z1",
    "outputId": "cec54ac1-ef24-46cb-e856-a192a94ad900"
   },
   "outputs": [
    {
     "data": {
      "text/plain": [
       "dict_keys(['version', 'secret', 'SPARK_NLP_LICENSE', 'JSL_OCR_LICENSE', 'AWS_ACCESS_KEY_ID', 'AWS_SECRET_ACCESS_KEY', 'JSL_OCR_SECRET'])"
      ]
     },
     "execution_count": 1,
     "metadata": {
      "tags": []
     },
     "output_type": "execute_result"
    }
   ],
   "source": [
    "import json\n",
    "\n",
    "with open('keys.json') as f:\n",
    "    license_keys = json.load(f)\n",
    "\n",
    "license_keys.keys()\n"
   ]
  },
  {
   "cell_type": "code",
   "execution_count": 2,
   "metadata": {
    "colab": {
     "base_uri": "https://localhost:8080/",
     "height": 408
    },
    "colab_type": "code",
    "id": "FVFdvGChZDDP",
    "outputId": "0c692a99-059b-4aa1-ffee-464add2e5503"
   },
   "outputs": [
    {
     "name": "stdout",
     "output_type": "stream",
     "text": [
      "openjdk version \"1.8.0_252\"\n",
      "OpenJDK Runtime Environment (build 1.8.0_252-8u252-b09-1~18.04-b09)\n",
      "OpenJDK 64-Bit Server VM (build 25.252-b09, mixed mode)\n",
      "Looking in indexes: https://pypi.org/simple, https://pypi.johnsnowlabs.com/8zvTuUjWPt\n",
      "Collecting spark-nlp-jsl==2.5.2\n",
      "Collecting spark-nlp==2.5.2\n",
      "\u001b[?25l  Downloading https://files.pythonhosted.org/packages/3e/b0/c272273674b5810c0909b369c57669197907a15d84bbdf058007bb909c99/spark_nlp-2.5.2-py2.py3-none-any.whl (122kB)\n",
      "\u001b[K     |████████████████████████████████| 133kB 3.4MB/s \n",
      "\u001b[?25hCollecting pyspark==2.4.4\n",
      "\u001b[?25l  Downloading https://files.pythonhosted.org/packages/87/21/f05c186f4ddb01d15d0ddc36ef4b7e3cedbeb6412274a41f26b55a650ee5/pyspark-2.4.4.tar.gz (215.7MB)\n",
      "\u001b[K     |████████████████████████████████| 215.7MB 66kB/s \n",
      "\u001b[?25hCollecting py4j==0.10.7\n",
      "\u001b[?25l  Downloading https://files.pythonhosted.org/packages/e3/53/c737818eb9a7dc32a7cd4f1396e787bd94200c3997c72c1dbe028587bd76/py4j-0.10.7-py2.py3-none-any.whl (197kB)\n",
      "\u001b[K     |████████████████████████████████| 204kB 45.8MB/s \n",
      "\u001b[?25hBuilding wheels for collected packages: pyspark\n",
      "  Building wheel for pyspark (setup.py) ... \u001b[?25l\u001b[?25hdone\n",
      "  Created wheel for pyspark: filename=pyspark-2.4.4-py2.py3-none-any.whl size=216130388 sha256=986d051041d9d114fa5769f4222bfdb8c85d7bd60a479844ece0d70dd8a46550\n",
      "  Stored in directory: /root/.cache/pip/wheels/ab/09/4d/0d184230058e654eb1b04467dbc1292f00eaa186544604b471\n",
      "Successfully built pyspark\n",
      "Installing collected packages: spark-nlp, py4j, pyspark, spark-nlp-jsl\n",
      "Successfully installed py4j-0.10.7 pyspark-2.4.4 spark-nlp-2.5.2 spark-nlp-jsl-2.5.2\n",
      "2.5.2\n"
     ]
    }
   ],
   "source": [
    "import os\n",
    "\n",
    "# Install java\n",
    "! apt-get update -qq\n",
    "! apt-get install -y openjdk-8-jdk-headless -qq > /dev/null\n",
    "\n",
    "secret = license_keys.get(\"secret\",license_keys.get('SPARK_NLP_SECRET', \"\"))\n",
    "spark_version = os.environ.get(\"SPARK_VERSION\", license_keys.get(\"SPARK_VERSION\",\"2.4\"))\n",
    "version = license_keys.get(\"version\",license_keys.get('SPARK_NLP_PUBLIC_VERSION', \"\"))\n",
    "jsl_version = license_keys.get(\"jsl_version\",license_keys.get('SPARK_NLP_VERSION', \"\"))\n",
    "\n",
    "os.environ[\"JAVA_HOME\"] = \"/usr/lib/jvm/java-8-openjdk-amd64\"\n",
    "os.environ[\"PATH\"] = os.environ[\"JAVA_HOME\"] + \"/bin:\" + os.environ[\"PATH\"]\n",
    "! java -version\n",
    "\n",
    "os.environ['SPARK_NLP_LICENSE'] = license_keys['SPARK_NLP_LICENSE']\n",
    "os.environ['JSL_OCR_LICENSE'] = license_keys['JSL_OCR_LICENSE']\n",
    "os.environ['AWS_ACCESS_KEY_ID']= license_keys['AWS_ACCESS_KEY_ID']\n",
    "os.environ['AWS_SECRET_ACCESS_KEY'] = license_keys['AWS_SECRET_ACCESS_KEY']\n",
    "\n",
    "print(spark_version, version, jsl_version)\n",
    "\n",
    "! python -m pip install \"pyspark==$spark_version\".*\n",
    "! python -m pip install --upgrade spark-nlp-jsl==$jsl_version  --extra-index-url https://pypi.johnsnowlabs.com/$secret\n",
    "\n",
    "import sparknlp\n",
    "import sparknlp_jsl\n",
    "from sparknlp.base import *\n",
    "from sparknlp.annotator import *\n",
    "from sparknlp_jsl.annotator import *\n",
    "from pyspark.ml import Pipeline\n",
    "from pyspark.sql import SparkSession\n",
    "\n",
    "print (sparknlp.version())\n",
    "print (sparknlp_jsl.version())\n",
    "\n",
    "spark = sparknlp_jsl.start(secret, gpu=False, spark23=(spark_version[:3]==\"2.3\"))"
   ]
  },
  {
   "cell_type": "code",
   "execution_count": 0,
   "metadata": {
    "colab": {},
    "colab_type": "code",
    "id": "1zgsiTxjaiMd"
   },
   "outputs": [],
   "source": [
    "# Sample data. If really training a new NER from the output of multiple prertained NERs, \n",
    "# this data should have thousands of documents\n",
    "data_chunk_merge = spark.createDataFrame([\n",
    "  (1,\"\"\"A 63-year-old man presents to the hospital with a history of recurrent infections that include cellulitis, pneumonias, and upper respiratory tract infections. He reports subjective fevers at home along with unintentional weight loss and occasional night sweats. The patient has a remote history of arthritis, which was diagnosed approximately 20 years ago and treated intermittently with methotrexate (MTX) and prednisone. On physical exam, he is found to be febrile at 102°F, rather cachectic, pale, and have hepatosplenomegaly. Several swollen joints that are tender to palpation and have decreased range of motion are also present. His laboratory values show pancytopenia with the most severe deficiency in neutrophils.\n",
    "\"\"\")]).toDF(\"id\",\"text\")"
   ]
  },
  {
   "cell_type": "code",
   "execution_count": 4,
   "metadata": {
    "colab": {
     "base_uri": "https://localhost:8080/",
     "height": 68
    },
    "colab_type": "code",
    "id": "weY5V9h7ZDf0",
    "outputId": "60599668-3ee6-4011-caf5-d6f991224668"
   },
   "outputs": [
    {
     "name": "stdout",
     "output_type": "stream",
     "text": [
      "embeddings_clinical download started this may take some time.\n",
      "Approximate size to download 1.6 GB\n",
      "[OK!]\n"
     ]
    }
   ],
   "source": [
    "# Preprocessing pipeline\n",
    "da = DocumentAssembler().setInputCol(\"text\").setOutputCol(\"document\")\n",
    "sd = SentenceDetector().setInputCols(\"document\").setOutputCol(\"sentence\")\n",
    "tk = Tokenizer().setInputCols(\"sentence\").setOutputCol(\"token\")\n",
    "emb = WordEmbeddingsModel.pretrained(\"embeddings_clinical\",\"en\",\"clinical/models\").setOutputCol(\"embs\")\n"
   ]
  },
  {
   "cell_type": "code",
   "execution_count": 0,
   "metadata": {
    "colab": {},
    "colab_type": "code",
    "id": "ku85AU_Rnfir"
   },
   "outputs": [],
   "source": [
    "# Ners names and column names for each ner\n",
    "from collections import OrderedDict\n",
    "ners_to_merge = OrderedDict({\"ner_deid_large\":\"deid\", \"ner_bionlp\":\"bio\", \"ner_jsl\":\"jsl\"})"
   ]
  },
  {
   "cell_type": "code",
   "execution_count": 6,
   "metadata": {
    "colab": {
     "base_uri": "https://localhost:8080/",
     "height": 170
    },
    "colab_type": "code",
    "id": "7LYvNOPZnfi2",
    "outputId": "979cf279-9363-48a0-a702-9654c7283dda"
   },
   "outputs": [
    {
     "name": "stdout",
     "output_type": "stream",
     "text": [
      "ner_deid_large download started this may take some time.\n",
      "Approximate size to download 14 MB\n",
      "[OK!]\n",
      "ner_bionlp download started this may take some time.\n",
      "Approximate size to download 13.9 MB\n",
      "[OK!]\n",
      "ner_jsl download started this may take some time.\n",
      "Approximate size to download 14 MB\n",
      "[OK!]\n"
     ]
    }
   ],
   "source": [
    "# Build the graph\n",
    "ner_pl = []\n",
    "for ner, out in ners_to_merge.items():\n",
    "    first = len(ner_pl)==0\n",
    "    ner_pl.append(NerDLModel.pretrained(ner,\"en\",\"clinical/models\").setInputCols(\"sentence\",\"token\",\"embs\").setOutputCol(out))\n",
    "    ner_pl.append(NerConverter().setInputCols(\"sentence\",\"token\",out).setOutputCol(out+\"_chunk\"))\n",
    "    if not first:\n",
    "        ner_pl.append(ChunkMergeApproach().setInputCols(prev+\"_chunk\", out+\"_chunk\").setOutputCol(out+\"_chunk\"))\n",
    "    prev = out\n",
    "out_col = list(ners_to_merge.values())[-1]+\"_chunk\""
   ]
  },
  {
   "cell_type": "code",
   "execution_count": 0,
   "metadata": {
    "colab": {},
    "colab_type": "code",
    "id": "2-3bBy3yP88k"
   },
   "outputs": [],
   "source": [
    "iob_tagger = IOBTagger().setInputCols(\"token\", out_col).setOutputCol(\"ner_label\")"
   ]
  },
  {
   "cell_type": "code",
   "execution_count": 0,
   "metadata": {
    "colab": {},
    "colab_type": "code",
    "id": "JMI6QDcunfjI"
   },
   "outputs": [],
   "source": [
    "\n",
    "pl = Pipeline().setStages([da,sd,tk,emb] + ner_pl + [iob_tagger])"
   ]
  },
  {
   "cell_type": "code",
   "execution_count": 0,
   "metadata": {
    "colab": {},
    "colab_type": "code",
    "id": "K9lX8WOwnfjP"
   },
   "outputs": [],
   "source": [
    "merged_data = pl.fit(data_chunk_merge).transform(data_chunk_merge).cache()"
   ]
  },
  {
   "cell_type": "code",
   "execution_count": 12,
   "metadata": {
    "colab": {
     "base_uri": "https://localhost:8080/",
     "height": 527
    },
    "colab_type": "code",
    "id": "dpLba4tAbPiW",
    "outputId": "9bdcf461-ede4-4f1c-be4f-150dbb946a91"
   },
   "outputs": [
    {
     "name": "stdout",
     "output_type": "stream",
     "text": [
      "+---+-----+---+----------------------------------+----------------------+\n",
      "|id |begin|end|chunk                             |entity                |\n",
      "+---+-----+---+----------------------------------+----------------------+\n",
      "|1  |2    |12 |63-year-old                       |Age                   |\n",
      "|1  |14   |16 |man                               |Organism              |\n",
      "|1  |61   |69 |recurrent                         |Modifier              |\n",
      "|1  |95   |104|cellulitis                        |Diagnosis             |\n",
      "|1  |107  |116|pneumonias                        |Diagnosis             |\n",
      "|1  |123  |156|upper respiratory tract infections|Diagnosis             |\n",
      "|1  |159  |160|He                                |Gender                |\n",
      "|1  |170  |179|subjective                        |Modifier              |\n",
      "|1  |181  |186|fevers                            |Symptom_Name          |\n",
      "|1  |237  |246|occasional                        |Modifier              |\n",
      "|1  |248  |259|night sweats                      |Symptom_Name          |\n",
      "|1  |266  |272|patient                           |Organism              |\n",
      "|1  |298  |306|arthritis                         |Diagnosis             |\n",
      "|1  |343  |344|20                                |Age                   |\n",
      "|1  |388  |399|methotrexate                      |Simple_chemical       |\n",
      "|1  |402  |405|MTX)                              |Drug_Name             |\n",
      "|1  |411  |420|prednisone                        |Simple_chemical       |\n",
      "|1  |441  |442|he                                |Gender                |\n",
      "|1  |459  |465|febrile                           |Symptom_Name          |\n",
      "|1  |510  |527|hepatosplenomegaly                |Symptom_Name          |\n",
      "|1  |530  |536|Several                           |Modifier              |\n",
      "|1  |538  |551|swollen joints                    |Multi-tissue_structure|\n",
      "|1  |635  |637|His                               |Gender                |\n",
      "|1  |662  |673|pancytopenia                      |Symptom_Name          |\n",
      "|1  |710  |720|neutrophils                       |Cell                  |\n",
      "+---+-----+---+----------------------------------+----------------------+\n",
      "\n"
     ]
    }
   ],
   "source": [
    "merged_data.selectExpr(\"id\",f\"explode({out_col}) as a\")\\\n",
    ".selectExpr(\"id\",\"a.begin\",\"a.end\",\"a.result as chunk\",\"a.metadata.entity as entity\").show(100, False)"
   ]
  },
  {
   "cell_type": "code",
   "execution_count": 17,
   "metadata": {
    "colab": {
     "base_uri": "https://localhost:8080/",
     "height": 629
    },
    "colab_type": "code",
    "id": "NYsZ3KsCnw0y",
    "outputId": "3e51ab7f-e51a-4950-b88f-172f6b743995"
   },
   "outputs": [
    {
     "name": "stdout",
     "output_type": "stream",
     "text": [
      "+---+-----+---+------------------------+------------------+\n",
      "|id |begin|end|chunk                   |word              |\n",
      "+---+-----+---+------------------------+------------------+\n",
      "|1  |2    |12 |B-Age                   |63-year-old       |\n",
      "|1  |14   |16 |B-Organism              |man               |\n",
      "|1  |61   |69 |B-Modifier              |recurrent         |\n",
      "|1  |95   |104|B-Diagnosis             |cellulitis        |\n",
      "|1  |107  |116|B-Diagnosis             |pneumonias        |\n",
      "|1  |123  |127|B-Diagnosis             |upper             |\n",
      "|1  |129  |139|I-Diagnosis             |respiratory       |\n",
      "|1  |141  |145|I-Diagnosis             |tract             |\n",
      "|1  |147  |156|I-Diagnosis             |infections        |\n",
      "|1  |159  |160|B-Gender                |He                |\n",
      "|1  |170  |179|B-Modifier              |subjective        |\n",
      "|1  |181  |186|B-Symptom_Name          |fevers            |\n",
      "|1  |237  |246|B-Modifier              |occasional        |\n",
      "|1  |248  |252|B-Symptom_Name          |night             |\n",
      "|1  |254  |259|I-Symptom_Name          |sweats            |\n",
      "|1  |266  |272|B-Organism              |patient           |\n",
      "|1  |298  |306|B-Diagnosis             |arthritis         |\n",
      "|1  |343  |344|B-Age                   |20                |\n",
      "|1  |388  |399|B-Simple_chemical       |methotrexate      |\n",
      "|1  |402  |404|B-Drug_Name             |MTX               |\n",
      "|1  |405  |405|I-Drug_Name             |)                 |\n",
      "|1  |411  |420|B-Simple_chemical       |prednisone        |\n",
      "|1  |441  |442|B-Gender                |he                |\n",
      "|1  |459  |465|B-Symptom_Name          |febrile           |\n",
      "|1  |510  |527|B-Symptom_Name          |hepatosplenomegaly|\n",
      "|1  |530  |536|B-Modifier              |Several           |\n",
      "|1  |538  |544|B-Multi-tissue_structure|swollen           |\n",
      "|1  |546  |551|I-Multi-tissue_structure|joints            |\n",
      "|1  |635  |637|B-Gender                |His               |\n",
      "|1  |662  |673|B-Symptom_Name          |pancytopenia      |\n",
      "|1  |710  |720|B-Cell                  |neutrophils       |\n",
      "+---+-----+---+------------------------+------------------+\n",
      "\n"
     ]
    }
   ],
   "source": [
    "#As we can see, ner_label column is ready to train a NerDLApproach\n",
    "merged_data.selectExpr(\"id\",f\"explode(ner_label) as a\")\\\n",
    ".selectExpr(\"id\",\"a.begin\",\"a.end\",\"a.result as chunk\",\"a.metadata.word as word\").where(\"chunk!='O'\").show(1000, False)"
   ]
  },
  {
   "cell_type": "code",
   "execution_count": 0,
   "metadata": {
    "colab": {},
    "colab_type": "code",
    "id": "9KIz9vFoRgp0"
   },
   "outputs": [],
   "source": []
  }
 ],
 "metadata": {
  "colab": {
   "collapsed_sections": [],
   "name": "ChunkMergeClinicalMultiple.ipynb",
   "provenance": []
  },
  "kernelspec": {
   "display_name": "jsl250",
   "language": "python",
   "name": "jsl250"
  },
  "language_info": {
   "codemirror_mode": {
    "name": "ipython",
    "version": 3
   },
   "file_extension": ".py",
   "mimetype": "text/x-python",
   "name": "python",
   "nbconvert_exporter": "python",
   "pygments_lexer": "ipython3",
   "version": "3.6.9"
  }
 },
 "nbformat": 4,
 "nbformat_minor": 1
}
