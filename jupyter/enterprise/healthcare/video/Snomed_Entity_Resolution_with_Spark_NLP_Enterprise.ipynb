{
 "cells": [
  {
   "cell_type": "code",
   "execution_count": null,
   "metadata": {
    "colab": {
     "base_uri": "https://localhost:8080/",
     "height": 122
    },
    "colab_type": "code",
    "id": "LaSXFf2Ss3_Z",
    "outputId": "235fdd2a-787a-4bee-ba80-366bb4779241"
   },
   "outputs": [
    {
     "name": "stdout",
     "output_type": "stream",
     "text": [
      "Go to this URL in a browser: https://accounts.google.com/o/oauth2/auth?client_id=947318989803-6bn6qk8qdgf4n4g3pfee6491hc0brc4i.apps.googleusercontent.com&redirect_uri=urn%3aietf%3awg%3aoauth%3a2.0%3aoob&response_type=code&scope=email%20https%3a%2f%2fwww.googleapis.com%2fauth%2fdocs.test%20https%3a%2f%2fwww.googleapis.com%2fauth%2fdrive%20https%3a%2f%2fwww.googleapis.com%2fauth%2fdrive.photos.readonly%20https%3a%2f%2fwww.googleapis.com%2fauth%2fpeopleapi.readonly\n",
      "\n",
      "Enter your authorization code:\n",
      "··········\n",
      "Mounted at /content/drive\n"
     ]
    }
   ],
   "source": [
    "from google.colab import drive\n",
    "drive.mount('/content/drive')"
   ]
  },
  {
   "cell_type": "code",
   "execution_count": null,
   "metadata": {
    "colab": {},
    "colab_type": "code",
    "id": "M53sXI0KujAG"
   },
   "outputs": [],
   "source": [
    "colab_path = \"/content/drive/My Drive/Colab Notebooks/\""
   ]
  },
  {
   "cell_type": "code",
   "execution_count": null,
   "metadata": {
    "colab": {
     "base_uri": "https://localhost:8080/",
     "height": 34
    },
    "colab_type": "code",
    "id": "zUuv6qmeurIR",
    "outputId": "a985c2d6-81b6-4a82-8cf1-af5649f3717a"
   },
   "outputs": [
    {
     "data": {
      "text/plain": [
       "dict_keys(['version', 'secret', 'SPARK_NLP_LICENSE', 'JSL_OCR_LICENSE', 'AWS_ACCESS_KEY_ID', 'AWS_SECRET_ACCESS_KEY', 'JSL_OCR_SECRET'])"
      ]
     },
     "execution_count": 3,
     "metadata": {
      "tags": []
     },
     "output_type": "execute_result"
    }
   ],
   "source": [
    "import json\n",
    "\n",
    "with open(colab_path+'keys.json') as f:\n",
    "    license_keys = json.load(f)\n",
    "\n",
    "license_keys.keys()\n"
   ]
  },
  {
   "cell_type": "code",
   "execution_count": null,
   "metadata": {
    "colab": {
     "base_uri": "https://localhost:8080/",
     "height": 68
    },
    "colab_type": "code",
    "id": "5SKtGmEWutQa",
    "outputId": "29ffa0e5-bab8-4bc6-e7cb-479ceb4850ae"
   },
   "outputs": [
    {
     "name": "stdout",
     "output_type": "stream",
     "text": [
      "openjdk version \"1.8.0_252\"\n",
      "OpenJDK Runtime Environment (build 1.8.0_252-8u252-b09-1~18.04-b09)\n",
      "OpenJDK 64-Bit Server VM (build 25.252-b09, mixed mode)\n"
     ]
    }
   ],
   "source": [
    "import os\n",
    "\n",
    "# Install java\n",
    "! apt-get install -y openjdk-8-jdk-headless -qq > /dev/null\n",
    "os.environ[\"JAVA_HOME\"] = \"/usr/lib/jvm/java-8-openjdk-amd64\"\n",
    "os.environ[\"PATH\"] = os.environ[\"JAVA_HOME\"] + \"/bin:\" + os.environ[\"PATH\"]\n",
    "! java -version"
   ]
  },
  {
   "cell_type": "code",
   "execution_count": null,
   "metadata": {
    "colab": {},
    "colab_type": "code",
    "id": "pL4rT_C-uwyc"
   },
   "outputs": [],
   "source": [
    "secret = license_keys['secret']\n",
    "os.environ['SPARK_NLP_LICENSE'] = license_keys['SPARK_NLP_LICENSE']\n",
    "os.environ['JSL_OCR_LICENSE'] = license_keys['JSL_OCR_LICENSE']\n",
    "os.environ['AWS_ACCESS_KEY_ID']= license_keys['AWS_ACCESS_KEY_ID']\n",
    "os.environ['AWS_SECRET_ACCESS_KEY'] = license_keys['AWS_SECRET_ACCESS_KEY']\n",
    "version = license_keys['version']"
   ]
  },
  {
   "cell_type": "code",
   "execution_count": null,
   "metadata": {
    "colab": {
     "base_uri": "https://localhost:8080/",
     "height": 340
    },
    "colab_type": "code",
    "id": "OhZTLdStuzk-",
    "outputId": "6fcf4c4d-45c5-4a30-8cc2-3416e8936601"
   },
   "outputs": [],
   "source": [
    "! python -m pip install --upgrade spark-nlp-jsl==$version  --extra-index-url https://pypi.johnsnowlabs.com/$secret"
   ]
  },
  {
   "cell_type": "code",
   "execution_count": null,
   "metadata": {
    "colab": {
     "base_uri": "https://localhost:8080/",
     "height": 34
    },
    "colab_type": "code",
    "id": "HRe6SMZUu2qo",
    "outputId": "330b85f5-74e0-4415-c6ac-8421abcb27e4"
   },
   "outputs": [
    {
     "name": "stdout",
     "output_type": "stream",
     "text": [
      "2.5.2\n"
     ]
    }
   ],
   "source": [
    "import sparknlp\n",
    "\n",
    "print (sparknlp.version())\n",
    "\n",
    "import json\n",
    "import os\n",
    "from pyspark.ml import Pipeline\n",
    "from pyspark.sql import SparkSession, functions as F\n",
    "import pandas as pd\n",
    "\n",
    "\n",
    "from sparknlp.annotator import *\n",
    "from sparknlp_jsl.annotator import *\n",
    "from sparknlp.base import *\n",
    "import sparknlp_jsl\n",
    "\n",
    "\n",
    "\n",
    "def start(secret):\n",
    "    builder = SparkSession.builder \\\n",
    "        .appName(\"Spark NLP Licensed\") \\\n",
    "        .master(\"local[*]\") \\\n",
    "        .config(\"spark.driver.memory\", \"16G\") \\\n",
    "        .config(\"spark.serializer\", \"org.apache.spark.serializer.KryoSerializer\") \\\n",
    "        .config(\"spark.kryoserializer.buffer.max\", \"2000M\") \\\n",
    "        .config(\"spark.jars.packages\", \"com.johnsnowlabs.nlp:spark-nlp_2.11:2.5.2\") \\\n",
    "        .config(\"spark.jars\", \"https://pypi.johnsnowlabs.com/\"+secret+\"/spark-nlp-jsl-\"+version+\".jar\")\n",
    "      \n",
    "    return builder.getOrCreate()\n",
    "\n",
    "\n",
    "spark = start(secret)"
   ]
  },
  {
   "cell_type": "markdown",
   "metadata": {
    "colab_type": "text",
    "id": "edmfWm-wvNaG"
   },
   "source": [
    "# Train Snomed Entity Resolver\n",
    "\n",
    "We will asume we have downloaded SNOMED CT dataset, and we have the Terminology text files mounted `colab_path`. We will play with them a bit to have a desired format and then train an Entity Resolution model from scratch using SparkNLP Enterprise.\n",
    "\n",
    "With this trained model SparkNLP Enterprise can then spot this entities in free form text and normalize their appearances to some canonical representation"
   ]
  },
  {
   "cell_type": "markdown",
   "metadata": {
    "colab_type": "text",
    "id": "N1i_hKqVvug0"
   },
   "source": [
    "## Step 1. Load the data, filter it and merge it"
   ]
  },
  {
   "cell_type": "code",
   "execution_count": null,
   "metadata": {
    "colab": {},
    "colab_type": "code",
    "id": "P4_yZcMRwBl6"
   },
   "outputs": [],
   "source": [
    "snomed_path = colab_path + \"snomed_ct/\"\n",
    "concepts_path = \"sct2_Concept_Full_US1000124_20190901.txt\"\n",
    "descs_path = \"sct2_Description_Full-en_US1000124_20190901.txt\"\n",
    "rels_path = \"sct2_Relationship_Full_US1000124_20190901.txt\"\n",
    "\n",
    "concepts_raw = spark.read.csv(os.path.join(snomed_path, concepts_path), sep=\"\\t\", header=True)\n",
    "descs_raw = spark.read.csv(os.path.join(snomed_path, descs_path), sep=\"\\t\", header=True)\n",
    "rels_raw = spark.read.csv(os.path.join(snomed_path, rels_path), sep=\"\\t\", header=True)"
   ]
  },
  {
   "cell_type": "markdown",
   "metadata": {
    "colab_type": "text",
    "id": "GDwWbb50wJNK"
   },
   "source": [
    "### Let's get of the latest valid concepts"
   ]
  },
  {
   "cell_type": "code",
   "execution_count": null,
   "metadata": {
    "colab": {},
    "colab_type": "code",
    "id": "8GZ_xlfqwGq9"
   },
   "outputs": [],
   "source": [
    "from pyspark.sql import SparkSession, functions as F\n",
    "concepts = concepts_raw\\\n",
    "        .groupby(\"id\")\\\n",
    "        .agg(F.expr(\"max(active) as active\"), F.expr(\"max(effectiveTime) as effectiveTime\"))\\\n",
    "        .where(\"active=1\")\\\n",
    "        .join(concepts_raw, on=[\"id\",\"active\",\"effectiveTime\"])\\\n",
    "        .selectExpr(\"id as conceptId\", \"active as active_concept\")\n",
    "\n",
    "descs = descs_raw.join(concepts, \"conceptId\")\\\n",
    "        .groupby(\"conceptId\")\\\n",
    "        .agg(F.expr(\"max(active) as active\"), F.expr(\"max(effectiveTime) as effectiveTime\"))\\\n",
    "        .where(\"active=1\")\\\n",
    "        .join(descs_raw, on=[\"conceptId\",\"active\",\"effectiveTime\"])\\\n",
    "        .selectExpr(*descs_raw.columns)\n",
    "\n",
    "rels = rels_raw.join(concepts, F.expr(\"sourceId=conceptId or destinationId=conceptId\"))\\\n",
    "        .groupby(\"sourceId\",\"destinationId\",\"typeId\")\\\n",
    "        .agg(F.expr(\"max(active) as active\"), F.expr(\"max(effectiveTime) as effectiveTime\"))\\\n",
    "        .where(\"active=1\")\\\n",
    "        .join(rels_raw, on=[\"sourceId\",\"destinationId\",\"typeId\",\"active\",\"effectiveTime\"])\\\n",
    "        .selectExpr(*rels_raw.columns)"
   ]
  },
  {
   "cell_type": "markdown",
   "metadata": {
    "colab_type": "text",
    "id": "jcTygM0OwQL-"
   },
   "source": [
    "### Let's filter the tree of concepts extracting unique `is_a` relationships (just one parent per concept)"
   ]
  },
  {
   "cell_type": "code",
   "execution_count": null,
   "metadata": {
    "colab": {},
    "colab_type": "code",
    "id": "c1hkZ7mMwLXo"
   },
   "outputs": [],
   "source": [
    "isa_rels_raw = rels_raw.where(\"typeId='116680003'\").groupby(\"sourceId\",\"destinationId\",\"typeId\")\\\n",
    "        .agg(F.expr(\"max(active) as active\"), F.expr(\"max(effectiveTime) as effectiveTime\"))\\\n",
    "        .join(rels_raw, on=[\"sourceId\",\"destinationId\",\"typeId\",\"active\",\"effectiveTime\"])\\\n",
    "        .where(\"active=1\")\n",
    "\n",
    "isa_rels_1 = isa_rels_raw.join(concepts, F.expr(\"sourceId=conceptId\")).drop(*concepts.columns)\\\n",
    "        .join(concepts, F.expr(\"destinationId=conceptId\")).drop(*concepts.columns).distinct()\n",
    "        \n",
    "isa_rels_2 = isa_rels_1.groupby(\"sourceId\")\\\n",
    "        .agg(F.expr(\"min(destinationId) as destinationId\"))\\\n",
    "        .join(isa_rels_1, on=[\"sourceId\",\"destinationId\"])\\\n",
    "        .selectExpr(*rels_raw.columns)"
   ]
  },
  {
   "cell_type": "markdown",
   "metadata": {
    "colab_type": "text",
    "id": "OxWYIJvDwc5Q"
   },
   "source": [
    "#### Let's persist and reolad just to speed up things downstream"
   ]
  },
  {
   "cell_type": "code",
   "execution_count": null,
   "metadata": {
    "colab": {},
    "colab_type": "code",
    "id": "zmvBgbMRwWbm"
   },
   "outputs": [],
   "source": [
    "concepts.write.mode(\"overwrite\").save(snomed_path+\"interim/concepts.parquet\")\n",
    "descs.write.mode(\"overwrite\").save(snomed_path+\"interim/descs.parquet\")\n",
    "isa_rels_2.write.mode(\"overwrite\").save(snomed_path+\"interim/isa_rels.parquet\")"
   ]
  },
  {
   "cell_type": "code",
   "execution_count": null,
   "metadata": {
    "colab": {},
    "colab_type": "code",
    "id": "ScuY3_XMwhi_"
   },
   "outputs": [],
   "source": [
    "concepts = spark.read.load(snomed_path+\"interim/concepts.parquet\")\n",
    "descs = spark.read.load(snomed_path+\"interim/descs.parquet\")\n",
    "isa_rels = spark.read.load(snomed_path+\"interim/isa_rels.parquet\")"
   ]
  },
  {
   "cell_type": "code",
   "execution_count": null,
   "metadata": {
    "colab": {
     "base_uri": "https://localhost:8080/",
     "height": 34
    },
    "colab_type": "code",
    "id": "rmp4hVUcwkU3",
    "outputId": "f7558921-ca62-4781-a337-2c669d17c4bd"
   },
   "outputs": [
    {
     "name": "stdout",
     "output_type": "stream",
     "text": [
      "Total: 809103 dist_str: 809103 dist_id 357406\n"
     ]
    }
   ],
   "source": [
    "total_count = descs.count()\n",
    "distinct_idstr_count = descs.select(\"conceptId\",\"term\").distinct().count()\n",
    "concepts_count = concepts.select(\"conceptId\").distinct().count()\n",
    "\n",
    "print(\"Total:\",total_count, \"dist_str:\", distinct_idstr_count, \"dist_id\", concepts_count)"
   ]
  },
  {
   "cell_type": "markdown",
   "metadata": {
    "colab_type": "text",
    "id": "G1KsI6Zuwo06"
   },
   "source": [
    "#### Given SNOMED is a graph, let's try to build a tabular representation by starting in the top node and recursively going down to the leafs"
   ]
  },
  {
   "cell_type": "code",
   "execution_count": null,
   "metadata": {
    "colab": {},
    "colab_type": "code",
    "id": "V9HJplP-wmFr"
   },
   "outputs": [],
   "source": [
    "hierarchies = isa_rels\\\n",
    "    .where(\"typeId='116680003' and destinationId='138875005' and sourceId!='404684003'\").select(\"sourceId\")\\\n",
    "    .union(isa_rels.where(\"typeId='116680003' and destinationId='404684003'\").select(\"sourceId\"))\\\n",
    "    .distinct()\\\n",
    "    .join(concepts, on=F.col(\"sourceId\")==F.col(\"conceptId\"))\\\n",
    "    .join(descs.where(\"typeId='900000000000003001'\"),\"conceptId\")\\\n",
    "    .select(\"conceptId\",\"term\")"
   ]
  },
  {
   "cell_type": "code",
   "execution_count": null,
   "metadata": {
    "colab": {},
    "colab_type": "code",
    "id": "Xx-14Jsxwyjo"
   },
   "outputs": [],
   "source": [
    "current_level = hierarchies.selectExpr(\"conceptId\", \"conceptId as directParentId\", \"conceptId as topParentId\", \"0 as level\", \"concat('/',conceptId) as path\")\n",
    "all_levels = current_level\n",
    "level = 1\n",
    "cont=True\n",
    "while cont:\n",
    "    current_children = isa_rels.join(current_level, F.col(\"destinationId\")==F.col(\"conceptId\")).cache()\n",
    "    current_level = current_children.selectExpr(\"sourceId as conceptId\", \"conceptId as directParentId\", \"topParentId\", f\"{level} as level\", \"concat(path,'/',sourceId) as path\")\n",
    "    all_levels = all_levels.union(current_level)\n",
    "    if current_children.count() == 0:\n",
    "        cont = False\n",
    "    level += 1"
   ]
  },
  {
   "cell_type": "code",
   "execution_count": null,
   "metadata": {
    "colab": {},
    "colab_type": "code",
    "id": "NIUzJfO2xAGB"
   },
   "outputs": [],
   "source": [
    "all_levels_write = all_levels.join(descs, on=\"conceptId\")\\\n",
    "    .join(hierarchies.selectExpr(\"term as topTerm\",\"conceptId as hConceptId\"), on=F.col(\"topParentId\")==F.col(\"hConceptId\"))\\\n",
    "    .drop(\"hConceptId\")\\\n",
    "    .select(\"conceptId\",\"directParentId\",\"topParentId\",\"level\",\"term\",\"topTerm\").cache()"
   ]
  },
  {
   "cell_type": "code",
   "execution_count": null,
   "metadata": {
    "colab": {},
    "colab_type": "code",
    "id": "9VpupB03xB1i"
   },
   "outputs": [],
   "source": [
    "all_levels_write.write.mode(\"overwrite\").save(snomed_path+\"interim/all_levels.parquet\")"
   ]
  },
  {
   "cell_type": "code",
   "execution_count": null,
   "metadata": {
    "colab": {
     "base_uri": "https://localhost:8080/",
     "height": 34
    },
    "colab_type": "code",
    "id": "ROds97lAyV-U",
    "outputId": "55e01bfa-85b4-415f-8368-364e99d2c0b2"
   },
   "outputs": [
    {
     "data": {
      "text/plain": [
       "['conceptId', 'directParentId', 'topParentId', 'level', 'term', 'topTerm']"
      ]
     },
     "execution_count": 22,
     "metadata": {
      "tags": []
     },
     "output_type": "execute_result"
    }
   ],
   "source": [
    "all_levels_write.columns"
   ]
  },
  {
   "cell_type": "code",
   "execution_count": null,
   "metadata": {
    "colab": {
     "base_uri": "https://localhost:8080/",
     "height": 34
    },
    "colab_type": "code",
    "id": "Ngzz3nt1yYHi",
    "outputId": "1a108d9d-e2a8-4fbd-9408-b693e4f67934"
   },
   "outputs": [
    {
     "name": "stdout",
     "output_type": "stream",
     "text": [
      "dist_id_covered 335192 : 0.9378465946290773\n"
     ]
    }
   ],
   "source": [
    "concepts_covered_count = all_levels_write.select(\"conceptId\").distinct().count()\n",
    "print(\"dist_id_covered\", concepts_covered_count, \":\", concepts_covered_count / concepts_count)"
   ]
  },
  {
   "cell_type": "markdown",
   "metadata": {
    "colab_type": "text",
    "id": "Ar-0pO0tzdAj"
   },
   "source": [
    "## Step 2: Preprocessing it with Spark NLP pipeline and train some Entity Resolvers with it"
   ]
  },
  {
   "cell_type": "code",
   "execution_count": null,
   "metadata": {
    "colab": {},
    "colab_type": "code",
    "id": "MgSWrEjfzA8R"
   },
   "outputs": [],
   "source": [
    "concepts_clean = spark.read.load(snomed_path+\"interim/all_levels.parquet\")"
   ]
  },
  {
   "cell_type": "code",
   "execution_count": null,
   "metadata": {
    "colab": {
     "base_uri": "https://localhost:8080/",
     "height": 68
    },
    "colab_type": "code",
    "id": "aZ3QdgKYzhEi",
    "outputId": "011924ec-3cc4-48b2-d57a-a598a57e7995"
   },
   "outputs": [
    {
     "name": "stdout",
     "output_type": "stream",
     "text": [
      "embeddings_clinical download started this may take some time.\n",
      "Approximate size to download 1.6 GB\n",
      "[OK!]\n"
     ]
    }
   ],
   "source": [
    "we = WordEmbeddingsModel.pretrained(\"embeddings_clinical\", \"en\", \"clinical/models\")\\\n",
    "  .setInputCols(\"doc\",\"token\").setOutputCol(\"embeddings\")"
   ]
  },
  {
   "cell_type": "code",
   "execution_count": null,
   "metadata": {
    "colab": {},
    "colab_type": "code",
    "id": "mA-gBa2Bzicb"
   },
   "outputs": [],
   "source": [
    "da = DocumentAssembler().setInputCol(\"term\").setOutputCol(\"doc\")\n",
    "\n",
    "tk = Tokenizer().setInputCols(\"doc\").setOutputCol(\"token\").setContextChars([\".\", \",\", \";\", \":\", \"!\", \"?\", \"*\", \"-\", \"(\", \")\", \"\\\"\", \"'\",\"(\",\")\",\"+\",\"-\"])\\\n",
    "  .setSplitChars([\"'\",\"\\\\\"\",\",\"/\",\" \",\".\",\"|\",\"@\",\"#\",\"%\",\"&\",\"\\\\$\",\"\\\\[\",\"\\\\]\",\"\\\\(\",\"\\\\)\",\"-\",\";\"])\n",
    "\n",
    "d2c = Doc2Chunk().setInputCols(\"doc\").setOutputCol(\"chunk\")\n",
    "\n",
    "ce = ChunkEmbeddings().setInputCols(\"chunk\",\"embeddings\").setOutputCol(\"chunk_embeddings\")"
   ]
  },
  {
   "cell_type": "code",
   "execution_count": null,
   "metadata": {
    "colab": {},
    "colab_type": "code",
    "id": "iL7fucduzxUq"
   },
   "outputs": [],
   "source": [
    "trainPipelineModel = Pipeline().setStages([da, tk, we, d2c, ce]).fit(concepts_clean)"
   ]
  },
  {
   "cell_type": "code",
   "execution_count": null,
   "metadata": {
    "colab": {},
    "colab_type": "code",
    "id": "oRBsMt_Cz4f5"
   },
   "outputs": [],
   "source": [
    "concepts_embedded = trainPipelineModel.transform(concepts_clean)\n",
    "concepts_embedded.drop(\"embeddings\").write.mode(\"overwrite\").save(snomed_path+\"interim/concepts_embedded.parquet\")\n",
    "concepts_embedded = spark.read.load(snomed_path+\"interim/concepts_embedded.parquet\").withColumn(\"_term\", F.col(\"term\")).withColumn(\"term\", F.expr(\"lower(term)\"))"
   ]
  },
  {
   "cell_type": "code",
   "execution_count": null,
   "metadata": {
    "colab": {},
    "colab_type": "code",
    "id": "P9mTRIE33PMr"
   },
   "outputs": [],
   "source": [
    "topterm_dist = concepts_embedded.groupby(\"topTerm\").count().toPandas().sort_values(\"count\",ascending=False)"
   ]
  },
  {
   "cell_type": "code",
   "execution_count": null,
   "metadata": {
    "colab": {},
    "colab_type": "code",
    "id": "bzC9f6V84IP1"
   },
   "outputs": [],
   "source": [
    "nodes = topterm_dist[topterm_dist.topTerm.str.endswith(\"finding)\")].topTerm"
   ]
  },
  {
   "cell_type": "code",
   "execution_count": null,
   "metadata": {
    "colab": {},
    "colab_type": "code",
    "id": "h-3NHVKt4ecA"
   },
   "outputs": [],
   "source": [
    "nodes_filter = \",\".join([f\"'{tt}'\" for tt in nodes])\n",
    "training_set = concepts_embedded.where(f\"topTerm in ({nodes_filter})\")"
   ]
  },
  {
   "cell_type": "code",
   "execution_count": null,
   "metadata": {
    "colab": {
     "base_uri": "https://localhost:8080/",
     "height": 204
    },
    "colab_type": "code",
    "id": "M_DVa8r65BRh",
    "outputId": "5085ef11-04f3-4162-b62b-5a63b9fc8c59"
   },
   "outputs": [
    {
     "data": {
      "text/plain": [
       "['conceptId',\n",
       " 'directParentId',\n",
       " 'topParentId',\n",
       " 'level',\n",
       " 'term',\n",
       " 'topTerm',\n",
       " 'doc',\n",
       " 'token',\n",
       " 'chunk',\n",
       " 'chunk_embeddings',\n",
       " '_term']"
      ]
     },
     "execution_count": 52,
     "metadata": {
      "tags": []
     },
     "output_type": "execute_result"
    }
   ],
   "source": [
    "training_set.columns"
   ]
  },
  {
   "cell_type": "code",
   "execution_count": null,
   "metadata": {
    "colab": {},
    "colab_type": "code",
    "id": "ym4hfj_x5svF"
   },
   "outputs": [],
   "source": [
    "er = ChunkEntityResolverApproach().setInputCols(\"token\",\"chunk_embeddings\").setOutputCol(\"snomed_findings\")\\\n",
    "      .setNormalizedCol(\"_term\")\\\n",
    "      .setLabelCol(\"conceptId\")\\\n",
    "      .setNeighbours(250)\\\n",
    "      .setAlternatives(10)\\\n",
    "      .setExtramassPenalty(2)\\\n",
    "      .setThreshold(1e6)\\\n",
    "      .setEnableLevenshtein(True)\\\n",
    "      .setCaseSensitive(False)\\\n",
    "      .setDistanceWeights([1,5,5,0,0,1])"
   ]
  },
  {
   "cell_type": "code",
   "execution_count": null,
   "metadata": {
    "colab": {},
    "colab_type": "code",
    "id": "LjPerZM753Z4"
   },
   "outputs": [],
   "source": [
    "erModels = er.fit(training_set)"
   ]
  },
  {
   "cell_type": "markdown",
   "metadata": {
    "colab_type": "text",
    "id": "TwIZOXRY6pCX"
   },
   "source": [
    "## Step 3: We now have a SNOMED model for Entity Resolution, let's test it on some real world data"
   ]
  },
  {
   "cell_type": "code",
   "execution_count": null,
   "metadata": {
    "colab": {
     "base_uri": "https://localhost:8080/",
     "height": 714
    },
    "colab_type": "code",
    "id": "OGHE7BE96Hm7",
    "outputId": "c7522519-4bfc-42ef-a275-c04036d50ce4"
   },
   "outputs": [
    {
     "data": {
      "text/html": [
       "Note 0\n",
       "<div style=\"border:2px solid #747474; background-color: #e3e3e3; margin: 5px; padding: 10px\">A 35-year-old African-American man was referred to our urology clinic by his primary care physician for consultation about a large left scrotal mass. The patient reported a 3-month history of left scrotal swelling that had progressively increased in size and was associated with mild left scrotal pain. He also had complaints of mild constipation, with hard stools every other day. He denied any urinary complaints. On physical examination, a hard paratesticular mass could be palpated in the left hemiscrotum extending into the left groin, separate from the left testicle, and measuring approximately 10 × 7 cm in size. A hard, lower abdominal mass in the suprapubic region could also be palpated in the midline. The patient was admitted urgently to the hospital for further evaluation with cross-sectional imaging and blood work.\n",
       "Laboratory results, including results of a complete blood cell count with differential, liver function tests, coagulation panel, and basic chemistry panel, were unremarkable except for a serum creatinine level of 2.6 mg/dL. Typical markers for a testicular germ cell tumor were within normal limits: the beta–human chorionic gonadotropin level was less than 1 mIU/mL and the alpha fetoprotein level was less than 2.8 ng/mL. A CT scan of the chest, abdomen, and pelvis with intravenous contrast was obtained, and it showed large multifocal intra-abdominal, retroperitoneal, and pelvic masses (Figure 1). On cross-sectional imaging, a 7.8-cm para-aortic mass was visualized compressing the proximal portion of the left ureter, creating moderate left hydroureteronephrosis. Additionally, three separate pelvic masses were present in the retrovesical space, each measuring approximately 5 to 10 cm at their largest diameter; these displaced the bladder anteriorly and the rectum posteriorly.\n",
       "The patient underwent ultrasound-guided needle biopsy of one of the pelvic masses on hospital day 3 for definitive diagnosis. Microscopic examination of the tissue by our pathologist revealed cellular islands with oval to elongated, irregular, and hyperchromatic nuclei; scant cytoplasm; and invading fibrous tissue—as well as three mitoses per high-powered field (Figure 2). Immunohistochemical staining demonstrated strong positivity for cytokeratin AE1/AE3, vimentin, and desmin. Further mutational analysis of the cells detected the presence of an EWS-WT1 fusion transcript consistent with a diagnosis of desmoplastic small round cell tumor.</div>Note 1\n",
       "<div style=\"border:2px solid #747474; background-color: #e3e3e3; margin: 5px; padding: 10px\">A 72-year-old man with a history of diabetes mellitus, hypertension, and hypercholesterolemia self-palpated a left submandibular lump in 2012. Complete blood count (CBC) in his internist’s office showed solitary leukocytosis (white count 22) with predominant lymphocytes for which he was referred to a hematologist. Peripheral blood flow cytometry on 04/11/12 confirmed chronic lymphocytic leukemia (CLL)/small lymphocytic lymphoma (SLL): abnormal cell population comprising 63% of CD45 positive leukocytes, co-expressing CD5 and CD23 in CD19-positive B cells. CD38 was negative but other prognostic markers were not assessed at that time. The patient was observed regularly for the next 3 years and his white count trend was as follows: 22.8 (4/2012) --> 28.5 (07/2012) --> 32.2 (12/2012) --> 36.5 (02/2013) --> 42 (09/2013) --> 44.9 (01/2014) --> 75.8 (2/2015). His other counts stayed normal until early 2015 when he also developed anemia (hemoglobin [HGB] 10.9) although platelets remained normal at 215. He had been noticing enlargement of his cervical, submandibular, supraclavicular, and axillary lymphadenopathy for several months since 2014 and a positron emission tomography (PET)/computed tomography (CT) scan done in 12/2014 had shown extensive diffuse lymphadenopathy within the neck, chest, abdomen, and pelvis. Maximum standardized uptake value (SUV max) was similar to low baseline activity within the vasculature of the neck and chest. In the abdomen and pelvis, however, there was mild to moderately hypermetabolic adenopathy measuring up to SUV of 4. The largest right neck nodes measured up to 2.3 x 3 cm and left neck nodes measured up to 2.3 x 1.5 cm. His right axillary lymphadenopathy measured up to 5.5 x 2.6 cm and on the left measured up to 4.8 x 3.4 cm. Lymph nodes on the right abdomen and pelvis measured up to 6.7 cm and seemed to have some mass effect with compression on the urinary bladder without symptoms. He underwent a bone marrow biopsy on 02/03/15, which revealed hypercellular marrow (60%) with involvement by CLL (30%); flow cytometry showed CD38 and ZAP-70 positivity; fluorescence in situ hybridization (FISH) analysis showed 13q deletion/monosomy 13; IgVH was unmutated; karyotype was 46XY.</div>Note 2\n",
       "<div style=\"border:2px solid #747474; background-color: #e3e3e3; margin: 5px; padding: 10px\">A 56-year-old woman began to experience vertigo, headaches, and frequent falls. A computed tomography (CT) scan of the brain revealed the presence of a 1.6 x 1.6 x 2.1 cm mass involving the fourth ventricle (Figure 14.1). A gadolinium-enhanced magnetic resonance imaging (MRI) scan confirmed the presence of the mass, and a stereotactic biopsy was performed that demonstrated a primary central nervous system lymphoma (PCNSL) with a diffuse large B-cell histology. Complete blood count (CBC), lactate dehydrogenase (LDH), and beta-2-microglobulin were normal. Systemic staging with a positron emission tomography (PET)/CT scan and bone marrow biopsy showed no evidence of lymphomatous involvement outside the CNS. An eye exam and lumbar puncture showed no evidence of either ocular or leptomeningeal involvement.</div>Note 3\n",
       "<div style=\"border:2px solid #747474; background-color: #e3e3e3; margin: 5px; padding: 10px\">An 83-year-old female presented with a progressing pruritic cutaneous rash that started 8 years ago. On clinical exam there were numerous coalescing, infiltrated, scaly, and partially crusted erythematous plaques distributed over her trunk and extremities and a large fungating ulcerated nodule on her right thigh covering 75% of her total body surface area (Figure 10.1). Lymphoma associated alopecia and a left axillary lymphadenopathy were also noted. For the past 3–4 months she reported fatigue, severe pruritus, night sweats, 20 pounds of weight loss, and loss of appetite.</div>"
      ],
      "text/plain": [
       "<IPython.core.display.HTML object>"
      ]
     },
     "execution_count": 56,
     "metadata": {
      "tags": []
     },
     "output_type": "execute_result"
    }
   ],
   "source": [
    "from IPython.core.display import display, HTML\n",
    "notes = []\n",
    "notes.append(\"\"\"A 35-year-old African-American man was referred to our urology clinic by his primary care physician for consultation about a large left scrotal mass. The patient reported a 3-month history of left scrotal swelling that had progressively increased in size and was associated with mild left scrotal pain. He also had complaints of mild constipation, with hard stools every other day. He denied any urinary complaints. On physical examination, a hard paratesticular mass could be palpated in the left hemiscrotum extending into the left groin, separate from the left testicle, and measuring approximately 10 × 7 cm in size. A hard, lower abdominal mass in the suprapubic region could also be palpated in the midline. The patient was admitted urgently to the hospital for further evaluation with cross-sectional imaging and blood work.\n",
    "Laboratory results, including results of a complete blood cell count with differential, liver function tests, coagulation panel, and basic chemistry panel, were unremarkable except for a serum creatinine level of 2.6 mg/dL. Typical markers for a testicular germ cell tumor were within normal limits: the beta–human chorionic gonadotropin level was less than 1 mIU/mL and the alpha fetoprotein level was less than 2.8 ng/mL. A CT scan of the chest, abdomen, and pelvis with intravenous contrast was obtained, and it showed large multifocal intra-abdominal, retroperitoneal, and pelvic masses (Figure 1). On cross-sectional imaging, a 7.8-cm para-aortic mass was visualized compressing the proximal portion of the left ureter, creating moderate left hydroureteronephrosis. Additionally, three separate pelvic masses were present in the retrovesical space, each measuring approximately 5 to 10 cm at their largest diameter; these displaced the bladder anteriorly and the rectum posteriorly.\n",
    "The patient underwent ultrasound-guided needle biopsy of one of the pelvic masses on hospital day 3 for definitive diagnosis. Microscopic examination of the tissue by our pathologist revealed cellular islands with oval to elongated, irregular, and hyperchromatic nuclei; scant cytoplasm; and invading fibrous tissue—as well as three mitoses per high-powered field (Figure 2). Immunohistochemical staining demonstrated strong positivity for cytokeratin AE1/AE3, vimentin, and desmin. Further mutational analysis of the cells detected the presence of an EWS-WT1 fusion transcript consistent with a diagnosis of desmoplastic small round cell tumor.\"\"\")\n",
    "notes.append(\"\"\"A 72-year-old man with a history of diabetes mellitus, hypertension, and hypercholesterolemia self-palpated a left submandibular lump in 2012. Complete blood count (CBC) in his internist’s office showed solitary leukocytosis (white count 22) with predominant lymphocytes for which he was referred to a hematologist. Peripheral blood flow cytometry on 04/11/12 confirmed chronic lymphocytic leukemia (CLL)/small lymphocytic lymphoma (SLL): abnormal cell population comprising 63% of CD45 positive leukocytes, co-expressing CD5 and CD23 in CD19-positive B cells. CD38 was negative but other prognostic markers were not assessed at that time. The patient was observed regularly for the next 3 years and his white count trend was as follows: 22.8 (4/2012) --> 28.5 (07/2012) --> 32.2 (12/2012) --> 36.5 (02/2013) --> 42 (09/2013) --> 44.9 (01/2014) --> 75.8 (2/2015). His other counts stayed normal until early 2015 when he also developed anemia (hemoglobin [HGB] 10.9) although platelets remained normal at 215. He had been noticing enlargement of his cervical, submandibular, supraclavicular, and axillary lymphadenopathy for several months since 2014 and a positron emission tomography (PET)/computed tomography (CT) scan done in 12/2014 had shown extensive diffuse lymphadenopathy within the neck, chest, abdomen, and pelvis. Maximum standardized uptake value (SUV max) was similar to low baseline activity within the vasculature of the neck and chest. In the abdomen and pelvis, however, there was mild to moderately hypermetabolic adenopathy measuring up to SUV of 4. The largest right neck nodes measured up to 2.3 x 3 cm and left neck nodes measured up to 2.3 x 1.5 cm. His right axillary lymphadenopathy measured up to 5.5 x 2.6 cm and on the left measured up to 4.8 x 3.4 cm. Lymph nodes on the right abdomen and pelvis measured up to 6.7 cm and seemed to have some mass effect with compression on the urinary bladder without symptoms. He underwent a bone marrow biopsy on 02/03/15, which revealed hypercellular marrow (60%) with involvement by CLL (30%); flow cytometry showed CD38 and ZAP-70 positivity; fluorescence in situ hybridization (FISH) analysis showed 13q deletion/monosomy 13; IgVH was unmutated; karyotype was 46XY.\"\"\")\n",
    "notes.append(\"A 56-year-old woman began to experience vertigo, headaches, and frequent falls. A computed tomography (CT) scan of the brain revealed the presence of a 1.6 x 1.6 x 2.1 cm mass involving the fourth ventricle (Figure 14.1). A gadolinium-enhanced magnetic resonance imaging (MRI) scan confirmed the presence of the mass, and a stereotactic biopsy was performed that demonstrated a primary central nervous system lymphoma (PCNSL) with a diffuse large B-cell histology. Complete blood count (CBC), lactate dehydrogenase (LDH), and beta-2-microglobulin were normal. Systemic staging with a positron emission tomography (PET)/CT scan and bone marrow biopsy showed no evidence of lymphomatous involvement outside the CNS. An eye exam and lumbar puncture showed no evidence of either ocular or leptomeningeal involvement.\") \n",
    "notes.append(\"An 83-year-old female presented with a progressing pruritic cutaneous rash that started 8 years ago. On clinical exam there were numerous coalescing, infiltrated, scaly, and partially crusted erythematous plaques distributed over her trunk and extremities and a large fungating ulcerated nodule on her right thigh covering 75% of her total body surface area (Figure 10.1). Lymphoma associated alopecia and a left axillary lymphadenopathy were also noted. For the past 3–4 months she reported fatigue, severe pruritus, night sweats, 20 pounds of weight loss, and loss of appetite.\")\n",
    "output = \"\"\n",
    "for i,n in enumerate(notes):\n",
    "  output += f\"Note {i}\\n\"\n",
    "  output += ('<div style=\"border:2px solid #747474; background-color: #e3e3e3; margin: 5px; padding: 10px\">')\n",
    "  output += (n)\n",
    "  output += ('</div>')\n",
    "\n",
    "HTML(output)"
   ]
  },
  {
   "cell_type": "markdown",
   "metadata": {
    "colab_type": "text",
    "id": "oMhLQ0Wn62fc"
   },
   "source": [
    "### Let's run the very same pipeline on these notes + the NERDL pretrained model for clinical Problems, Tests and Treatments. We are specifically interested in Problems today so we can link them to snomed findings."
   ]
  },
  {
   "cell_type": "code",
   "execution_count": null,
   "metadata": {
    "colab": {},
    "colab_type": "code",
    "id": "fRucAD0X6wMu"
   },
   "outputs": [],
   "source": [
    "docid_col         = \"doc_id\"\n",
    "note_col          = \"text_feed\"\n",
    "\n",
    "data_notes = spark.createDataFrame([(i, n.lower()) for i,n in enumerate(notes)]).toDF(docid_col, note_col)"
   ]
  },
  {
   "cell_type": "code",
   "execution_count": null,
   "metadata": {
    "colab": {
     "base_uri": "https://localhost:8080/",
     "height": 68
    },
    "colab_type": "code",
    "id": "nNLI8f0g67B1",
    "outputId": "8ad751d0-4d61-494d-fff3-74cfc0f9712a"
   },
   "outputs": [
    {
     "name": "stdout",
     "output_type": "stream",
     "text": [
      "ner_clinical download started this may take some time.\n",
      "Approximate size to download 13.8 MB\n",
      "[OK!]\n"
     ]
    }
   ],
   "source": [
    "da.setInputCol(\"text_feed\")\n",
    "\n",
    "ner = NerDLModel.pretrained(\"ner_clinical\", \"en\", \"clinical/models\") \\\n",
    "  .setInputCols([\"doc\", \"token\", \"embeddings\"]) \\\n",
    "  .setOutputCol(\"ner\")\n",
    "\n",
    "prob = NerConverter() \\\n",
    "  .setInputCols([\"doc\", \"token\", \"ner\"]) \\\n",
    "  .setOutputCol(\"chunk\").setWhiteList([\"PROBLEM\"])"
   ]
  },
  {
   "cell_type": "code",
   "execution_count": null,
   "metadata": {
    "colab": {},
    "colab_type": "code",
    "id": "E6IpHncQ7bXI"
   },
   "outputs": [],
   "source": [
    "notesPipelineModel = Pipeline(stages=[da, tk, we, ner, prob, ce, \n",
    "                                      erModels]).fit(data_notes)"
   ]
  },
  {
   "cell_type": "code",
   "execution_count": null,
   "metadata": {
    "colab": {},
    "colab_type": "code",
    "id": "afB15DtK7iUn"
   },
   "outputs": [],
   "source": [
    "annotated = notesPipelineModel.transform(data_notes).cache()"
   ]
  },
  {
   "cell_type": "code",
   "execution_count": null,
   "metadata": {
    "colab": {},
    "colab_type": "code",
    "id": "wMx8OmPT7nfR"
   },
   "outputs": [],
   "source": [
    "def quick_metadata_analysis(df, doc_field, chunk_field, code_fields):\n",
    "    code_res_meta = \", \".join([f\"{cf}.metadata\" for cf in code_fields])\n",
    "    expression = f\"explode(arrays_zip({chunk_field}.begin, {chunk_field}.end, {chunk_field}.result, {chunk_field}.metadata, \"+code_res_meta+\")) as a\"\n",
    "    top_n_rest = [(f\"float(a['{i+4}'].confidence) as {(cf.split('_')[0])}_conf\",\n",
    "                    f\"arrays_zip(split(a['{i+4}'].all_k_confidences,':::'),split(a['{i+4}'].all_k_results,':::'),split(a['{i+4}'].all_k_resolutions,':::')) as {cf.split('_')[0]+'_opts'}\")\n",
    "                    for i, cf in enumerate(code_fields)]\n",
    "    top_n_rest_args = []\n",
    "    for tr in top_n_rest:\n",
    "        for t in tr:\n",
    "            top_n_rest_args.append(t)\n",
    "    return df.selectExpr(doc_field, expression) \\\n",
    "        .orderBy(docid_col, F.expr(\"a['0']\"), F.expr(\"a['1']\"))\\\n",
    "        .selectExpr(f\"concat_ws('::',{doc_field},a['0'],a['1']) as coords\", \"a['2'] as chunk\",\"a['3'].entity as entity\", *top_n_rest_args)"
   ]
  },
  {
   "cell_type": "code",
   "execution_count": null,
   "metadata": {
    "colab": {},
    "colab_type": "code",
    "id": "gSWeON9D7r20"
   },
   "outputs": [],
   "source": [
    "import pandas as pd\n",
    "pd.set_option(\"display.max_colwidth\",10000)\n",
    "snomed = \\\n",
    "quick_metadata_analysis(annotated, docid_col, \"chunk\",[\"snomed_findings\"]).toPandas()"
   ]
  },
  {
   "cell_type": "code",
   "execution_count": null,
   "metadata": {
    "colab": {
     "base_uri": "https://localhost:8080/",
     "height": 1000
    },
    "colab_type": "code",
    "id": "frtYMvBb-YeR",
    "outputId": "c363798f-6c77-4ab5-ef26-05a5ad62300c"
   },
   "outputs": [
    {
     "data": {
      "text/html": [
       "<div>\n",
       "<style scoped>\n",
       "    .dataframe tbody tr th:only-of-type {\n",
       "        vertical-align: middle;\n",
       "    }\n",
       "\n",
       "    .dataframe tbody tr th {\n",
       "        vertical-align: top;\n",
       "    }\n",
       "\n",
       "    .dataframe thead th {\n",
       "        text-align: right;\n",
       "    }\n",
       "</style>\n",
       "<table border=\"1\" class=\"dataframe\">\n",
       "  <thead>\n",
       "    <tr style=\"text-align: right;\">\n",
       "      <th></th>\n",
       "      <th>coords</th>\n",
       "      <th>chunk</th>\n",
       "      <th>entity</th>\n",
       "      <th>snomed_conf</th>\n",
       "      <th>snomed_opts</th>\n",
       "    </tr>\n",
       "  </thead>\n",
       "  <tbody>\n",
       "    <tr>\n",
       "      <th>1</th>\n",
       "      <td>0::192::212</td>\n",
       "      <td>left scrotal swelling</td>\n",
       "      <td>PROBLEM</td>\n",
       "      <td>0.1289</td>\n",
       "      <td>[(0.1289, 390919006, On examination - left scrotal swelling), (0.1095, 268946005, On examination - scrotal swelling), (0.1089, 390918003, On examination - right scrotal swelling), (0.1015, 762916009, Swelling of left foot), (0.0978, 442648006, Swelling of left tonsil), (0.0923, 762896009, Swelling of left lower limb), (0.0919, 12242351000119109, Swelling of left upper limb), (0.0908, 15952141000119106, Left parotid gland swelling (finding)), (0.0900, 16696741000119103, Swelling of left ear structure), (0.0885, 10678471000119104, Localised swelling of left foot)]</td>\n",
       "    </tr>\n",
       "    <tr>\n",
       "      <th>4</th>\n",
       "      <td>0::329::345</td>\n",
       "      <td>mild constipation</td>\n",
       "      <td>PROBLEM</td>\n",
       "      <td>0.1267</td>\n",
       "      <td>[(0.1267, 21782001, Drug-induced constipation), (0.1056, 111360009, Intractable constipation), (0.1049, 430097009, Spastic constipation), (0.1015, 432414001, Atonic constipation), (0.0969, 197119006, Acute constipation (finding)), (0.0952, 40196000, Mild pain (finding)), (0.0951, 236070005, Simple constipation (finding)), (0.0937, 301380003, Mild present pain), (0.0908, 58230007, Intermittent constipation pattern), (0.0898, 370218001, Mild asthma (disorder))]</td>\n",
       "    </tr>\n",
       "    <tr>\n",
       "      <th>5</th>\n",
       "      <td>0::353::363</td>\n",
       "      <td>hard stools</td>\n",
       "      <td>PROBLEM</td>\n",
       "      <td>0.1988</td>\n",
       "      <td>[(0.1988, 75295004, Hard stools), (0.1067, 27731006, Semisolid stools), (0.1022, 398032003, Loose stools), (0.1000, 2901004, Tarry stools), (0.0997, 35064005, Black stools), (0.0888, 64412006, Red stools (finding)), (0.0809, 289775006, Cervix hard (finding)), (0.0795, 88351001, Hard water syndrome), (0.0722, 126806005, Neoplasm of hard palate), (0.0712, 426014000, Fistula of hard palate)]</td>\n",
       "    </tr>\n",
       "    <tr>\n",
       "      <th>7</th>\n",
       "      <td>0::441::466</td>\n",
       "      <td>a hard paratesticular mass</td>\n",
       "      <td>PROBLEM</td>\n",
       "      <td>0.1541</td>\n",
       "      <td>[(0.1541, 102031000119109, Paratesticular mass), (0.1203, 6370001000004104, Mass of hard palate), (0.0962, 14160001000004107, Vallecular mass), (0.0925, 126806005, Neoplasm of hard palate), (0.0923, 163292001, On examination - abdominal mass - hard (finding)), (0.0915, 69559004, Mass of retroperitoneal structure), (0.0911, 13420001000004101, Periaortic mass), (0.0889, 444905003, Mass of soft tissue (finding)), (0.0870, 723111007, Hypopharyngeal mass in neonate), (0.0861, 92129006, Benign tumor of hard palate)]</td>\n",
       "    </tr>\n",
       "    <tr>\n",
       "      <th>10</th>\n",
       "      <td>0::1354::1402</td>\n",
       "      <td>large multifocal intra-abdominal, retroperitoneal</td>\n",
       "      <td>PROBLEM</td>\n",
       "      <td>0.1152</td>\n",
       "      <td>[(0.1152, 363420003, Malignant retroperitoneal tumor (disorder)), (0.1116, 236017004, Malignant retroperitoneal fibrosis (disorder)), (0.1051, 1090321000119103, Postprocedural retroperitoneal abscess (disorder)), (0.1014, 127253006, Neoplasm of retroperitoneal lymph nodes (disorder)), (0.0996, 385016002, Extraprostatic extension of tumor present, multifocal), (0.0967, 92170008, Benign neoplasm of large intestine), (0.0935, 405579008, Nontraumatic perforation of large intestine), (0.0933, 92324006, Benign neoplasm of retroperitoneal lymph nodes (disorder)), (0.0928, 247151007, Macula - multifocal placoid lesions (finding)), (0.0907, 93854002, Primary malignant neoplasm of large intestine)]</td>\n",
       "    </tr>\n",
       "    <tr>\n",
       "      <th>11</th>\n",
       "      <td>0::1409::1427</td>\n",
       "      <td>pelvic masses (figu</td>\n",
       "      <td>PROBLEM</td>\n",
       "      <td>0.1107</td>\n",
       "      <td>[(0.1107, 717717002, Non-cyclic pelvic pain (finding)), (0.1094, 783189008, Pelvic sideshift (finding)), (0.1001, 203508001, Bony pelvic pain (finding)), (0.0976, 283137007, Contusion of pelvic region), (0.0975, 239992008, Bursitis of pelvic region), (0.0974, 283129004, Blister of pelvic region), (0.0972, 74285003, Mass of pelvic structure (finding)), (0.0969, 57027007, Periostitis of pelvic region), (0.0966, 162147009, Complaining of pelvic pain (finding)), (0.0965, 126561007, Neoplasm of pelvic bone (disorder))]</td>\n",
       "    </tr>\n",
       "    <tr>\n",
       "      <th>12</th>\n",
       "      <td>0::1463::1487</td>\n",
       "      <td>a 7.8-cm para-aortic mass</td>\n",
       "      <td>PROBLEM</td>\n",
       "      <td>0.1216</td>\n",
       "      <td>[(0.1216, 300848003, Observation of a mass), (0.1142, 14160001000004107, Vallecular mass), (0.1102, 237047009, Tubo-ovarian mass (finding)), (0.1082, 13420001000004101, Periaortic mass), (0.0962, 450878002, Tonsillar mass), (0.0934, 87860000, Mass of testis), (0.0901, 443607001, Palpable mass (finding)), (0.0898, 102031000119109, Paratesticular mass), (0.0892, 281398003, Groin mass (finding)), (0.0871, 309082002, Epigastric mass (finding))]</td>\n",
       "    </tr>\n",
       "    <tr>\n",
       "      <th>14</th>\n",
       "      <td>0::1753::1790</td>\n",
       "      <td>these displaced the bladder anteriorly</td>\n",
       "      <td>PROBLEM</td>\n",
       "      <td>0.1124</td>\n",
       "      <td>[(0.1124, 271630007, Trachea displaced to left (disorder)), (0.1123, 271631006, Trachea displaced to right (disorder)), (0.1040, 784285002, Tenesmus of bladder (finding)), (0.1034, 197230002, Pseudodiverticulum of the rectum), (0.1015, 366267009, Finding of bladder neck position (finding)), (0.1005, 26797002, Hyperaemia of bladder), (0.0963, 289656006, Uterine fundus displaced below introitus with traction (finding)), (0.0917, 94743005, Neoplasm of uncertain behaviour of apex of urinary bladder), (0.0890, 95012001, Neoplasm of uncertain behaviour of posterior wall of urinary bladder), (0.0888, 202326005, Protrusio acetabuli of the pelvic region and thigh)]</td>\n",
       "    </tr>\n",
       "    <tr>\n",
       "      <th>17</th>\n",
       "      <td>0::2068::2105</td>\n",
       "      <td>hyperchromatic nuclei; scant cytoplasm</td>\n",
       "      <td>PROBLEM</td>\n",
       "      <td>0.1126</td>\n",
       "      <td>[(0.1126, 384735004, Nuclear pleomorphism: small regular nuclei (score=1)), (0.1053, 125161006, Unsatisfactory for evaluation due to scant squamous epithelial component), (0.0986, 165475005, Anisocytosis, red cells (finding)), (0.0979, 165473003, Normocytosis, red cells (finding)), (0.0978, 451038000, Haemorrhage in caudate nucleus), (0.0978, 250249008, Spiny prickle cells present), (0.0977, 50110003, No endocervical cells present), (0.0975, 250441008, Epithelial cells present (finding)), (0.0975, 240086009, Myopathy with cytoplasmic inclusions), (0.0973, 129734009, Oval shaped lesion (finding))]</td>\n",
       "    </tr>\n",
       "    <tr>\n",
       "      <th>18</th>\n",
       "      <td>0::2112::2137</td>\n",
       "      <td>invading fibrous tissue—as</td>\n",
       "      <td>PROBLEM</td>\n",
       "      <td>0.1142</td>\n",
       "      <td>[(0.1142, 416416006, Retrocorneal fibrous membrane), (0.1018, 424286001, Fibrous dysplasia of orbit), (0.1013, 402870005, Reactive fibrous tissue proliferation), (0.0993, 36517007, Polyostotic fibrous dysplasia of bone), (0.0988, 54422002, Fibrous obliteration of appendix), (0.0987, 254736006, Fibrous tissue neoplasm of skin), (0.0979, 404013002, Angiomatoid fibrous histiocytoma of skin), (0.0970, 404014008, Malignant fibrous histiocytoma of skin), (0.0958, 109787002, Inflammatory fibrous hyperplasia of mouth), (0.0951, 254750001, Benign fibrous histiocytoma of skin)]</td>\n",
       "    </tr>\n",
       "    <tr>\n",
       "      <th>19</th>\n",
       "      <td>0::2238::2254</td>\n",
       "      <td>strong positivity</td>\n",
       "      <td>PROBLEM</td>\n",
       "      <td>0.1327</td>\n",
       "      <td>[(0.1327, 248799000, Orgasm too strong), (0.1315, 251351004, Skin reaction strong (finding)), (0.1250, 248777008, Erection too strong (finding)), (0.0898, 733120009, Rhc positive), (0.0892, 712678004, Beta-lactamase positive (finding)), (0.0872, 712679007, Beta-lactamase negative (finding)), (0.0866, 115827005, Lutheran weak phenotype (finding)), (0.0864, 299317007, Ortolani test positive), (0.0860, 34850003, Weak Fy^b^ phenotype (finding)), (0.0856, 33590004, Weak mother-infant attachment (finding))]</td>\n",
       "    </tr>\n",
       "    <tr>\n",
       "      <th>20</th>\n",
       "      <td>0::2295::2342</td>\n",
       "      <td>desmin. further mutational analysis of the cells</td>\n",
       "      <td>PROBLEM</td>\n",
       "      <td>0.1172</td>\n",
       "      <td>[(0.1172, 289753009, No further involution of the uterus (finding)), (0.1017, 299036007, Squaring of the hand (finding)), (0.0999, 424750001, Signet-ring cells present, comprising less that 50% of malignant cells (finding)), (0.0996, 769327000, Dividing cells of domain Bacteria present (finding)), (0.0993, 365683008, Finding of urine microscopy: presence of cells (finding)), (0.0992, 103609004, Specimen with abnormal presence of endometrial cells (finding)), (0.0975, 21985009, Fibrohistiocytic proliferation of the skin), (0.0958, 717159009, Finding of presence of yeast cells and fungal elements (finding)), (0.0957, 436501000124102, Mold isolated but not further identified (finding)), (0.0940, 288604009, Able to use the elements of language (finding))]</td>\n",
       "    </tr>\n",
       "    <tr>\n",
       "      <th>21</th>\n",
       "      <td>0::2369::2396</td>\n",
       "      <td>an ews-wt1 fusion transcript</td>\n",
       "      <td>PROBLEM</td>\n",
       "      <td>0.1127</td>\n",
       "      <td>[(0.1127, 62042001, Splenogonadal fusion (disorder)), (0.1057, 44964000, Fusion of testes), (0.1042, 204984002, Fusion of kidneys), (0.1008, 307211004, Nonunion of spinal fusion), (0.1007, 300069000, Fusion of vulva (finding)), (0.0988, 23939000, Imperfect fusion of skull), (0.0956, 29307005, Lückenschädel), (0.0952, 84321001, Delayed fusion of epiphysis), (0.0942, 232264008, Ossicular fusion), (0.0921, 32919003, Fusion with defective stereopsis)]</td>\n",
       "    </tr>\n",
       "    <tr>\n",
       "      <th>23</th>\n",
       "      <td>1::36::66</td>\n",
       "      <td>diabetes mellitus, hypertension</td>\n",
       "      <td>PROBLEM</td>\n",
       "      <td>0.1181</td>\n",
       "      <td>[(0.1181, 303059007, Postpancreatectomy diabetes mellitus), (0.1085, 268519009, Diabetes mellitus uncontrolled), (0.1042, 19378003, Pseudotabes with diabetes mellitus), (0.1006, 284449005, Lipoatrophic diabetes mellitus), (0.1000, 11530004, Brittle diabetes mellitus), (0.0950, 709147009, Gingivitis co-occurrent with diabetes mellitus), (0.0939, 427943001, Ophthalmoplegia with diabetes mellitus), (0.0939, 232020009, Maculopathy with diabetes mellitus), (0.0932, 472699005, Gestational diabetes mellitus uncontrolled), (0.0926, 170745003, Diet controlled diabetes mellitus)]</td>\n",
       "    </tr>\n",
       "    <tr>\n",
       "      <th>24</th>\n",
       "      <td>1::73::132</td>\n",
       "      <td>hypercholesterolemia self-palpated a left submandibular lump</td>\n",
       "      <td>PROBLEM</td>\n",
       "      <td>0.1176</td>\n",
       "      <td>[(0.1176, 12240181000119103, Lump in left breast (finding)), (0.1046, 457311000124106, Lump in nipple region of left breast), (0.1046, 12240221000119106, Lump in right breast (finding)), (0.1009, 13340001000004107, Mass of right submandibular region (finding)), (0.0996, 457301000124108, Lump of axillary tail of left breast (finding)), (0.0948, 457321000124103, Lump in nipple region of right breast), (0.0946, 457211000124102, Lump in lower inner quadrant of left breast (finding)), (0.0945, 196485006, Sialoadenitis of the submandibular gland (disorder)), (0.0944, 457221000124105, Lump in lower outer quadrant of left breast (finding)), (0.0944, 457201000124100, Lump in upper inner quadrant of left breast (finding))]</td>\n",
       "    </tr>\n",
       "    <tr>\n",
       "      <th>25</th>\n",
       "      <td>1::203::236</td>\n",
       "      <td>solitary leukocytosis (white count</td>\n",
       "      <td>PROBLEM</td>\n",
       "      <td>0.1111</td>\n",
       "      <td>[(0.1111, 165513007, Differential white count abnormal (finding)), (0.1078, 165509000, White blood cell count abnormal (finding)), (0.1076, 165507003, White blood cell count normal (finding)), (0.1039, 165512002, Differential white cell count normal (finding)), (0.1012, 65209002, Basophilic leukocytosis), (0.0947, 250271003, White blood cell finding), (0.0944, 165686002, Reticulocyte count normal (finding)), (0.0943, 165685003, Reticulocyte count abnormal (finding)), (0.0934, 427931002, White sputum (finding)), (0.0918, 165555003, Platelet count normal (finding))]</td>\n",
       "    </tr>\n",
       "    <tr>\n",
       "      <th>26</th>\n",
       "      <td>1::370::462</td>\n",
       "      <td>chronic lymphocytic leukemia (cll)/small lymphocytic lymphoma (sll): abnormal cell population</td>\n",
       "      <td>PROBLEM</td>\n",
       "      <td>0.1217</td>\n",
       "      <td>[(0.1217, 783211008, Non-CLL (chronic lymphocytic leukemia) monoclonal B-cell lymphocytosis), (0.1030, 786855003, MBL-CLL - monoclonal B-cell lymphocytosis chronic lymphocytic leukaemia-type), (0.0988, 413847001, Chronic phase chronic myeloid leukemia (disorder)), (0.0980, 413842007, Chronic myeloid leukemia in lymphoid blast crisis (disorder)), (0.0976, 404153001, Leukemic infiltration of skin in chronic myeloid leukemia (disorder)), (0.0970, 413843002, Chronic myeloid leukemia in myeloid blast crisis (disorder)), (0.0964, 413656006, Blastic phase chronic myeloid leukemia (disorder)), (0.0961, 449108003, Philadelphia chromosome positive chronic myelogenous leukemia (disorder)), (0.0960, 449386007, Philadelphia chromosome negative chronic myelogenous leukemia (disorder)), (0.0954, 724521003, Ulcer of stomach due to lymphocytic gastritis (disorder))]</td>\n",
       "    </tr>\n",
       "    <tr>\n",
       "      <th>28</th>\n",
       "      <td>1::1030::1088</td>\n",
       "      <td>enlargement of his cervical, submandibular, supraclavicular</td>\n",
       "      <td>PROBLEM</td>\n",
       "      <td>0.1110</td>\n",
       "      <td>[(0.1110, 298387009, Enlargement of neck (finding)), (0.1073, 126636004, Neoplasm of supraclavicular region), (0.1058, 15731961000119105, Enlargement of bilateral lacrimal glands), (0.1037, 196485006, Sialoadenitis of the submandibular gland), (0.1014, 200649005, Cellulitis and abscess of submandibular region), (0.1011, 95119008, Neoplasm of uncertain behaviour of supraclavicular region), (0.0949, 433203006, Spasm of cervical paraspinous muscle (finding)), (0.0926, 298399002, Bony swelling of the cervical spine (finding)), (0.0925, 370013000, N3b: extension to supraclavicular fossa (finding)), (0.0896, 427787004, Abscess in epidural space of cervical spine)]</td>\n",
       "    </tr>\n",
       "    <tr>\n",
       "      <th>29</th>\n",
       "      <td>1::1095::1118</td>\n",
       "      <td>axillary lymphadenopathy</td>\n",
       "      <td>PROBLEM</td>\n",
       "      <td>0.1424</td>\n",
       "      <td>[(0.1424, 127189005, Axillary lymphadenopathy), (0.1109, 127194005, Subscapular axillary lymphadenopathy), (0.1056, 127190001, Lateral axillary lymphadenopathy), (0.1046, 127191002, Central axillary lymphadenopathy), (0.0995, 127193004, Pectoral axillary lymphadenopathy), (0.0994, 127192009, Apical axillary lymphadenopathy), (0.0846, 127150004, Midcolic lymphadenopathy), (0.0845, 127184000, Postvesicular lymphadenopathy), (0.0844, 127131004, Retropyloric lymphadenopathy), (0.0840, 127180009, Presymphysial lymphadenopathy)]</td>\n",
       "    </tr>\n",
       "    <tr>\n",
       "      <th>30</th>\n",
       "      <td>1::1247::1311</td>\n",
       "      <td>extensive diffuse lymphadenopathy within the neck, chest, abdomen</td>\n",
       "      <td>PROBLEM</td>\n",
       "      <td>0.1108</td>\n",
       "      <td>[(0.1108, 425061006, Lymphadenopathy of head AND/OR neck), (0.1097, 704281009, Head and neck lymphadenopathy (disorder)), (0.1089, 269151006, Internal injury of chest, abdomen and pelvis (disorder)), (0.0965, 126507009, Neoplasm of skin of abdomen (disorder)), (0.0964, 126509007, Neoplasm of skin of chest (disorder)), (0.0964, 94547009, Secondary malignant neoplasm of skin of chest), (0.0957, 297134004, Benign neoplasm of skin of head and neck), (0.0956, 92344000, Benign neoplasm of skin of abdomen), (0.0952, 200700005, Acute lymphadenitis of face, head and neck), (0.0949, 94794003, Neoplasm of uncertain behaviour of chest wall)]</td>\n",
       "    </tr>\n",
       "    <tr>\n",
       "      <th>32</th>\n",
       "      <td>1::1664::1707</td>\n",
       "      <td>x 1.5 cm. his right axillary lymphadenopathy</td>\n",
       "      <td>PROBLEM</td>\n",
       "      <td>0.1237</td>\n",
       "      <td>[(0.1237, 127194005, Subscapular axillary lymphadenopathy), (0.1215, 164150006, On examination - axillary lymphadenopathy), (0.1183, 127193004, Pectoral axillary lymphadenopathy), (0.1021, 457271000124106, Lump of axillary tail of right breast), (0.0926, 127256003, Neoplasm of lateral axillary lymph nodes (disorder)), (0.0908, 457301000124108, Lump of axillary tail of left breast (finding)), (0.0883, 10629831000119105, Cellulitis of right axilla), (0.0881, 10631951000119109, Abscess of right axilla), (0.0877, 10627391000119105, Boil of right axilla), (0.0869, 10939061000119107, Laceration of right axilla)]</td>\n",
       "    </tr>\n",
       "    <tr>\n",
       "      <th>35</th>\n",
       "      <td>1::1932::1939</td>\n",
       "      <td>symptoms</td>\n",
       "      <td>PROBLEM</td>\n",
       "      <td>0.1508</td>\n",
       "      <td>[(0.1508, 315642008, Influenza-like symptoms), (0.1508, 95891005, Flu-like symptoms), (0.0983, 365440008, Feces/motions - symptoms), (0.0980, 10171000132106, Neuropsychiatric symptoms), (0.0860, 267048005, Swallowing symptoms), (0.0847, 162018004, Chewing symptoms), (0.0839, 394924000, Depressive symptoms), (0.0828, 162367006, Sneezing symptoms), (0.0825, 162375000, Snoring symptoms), (0.0822, 248283007, Vague symptoms)]</td>\n",
       "    </tr>\n",
       "    <tr>\n",
       "      <th>36</th>\n",
       "      <td>1::2004::2023</td>\n",
       "      <td>hypercellular marrow</td>\n",
       "      <td>PROBLEM</td>\n",
       "      <td>0.1188</td>\n",
       "      <td>[(0.1188, 416995001, Hypocellular bone marrow), (0.1154, 446409001, Normocellular bone marrow), (0.1024, 127035006, Bone marrow disorder), (0.1018, 250411006, Bone marrow finding), (0.0965, 10138007, Bone marrow hyperplasia), (0.0945, 303266002, Aplastic bone marrow), (0.0932, 307762000, Bone marrow depression), (0.0927, 370569000, Bone marrow suppression), (0.0925, 365838005, Bone marrow megakaryocytes), (0.0921, 167939004, Marrow megakaryocytes abnormal)]</td>\n",
       "    </tr>\n",
       "    <tr>\n",
       "      <th>37</th>\n",
       "      <td>1::2100::2145</td>\n",
       "      <td>positivity; fluorescence in situ hybridization</td>\n",
       "      <td>PROBLEM</td>\n",
       "      <td>0.1156</td>\n",
       "      <td>[(0.1156, 247253001, Grommet in situ), (0.1029, 92530007, Ampullary carcinoma in situ), (0.1018, 397578001, Device in situ (finding)), (0.0997, 722810000, Prosthesis in situ (finding)), (0.0970, 92649001, Carcinoma in situ of lung), (0.0969, 92624000, Carcinoma in situ of kidney), (0.0968, 92788005, Carcinoma in situ of uterus), (0.0966, 92643000, Carcinoma in situ of lip), (0.0964, 92669006, Carcinoma in situ of ovary), (0.0963, 442061005, Radioactive implant in situ (finding))]</td>\n",
       "    </tr>\n",
       "    <tr>\n",
       "      <th>39</th>\n",
       "      <td>2::64::77</td>\n",
       "      <td>frequent falls</td>\n",
       "      <td>PROBLEM</td>\n",
       "      <td>0.1135</td>\n",
       "      <td>[(0.1135, 279992002, Recurrent falls (finding)), (0.1116, 298347004, Falls infrequently (finding)), (0.1083, 404912005, Unexplained falls (finding)), (0.1071, 52754008, Unusually frequent menses), (0.0959, 404911003, Unexplained recurrent falls (finding)), (0.0943, 298343000, Finding related to falls (finding)), (0.0937, 224313002, Frequent changes of school (finding)), (0.0934, 249997000, Falls like log (finding)), (0.0923, 266601003, Excessive and frequent menstruation (finding)), (0.0898, 129839007, At risk for falls (finding))]</td>\n",
       "    </tr>\n",
       "    <tr>\n",
       "      <th>41</th>\n",
       "      <td>2::308::315</td>\n",
       "      <td>the mass</td>\n",
       "      <td>PROBLEM</td>\n",
       "      <td>0.1164</td>\n",
       "      <td>[(0.1164, 14160001000004107, Vallecular mass), (0.1123, 237047009, Tubo-ovarian mass (finding)), (0.1102, 13420001000004101, Periaortic mass), (0.0983, 299704007, Mass of face), (0.0974, 87860000, Mass of testis), (0.0968, 14100001000004106, Mass of tibia), (0.0952, 5180001000004102, Mass of sacrum), (0.0919, 443607001, Palpable mass (finding)), (0.0910, 281398003, Groin mass (finding)), (0.0905, 297960002, Mass of skin (finding))]</td>\n",
       "    </tr>\n",
       "    <tr>\n",
       "      <th>44</th>\n",
       "      <td>2::672::695</td>\n",
       "      <td>lymphomatous involvement</td>\n",
       "      <td>PROBLEM</td>\n",
       "      <td>0.1245</td>\n",
       "      <td>[(0.1245, 250098005, Pauciarticular joint involvement), (0.1121, 239921005, Behcet disease with organ/system involvement), (0.0989, 396230008, Polymyositis with skin involvement), (0.0984, 369710003, Margin involvement indeterminate (finding)), (0.0977, 196136009, Polymyositis with pulmonary involvement), (0.0965, 239927009, Polyarteritis nodosa with multi-organ involvement), (0.0952, 250099002, Polyarticular joint involvement (finding)), (0.0947, 402959002, Leptospirosis with cutaneous involvement), (0.0916, 396787000, Tumour involvement of non-regional lymph nodes), (0.0904, 239922003, Behcet disease with multisystem involvement)]</td>\n",
       "    </tr>\n",
       "    <tr>\n",
       "      <th>45</th>\n",
       "      <td>2::768::810</td>\n",
       "      <td>either ocular or leptomeningeal involvement</td>\n",
       "      <td>PROBLEM</td>\n",
       "      <td>0.1284</td>\n",
       "      <td>[(0.1284, 785299009, Lissencephaly type 2 without muscular or ocular involvement), (0.1146, 267625001, Glaucoma due to ocular tumor or cyst), (0.1039, 42574005, Scleritis with corneal involvement), (0.0995, 94938005, Neoplasm of uncertain behavior with pluriglandular involvement), (0.0958, 417654008, Contusion of ocular adnexa and periocular tissues (disorder)), (0.0940, 15739281000119107, Glaucoma of both eyes due to ocular vascular disorder), (0.0939, 300161000119106, Disorder of connective tissue co-occurrent and due to systemic involvement), (0.0935, 53885001, Hypotony of eye co-occurrent and due to ocular fistula (disorder)), (0.0902, 369815001, T3b (IIIB): Endometrial tumor with vaginal involvement (direct extension or metastasis) (finding)), (0.0862, 15930381000119104, Papilloedema of both eyes)]</td>\n",
       "    </tr>\n",
       "    <tr>\n",
       "      <th>46</th>\n",
       "      <td>3::37::73</td>\n",
       "      <td>a progressing pruritic cutaneous rash</td>\n",
       "      <td>PROBLEM</td>\n",
       "      <td>0.1257</td>\n",
       "      <td>[(0.1257, 162415008, Complaining of a rash), (0.1193, 64144002, Pruritic rash (disorder)), (0.0980, 301447009, Multimorphic rash), (0.0972, 391000161103, Rash of periwound skin), (0.0970, 404102002, Premycotic rash), (0.0929, 254175006, Bullous rash of hand), (0.0929, 398591002, Centripetal rash), (0.0926, 397741002, Papular rash of chin), (0.0923, 423716004, Petechial rash), (0.0922, 399329002, Barbers' rash)]</td>\n",
       "    </tr>\n",
       "    <tr>\n",
       "      <th>48</th>\n",
       "      <td>3::174::211</td>\n",
       "      <td>partially crusted erythematous plaques</td>\n",
       "      <td>PROBLEM</td>\n",
       "      <td>0.1404</td>\n",
       "      <td>[(0.1404, 204919003, Erythematous plaques of pinta), (0.1000, 277249005, Vocal cords erythematous (finding)), (0.0991, 235071003, Acute erythematous candidosis), (0.0988, 413224007, Erythematous duodenopathy), (0.0981, 135888007, On examination - erythematous rash), (0.0955, 238946004, Reticular erythematous mucinosis (disorder)), (0.0935, 56253000, Parapsoriasis en plaques (disorder)), (0.0926, 257006, Acne rosacea, erythematous telangiectatic type), (0.0920, 723166008, Acute erythematous eruption of skin (finding)), (0.0902, 88697005, Pruritic urticarial papules and plaques of pregnancy)]</td>\n",
       "    </tr>\n",
       "    <tr>\n",
       "      <th>51</th>\n",
       "      <td>3::393::400</td>\n",
       "      <td>alopecia</td>\n",
       "      <td>PROBLEM</td>\n",
       "      <td>0.1416</td>\n",
       "      <td>[(0.1416, 238725004, Non-scarring alopecia), (0.1416, 56317004, Alopecia), (0.1090, 238923001, Lipoedematous alopecia), (0.0933, 403330004, Massage alopecia), (0.0929, 201139004, Cachectic alopecia), (0.0907, 201137002, Alopecia localis), (0.0829, 22934003, Radiation alopecia), (0.0828, 54539003, Endocrine alopecia), (0.0826, 238469005, Friction alopecia), (0.0826, 201138007, Diffuse alopecia)]</td>\n",
       "    </tr>\n",
       "    <tr>\n",
       "      <th>52</th>\n",
       "      <td>3::406::436</td>\n",
       "      <td>a left axillary lymphadenopathy</td>\n",
       "      <td>PROBLEM</td>\n",
       "      <td>0.1154</td>\n",
       "      <td>[(0.1154, 127194005, Subscapular axillary lymphadenopathy), (0.1132, 127191002, Central axillary lymphadenopathy), (0.1075, 127190001, Lateral axillary lymphadenopathy (disorder)), (0.1070, 127193004, Pectoral axillary lymphadenopathy), (0.1014, 127192009, Apical axillary lymphadenopathy (disorder)), (0.1004, 164150006, On examination - axillary lymphadenopathy), (0.0919, 16005111000119102, Disorder of left axillary nerve), (0.0912, 11816181000119102, Injury of left axillary artery), (0.0861, 127183006, Prevesicular lymphadenopathy), (0.0860, 127182001, Paravesicular lymphadenopathy)]</td>\n",
       "    </tr>\n",
       "    <tr>\n",
       "      <th>54</th>\n",
       "      <td>3::524::529</td>\n",
       "      <td>sweats</td>\n",
       "      <td>PROBLEM</td>\n",
       "      <td>0.1746</td>\n",
       "      <td>[(0.1746, 224962007, Hot sweats), (0.1720, 42984000, Night sweats), (0.0829, 308692003, Alcohol-induced flushes), (0.0824, 13791008, Asthenia), (0.0821, 473188002, Drug-induced dizziness), (0.0821, 80313002, Palpitations), (0.0816, 57676002, Arthralgia), (0.0809, 271951008, Tearfulness), (0.0808, 429266002, Sleep-related groaning), (0.0807, 370402009, Radiation-induced vomiting)]</td>\n",
       "    </tr>\n",
       "    <tr>\n",
       "      <th>55</th>\n",
       "      <td>3::545::555</td>\n",
       "      <td>weight loss</td>\n",
       "      <td>PROBLEM</td>\n",
       "      <td>0.1403</td>\n",
       "      <td>[(0.1403, 89362005, Weight loss), (0.1072, 448765001, Unintentional weight loss), (0.1022, 267024001, Abnormal weight loss), (0.1019, 359649009, Weight loss diet), (0.0973, 309257005, Excessive weight loss), (0.0970, 161832001, Progressive weight loss), (0.0948, 426977000, Recent weight loss), (0.0918, 422868009, Unexplained weight loss), (0.0909, 416528001, Intentional weight loss), (0.0764, 170806001, Difficulty maintaining weight loss)]</td>\n",
       "    </tr>\n",
       "    <tr>\n",
       "      <th>56</th>\n",
       "      <td>3::562::577</td>\n",
       "      <td>loss of appetite</td>\n",
       "      <td>PROBLEM</td>\n",
       "      <td>0.1678</td>\n",
       "      <td>[(0.1678, 79890006, Loss of appetite), (0.1213, 405788002, Psychogenic loss of appetite), (0.1094, 289161009, Finding of appetite), (0.0882, 44077006, Loss of sensation), (0.0872, 282299006, Loss of balance), (0.0867, 237724003, Hypothalamic disorder of appetite), (0.0855, 289162002, Finding of quantity of appetite), (0.0855, 68158006, Loss of accommodation), (0.0852, 247796005, Loss of pleasure), (0.0833, 249473004, Change in appetite)]</td>\n",
       "    </tr>\n",
       "  </tbody>\n",
       "</table>\n",
       "</div>"
      ],
      "text/plain": [
       "           coords  ...                                                                                                                                                                                                                                                                                                                                                                                                                                                                                                                                                                                                                                                                                                                                                                                                                                                                                    snomed_opts\n",
       "1     0::192::212  ...                                                                                                                                                                                                                                                                                                       [(0.1289, 390919006, On examination - left scrotal swelling), (0.1095, 268946005, On examination - scrotal swelling), (0.1089, 390918003, On examination - right scrotal swelling), (0.1015, 762916009, Swelling of left foot), (0.0978, 442648006, Swelling of left tonsil), (0.0923, 762896009, Swelling of left lower limb), (0.0919, 12242351000119109, Swelling of left upper limb), (0.0908, 15952141000119106, Left parotid gland swelling (finding)), (0.0900, 16696741000119103, Swelling of left ear structure), (0.0885, 10678471000119104, Localised swelling of left foot)]\n",
       "4     0::329::345  ...                                                                                                                                                                                                                                                                                                                                                                                                                [(0.1267, 21782001, Drug-induced constipation), (0.1056, 111360009, Intractable constipation), (0.1049, 430097009, Spastic constipation), (0.1015, 432414001, Atonic constipation), (0.0969, 197119006, Acute constipation (finding)), (0.0952, 40196000, Mild pain (finding)), (0.0951, 236070005, Simple constipation (finding)), (0.0937, 301380003, Mild present pain), (0.0908, 58230007, Intermittent constipation pattern), (0.0898, 370218001, Mild asthma (disorder))]\n",
       "5     0::353::363  ...                                                                                                                                                                                                                                                                                                                                                                                                                                                                                        [(0.1988, 75295004, Hard stools), (0.1067, 27731006, Semisolid stools), (0.1022, 398032003, Loose stools), (0.1000, 2901004, Tarry stools), (0.0997, 35064005, Black stools), (0.0888, 64412006, Red stools (finding)), (0.0809, 289775006, Cervix hard (finding)), (0.0795, 88351001, Hard water syndrome), (0.0722, 126806005, Neoplasm of hard palate), (0.0712, 426014000, Fistula of hard palate)]\n",
       "7     0::441::466  ...                                                                                                                                                                                                                                                                                                                                                            [(0.1541, 102031000119109, Paratesticular mass), (0.1203, 6370001000004104, Mass of hard palate), (0.0962, 14160001000004107, Vallecular mass), (0.0925, 126806005, Neoplasm of hard palate), (0.0923, 163292001, On examination - abdominal mass - hard (finding)), (0.0915, 69559004, Mass of retroperitoneal structure), (0.0911, 13420001000004101, Periaortic mass), (0.0889, 444905003, Mass of soft tissue (finding)), (0.0870, 723111007, Hypopharyngeal mass in neonate), (0.0861, 92129006, Benign tumor of hard palate)]\n",
       "10  0::1354::1402  ...                                                                                                                                                                      [(0.1152, 363420003, Malignant retroperitoneal tumor (disorder)), (0.1116, 236017004, Malignant retroperitoneal fibrosis (disorder)), (0.1051, 1090321000119103, Postprocedural retroperitoneal abscess (disorder)), (0.1014, 127253006, Neoplasm of retroperitoneal lymph nodes (disorder)), (0.0996, 385016002, Extraprostatic extension of tumor present, multifocal), (0.0967, 92170008, Benign neoplasm of large intestine), (0.0935, 405579008, Nontraumatic perforation of large intestine), (0.0933, 92324006, Benign neoplasm of retroperitoneal lymph nodes (disorder)), (0.0928, 247151007, Macula - multifocal placoid lesions (finding)), (0.0907, 93854002, Primary malignant neoplasm of large intestine)]\n",
       "11  0::1409::1427  ...                                                                                                                                                                                                                                                                                                                                                        [(0.1107, 717717002, Non-cyclic pelvic pain (finding)), (0.1094, 783189008, Pelvic sideshift (finding)), (0.1001, 203508001, Bony pelvic pain (finding)), (0.0976, 283137007, Contusion of pelvic region), (0.0975, 239992008, Bursitis of pelvic region), (0.0974, 283129004, Blister of pelvic region), (0.0972, 74285003, Mass of pelvic structure (finding)), (0.0969, 57027007, Periostitis of pelvic region), (0.0966, 162147009, Complaining of pelvic pain (finding)), (0.0965, 126561007, Neoplasm of pelvic bone (disorder))]\n",
       "12  0::1463::1487  ...                                                                                                                                                                                                                                                                                                                                                                                                                                   [(0.1216, 300848003, Observation of a mass), (0.1142, 14160001000004107, Vallecular mass), (0.1102, 237047009, Tubo-ovarian mass (finding)), (0.1082, 13420001000004101, Periaortic mass), (0.0962, 450878002, Tonsillar mass), (0.0934, 87860000, Mass of testis), (0.0901, 443607001, Palpable mass (finding)), (0.0898, 102031000119109, Paratesticular mass), (0.0892, 281398003, Groin mass (finding)), (0.0871, 309082002, Epigastric mass (finding))]\n",
       "14  0::1753::1790  ...                                                                                                                                                                                                       [(0.1124, 271630007, Trachea displaced to left (disorder)), (0.1123, 271631006, Trachea displaced to right (disorder)), (0.1040, 784285002, Tenesmus of bladder (finding)), (0.1034, 197230002, Pseudodiverticulum of the rectum), (0.1015, 366267009, Finding of bladder neck position (finding)), (0.1005, 26797002, Hyperaemia of bladder), (0.0963, 289656006, Uterine fundus displaced below introitus with traction (finding)), (0.0917, 94743005, Neoplasm of uncertain behaviour of apex of urinary bladder), (0.0890, 95012001, Neoplasm of uncertain behaviour of posterior wall of urinary bladder), (0.0888, 202326005, Protrusio acetabuli of the pelvic region and thigh)]\n",
       "17  0::2068::2105  ...                                                                                                                                                                                                                                                                    [(0.1126, 384735004, Nuclear pleomorphism: small regular nuclei (score=1)), (0.1053, 125161006, Unsatisfactory for evaluation due to scant squamous epithelial component), (0.0986, 165475005, Anisocytosis, red cells (finding)), (0.0979, 165473003, Normocytosis, red cells (finding)), (0.0978, 451038000, Haemorrhage in caudate nucleus), (0.0978, 250249008, Spiny prickle cells present), (0.0977, 50110003, No endocervical cells present), (0.0975, 250441008, Epithelial cells present (finding)), (0.0975, 240086009, Myopathy with cytoplasmic inclusions), (0.0973, 129734009, Oval shaped lesion (finding))]\n",
       "18  0::2112::2137  ...                                                                                                                                                                                                                                                                                                 [(0.1142, 416416006, Retrocorneal fibrous membrane), (0.1018, 424286001, Fibrous dysplasia of orbit), (0.1013, 402870005, Reactive fibrous tissue proliferation), (0.0993, 36517007, Polyostotic fibrous dysplasia of bone), (0.0988, 54422002, Fibrous obliteration of appendix), (0.0987, 254736006, Fibrous tissue neoplasm of skin), (0.0979, 404013002, Angiomatoid fibrous histiocytoma of skin), (0.0970, 404014008, Malignant fibrous histiocytoma of skin), (0.0958, 109787002, Inflammatory fibrous hyperplasia of mouth), (0.0951, 254750001, Benign fibrous histiocytoma of skin)]\n",
       "19  0::2238::2254  ...                                                                                                                                                                                                                                                                                                                                                                     [(0.1327, 248799000, Orgasm too strong), (0.1315, 251351004, Skin reaction strong (finding)), (0.1250, 248777008, Erection too strong (finding)), (0.0898, 733120009, Rhc positive), (0.0892, 712678004, Beta-lactamase positive (finding)), (0.0872, 712679007, Beta-lactamase negative (finding)), (0.0866, 115827005, Lutheran weak phenotype (finding)), (0.0864, 299317007, Ortolani test positive), (0.0860, 34850003, Weak Fy^b^ phenotype (finding)), (0.0856, 33590004, Weak mother-infant attachment (finding))]\n",
       "20  0::2295::2342  ...                                                                                                      [(0.1172, 289753009, No further involution of the uterus (finding)), (0.1017, 299036007, Squaring of the hand (finding)), (0.0999, 424750001, Signet-ring cells present, comprising less that 50% of malignant cells (finding)), (0.0996, 769327000, Dividing cells of domain Bacteria present (finding)), (0.0993, 365683008, Finding of urine microscopy: presence of cells (finding)), (0.0992, 103609004, Specimen with abnormal presence of endometrial cells (finding)), (0.0975, 21985009, Fibrohistiocytic proliferation of the skin), (0.0958, 717159009, Finding of presence of yeast cells and fungal elements (finding)), (0.0957, 436501000124102, Mold isolated but not further identified (finding)), (0.0940, 288604009, Able to use the elements of language (finding))]\n",
       "21  0::2369::2396  ...                                                                                                                                                                                                                                                                                                                                                                                                                            [(0.1127, 62042001, Splenogonadal fusion (disorder)), (0.1057, 44964000, Fusion of testes), (0.1042, 204984002, Fusion of kidneys), (0.1008, 307211004, Nonunion of spinal fusion), (0.1007, 300069000, Fusion of vulva (finding)), (0.0988, 23939000, Imperfect fusion of skull), (0.0956, 29307005, Lückenschädel), (0.0952, 84321001, Delayed fusion of epiphysis), (0.0942, 232264008, Ossicular fusion), (0.0921, 32919003, Fusion with defective stereopsis)]\n",
       "23      1::36::66  ...                                                                                                                                                                                                                                                                                               [(0.1181, 303059007, Postpancreatectomy diabetes mellitus), (0.1085, 268519009, Diabetes mellitus uncontrolled), (0.1042, 19378003, Pseudotabes with diabetes mellitus), (0.1006, 284449005, Lipoatrophic diabetes mellitus), (0.1000, 11530004, Brittle diabetes mellitus), (0.0950, 709147009, Gingivitis co-occurrent with diabetes mellitus), (0.0939, 427943001, Ophthalmoplegia with diabetes mellitus), (0.0939, 232020009, Maculopathy with diabetes mellitus), (0.0932, 472699005, Gestational diabetes mellitus uncontrolled), (0.0926, 170745003, Diet controlled diabetes mellitus)]\n",
       "24     1::73::132  ...                                                                                                                                             [(0.1176, 12240181000119103, Lump in left breast (finding)), (0.1046, 457311000124106, Lump in nipple region of left breast), (0.1046, 12240221000119106, Lump in right breast (finding)), (0.1009, 13340001000004107, Mass of right submandibular region (finding)), (0.0996, 457301000124108, Lump of axillary tail of left breast (finding)), (0.0948, 457321000124103, Lump in nipple region of right breast), (0.0946, 457211000124102, Lump in lower inner quadrant of left breast (finding)), (0.0945, 196485006, Sialoadenitis of the submandibular gland (disorder)), (0.0944, 457221000124105, Lump in lower outer quadrant of left breast (finding)), (0.0944, 457201000124100, Lump in upper inner quadrant of left breast (finding))]\n",
       "25    1::203::236  ...                                                                                                                                                                                                                                                                                                     [(0.1111, 165513007, Differential white count abnormal (finding)), (0.1078, 165509000, White blood cell count abnormal (finding)), (0.1076, 165507003, White blood cell count normal (finding)), (0.1039, 165512002, Differential white cell count normal (finding)), (0.1012, 65209002, Basophilic leukocytosis), (0.0947, 250271003, White blood cell finding), (0.0944, 165686002, Reticulocyte count normal (finding)), (0.0943, 165685003, Reticulocyte count abnormal (finding)), (0.0934, 427931002, White sputum (finding)), (0.0918, 165555003, Platelet count normal (finding))]\n",
       "26    1::370::462  ...  [(0.1217, 783211008, Non-CLL (chronic lymphocytic leukemia) monoclonal B-cell lymphocytosis), (0.1030, 786855003, MBL-CLL - monoclonal B-cell lymphocytosis chronic lymphocytic leukaemia-type), (0.0988, 413847001, Chronic phase chronic myeloid leukemia (disorder)), (0.0980, 413842007, Chronic myeloid leukemia in lymphoid blast crisis (disorder)), (0.0976, 404153001, Leukemic infiltration of skin in chronic myeloid leukemia (disorder)), (0.0970, 413843002, Chronic myeloid leukemia in myeloid blast crisis (disorder)), (0.0964, 413656006, Blastic phase chronic myeloid leukemia (disorder)), (0.0961, 449108003, Philadelphia chromosome positive chronic myelogenous leukemia (disorder)), (0.0960, 449386007, Philadelphia chromosome negative chronic myelogenous leukemia (disorder)), (0.0954, 724521003, Ulcer of stomach due to lymphocytic gastritis (disorder))]\n",
       "28  1::1030::1088  ...                                                                                                                                                                                                     [(0.1110, 298387009, Enlargement of neck (finding)), (0.1073, 126636004, Neoplasm of supraclavicular region), (0.1058, 15731961000119105, Enlargement of bilateral lacrimal glands), (0.1037, 196485006, Sialoadenitis of the submandibular gland), (0.1014, 200649005, Cellulitis and abscess of submandibular region), (0.1011, 95119008, Neoplasm of uncertain behaviour of supraclavicular region), (0.0949, 433203006, Spasm of cervical paraspinous muscle (finding)), (0.0926, 298399002, Bony swelling of the cervical spine (finding)), (0.0925, 370013000, N3b: extension to supraclavicular fossa (finding)), (0.0896, 427787004, Abscess in epidural space of cervical spine)]\n",
       "29  1::1095::1118  ...                                                                                                                                                                                                                                                                                                                                               [(0.1424, 127189005, Axillary lymphadenopathy), (0.1109, 127194005, Subscapular axillary lymphadenopathy), (0.1056, 127190001, Lateral axillary lymphadenopathy), (0.1046, 127191002, Central axillary lymphadenopathy), (0.0995, 127193004, Pectoral axillary lymphadenopathy), (0.0994, 127192009, Apical axillary lymphadenopathy), (0.0846, 127150004, Midcolic lymphadenopathy), (0.0845, 127184000, Postvesicular lymphadenopathy), (0.0844, 127131004, Retropyloric lymphadenopathy), (0.0840, 127180009, Presymphysial lymphadenopathy)]\n",
       "30  1::1247::1311  ...                                                                                                                                                                                                                                  [(0.1108, 425061006, Lymphadenopathy of head AND/OR neck), (0.1097, 704281009, Head and neck lymphadenopathy (disorder)), (0.1089, 269151006, Internal injury of chest, abdomen and pelvis (disorder)), (0.0965, 126507009, Neoplasm of skin of abdomen (disorder)), (0.0964, 126509007, Neoplasm of skin of chest (disorder)), (0.0964, 94547009, Secondary malignant neoplasm of skin of chest), (0.0957, 297134004, Benign neoplasm of skin of head and neck), (0.0956, 92344000, Benign neoplasm of skin of abdomen), (0.0952, 200700005, Acute lymphadenitis of face, head and neck), (0.0949, 94794003, Neoplasm of uncertain behaviour of chest wall)]\n",
       "32  1::1664::1707  ...                                                                                                                                                                                                                                                          [(0.1237, 127194005, Subscapular axillary lymphadenopathy), (0.1215, 164150006, On examination - axillary lymphadenopathy), (0.1183, 127193004, Pectoral axillary lymphadenopathy), (0.1021, 457271000124106, Lump of axillary tail of right breast), (0.0926, 127256003, Neoplasm of lateral axillary lymph nodes (disorder)), (0.0908, 457301000124108, Lump of axillary tail of left breast (finding)), (0.0883, 10629831000119105, Cellulitis of right axilla), (0.0881, 10631951000119109, Abscess of right axilla), (0.0877, 10627391000119105, Boil of right axilla), (0.0869, 10939061000119107, Laceration of right axilla)]\n",
       "35  1::1932::1939  ...                                                                                                                                                                                                                                                                                                                                                                                                                                                       [(0.1508, 315642008, Influenza-like symptoms), (0.1508, 95891005, Flu-like symptoms), (0.0983, 365440008, Feces/motions - symptoms), (0.0980, 10171000132106, Neuropsychiatric symptoms), (0.0860, 267048005, Swallowing symptoms), (0.0847, 162018004, Chewing symptoms), (0.0839, 394924000, Depressive symptoms), (0.0828, 162367006, Sneezing symptoms), (0.0825, 162375000, Snoring symptoms), (0.0822, 248283007, Vague symptoms)]\n",
       "36  1::2004::2023  ...                                                                                                                                                                                                                                                                                                                                                                                                                  [(0.1188, 416995001, Hypocellular bone marrow), (0.1154, 446409001, Normocellular bone marrow), (0.1024, 127035006, Bone marrow disorder), (0.1018, 250411006, Bone marrow finding), (0.0965, 10138007, Bone marrow hyperplasia), (0.0945, 303266002, Aplastic bone marrow), (0.0932, 307762000, Bone marrow depression), (0.0927, 370569000, Bone marrow suppression), (0.0925, 365838005, Bone marrow megakaryocytes), (0.0921, 167939004, Marrow megakaryocytes abnormal)]\n",
       "37  1::2100::2145  ...                                                                                                                                                                                                                                                                                                                                                                                           [(0.1156, 247253001, Grommet in situ), (0.1029, 92530007, Ampullary carcinoma in situ), (0.1018, 397578001, Device in situ (finding)), (0.0997, 722810000, Prosthesis in situ (finding)), (0.0970, 92649001, Carcinoma in situ of lung), (0.0969, 92624000, Carcinoma in situ of kidney), (0.0968, 92788005, Carcinoma in situ of uterus), (0.0966, 92643000, Carcinoma in situ of lip), (0.0964, 92669006, Carcinoma in situ of ovary), (0.0963, 442061005, Radioactive implant in situ (finding))]\n",
       "39      2::64::77  ...                                                                                                                                                                                                                                                                                                                                      [(0.1135, 279992002, Recurrent falls (finding)), (0.1116, 298347004, Falls infrequently (finding)), (0.1083, 404912005, Unexplained falls (finding)), (0.1071, 52754008, Unusually frequent menses), (0.0959, 404911003, Unexplained recurrent falls (finding)), (0.0943, 298343000, Finding related to falls (finding)), (0.0937, 224313002, Frequent changes of school (finding)), (0.0934, 249997000, Falls like log (finding)), (0.0923, 266601003, Excessive and frequent menstruation (finding)), (0.0898, 129839007, At risk for falls (finding))]\n",
       "41    2::308::315  ...                                                                                                                                                                                                                                                                                                                                                                                                                                            [(0.1164, 14160001000004107, Vallecular mass), (0.1123, 237047009, Tubo-ovarian mass (finding)), (0.1102, 13420001000004101, Periaortic mass), (0.0983, 299704007, Mass of face), (0.0974, 87860000, Mass of testis), (0.0968, 14100001000004106, Mass of tibia), (0.0952, 5180001000004102, Mass of sacrum), (0.0919, 443607001, Palpable mass (finding)), (0.0910, 281398003, Groin mass (finding)), (0.0905, 297960002, Mass of skin (finding))]\n",
       "44    2::672::695  ...                                                                                                                                                                                                                               [(0.1245, 250098005, Pauciarticular joint involvement), (0.1121, 239921005, Behcet disease with organ/system involvement), (0.0989, 396230008, Polymyositis with skin involvement), (0.0984, 369710003, Margin involvement indeterminate (finding)), (0.0977, 196136009, Polymyositis with pulmonary involvement), (0.0965, 239927009, Polyarteritis nodosa with multi-organ involvement), (0.0952, 250099002, Polyarticular joint involvement (finding)), (0.0947, 402959002, Leptospirosis with cutaneous involvement), (0.0916, 396787000, Tumour involvement of non-regional lymph nodes), (0.0904, 239922003, Behcet disease with multisystem involvement)]\n",
       "45    2::768::810  ...                                                 [(0.1284, 785299009, Lissencephaly type 2 without muscular or ocular involvement), (0.1146, 267625001, Glaucoma due to ocular tumor or cyst), (0.1039, 42574005, Scleritis with corneal involvement), (0.0995, 94938005, Neoplasm of uncertain behavior with pluriglandular involvement), (0.0958, 417654008, Contusion of ocular adnexa and periocular tissues (disorder)), (0.0940, 15739281000119107, Glaucoma of both eyes due to ocular vascular disorder), (0.0939, 300161000119106, Disorder of connective tissue co-occurrent and due to systemic involvement), (0.0935, 53885001, Hypotony of eye co-occurrent and due to ocular fistula (disorder)), (0.0902, 369815001, T3b (IIIB): Endometrial tumor with vaginal involvement (direct extension or metastasis) (finding)), (0.0862, 15930381000119104, Papilloedema of both eyes)]\n",
       "46      3::37::73  ...                                                                                                                                                                                                                                                                                                                                                                                                                                                                 [(0.1257, 162415008, Complaining of a rash), (0.1193, 64144002, Pruritic rash (disorder)), (0.0980, 301447009, Multimorphic rash), (0.0972, 391000161103, Rash of periwound skin), (0.0970, 404102002, Premycotic rash), (0.0929, 254175006, Bullous rash of hand), (0.0929, 398591002, Centripetal rash), (0.0926, 397741002, Papular rash of chin), (0.0923, 423716004, Petechial rash), (0.0922, 399329002, Barbers' rash)]\n",
       "48    3::174::211  ...                                                                                                                                                                                                                                                                          [(0.1404, 204919003, Erythematous plaques of pinta), (0.1000, 277249005, Vocal cords erythematous (finding)), (0.0991, 235071003, Acute erythematous candidosis), (0.0988, 413224007, Erythematous duodenopathy), (0.0981, 135888007, On examination - erythematous rash), (0.0955, 238946004, Reticular erythematous mucinosis (disorder)), (0.0935, 56253000, Parapsoriasis en plaques (disorder)), (0.0926, 257006, Acne rosacea, erythematous telangiectatic type), (0.0920, 723166008, Acute erythematous eruption of skin (finding)), (0.0902, 88697005, Pruritic urticarial papules and plaques of pregnancy)]\n",
       "51    3::393::400  ...                                                                                                                                                                                                                                                                                                                                                                                                                                                                                  [(0.1416, 238725004, Non-scarring alopecia), (0.1416, 56317004, Alopecia), (0.1090, 238923001, Lipoedematous alopecia), (0.0933, 403330004, Massage alopecia), (0.0929, 201139004, Cachectic alopecia), (0.0907, 201137002, Alopecia localis), (0.0829, 22934003, Radiation alopecia), (0.0828, 54539003, Endocrine alopecia), (0.0826, 238469005, Friction alopecia), (0.0826, 201138007, Diffuse alopecia)]\n",
       "52    3::406::436  ...                                                                                                                                                                                                                                                                                [(0.1154, 127194005, Subscapular axillary lymphadenopathy), (0.1132, 127191002, Central axillary lymphadenopathy), (0.1075, 127190001, Lateral axillary lymphadenopathy (disorder)), (0.1070, 127193004, Pectoral axillary lymphadenopathy), (0.1014, 127192009, Apical axillary lymphadenopathy (disorder)), (0.1004, 164150006, On examination - axillary lymphadenopathy), (0.0919, 16005111000119102, Disorder of left axillary nerve), (0.0912, 11816181000119102, Injury of left axillary artery), (0.0861, 127183006, Prevesicular lymphadenopathy), (0.0860, 127182001, Paravesicular lymphadenopathy)]\n",
       "54    3::524::529  ...                                                                                                                                                                                                                                                                                                                                                                                                                                                                                                 [(0.1746, 224962007, Hot sweats), (0.1720, 42984000, Night sweats), (0.0829, 308692003, Alcohol-induced flushes), (0.0824, 13791008, Asthenia), (0.0821, 473188002, Drug-induced dizziness), (0.0821, 80313002, Palpitations), (0.0816, 57676002, Arthralgia), (0.0809, 271951008, Tearfulness), (0.0808, 429266002, Sleep-related groaning), (0.0807, 370402009, Radiation-induced vomiting)]\n",
       "55    3::545::555  ...                                                                                                                                                                                                                                                                                                                                                                                                                                    [(0.1403, 89362005, Weight loss), (0.1072, 448765001, Unintentional weight loss), (0.1022, 267024001, Abnormal weight loss), (0.1019, 359649009, Weight loss diet), (0.0973, 309257005, Excessive weight loss), (0.0970, 161832001, Progressive weight loss), (0.0948, 426977000, Recent weight loss), (0.0918, 422868009, Unexplained weight loss), (0.0909, 416528001, Intentional weight loss), (0.0764, 170806001, Difficulty maintaining weight loss)]\n",
       "56    3::562::577  ...                                                                                                                                                                                                                                                                                                                                                                                                                                      [(0.1678, 79890006, Loss of appetite), (0.1213, 405788002, Psychogenic loss of appetite), (0.1094, 289161009, Finding of appetite), (0.0882, 44077006, Loss of sensation), (0.0872, 282299006, Loss of balance), (0.0867, 237724003, Hypothalamic disorder of appetite), (0.0855, 289162002, Finding of quantity of appetite), (0.0855, 68158006, Loss of accommodation), (0.0852, 247796005, Loss of pleasure), (0.0833, 249473004, Change in appetite)]\n",
       "\n",
       "[35 rows x 5 columns]"
      ]
     },
     "execution_count": 97,
     "metadata": {
      "tags": []
     },
     "output_type": "execute_result"
    }
   ],
   "source": [
    "snomed[snomed.snomed_conf > 0.11]"
   ]
  },
  {
   "cell_type": "code",
   "execution_count": null,
   "metadata": {
    "colab": {},
    "colab_type": "code",
    "id": "S8jZ3ljs752l"
   },
   "outputs": [],
   "source": [
    " "
   ]
  }
 ],
 "metadata": {
  "colab": {
   "collapsed_sections": [],
   "name": "Snomed Entity Resolution with Spark NLP Enterprise.ipynb",
   "provenance": []
  },
  "kernelspec": {
   "display_name": "Python 3",
   "language": "python",
   "name": "python3"
  },
  "language_info": {
   "codemirror_mode": {
    "name": "ipython",
    "version": 3
   },
   "file_extension": ".py",
   "mimetype": "text/x-python",
   "name": "python",
   "nbconvert_exporter": "python",
   "pygments_lexer": "ipython3",
   "version": "3.7.4"
  }
 },
 "nbformat": 4,
 "nbformat_minor": 4
}
