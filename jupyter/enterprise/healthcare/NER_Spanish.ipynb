{
  "nbformat": 4,
  "nbformat_minor": 0,
  "metadata": {
    "colab": {
      "name": "NER_Spanish",
      "provenance": [],
      "collapsed_sections": []
    },
    "kernelspec": {
      "display_name": "jsl250",
      "language": "python",
      "name": "jsl250"
    },
    "language_info": {
      "codemirror_mode": {
        "name": "ipython",
        "version": 3
      },
      "file_extension": ".py",
      "mimetype": "text/x-python",
      "name": "python",
      "nbconvert_exporter": "python",
      "pygments_lexer": "ipython3",
      "version": "3.6.9"
    }
  },
  "cells": [
    {
      "cell_type": "markdown",
      "metadata": {
        "id": "lc_L6EaAWEzo"
      },
      "source": [
        "[![Open In Colab](https://colab.research.google.com/assets/colab-badge.svg)](https://colab.research.google.com/github/JohnSnowLabs/spark-nlp-workshop/blob/master/jupyter/enterprise/healthcare/NER_Spanish.ipynb)"
      ]
    },
    {
      "cell_type": "code",
      "metadata": {
        "id": "MdE588BiY3z1",
        "outputId": "af7da520-8318-4ad7-f136-06d3764c54dc",
        "colab": {
          "base_uri": "https://localhost:8080/",
          "height": 54
        }
      },
      "source": [
        "import json\n",
        "\n",
        "with open('keys.json') as f:\n",
        "    license_keys = json.load(f)\n",
        "\n",
        "license_keys.keys()\n"
      ],
      "execution_count": 1,
      "outputs": [
        {
          "output_type": "execute_result",
          "data": {
            "text/plain": [
              "dict_keys(['SPARK_VERSION', 'SPARK_NLP_PUBLIC_VERSION', 'SPARK_NLP_VERSION', 'SPARK_NLP_SECRET', 'SPARK_NLP_LICENSE', 'AWS_ACCESS_KEY_ID', 'AWS_SECRET_ACCESS_KEY', 'JSL_OCR_LICENSE', 'JSL_OCR_SECRET'])"
            ]
          },
          "metadata": {
            "tags": []
          },
          "execution_count": 1
        }
      ]
    },
    {
      "cell_type": "code",
      "metadata": {
        "id": "FVFdvGChZDDP",
        "outputId": "0278bc0d-2261-4f47-e2d1-901cbf077797",
        "colab": {
          "base_uri": "https://localhost:8080/",
          "height": 476
        }
      },
      "source": [
        "import os\n",
        "\n",
        "# Install java\n",
        "! apt-get update -qq\n",
        "! apt-get install -y openjdk-8-jdk-headless -qq > /dev/null\n",
        "\n",
        "secret = license_keys.get(\"secret\",license_keys.get('SPARK_NLP_SECRET', \"\"))\n",
        "spark_version = os.environ.get(\"SPARK_VERSION\", license_keys.get(\"SPARK_VERSION\",\"2.4\"))\n",
        "version = license_keys.get(\"version\",license_keys.get('SPARK_NLP_PUBLIC_VERSION', \"\"))\n",
        "jsl_version = license_keys.get(\"jsl_version\",license_keys.get('SPARK_NLP_VERSION', \"\"))\n",
        "\n",
        "os.environ[\"JAVA_HOME\"] = \"/usr/lib/jvm/java-8-openjdk-amd64\"\n",
        "os.environ[\"PATH\"] = os.environ[\"JAVA_HOME\"] + \"/bin:\" + os.environ[\"PATH\"]\n",
        "! java -version\n",
        "\n",
        "os.environ['SPARK_NLP_LICENSE'] = license_keys['SPARK_NLP_LICENSE']\n",
        "os.environ['JSL_OCR_LICENSE'] = license_keys['JSL_OCR_LICENSE']\n",
        "os.environ['AWS_ACCESS_KEY_ID']= license_keys['AWS_ACCESS_KEY_ID']\n",
        "os.environ['AWS_SECRET_ACCESS_KEY'] = license_keys['AWS_SECRET_ACCESS_KEY']\n",
        "\n",
        "print(spark_version, version, jsl_version)\n",
        "\n",
        "! python -m pip install \"pyspark==$spark_version\".*\n",
        "! python -m pip install --upgrade spark-nlp-jsl==$jsl_version  --extra-index-url https://pypi.johnsnowlabs.com/$secret\n",
        "\n",
        "import sparknlp\n",
        "import sparknlp_jsl\n",
        "from sparknlp.base import *\n",
        "from sparknlp.annotator import *\n",
        "from sparknlp_jsl.annotator import *\n",
        "from pyspark.ml import Pipeline\n",
        "from pyspark.sql import SparkSession\n",
        "\n",
        "print (sparknlp.version())\n",
        "print (sparknlp_jsl.version())\n",
        "\n",
        "spark = sparknlp_jsl.start(secret, gpu=False, spark23=(spark_version[:3]==\"2.3\"))"
      ],
      "execution_count": 2,
      "outputs": [
        {
          "output_type": "stream",
          "text": [
            "openjdk version \"1.8.0_265\"\n",
            "OpenJDK Runtime Environment (build 1.8.0_265-8u265-b01-0ubuntu2~18.04-b01)\n",
            "OpenJDK 64-Bit Server VM (build 25.265-b01, mixed mode)\n",
            "2.4 2.5.5 2.5.5\n",
            "Collecting pyspark==2.4.*\n",
            "\u001b[?25l  Downloading https://files.pythonhosted.org/packages/e2/06/29f80e5a464033432eedf89924e7aa6ebbc47ce4dcd956853a73627f2c07/pyspark-2.4.7.tar.gz (217.9MB)\n",
            "\u001b[K     |████████████████████████████████| 217.9MB 71kB/s \n",
            "\u001b[?25hCollecting py4j==0.10.7\n",
            "\u001b[?25l  Downloading https://files.pythonhosted.org/packages/e3/53/c737818eb9a7dc32a7cd4f1396e787bd94200c3997c72c1dbe028587bd76/py4j-0.10.7-py2.py3-none-any.whl (197kB)\n",
            "\u001b[K     |████████████████████████████████| 204kB 34.9MB/s \n",
            "\u001b[?25hBuilding wheels for collected packages: pyspark\n",
            "  Building wheel for pyspark (setup.py) ... \u001b[?25l\u001b[?25hdone\n",
            "  Created wheel for pyspark: filename=pyspark-2.4.7-py2.py3-none-any.whl size=218279466 sha256=cc87b55b23a873152f64dadf89057298b83d05149c8c7ce11b68849e4103438c\n",
            "  Stored in directory: /root/.cache/pip/wheels/34/1f/2e/1e7460f80acf26b08dbb8c53d7ff9e07146f2a68dd5c732be5\n",
            "Successfully built pyspark\n",
            "Installing collected packages: py4j, pyspark\n",
            "Successfully installed py4j-0.10.7 pyspark-2.4.7\n",
            "Looking in indexes: https://pypi.org/simple, https://pypi.johnsnowlabs.com/2.5.5-9418714c2732a91f4b4d0181ae277931a226068e\n",
            "Collecting spark-nlp-jsl==2.5.5\n",
            "  Downloading https://pypi.johnsnowlabs.com/2.5.5-9418714c2732a91f4b4d0181ae277931a226068e/spark-nlp-jsl/spark_nlp_jsl-2.5.5-py3-none-any.whl\n",
            "Collecting spark-nlp==2.5.5\n",
            "\u001b[?25l  Downloading https://files.pythonhosted.org/packages/b5/a2/5c2e18a65784442ded6f6c58af175ca4d99649337de569fac55b04d7ed8e/spark_nlp-2.5.5-py2.py3-none-any.whl (124kB)\n",
            "\u001b[K     |████████████████████████████████| 133kB 4.1MB/s \n",
            "\u001b[?25hInstalling collected packages: spark-nlp, spark-nlp-jsl\n",
            "Successfully installed spark-nlp-2.5.5 spark-nlp-jsl-2.5.5\n",
            "2.5.5\n",
            "2.5.5\n"
          ],
          "name": "stdout"
        }
      ]
    },
    {
      "cell_type": "code",
      "metadata": {
        "id": "1zgsiTxjaiMd"
      },
      "source": [
        "data_chunk_merge = spark.createDataFrame([\n",
        "  (1,\"\"\"ANAMNESIS\n",
        "Mujer de 67 años con antecedentes personales de hipotiroidismo en tratamiento con levotiroxina y fumadora activa de 12.5 paquetes/año. Consulta en Urgencias por sensación progresiva de “acorchamiento y hormigueos” en ambos miembros superiores e inferiores, así como una dificultad progresiva para la deambulación de 4 meses de evolución, asociando asimismo alteración de la memoria reciente desde el último mes\n",
        "EXPLORACIÓN FÍSICA\n",
        "Presentaba una exploración cardiopulmonar y abdominal normal. En la exploración neurológica destaca balance motor por grupos musculares conservado; arreflexia rotuliana y aquilea e hiporreflexia bicipital; tetrahipoestesia asimétrica (táctil, algésica, vibratoria y posicional) en patrón de “guante y calcetín altos” de predominio izquierdo; Romberg positivo y marcha con leve aumento de base de sustentación que impresiona ataxia sensitiva.\n",
        "PRUEBAS COMPLEMENTARIAS\n",
        "En las exploraciones complementarias, hemograma, bioquímica y coagulación no presentaban alteraciones. El análisis de virus hepatitis B y C, VIH, las serologías de enfermedad de Lyme y Treponema pallidum fueron negativas. El estudio lipídico, de\n",
        "vitaminas, proteinograma y anticuerpos antinucleares fueron normales. Se objetivó positividad para los anticuerpos onconeuronales anfifisina, anti-Hu y anti-SOX-1.\n",
        "Se realizó una punción lumbar. El estudio bacteriológico, de micobacterias, de Herpes virus 1 y 2, Ebstein Barr, Citomegalovirus y Varicela-Zoster fue negativo.\n",
        "El estudio de electroneurografía-electromiografía (ENG-EMG) demostró ausencia de potenciales sensitivos en miembros inferiores y algunos nervios de miembros superiores; siendo las respuestas presentes de amplitud muy reducida, con marcado alargamiento de latencias y disminución severa de la velocidad de conducción. Estudio de conductividad motora y electromiográfico sin hallazgos patológicos, hallazgos compatibles con polineuropatía sensitiva severa de características mixtas.\n",
        "En la tomografía axial computerizada (TAC) cerebral no se apreciaron alteraciones significativas. En la TAC toraco-abdomino-pélvica se observaron una adenopatía parahiliar derecha de 2.5 cm y una adenopatía subcarinal de características patológicas.\n",
        "En el PET-TAC se observaron depósitos patológicos que coincidían con los hallazgos del TAC.\n",
        "Se realizó una ecobroncoscopia lineal con toma de biopsia de adenopatía subcarinal.\n",
        "La resonancia mágnetica (RM) cervico-dorso-lumbar mostró pequeñas hernias discales dorsales y lumbares sin afectación del canal medular ni de la cola de caballo.\n",
        "La RM cerebral mostró en T2 hiperintensidad en ambos lóbulos temporales alcanzando hipocampo y corteza siendo sugestivo de encefalitis límbica.\n",
        "ANATOMÍA PATOLÓGICA\n",
        "Carcinoma microcítico de pulmón. Inmunohistoquímica: positivo para TTF1, cromogranina y sinaptofisina, negativo para CK7, CK20 y p40.\n",
        "JUICIO DIAGNÓSTICO\n",
        "Encefalitis límbica y polineuropatía sensitiva paraneoplásicas secundarias a carcinoma microcítico de pulmón cTxN2 M0 (enfermedad limitada).\n",
        "TRATAMIENTO Y EVOLUCIÓN\n",
        "Ante el juicio diagnóstico, y con la colaboración del Servicio de Neurología, se inició tratamiento sintomático secuencial con gammaglobulina (0.4 mg/kg/día) y corticoides (metilprednisolona 1 g/día) intravenosos durante 5 días respectivamente, con escasa mejoría de la clínica. Debido a las molestias ocasionadas por las parestesias se inició tratamiento oral con pregabalina a dosis de 50-0-75 mg.\n",
        "Se decidió comenzar con tratamiento con cisplatino-etopósido más radioterapia concomitante (59.4 Gy en 30 sesiones) a partir del segundo ciclo. Se completó un total de cinco ciclos observándose una respuesta parcial radiológica por criterios RECIST (Response Evaluation Criteria In Solid Tumors).\n",
        "Tres meses después de la finalización del tratamiento con quimioterapia la paciente refiere empeoramiento progresivo de la clínica polineuropática, presentando también episodios súbitos de fuertes reacciones de miedo, llanto y ansiedad, congruentes con crisis epilépticas focales límbicas, por lo que se decide administrar nueva tanda de gammaglobulinas iv (0,4 mg/kg/día) e iniciar tratamiento antiepiléptico con levetirazetam 500 mg cada 12h y lacosamida 100 mg cada 12h, consiguiendo mejoría sintomática cognitiva y control de las crisis. Posteriormente ante mayor progresión de la clínica polineuropática se decide tratamiento de 2ª línea con rituximab iv (1000 mg separados entre sí 14 días), manteniéndose clínicamente estable.\n",
        "Después de nueve meses libre de progresión, se objetiva en el TAC de control un aumento de tejido de partes blandas perihiliar derecho y un nódulo de 7 mm en lóbulo inferior derecho no presente en el TAC previo, hipermetabólico en el PET-TC. Por lo tanto, ante una progresión de enfermedad se decide reiniciar quimioterapia con carboplatinoetopósido al ser una paciente platino sensible.\"\"\"),\n",
        "  (2,\"\"\"Describimos el caso de un varón de 37 años con vida previa activa que refiere dolores osteoarticulares de localización variable en el último mes y fiebre en la última semana con picos (matutino y vespertino) de 40 C las últimas 24-48 horas, por lo que acude al Servicio de Urgencias. Antes de comenzar el cuadro estuvo en Extremadura en una región endémica de brucella, ingiriendo leche de cabra sin pasteurizar y queso de dicho ganado. Entre los comensales aparecieron varios casos de brucelosis. Durante el ingreso para estudio del síndrome febril con antecedentes epidemiológicos de posible exposición a Brucella presenta un cuadro de orquiepididimitis derecha.\n",
        "La exploración física revela: Tª 40,2 C; T.A: 109/68 mmHg; Fc: 105 lpm. Se encuentra consciente, orientado, sudoroso, eupneico, con buen estado de nutrición e hidratación. En cabeza y cuello no se palpan adenopatías, ni bocio ni ingurgitación de vena yugular, con pulsos carotídeos simétricos. Auscultación cardíaca rítmica, sin soplos, roces ni extratonos. Auscultación pulmonar con conservación del murmullo vesicular. Abdomen blando, depresible, sin masas ni megalias. En la exploración neurológica no se detectan signos meníngeos ni datos de focalidad. Extremidades sin varices ni edemas. Pulsos periféricos presentes y simétricos. En la exploración urológica se aprecia el teste derecho aumentado de tamaño, no adherido a piel, con zonas de fluctuación e intensamente doloroso a la palpación, con pérdida del límite epidídimo-testicular y transiluminación positiva.\n",
        "Los datos analíticos muestran los siguentes resultados: Hemograma: Hb 13,7 g/dl; leucocitos 14.610/mm3 (neutrófilos 77%); plaquetas 206.000/ mm3. VSG: 40 mm 1ª hora. Coagulación: TQ 87%; TTPA 25,8 seg. Bioquímica: Glucosa 117 mg/dl; urea 29 mg/dl; creatinina 0,9 mg/dl; sodio 136 mEq/l; potasio 3,6 mEq/l; GOT 11 U/l; GPT 24 U/l; GGT 34 U/l; fosfatasa alcalina 136 U/l; calcio 8,3 mg/dl. Orina: sedimento normal.\n",
        "Durante el ingreso se solicitan Hemocultivos: positivo para Brucella y Serologías específicas para Brucella: Rosa de Bengala +++; Test de Coombs > 1/1280; Brucellacapt > 1/5120. Las pruebas de imagen solicitadas ( Rx tórax, Ecografía abdominal, TAC craneal, Ecocardiograma transtorácico) no evidencian patología significativa, excepto la Ecografía testicular, que muestra engrosamiento de la bolsa escrotal con pequeña cantidad de líquido con septos y testículo aumentado de tamaño con pequeñas zonas hipoecoicas en su interior que pueden representar microabscesos.\n",
        "Con el diagnóstico de orquiepididimitis secundaria a Brucella se instaura tratamiento sintomático (antitérmicos, antiinflamatorios, reposo y elevación testicular) así como tratamiento antibiótico específico: Doxiciclina 100 mg vía oral cada 12 horas (durante 6 semanas) y Estreptomicina 1 gramo intramuscular cada 24 horas (durante 3 semanas). El paciente mejora significativamente de su cuadro tras una semana de ingreso, decidiéndose el alta a su domicilio donde completó la pauta de tratamiento antibiótico. En revisiones sucesivas en consultas se constató la completa remisión del cuadro.\"\"\")\n",
        "]).toDF(\"id\",\"text\")"
      ],
      "execution_count": 3,
      "outputs": []
    },
    {
      "cell_type": "code",
      "metadata": {
        "id": "weY5V9h7ZDf0",
        "outputId": "c1f1fb06-8cd4-41c4-96b4-7e9f86ec1d92",
        "colab": {
          "base_uri": "https://localhost:8080/",
          "height": 170
        }
      },
      "source": [
        "da = DocumentAssembler().setInputCol(\"text\").setOutputCol(\"document\")\n",
        "sd = SentenceDetector().setInputCols(\"document\").setOutputCol(\"sentence\")\n",
        "tk = Tokenizer().setInputCols(\"sentence\").setOutputCol(\"token\")\n",
        "emb = WordEmbeddingsModel.pretrained(\"embeddings_scielowiki_300d\",\"es\",\"clinical/models\").setOutputCol(\"embs\")\n",
        "ner = NerDLModel.pretrained(\"ner_diag_proc\",\"es\",\"clinical/models\").setInputCols(\"sentence\",\"token\",\"embs\").setOutputCol(\"ner\")\n",
        "canner = NerDLModel.pretrained(\"ner_neoplasms\",\"es\",\"clinical/models\").setInputCols(\"sentence\",\"token\",\"embs\").setOutputCol(\"canner\")\n",
        "nc = NerConverter().setInputCols(\"sentence\",\"token\",\"ner\").setOutputCol(\"ner_chunk\")\n",
        "cannc = NerConverter().setInputCols(\"sentence\",\"token\",\"canner\").setOutputCol(\"canner_chunk\")"
      ],
      "execution_count": 4,
      "outputs": [
        {
          "output_type": "stream",
          "text": [
            "embeddings_scielowiki_300d download started this may take some time.\n",
            "Approximate size to download 351.2 MB\n",
            "[OK!]\n",
            "ner_diag_proc download started this may take some time.\n",
            "Approximate size to download 14.2 MB\n",
            "[OK!]\n",
            "ner_neoplasms download started this may take some time.\n",
            "Approximate size to download 14.1 MB\n",
            "[OK!]\n"
          ],
          "name": "stdout"
        }
      ]
    },
    {
      "cell_type": "code",
      "metadata": {
        "id": "45Cr6STSKvZD"
      },
      "source": [
        "#######################################################################################\n",
        "\n",
        "merger_can = ChunkMergeApproach().setInputCols(\"ner_chunk\",\"canner_chunk\").setOutputCol(\"combined\")\n",
        "\n",
        "#######################################################################################\n",
        "\n",
        "pl = Pipeline().setStages([da,sd,tk,emb,ner,canner,nc,cannc,merger_can])"
      ],
      "execution_count": 5,
      "outputs": []
    },
    {
      "cell_type": "code",
      "metadata": {
        "id": "8jVGpbBxWEz1"
      },
      "source": [
        "merged_data = pl.fit(data_chunk_merge).transform(data_chunk_merge).cache()"
      ],
      "execution_count": 6,
      "outputs": []
    },
    {
      "cell_type": "code",
      "metadata": {
        "id": "ogbBOST6aZTt",
        "outputId": "9d70e79c-a9cf-4e52-f315-c4bbfe7dbc1b",
        "colab": {
          "base_uri": "https://localhost:8080/",
          "height": 1000
        }
      },
      "source": [
        "merged_data.selectExpr(\"id\",\"explode(ner_chunk) as a\")\\\n",
        ".selectExpr(\"id\",\"a.begin\",\"a.end\",\"a.result\",\"a.metadata.entity\")\\\n",
        ".orderBy(\"id\",\"begin\").show(100, False)"
      ],
      "execution_count": 7,
      "outputs": [
        {
          "output_type": "stream",
          "text": [
            "+---+-----+----+----------------------------------------+-------------+\n",
            "|id |begin|end |result                                  |entity       |\n",
            "+---+-----+----+----------------------------------------+-------------+\n",
            "|1  |58   |71  |hipotiroidismo                          |DIAGNOSTICO  |\n",
            "|1  |107  |114 |fumadora                                |DIAGNOSTICO  |\n",
            "|1  |367  |390 |alteración de la memoria                |DIAGNOSTICO  |\n",
            "|1  |588  |597 |arreflexia                              |DIAGNOSTICO  |\n",
            "|1  |621  |633 |hiporreflexia                           |DIAGNOSTICO  |\n",
            "|1  |864  |879 |ataxia sensitiva                        |DIAGNOSTICO  |\n",
            "|1  |1030 |1040|hepatitis B                             |DIAGNOSTICO  |\n",
            "|1  |1047 |1049|VIH                                     |DIAGNOSTICO  |\n",
            "|1  |1070 |1079|enfermedad                              |DIAGNOSTICO  |\n",
            "|1  |1084 |1087|Lyme                                    |DIAGNOSTICO  |\n",
            "|1  |1091 |1099|Treponema                               |DIAGNOSTICO  |\n",
            "|1  |1395 |1400|Herpes                                  |DIAGNOSTICO  |\n",
            "|1  |1429 |1443|Citomegalovirus                         |DIAGNOSTICO  |\n",
            "|1  |1491 |1525|electroneurografía-electromiografía     |PROCEDIMIENTO|\n",
            "|1  |1828 |1844|electromiográfico                       |PROCEDIMIENTO|\n",
            "|1  |1899 |1922|polineuropatía sensitiva                |DIAGNOSTICO  |\n",
            "|1  |1964 |1993|tomografía axial computerizada          |PROCEDIMIENTO|\n",
            "|1  |2001 |2008|cerebral                                |PROCEDIMIENTO|\n",
            "|1  |2062 |2088|TAC toraco-abdomino-pélvica             |PROCEDIMIENTO|\n",
            "|1  |2108 |2117|adenopatía                              |DIAGNOSTICO  |\n",
            "|1  |2154 |2163|adenopatía                              |DIAGNOSTICO  |\n",
            "|1  |2295 |2297|TAC                                     |PROCEDIMIENTO|\n",
            "|1  |2361 |2370|adenopatía                              |DIAGNOSTICO  |\n",
            "|1  |2387 |2406|resonancia mágnetica                    |PROCEDIMIENTO|\n",
            "|1  |2413 |2432|cervico-dorso-lumbar                    |PROCEDIMIENTO|\n",
            "|1  |2549 |2559|RM cerebral                             |PROCEDIMIENTO|\n",
            "|1  |2669 |2679|encefalitis                             |DIAGNOSTICO  |\n",
            "|1  |2710 |2740|Carcinoma microcítico de pulmón         |DIAGNOSTICO  |\n",
            "|1  |2863 |2881|Encefalitis límbica                     |DIAGNOSTICO  |\n",
            "|1  |2885 |2924|polineuropatía sensitiva paraneoplásicas|DIAGNOSTICO  |\n",
            "|1  |2940 |2970|carcinoma microcítico de pulmón         |DIAGNOSTICO  |\n",
            "|1  |2982 |2991|enfermedad                              |DIAGNOSTICO  |\n",
            "|1  |3350 |3360|parestesias                             |DIAGNOSTICO  |\n",
            "|1  |3936 |3940|miedo                                   |DIAGNOSTICO  |\n",
            "|1  |3952 |3959|ansiedad                                |DIAGNOSTICO  |\n",
            "|1  |3978 |3995|crisis epilépticas                      |DIAGNOSTICO  |\n",
            "|1  |4521 |4523|TAC                                     |PROCEDIMIENTO|\n",
            "|1  |4659 |4661|TAC                                     |PROCEDIMIENTO|\n",
            "|1  |4738 |4747|enfermedad                              |DIAGNOSTICO  |\n",
            "|2  |78   |101 |dolores osteoarticulares                |DIAGNOSTICO  |\n",
            "|2  |147  |152 |fiebre                                  |DIAGNOSTICO  |\n",
            "|2  |360  |367 |brucella                                |DIAGNOSTICO  |\n",
            "|2  |486  |495 |brucelosis                              |DIAGNOSTICO  |\n",
            "|2  |534  |548 |síndrome febril                         |DIAGNOSTICO  |\n",
            "|2  |594  |614 |exposición a Brucella                   |DIAGNOSTICO  |\n",
            "|2  |638  |662 |orquiepididimitis derecha               |DIAGNOSTICO  |\n",
            "|2  |869  |879 |adenopatías                             |DIAGNOSTICO  |\n",
            "|2  |885  |889 |bocio                                   |DIAGNOSTICO  |\n",
            "|2  |994  |999 |soplos                                  |DIAGNOSTICO  |\n",
            "|2  |1118 |1122|masas                                   |DIAGNOSTICO  |\n",
            "|2  |1239 |1245|varices                                 |DIAGNOSTICO  |\n",
            "|2  |1250 |1255|edemas                                  |DIAGNOSTICO  |\n",
            "|2  |1343 |1355|teste derecho                           |DIAGNOSTICO  |\n",
            "|2  |1438 |1445|doloroso                                |DIAGNOSTICO  |\n",
            "|2  |2009 |2016|Brucella                                |DIAGNOSTICO  |\n",
            "|2  |2048 |2055|Brucella                                |DIAGNOSTICO  |\n",
            "|2  |2163 |2170|Rx tórax                                |PROCEDIMIENTO|\n",
            "|2  |2173 |2191|Ecografía abdominal                     |PROCEDIMIENTO|\n",
            "|2  |2194 |2204|TAC craneal                             |PROCEDIMIENTO|\n",
            "|2  |2287 |2306|Ecografía testicular                    |PROCEDIMIENTO|\n",
            "|2  |2537 |2553|orquiepididimitis                       |DIAGNOSTICO  |\n",
            "|2  |2568 |2575|Brucella                                |DIAGNOSTICO  |\n",
            "+---+-----+----+----------------------------------------+-------------+\n",
            "\n"
          ],
          "name": "stdout"
        }
      ]
    },
    {
      "cell_type": "code",
      "metadata": {
        "id": "bYlwmyDhfwNa",
        "outputId": "a8492c3a-cd79-42d0-ac97-0cd835e4b186",
        "colab": {
          "base_uri": "https://localhost:8080/",
          "height": 153
        }
      },
      "source": [
        "merged_data.selectExpr(\"id\",\"explode(canner_chunk) as a\")\\\n",
        ".selectExpr(\"id\",\"a.begin\",\"a.end\",\"a.result\",\"a.metadata.entity\")\\\n",
        ".orderBy(\"id\",\"begin\").show(100, False)"
      ],
      "execution_count": 8,
      "outputs": [
        {
          "output_type": "stream",
          "text": [
            "+---+-----+----+---------------------+--------------------+\n",
            "|id |begin|end |result               |entity              |\n",
            "+---+-----+----+---------------------+--------------------+\n",
            "|1  |2710 |2730|Carcinoma microcítico|MORFOLOGIA_NEOPLASIA|\n",
            "|1  |2940 |2960|carcinoma microcítico|MORFOLOGIA_NEOPLASIA|\n",
            "|1  |2978 |2979|M0                   |MORFOLOGIA_NEOPLASIA|\n",
            "+---+-----+----+---------------------+--------------------+\n",
            "\n"
          ],
          "name": "stdout"
        }
      ]
    },
    {
      "cell_type": "code",
      "metadata": {
        "id": "dpLba4tAbPiW",
        "outputId": "4bc261e1-a203-43a8-bf82-107d89baee08",
        "colab": {
          "base_uri": "https://localhost:8080/",
          "height": 1000
        }
      },
      "source": [
        "merged_data.selectExpr(\"id\",\"explode(combined) as a\")\\\n",
        ".selectExpr(\"id\",\"a.begin\",\"a.end\",\"a.result\",\"a.metadata.entity\")\\\n",
        ".show(100, False)"
      ],
      "execution_count": 9,
      "outputs": [
        {
          "output_type": "stream",
          "text": [
            "+---+-----+----+----------------------------------------+--------------------+\n",
            "|id |begin|end |result                                  |entity              |\n",
            "+---+-----+----+----------------------------------------+--------------------+\n",
            "|1  |58   |71  |hipotiroidismo                          |DIAGNOSTICO         |\n",
            "|1  |107  |114 |fumadora                                |DIAGNOSTICO         |\n",
            "|1  |367  |390 |alteración de la memoria                |DIAGNOSTICO         |\n",
            "|1  |588  |597 |arreflexia                              |DIAGNOSTICO         |\n",
            "|1  |621  |633 |hiporreflexia                           |DIAGNOSTICO         |\n",
            "|1  |864  |879 |ataxia sensitiva                        |DIAGNOSTICO         |\n",
            "|1  |1030 |1040|hepatitis B                             |DIAGNOSTICO         |\n",
            "|1  |1047 |1049|VIH                                     |DIAGNOSTICO         |\n",
            "|1  |1070 |1079|enfermedad                              |DIAGNOSTICO         |\n",
            "|1  |1084 |1087|Lyme                                    |DIAGNOSTICO         |\n",
            "|1  |1091 |1099|Treponema                               |DIAGNOSTICO         |\n",
            "|1  |1395 |1400|Herpes                                  |DIAGNOSTICO         |\n",
            "|1  |1429 |1443|Citomegalovirus                         |DIAGNOSTICO         |\n",
            "|1  |1491 |1525|electroneurografía-electromiografía     |PROCEDIMIENTO       |\n",
            "|1  |1828 |1844|electromiográfico                       |PROCEDIMIENTO       |\n",
            "|1  |1899 |1922|polineuropatía sensitiva                |DIAGNOSTICO         |\n",
            "|1  |1964 |1993|tomografía axial computerizada          |PROCEDIMIENTO       |\n",
            "|1  |2001 |2008|cerebral                                |PROCEDIMIENTO       |\n",
            "|1  |2062 |2088|TAC toraco-abdomino-pélvica             |PROCEDIMIENTO       |\n",
            "|1  |2108 |2117|adenopatía                              |DIAGNOSTICO         |\n",
            "|1  |2154 |2163|adenopatía                              |DIAGNOSTICO         |\n",
            "|1  |2295 |2297|TAC                                     |PROCEDIMIENTO       |\n",
            "|1  |2361 |2370|adenopatía                              |DIAGNOSTICO         |\n",
            "|1  |2387 |2406|resonancia mágnetica                    |PROCEDIMIENTO       |\n",
            "|1  |2413 |2432|cervico-dorso-lumbar                    |PROCEDIMIENTO       |\n",
            "|1  |2549 |2559|RM cerebral                             |PROCEDIMIENTO       |\n",
            "|1  |2669 |2679|encefalitis                             |DIAGNOSTICO         |\n",
            "|1  |2710 |2740|Carcinoma microcítico de pulmón         |DIAGNOSTICO         |\n",
            "|1  |2863 |2881|Encefalitis límbica                     |DIAGNOSTICO         |\n",
            "|1  |2885 |2924|polineuropatía sensitiva paraneoplásicas|DIAGNOSTICO         |\n",
            "|1  |2940 |2970|carcinoma microcítico de pulmón         |DIAGNOSTICO         |\n",
            "|1  |2978 |2979|M0                                      |MORFOLOGIA_NEOPLASIA|\n",
            "|1  |2982 |2991|enfermedad                              |DIAGNOSTICO         |\n",
            "|1  |3350 |3360|parestesias                             |DIAGNOSTICO         |\n",
            "|1  |3936 |3940|miedo                                   |DIAGNOSTICO         |\n",
            "|1  |3952 |3959|ansiedad                                |DIAGNOSTICO         |\n",
            "|1  |3978 |3995|crisis epilépticas                      |DIAGNOSTICO         |\n",
            "|1  |4521 |4523|TAC                                     |PROCEDIMIENTO       |\n",
            "|1  |4659 |4661|TAC                                     |PROCEDIMIENTO       |\n",
            "|1  |4738 |4747|enfermedad                              |DIAGNOSTICO         |\n",
            "|2  |78   |101 |dolores osteoarticulares                |DIAGNOSTICO         |\n",
            "|2  |147  |152 |fiebre                                  |DIAGNOSTICO         |\n",
            "|2  |360  |367 |brucella                                |DIAGNOSTICO         |\n",
            "|2  |486  |495 |brucelosis                              |DIAGNOSTICO         |\n",
            "|2  |534  |548 |síndrome febril                         |DIAGNOSTICO         |\n",
            "|2  |594  |614 |exposición a Brucella                   |DIAGNOSTICO         |\n",
            "|2  |638  |662 |orquiepididimitis derecha               |DIAGNOSTICO         |\n",
            "|2  |869  |879 |adenopatías                             |DIAGNOSTICO         |\n",
            "|2  |885  |889 |bocio                                   |DIAGNOSTICO         |\n",
            "|2  |994  |999 |soplos                                  |DIAGNOSTICO         |\n",
            "|2  |1118 |1122|masas                                   |DIAGNOSTICO         |\n",
            "|2  |1239 |1245|varices                                 |DIAGNOSTICO         |\n",
            "|2  |1250 |1255|edemas                                  |DIAGNOSTICO         |\n",
            "|2  |1343 |1355|teste derecho                           |DIAGNOSTICO         |\n",
            "|2  |1438 |1445|doloroso                                |DIAGNOSTICO         |\n",
            "|2  |2009 |2016|Brucella                                |DIAGNOSTICO         |\n",
            "|2  |2048 |2055|Brucella                                |DIAGNOSTICO         |\n",
            "|2  |2163 |2170|Rx tórax                                |PROCEDIMIENTO       |\n",
            "|2  |2173 |2191|Ecografía abdominal                     |PROCEDIMIENTO       |\n",
            "|2  |2194 |2204|TAC craneal                             |PROCEDIMIENTO       |\n",
            "|2  |2287 |2306|Ecografía testicular                    |PROCEDIMIENTO       |\n",
            "|2  |2537 |2553|orquiepididimitis                       |DIAGNOSTICO         |\n",
            "|2  |2568 |2575|Brucella                                |DIAGNOSTICO         |\n",
            "+---+-----+----+----------------------------------------+--------------------+\n",
            "\n"
          ],
          "name": "stdout"
        }
      ]
    },
    {
      "cell_type": "code",
      "metadata": {
        "id": "KtaZ8EBBWE0B"
      },
      "source": [
        ""
      ],
      "execution_count": 9,
      "outputs": []
    }
  ]
}
