{
 "cells": [
  {
   "cell_type": "markdown",
   "metadata": {
    "colab_type": "text",
    "id": "Hav2F1sxNHmy"
   },
   "source": [
    "[![Open In Colab](https://colab.research.google.com/assets/colab-badge.svg)](https://colab.research.google.com/github/JohnSnowLabs/spark-nlp-workshop/blob/master/jupyter/enterprise/healthcare/EntityResolution_ICD10_RxNorm_Prescriptions.ipynb)"
   ]
  },
  {
   "cell_type": "markdown",
   "metadata": {
    "colab_type": "text",
    "id": "Amt54iPuIxya"
   },
   "source": [
    "# ICD10CM-RxNorm Entity Resolution - version 2.5.0\n"
   ]
  },
  {
   "cell_type": "code",
   "execution_count": 1,
   "metadata": {
    "colab": {
     "base_uri": "https://localhost:8080/",
     "height": 34
    },
    "colab_type": "code",
    "id": "4GckLd8-JGLl",
    "outputId": "343e11a3-7244-4119-aada-19c2754b521a"
   },
   "outputs": [
    {
     "data": {
      "text/plain": [
       "dict_keys(['secret', 'SPARK_NLP_LICENSE', 'JSL_OCR_LICENSE', 'AWS_ACCESS_KEY_ID', 'AWS_SECRET_ACCESS_KEY', 'JSL_OCR_SECRET'])"
      ]
     },
     "execution_count": 1,
     "metadata": {
      "tags": []
     },
     "output_type": "execute_result"
    }
   ],
   "source": [
    "import json\n",
    "\n",
    "with open('keys.json') as f:\n",
    "    license_keys = json.load(f)\n",
    "\n",
    "license_keys.keys()\n"
   ]
  },
  {
   "cell_type": "code",
   "execution_count": 2,
   "metadata": {
    "colab": {
     "base_uri": "https://localhost:8080/",
     "height": 306
    },
    "colab_type": "code",
    "id": "UtXsRxLLIxyc",
    "outputId": "97041201-526a-4cac-e3ca-99a112f736d2"
   },
   "outputs": [
    {
     "name": "stdout",
     "output_type": "stream",
     "text": [
      "openjdk version \"1.8.0_252\"\n",
      "OpenJDK Runtime Environment (build 1.8.0_252-8u252-b09-1~18.04-b09)\n",
      "OpenJDK 64-Bit Server VM (build 25.252-b09, mixed mode)\n",
      "\u001b[K     |████████████████████████████████| 215.7MB 55kB/s \n",
      "\u001b[K     |████████████████████████████████| 204kB 49.1MB/s \n",
      "\u001b[?25h  Building wheel for pyspark (setup.py) ... \u001b[?25l\u001b[?25hdone\n",
      "Looking in indexes: https://pypi.org/simple, https://pypi.johnsnowlabs.com/9hk9l8ybo1\n",
      "Collecting spark-nlp-jsl==2.5.1rc1\n",
      "Requirement already satisfied, skipping upgrade: pyspark==2.4.4 in /usr/local/lib/python3.6/dist-packages (from spark-nlp-jsl==2.5.1rc1) (2.4.4)\n",
      "Collecting spark-nlp==2.5.1\n",
      "\u001b[?25l  Downloading https://files.pythonhosted.org/packages/df/b4/db653f8080a446de8ce981b262d85c85c61de7e920930726da0d1c6b4c65/spark_nlp-2.5.1-py2.py3-none-any.whl (121kB)\n",
      "\u001b[K     |████████████████████████████████| 122kB 7.9MB/s \n",
      "\u001b[?25hRequirement already satisfied, skipping upgrade: py4j==0.10.7 in /usr/local/lib/python3.6/dist-packages (from pyspark==2.4.4->spark-nlp-jsl==2.5.1rc1) (0.10.7)\n",
      "Installing collected packages: spark-nlp, spark-nlp-jsl\n",
      "Successfully installed spark-nlp-2.5.1 spark-nlp-jsl-2.5.2\n",
      "2.5.1\n"
     ]
    }
   ],
   "source": [
    "import os\n",
    "\n",
    "# Install java\n",
    "! apt-get update -qq\n",
    "! apt-get install -y openjdk-8-jdk-headless -qq > /dev/null\n",
    "\n",
    "secret = license_keys.get(\"secret\",license_keys.get('SPARK_NLP_SECRET', \"\"))\n",
    "spark_version = os.environ.get(\"SPARK_VERSION\", license_keys.get(\"SPARK_VERSION\",\"2.4\"))\n",
    "version = license_keys.get(\"version\",license_keys.get('SPARK_NLP_PUBLIC_VERSION', \"\"))\n",
    "jsl_version = license_keys.get(\"jsl_version\",license_keys.get('SPARK_NLP_VERSION', \"\"))\n",
    "\n",
    "os.environ[\"JAVA_HOME\"] = \"/usr/lib/jvm/java-8-openjdk-amd64\"\n",
    "os.environ[\"PATH\"] = os.environ[\"JAVA_HOME\"] + \"/bin:\" + os.environ[\"PATH\"]\n",
    "! java -version\n",
    "\n",
    "os.environ['SPARK_NLP_LICENSE'] = license_keys['SPARK_NLP_LICENSE']\n",
    "os.environ['JSL_OCR_LICENSE'] = license_keys['JSL_OCR_LICENSE']\n",
    "os.environ['AWS_ACCESS_KEY_ID']= license_keys['AWS_ACCESS_KEY_ID']\n",
    "os.environ['AWS_SECRET_ACCESS_KEY'] = license_keys['AWS_SECRET_ACCESS_KEY']\n",
    "\n",
    "print(spark_version, version, jsl_version)\n",
    "\n",
    "! python -m pip install \"pyspark==$spark_version\".*\n",
    "! python -m pip install --upgrade spark-nlp-jsl==$jsl_version  --extra-index-url https://pypi.johnsnowlabs.com/$secret\n",
    "\n",
    "import sparknlp\n",
    "import sparknlp_jsl\n",
    "from sparknlp.base import *\n",
    "from sparknlp.annotator import *\n",
    "from sparknlp_jsl.annotator import *\n",
    "from pyspark.ml import Pipeline\n",
    "from pyspark.sql import SparkSession\n",
    "\n",
    "print (sparknlp.version())\n",
    "print (sparknlp_jsl.version())\n",
    "\n",
    "spark = sparknlp_jsl.start(secret, gpu=False, spark23=(spark_version[:3]==\"2.3\"))"
   ]
  },
  {
   "cell_type": "code",
   "execution_count": 26,
   "metadata": {
    "colab": {
     "base_uri": "https://localhost:8080/",
     "height": 34
    },
    "colab_type": "code",
    "id": "-Wg_1CT1Ixyk",
    "outputId": "8fe0485a-3a7b-4e93-ae43-2291b518004b"
   },
   "outputs": [
    {
     "data": {
      "text/plain": [
       "'2.5.1rc1'"
      ]
     },
     "execution_count": 26,
     "metadata": {
      "tags": []
     },
     "output_type": "execute_result"
    }
   ],
   "source": [
    "from pyspark.sql import functions as F\n",
    "import pandas as pd\n",
    "pd.set_option(\"display.max_colwidth\",1000)\n",
    "import sparknlp_jsl\n",
    "sparknlp_jsl.version()"
   ]
  },
  {
   "cell_type": "markdown",
   "metadata": {
    "colab_type": "text",
    "id": "1Q5_vVW1Ixyz"
   },
   "source": [
    "## Let's create a dataset with some case studies"
   ]
  },
  {
   "cell_type": "code",
   "execution_count": 0,
   "metadata": {
    "colab": {},
    "colab_type": "code",
    "id": "8ITQis2JIxy1"
   },
   "outputs": [],
   "source": [
    "notes = [\n",
    "'Pentamidine 300 mg IV q . 36 hours , Pentamidine nasal wash 60 mg per 6 ml of sterile water q.d . , voriconazole 200 mg p.o . b.i.d . , acyclovir 400 mg p.o . b.i.d . , cyclosporine 50 mg p.o . b.i.d . , prednisone 60 mg p.o . q.d . , GCSF 480 mcg IV q.d . , Epogen 40,000 units subcu q . week , Protonix 40 mg q.d . , Simethicone 80 mg p.o . q . 8 , nitroglycerin paste 1 \" ; q . 4 h . p.r.n . , flunisolide nasal inhaler , 2 puffs q . 8 , OxyCodone 10-15 mg p.o . q . 6 p.r.n . , Sudafed 30 mg q . 6 p.o . p.r.n . , Fluconazole 2% cream b.i.d . to erythematous skin lesions , Ditropan 5 mg p.o . b.i.d . , Tylenol 650 mg p.o . q . 4 h . p.r.n . , Ambien 5-10 mg p.o . q . h.s . p.r.n . , Neurontin 100 mg q . a.m . , 200 mg q . p.m . , Aquaphor cream b.i.d . p.r.n . , Lotrimin 1% cream b.i.d . to feet , Dulcolax 5-10 mg p.o . q.d . p.r.n . , Phoslo 667 mg p.o . t.i.d . , Peridex 0.12% , 15 ml p.o . b.i.d . mouthwash , Benadryl 25-50 mg q . 4-6 h . p.r.n . pruritus , Sarna cream q.d . p.r.n . pruritus , Nystatin 5 ml p.o . q.i.d . swish and !',\n",
    "'Albuterol nebulizers 2.5 mg q.4h . and Atrovent nebulizers 0.5 mg q.4h . , please alternate albuterol and Atrovent ; Rocaltrol 0.25 mcg per NG tube q.d .; calcium carbonate 1250 mg per NG tube q.i.d .; vitamin B12 1000 mcg IM q . month , next dose is due Nov 18 ; diltiazem 60 mg per NG tube t.i.d .; ferrous sulfate 300 mg per NG t.i.d .; Haldol 5 mg IV q.h.s .; hydralazine 10 mg IV q.6h . p.r.n . hypertension ; lisinopril 10 mg per NG tube q.d .; Ativan 1 mg per NG tube q.h.s .; Lopressor 25 mg per NG tube t.i.d .; Zantac 150 mg per NG tube b.i.d .; multivitamin 10 ml per NG tube q.d .; Macrodantin 100 mg per NG tube q.i.d . x 10 days beginning on 11/3/00 .',\n",
    "'Tylenol 650 mg p.o . q . 4-6h p.r.n . headache or pain ; acyclovir 400 mg p.o . t.i.d .; acyclovir topical t.i.d . to be applied to lesion on corner of mouth ; Peridex 15 ml p.o . b.i.d .; Mycelex 1 troche p.o . t.i.d .; g-csf 404 mcg subcu q.d .; folic acid 1 mg p.o . q.d .; lorazepam 1-2 mg p.o . q . 4-6h p.r.n . nausea and vomiting ; Miracle Cream topical q.d . p.r.n . perianal irritation ; Eucerin Cream topical b.i.d .; Zantac 150 mg p.o . b.i.d .; Restoril 15-30 mg p.o . q . h.s . p.r.n . insomnia ; multivitamin 1 tablet p.o . q.d .; viscous lidocaine 15 ml p.o . q . 3h can be applied to corner of mouth or lips p.r.n . pain control .',\n",
    "'The patient\\'s incisions sternal and right leg were clean and healing well , normal sinus rhythm at 70-80 , with blood pressure 98-110/60 and patient was doing well , recovering , ambulating , tolerating regular diet and last hematocrit prior to discharge was 39% with a BUN and creatinine of 15 and 1.0 , prothrombin time level of 13.8 , chest X-ray prior to discharge showed small bilateral effusions with mild cardiomegaly and subsegmental atelectasis bibasilar and electrocardiogram showed normal sinus rhythm with left atrial enlargement and no acute ischemic changes on electrocardiogram .',\n",
    "'This is an 82 - year-old male with a history of prior tobacco use , hypertension , chronic renal insufficiency , COPD , gastritis , and TIA who initially presented to Braintree with a non-ST elevation MI and Guaiac positive stools , transferred to St . Margaret\\'s Center for Women & Infants for cardiac catheterization with PTCA to mid LAD lesion complicated by hypotension and bradycardia requiring Atropine , IV fluids and transient dopamine possibly secondary to vagal reaction , subsequently transferred to CCU for close monitoring , hemodynamically stable at the time of admission to the CCU .',\n",
    "'O2 95% on 3L NC mixed Quinn 82% genrl : in nad , resting comfortably heent : perrla ( 4->3 mm ) bilaterally , blind in right visual field , eomi , dry mm , ? thrush neck : no bruits cv : rrr , no m/r/g , faint s1/s2 pulm : cta bilaterally abd : midline scar ( from urostomy ) , nabs , soft , appears distended but patient denies , ostomy RLQ c/d/i , NT to palpation back : right flank urostomy tube , c/d/i , nt to palpation extr : no Gardner neuro : a , ox3 , wiggles toes bilaterally , unable to lift LE , 06-12 grip bilaterally w/ UE , decrease sensation to soft touch in left',\n",
    "'Is notable for an inferior myocardial infarction , restrictive and obstructive lung disease with an FEV1 of . 9 and FVC of 1.34 and a moderate at best response to bronchodilators , and a negative sestamibi scan in May , 1999 apart from a severe fixed inferolateral defect , systolic dysfunction with recent echocardiography revealing an LVID of 62 mm . and ejection fraction of 28 percent , moderate mitral regurgitation and mild-to-moderate aortic stenosis with a peak gradient of 33 and a mean gradient of 19 and a valve area of 1.4 cm . squared .',\n",
    "'This is a 47 - year-old male with a past medical history of type 2 diabetes , high cholesterol , hypertension , and coronary artery disease , status post percutaneous transluminal coronary angioplasty times two , who presented with acute coronary syndrome refractory to medical treatment and TNK , now status post Angio-Jet percutaneous transluminal coronary angioplasty and stent of proximal left anterior descending artery and percutaneous transluminal coronary angioplasty of first diagonal with intra-aortic balloon pump placement .',\n",
    "'Clinical progression of skin and sinus infection on maximal antimicrobial therapy continued , with emergence on November 20 of a new right-sided ptosis in association with a left homonymous hemianopsia , and fleeting confusion while febrile , prompting head MRI which revealed a large 5 x 2 x 4.3 cm region in the right occipital lobe of hemorrhage and edema , with dural and , likely , leptomeningeal enhancement in association with small foci in the right cerebellum and pons , concerning for early lesions of similar type .',\n",
    "'The patient had an echocardiogram on day two of admission , which revealed a mildly dilated left atrium , mild symmetric LVH , normal LV cavity size , mild region LV systolic dysfunction , arresting regional wall motion abnormality including focal apical hypokinesis , a normal right ventricular chamber size and free wall motion , a moderately dilated aortic root , a mildly dilated ascending aorta , normal aortic valve leaflet , normal mitral valve leaflet and no pericardial effusions .',\n",
    "'The patient is a 65-year-old man with refractory CLL , status post non-myeloblative stem cell transplant approximately nine months prior to admission , and status post prolonged recent Retelk County Medical Center stay for Acanthamoeba infection of skin and sinuses , complicated by ARS due to medication toxicity , as well as GVHD and recent CMV infection , readmitted for new fever , increasing creatinine , hepatomegaly and fluid surge spacing , in the setting of hyponatremia .',\n",
    "'Tylenol 650 mg p.o . q.4h . p.r.n . , Benadryl 25 mg p.o . q.h.s . p.r.n . , Colace 100 mg p.o . q.i.d . , Nortriptyline 25 mg p.o . q.h.s . , Simvastatin 10 mg p.o . q.h.s . , Metamucil one packet p.o . b.i.d . p.r.n . , Neurontin 300 mg p.o . t.i.d . , Levsinex 0.375 mg p.o . q.12h . , Lisinopril / hydrochlorothiazide 20/25 mg p.o . q.d . , hydrocortisone topical ointment to affected areas , MS Contin 30 mg p.o . b.i.d . , MSIR 15 to 30 mg p.o . q.4h . p.r.n . pain .',\n",
    "'Aspirin 325 q.d . ; albuterol nebs 2.5 mg q . 4h ; Colace 100 mg b.i.d . ; heparin 5,000 units subcu b.i.d . ; Synthroid 200 mcg q.d . ; Ocean Spray 2 sprays q . i.d . ; simvastatin 10 mg q . h.s . ; Flovent 220 mcg 2 puffs b.i.d . ; Zantac 150 b.i.d . ; nystatin ointment to the gluteal fold b.i.d . ; Lisinopril 20 mg q.d . ; Mestinon controlled release 180 q . h.s . ; Mestinon 30 mg q . 4h while awake ; prednisone 60 mg p.o . q . IM ; Atrovent nebs 0.5 mg q . i.d .',\n",
    "'An echocardiogram was obtained on 4-26 which showed concentric left ventricular hypertrophy with normal _____ left ventricular function , severe right ventricular dilatation with septal hypokinesis and flattening with a question of right ventricular apical clot raised with mild aortic stenosis , severe tricuspid regurgitation and increased pulmonary artery pressure of approximately 70 millimeters , consistent with fairly severe pulmonary hypertension .',\n",
    "'1 ) CV ( R ) finished amio IV load then started on po , agressive lytes ; although interrogation showed >100 episodes of VT ( as / x ) , pt prefers med therapy as opposed to ablation ( I ) enzymes mildly elevated but not actively ischemic ; lipids , ASA , statin , BB ; Adenosine thal 1/4 and echo 1/4 to look for signs of ischemia as active cause for VT ( P ) JVP at angle of jaw 1/4 -- > giving 20 Lasix ; dig level 1/4 1.3 -- > 1/2 dose as on Amio',\n",
    "'sodium 141 , potassium 3.5 , chloride 107 , bicarbonates 23.8 , BUN 23 , creatinine 1.1 , glucose 165 , PO2 377 , PCO2 32 , PH 7.50 , asomus 298 , toxic screen negative , white blood cell count 11.1 , hematocrit 39.6 , platelet count 137 , prothrombin time 25.2 , INR 4.3 , partial thromboplastin time 34.7 , urinalysis 1+ albumin , 0-5 high link caths , cervical spine negative , pelvis negative , lumbar spine ; negative , thoracic spine negative .',\n",
    "]"
   ]
  },
  {
   "cell_type": "code",
   "execution_count": 6,
   "metadata": {
    "colab": {
     "base_uri": "https://localhost:8080/",
     "height": 1000
    },
    "colab_type": "code",
    "id": "pobOQDmFIxy8",
    "outputId": "df200cf0-8b99-46c4-892d-e7b9f4d1cf28"
   },
   "outputs": [
    {
     "data": {
      "text/html": [
       "Note 0:<div style=\"border:2px solid #747474; background-color: #e3e3e3; margin: 5px; padding: 10px\">Pentamidine 300 mg IV q . 36 hours , Pentamidine nasal wash 60 mg per 6 ml of sterile water q.d . , voriconazole 200 mg p.o . b.i.d . , acyclovir 400 mg p.o . b.i.d . , cyclosporine 50 mg p.o . b.i.d . , prednisone 60 mg p.o . q.d . , GCSF 480 mcg IV q.d . , Epogen 40,000 units subcu q . week , Protonix 40 mg q.d . , Simethicone 80 mg p.o . q . 8 , nitroglycerin paste 1 \" ; q . 4 h . p.r.n . , flunisolide nasal inhaler , 2 puffs q . 8 , OxyCodone 10-15 mg p.o . q . 6 p.r.n . , Sudafed 30 mg q . 6 p.o . p.r.n . , Fluconazole 2% cream b.i.d . to erythematous skin lesions , Ditropan 5 mg p.o . b.i.d . , Tylenol 650 mg p.o . q . 4 h . p.r.n . , Ambien 5-10 mg p.o . q . h.s . p.r.n . , Neurontin 100 mg q . a.m . , 200 mg q . p.m . , Aquaphor cream b.i.d . p.r.n . , Lotrimin 1% cream b.i.d . to feet , Dulcolax 5-10 mg p.o . q.d . p.r.n . , Phoslo 667 mg p.o . t.i.d . , Peridex 0.12% , 15 ml p.o . b.i.d . mouthwash , Benadryl 25-50 mg q . 4-6 h . p.r.n . pruritus , Sarna cream q.d . p.r.n . pruritus , Nystatin 5 ml p.o . q.i.d . swish and !</div><br/>Note 1:<div style=\"border:2px solid #747474; background-color: #e3e3e3; margin: 5px; padding: 10px\">Albuterol nebulizers 2.5 mg q.4h . and Atrovent nebulizers 0.5 mg q.4h . , please alternate albuterol and Atrovent ; Rocaltrol 0.25 mcg per NG tube q.d .; calcium carbonate 1250 mg per NG tube q.i.d .; vitamin B12 1000 mcg IM q . month , next dose is due Nov 18 ; diltiazem 60 mg per NG tube t.i.d .; ferrous sulfate 300 mg per NG t.i.d .; Haldol 5 mg IV q.h.s .; hydralazine 10 mg IV q.6h . p.r.n . hypertension ; lisinopril 10 mg per NG tube q.d .; Ativan 1 mg per NG tube q.h.s .; Lopressor 25 mg per NG tube t.i.d .; Zantac 150 mg per NG tube b.i.d .; multivitamin 10 ml per NG tube q.d .; Macrodantin 100 mg per NG tube q.i.d . x 10 days beginning on 11/3/00 .</div><br/>Note 2:<div style=\"border:2px solid #747474; background-color: #e3e3e3; margin: 5px; padding: 10px\">Tylenol 650 mg p.o . q . 4-6h p.r.n . headache or pain ; acyclovir 400 mg p.o . t.i.d .; acyclovir topical t.i.d . to be applied to lesion on corner of mouth ; Peridex 15 ml p.o . b.i.d .; Mycelex 1 troche p.o . t.i.d .; g-csf 404 mcg subcu q.d .; folic acid 1 mg p.o . q.d .; lorazepam 1-2 mg p.o . q . 4-6h p.r.n . nausea and vomiting ; Miracle Cream topical q.d . p.r.n . perianal irritation ; Eucerin Cream topical b.i.d .; Zantac 150 mg p.o . b.i.d .; Restoril 15-30 mg p.o . q . h.s . p.r.n . insomnia ; multivitamin 1 tablet p.o . q.d .; viscous lidocaine 15 ml p.o . q . 3h can be applied to corner of mouth or lips p.r.n . pain control .</div><br/>Note 3:<div style=\"border:2px solid #747474; background-color: #e3e3e3; margin: 5px; padding: 10px\">The patient's incisions sternal and right leg were clean and healing well , normal sinus rhythm at 70-80 , with blood pressure 98-110/60 and patient was doing well , recovering , ambulating , tolerating regular diet and last hematocrit prior to discharge was 39% with a BUN and creatinine of 15 and 1.0 , prothrombin time level of 13.8 , chest X-ray prior to discharge showed small bilateral effusions with mild cardiomegaly and subsegmental atelectasis bibasilar and electrocardiogram showed normal sinus rhythm with left atrial enlargement and no acute ischemic changes on electrocardiogram .</div><br/>Note 4:<div style=\"border:2px solid #747474; background-color: #e3e3e3; margin: 5px; padding: 10px\">This is an 82 - year-old male with a history of prior tobacco use , hypertension , chronic renal insufficiency , COPD , gastritis , and TIA who initially presented to Braintree with a non-ST elevation MI and Guaiac positive stools , transferred to St . Margaret's Center for Women & Infants for cardiac catheterization with PTCA to mid LAD lesion complicated by hypotension and bradycardia requiring Atropine , IV fluids and transient dopamine possibly secondary to vagal reaction , subsequently transferred to CCU for close monitoring , hemodynamically stable at the time of admission to the CCU .</div><br/>Note 5:<div style=\"border:2px solid #747474; background-color: #e3e3e3; margin: 5px; padding: 10px\">O2 95% on 3L NC mixed Quinn 82% genrl : in nad , resting comfortably heent : perrla ( 4->3 mm ) bilaterally , blind in right visual field , eomi , dry mm , ? thrush neck : no bruits cv : rrr , no m/r/g , faint s1/s2 pulm : cta bilaterally abd : midline scar ( from urostomy ) , nabs , soft , appears distended but patient denies , ostomy RLQ c/d/i , NT to palpation back : right flank urostomy tube , c/d/i , nt to palpation extr : no Gardner neuro : a , ox3 , wiggles toes bilaterally , unable to lift LE , 06-12 grip bilaterally w/ UE , decrease sensation to soft touch in left</div><br/>Note 6:<div style=\"border:2px solid #747474; background-color: #e3e3e3; margin: 5px; padding: 10px\">Is notable for an inferior myocardial infarction , restrictive and obstructive lung disease with an FEV1 of . 9 and FVC of 1.34 and a moderate at best response to bronchodilators , and a negative sestamibi scan in May , 1999 apart from a severe fixed inferolateral defect , systolic dysfunction with recent echocardiography revealing an LVID of 62 mm . and ejection fraction of 28 percent , moderate mitral regurgitation and mild-to-moderate aortic stenosis with a peak gradient of 33 and a mean gradient of 19 and a valve area of 1.4 cm . squared .</div><br/>Note 7:<div style=\"border:2px solid #747474; background-color: #e3e3e3; margin: 5px; padding: 10px\">This is a 47 - year-old male with a past medical history of type 2 diabetes , high cholesterol , hypertension , and coronary artery disease , status post percutaneous transluminal coronary angioplasty times two , who presented with acute coronary syndrome refractory to medical treatment and TNK , now status post Angio-Jet percutaneous transluminal coronary angioplasty and stent of proximal left anterior descending artery and percutaneous transluminal coronary angioplasty of first diagonal with intra-aortic balloon pump placement .</div><br/>Note 8:<div style=\"border:2px solid #747474; background-color: #e3e3e3; margin: 5px; padding: 10px\">Clinical progression of skin and sinus infection on maximal antimicrobial therapy continued , with emergence on November 20 of a new right-sided ptosis in association with a left homonymous hemianopsia , and fleeting confusion while febrile , prompting head MRI which revealed a large 5 x 2 x 4.3 cm region in the right occipital lobe of hemorrhage and edema , with dural and , likely , leptomeningeal enhancement in association with small foci in the right cerebellum and pons , concerning for early lesions of similar type .</div><br/>Note 9:<div style=\"border:2px solid #747474; background-color: #e3e3e3; margin: 5px; padding: 10px\">The patient had an echocardiogram on day two of admission , which revealed a mildly dilated left atrium , mild symmetric LVH , normal LV cavity size , mild region LV systolic dysfunction , arresting regional wall motion abnormality including focal apical hypokinesis , a normal right ventricular chamber size and free wall motion , a moderately dilated aortic root , a mildly dilated ascending aorta , normal aortic valve leaflet , normal mitral valve leaflet and no pericardial effusions .</div><br/>Note 10:<div style=\"border:2px solid #747474; background-color: #e3e3e3; margin: 5px; padding: 10px\">The patient is a 65-year-old man with refractory CLL , status post non-myeloblative stem cell transplant approximately nine months prior to admission , and status post prolonged recent Retelk County Medical Center stay for Acanthamoeba infection of skin and sinuses , complicated by ARS due to medication toxicity , as well as GVHD and recent CMV infection , readmitted for new fever , increasing creatinine , hepatomegaly and fluid surge spacing , in the setting of hyponatremia .</div><br/>Note 11:<div style=\"border:2px solid #747474; background-color: #e3e3e3; margin: 5px; padding: 10px\">Tylenol 650 mg p.o . q.4h . p.r.n . , Benadryl 25 mg p.o . q.h.s . p.r.n . , Colace 100 mg p.o . q.i.d . , Nortriptyline 25 mg p.o . q.h.s . , Simvastatin 10 mg p.o . q.h.s . , Metamucil one packet p.o . b.i.d . p.r.n . , Neurontin 300 mg p.o . t.i.d . , Levsinex 0.375 mg p.o . q.12h . , Lisinopril / hydrochlorothiazide 20/25 mg p.o . q.d . , hydrocortisone topical ointment to affected areas , MS Contin 30 mg p.o . b.i.d . , MSIR 15 to 30 mg p.o . q.4h . p.r.n . pain .</div><br/>Note 12:<div style=\"border:2px solid #747474; background-color: #e3e3e3; margin: 5px; padding: 10px\">Aspirin 325 q.d . ; albuterol nebs 2.5 mg q . 4h ; Colace 100 mg b.i.d . ; heparin 5,000 units subcu b.i.d . ; Synthroid 200 mcg q.d . ; Ocean Spray 2 sprays q . i.d . ; simvastatin 10 mg q . h.s . ; Flovent 220 mcg 2 puffs b.i.d . ; Zantac 150 b.i.d . ; nystatin ointment to the gluteal fold b.i.d . ; Lisinopril 20 mg q.d . ; Mestinon controlled release 180 q . h.s . ; Mestinon 30 mg q . 4h while awake ; prednisone 60 mg p.o . q . IM ; Atrovent nebs 0.5 mg q . i.d .</div><br/>Note 13:<div style=\"border:2px solid #747474; background-color: #e3e3e3; margin: 5px; padding: 10px\">An echocardiogram was obtained on 4-26 which showed concentric left ventricular hypertrophy with normal _____ left ventricular function , severe right ventricular dilatation with septal hypokinesis and flattening with a question of right ventricular apical clot raised with mild aortic stenosis , severe tricuspid regurgitation and increased pulmonary artery pressure of approximately 70 millimeters , consistent with fairly severe pulmonary hypertension .</div><br/>Note 14:<div style=\"border:2px solid #747474; background-color: #e3e3e3; margin: 5px; padding: 10px\">1 ) CV ( R ) finished amio IV load then started on po , agressive lytes ; although interrogation showed >100 episodes of VT ( as / x ) , pt prefers med therapy as opposed to ablation ( I ) enzymes mildly elevated but not actively ischemic ; lipids , ASA , statin , BB ; Adenosine thal 1/4 and echo 1/4 to look for signs of ischemia as active cause for VT ( P ) JVP at angle of jaw 1/4 -- > giving 20 Lasix ; dig level 1/4 1.3 -- > 1/2 dose as on Amio</div><br/>Note 15:<div style=\"border:2px solid #747474; background-color: #e3e3e3; margin: 5px; padding: 10px\">sodium 141 , potassium 3.5 , chloride 107 , bicarbonates 23.8 , BUN 23 , creatinine 1.1 , glucose 165 , PO2 377 , PCO2 32 , PH 7.50 , asomus 298 , toxic screen negative , white blood cell count 11.1 , hematocrit 39.6 , platelet count 137 , prothrombin time 25.2 , INR 4.3 , partial thromboplastin time 34.7 , urinalysis 1+ albumin , 0-5 high link caths , cervical spine negative , pelvis negative , lumbar spine ; negative , thoracic spine negative .</div><br/>"
      ],
      "text/plain": [
       "<IPython.core.display.HTML object>"
      ]
     },
     "metadata": {
      "tags": []
     },
     "output_type": "display_data"
    }
   ],
   "source": [
    "from IPython.core.display import display, HTML\n",
    "\n",
    "html_output=\"\"\n",
    "for i, d in enumerate(notes):\n",
    "    html_output += f'Note {i}:'\n",
    "    html_output +='<div style=\"border:2px solid #747474; background-color: #e3e3e3; margin: 5px; padding: 10px\">'\n",
    "    html_output += d\n",
    "    html_output += '</div><br/>'\n",
    "\n",
    "display(HTML(html_output))"
   ]
  },
  {
   "cell_type": "code",
   "execution_count": 0,
   "metadata": {
    "colab": {},
    "colab_type": "code",
    "id": "vpoq3_DLIxzD"
   },
   "outputs": [],
   "source": [
    "# Notes column names\n",
    "\n",
    "docid_col         = \"doc_id\"\n",
    "note_col          = \"text_feed\""
   ]
  },
  {
   "cell_type": "code",
   "execution_count": 0,
   "metadata": {
    "colab": {},
    "colab_type": "code",
    "id": "Ri6KowcLIxze"
   },
   "outputs": [],
   "source": [
    "data = spark.createDataFrame([(i,n.lower()) for i,n in enumerate(notes)]).toDF(docid_col, note_col)"
   ]
  },
  {
   "cell_type": "markdown",
   "metadata": {
    "colab_type": "text",
    "id": "4O9b8iN6Ixzm"
   },
   "source": [
    "## And let's build a SparkNLP pipeline with the following stages:\n",
    "- DocumentAssembler: Entry annotator for our pipelines; it creates the data structure for the Annotation Framework\n",
    "- SentenceDetector: Annotator to pragmatically separate complete sentences inside each document\n",
    "- Tokenizer: Annotator to separate sentences in tokens (generally words)\n",
    "- StopWordsCleaner: Annotator to remove words defined as StopWords in SparkML\n",
    "- WordEmbeddings: Vectorization of word tokens, in this case using word embeddings trained from PubMed, ICD10 and other clinical resources.\n",
    "- ChunkEmbeddings: Aggregates the WordEmbeddings for each NER Chunk\n",
    "- BioNLP NER + NerConverter: This annotators return Chunks related to Cancer and Genetics diseases\n",
    "- ChunkEntityResolver: Annotator that performs search for the KNNs, in this case trained from ICDO Histology Behavior."
   ]
  },
  {
   "cell_type": "code",
   "execution_count": 0,
   "metadata": {
    "colab": {},
    "colab_type": "code",
    "id": "f6LNqz_fIxzn"
   },
   "outputs": [],
   "source": [
    "#Language and Model Repository\n",
    "\n",
    "models_language   = \"en\"\n",
    "models_repository = \"clinical/models\""
   ]
  },
  {
   "cell_type": "code",
   "execution_count": 10,
   "metadata": {
    "colab": {
     "base_uri": "https://localhost:8080/",
     "height": 68
    },
    "colab_type": "code",
    "id": "iIPtK43OIxzu",
    "outputId": "58323cb8-7da7-4fe5-8fe6-e9149ca3138d"
   },
   "outputs": [
    {
     "name": "stdout",
     "output_type": "stream",
     "text": [
      "embeddings_clinical download started this may take some time.\n",
      "Approximate size to download 1.6 GB\n",
      "[OK!]\n"
     ]
    }
   ],
   "source": [
    "# Embeddings Pretrained Model Name\n",
    "\n",
    "embeddings_name   = \"embeddings_clinical\"\n",
    "\n",
    "# Preparation and embeddings column names\n",
    "\n",
    "doc_col           = \"document\"\n",
    "sent_col          = \"sentence\"\n",
    "token_col         = \"token\"\n",
    "embeddings_col    = \"embeddings\"\n",
    "\n",
    "# Usual preparation Annotators and Embeddings\n",
    "\n",
    "docAssembler = DocumentAssembler().setInputCol(note_col).setOutputCol(doc_col)\n",
    "sentenceDetector = SentenceDetector().setInputCols(doc_col).setOutputCol(sent_col)\n",
    "tokenizer_chars = [\",\",\"\\/\",\" \",\".\",\"|\",\"@\",\"#\",\"%\",\"&\",\"\\\\$\",\"\\\\[\",\"\\\\]\",\"\\\\(\",\"\\\\)\",\"\\\\-\",\";\"]\n",
    "tokenizer = Tokenizer().setSplitChars(tokenizer_chars)\\\n",
    "    .setInputCols(sent_col).setOutputCol(token_col)\n",
    "embeddings = WordEmbeddingsModel.pretrained(embeddings_name, models_language, models_repository)\\\n",
    "    .setInputCols(sent_col, token_col)\\\n",
    "    .setOutputCol(embeddings_col)"
   ]
  },
  {
   "cell_type": "code",
   "execution_count": 11,
   "metadata": {
    "colab": {
     "base_uri": "https://localhost:8080/",
     "height": 119
    },
    "colab_type": "code",
    "id": "6c25koh6Ixz-",
    "outputId": "e0af9073-c236-43f3-c098-ba6da51d2120",
    "scrolled": true
   },
   "outputs": [
    {
     "name": "stdout",
     "output_type": "stream",
     "text": [
      "ner_jsl download started this may take some time.\n",
      "Approximate size to download 14 MB\n",
      "[OK!]\n",
      "ner_drugs download started this may take some time.\n",
      "Approximate size to download 13.8 MB\n",
      "[OK!]\n"
     ]
    }
   ],
   "source": [
    "# NER Pretrained Model Names\n",
    "\n",
    "jsl_ner_name  = \"ner_jsl\"\n",
    "drug_ner_name = \"ner_drugs\"\n",
    "\n",
    "# NER Column Names\n",
    "\n",
    "ner_jsl_col  = \"ner_jsl\"\n",
    "ner_drug_col = \"ner_drug\"\n",
    "\n",
    "# Annotators responsible for the Cancer Genetics Entity Recognition task\n",
    "\n",
    "jslNer = NerDLModel.pretrained(jsl_ner_name, models_language, models_repository)\\\n",
    "    .setInputCols(sent_col, token_col, embeddings_col)\\\n",
    "    .setOutputCol(ner_jsl_col)\n",
    "\n",
    "drugNer = NerDLModel.pretrained(drug_ner_name, models_language, models_repository)\\\n",
    "    .setInputCols(sent_col, token_col, embeddings_col)\\\n",
    "    .setOutputCol(ner_drug_col)"
   ]
  },
  {
   "cell_type": "code",
   "execution_count": 0,
   "metadata": {
    "colab": {},
    "colab_type": "code",
    "id": "3Bo9kQEBIx0R"
   },
   "outputs": [],
   "source": [
    "# Chunk column names\n",
    "\n",
    "chunk_jsl_col  = \"chunk_jsl\"\n",
    "chunk_drug_col = \"chunk_drug\"\n",
    "\n",
    "#Converter annotators transform IOB tags into full chunks (sequence set of tokens) tagged with `entity` metadata\n",
    "\n",
    "jslConverter = NerConverter().setInputCols(sent_col, token_col, ner_jsl_col)\\\n",
    "    .setOutputCol(chunk_jsl_col).setWhiteList([\"Diagnosis\"])\n",
    "drugConverter = NerConverter().setInputCols(sent_col, token_col, ner_drug_col)\\\n",
    "    .setOutputCol(chunk_drug_col)"
   ]
  },
  {
   "cell_type": "code",
   "execution_count": 0,
   "metadata": {
    "colab": {},
    "colab_type": "code",
    "id": "QOJoFlxnIx0a"
   },
   "outputs": [],
   "source": [
    "# ChunkEmbeddings column names\n",
    "\n",
    "chunk_embs_jsl_col  = \"chunk_embs_jsl\"\n",
    "chunk_embs_drug_col = \"chunk_embs_drug\"\n",
    "\n",
    "#ChunkEmbeddings annotators aggregate embeddings for each token in the chunk\n",
    "\n",
    "jslChunkEmbeddings = ChunkEmbeddings()\\\n",
    "  .setInputCols(chunk_jsl_col, embeddings_col)\\\n",
    "  .setOutputCol(chunk_embs_jsl_col)\n",
    "drugChunkEmbeddings = ChunkEmbeddings()\\\n",
    "  .setInputCols(chunk_drug_col, embeddings_col)\\\n",
    "  .setOutputCol(chunk_embs_drug_col)"
   ]
  },
  {
   "cell_type": "code",
   "execution_count": 0,
   "metadata": {
    "colab": {},
    "colab_type": "code",
    "id": "_1imxphiIx0g"
   },
   "outputs": [],
   "source": [
    "# ChunkTokenizer column names\n",
    "\n",
    "chunk_token_jsl_col  = \"chunk_token_jsl\"\n",
    "chunk_token_drug_col = \"chunk_token_drug\"\n",
    "\n",
    "# ChunkTokenizer provides extra flexibility at the time of tokenizing a given chunk\n",
    "\n",
    "jslChunkTokenizer = ChunkTokenizer().setSplitChars(tokenizer_chars)\\\n",
    "    .setInputCols(chunk_jsl_col).setOutputCol(chunk_token_jsl_col)\n",
    "drugChunkTokenizer = ChunkTokenizer().setSplitChars(tokenizer_chars)\\\n",
    "    .setInputCols(chunk_drug_col).setOutputCol(chunk_token_drug_col)"
   ]
  },
  {
   "cell_type": "code",
   "execution_count": 15,
   "metadata": {
    "colab": {
     "base_uri": "https://localhost:8080/",
     "height": 119
    },
    "colab_type": "code",
    "id": "g38CQOveIx0r",
    "outputId": "15257537-59cc-4609-e289-34bd21871e53",
    "scrolled": true
   },
   "outputs": [
    {
     "name": "stdout",
     "output_type": "stream",
     "text": [
      "chunkresolve_icd10cm_clinical download started this may take some time.\n",
      "Approximate size to download 166.3 MB\n",
      "[OK!]\n",
      "ensembleresolve_rxnorm_small_clinical download started this may take some time.\n",
      "Approximate size to download 159.7 MB\n",
      "[OK!]\n"
     ]
    }
   ],
   "source": [
    "# Entity Resolution Pretrained Model Names\n",
    "\n",
    "icd10cm_model_name = \"chunkresolve_icd10cm_clinical\"\n",
    "rxnorm_model_name  = \"chunkresolve_rxnorm_scd_clinical\"\n",
    "\n",
    "# Entity Resolution column Names\n",
    "\n",
    "icd10cm_col = \"icd10cm_resolution\"\n",
    "rxnorm_col  = \"rxnorm_resolution\"\n",
    "\n",
    "icd10cmResolver = ChunkEntityResolverModel.pretrained(icd10cm_model_name, models_language, models_repository)\\\n",
    "    .setEnableLevenshtein(True)\\\n",
    "    .setNeighbours(200).setAlternatives(5).setDistanceWeights([1,3,2,0,0,1])\\\n",
    "    .setInputCols(chunk_token_jsl_col, chunk_embs_jsl_col)\\\n",
    "    .setOutputCol(icd10cm_col)\n",
    "\n",
    "rxnormResolver = ChunkEntityResolverModel()\\\n",
    "    .pretrained(rxnorm_model_name, models_language, models_repository)\\\n",
    "    .setEnableLevenshtein(True)\\\n",
    "    .setNeighbours(200).setAlternatives(5).setDistanceWeights([1,3,2,0,0,1])\\\n",
    "    .setInputCols(chunk_token_drug_col, chunk_embs_drug_col)\\\n",
    "    .setOutputCol(rxnorm_col)\\"
   ]
  },
  {
   "cell_type": "code",
   "execution_count": 0,
   "metadata": {
    "colab": {},
    "colab_type": "code",
    "id": "eeKyMan4Ix0y"
   },
   "outputs": [],
   "source": [
    "pipelineFull = Pipeline().setStages([\n",
    "    docAssembler, \n",
    "    sentenceDetector, \n",
    "    tokenizer, \n",
    "    embeddings, \n",
    "    jslNer,\n",
    "    drugNer,\n",
    "    jslConverter,\n",
    "    drugConverter,\n",
    "    jslChunkEmbeddings, \n",
    "    drugChunkEmbeddings,\n",
    "    jslChunkTokenizer,\n",
    "    drugChunkTokenizer,\n",
    "    rxnormResolver\n",
    "])"
   ]
  },
  {
   "cell_type": "code",
   "execution_count": 0,
   "metadata": {
    "colab": {},
    "colab_type": "code",
    "id": "X8lfEb9QIx09"
   },
   "outputs": [],
   "source": [
    "# Persisiting temporarily to keep DAG size and resource usage low (Ensmeble Resolvers are Resource Intensive)\n",
    "pipelineModelFull = pipelineFull.fit(data)\n",
    "output = pipelineModelFull.transform(data)\n",
    "output.write.mode(\"overwrite\").save(\"temp\")\n",
    "output = spark.read.load(\"temp\")"
   ]
  },
  {
   "cell_type": "code",
   "execution_count": 0,
   "metadata": {
    "colab": {},
    "colab_type": "code",
    "id": "9yCNScKnIx1V"
   },
   "outputs": [],
   "source": [
    "output = icd10cmResolver.transform(output).cache()"
   ]
  },
  {
   "cell_type": "markdown",
   "metadata": {
    "colab_type": "text",
    "id": "--z1xQIxIx1e"
   },
   "source": [
    "## The last part of our pipeline are the **ChunkEntityResolvers**: \n",
    "\n",
    "### EntityResolver:  \n",
    "Trained on an augmented ICDO Dataset from JSL Data Market it provides histology codes resolution for the matched expressions. Other than providing the code in the \"result\" field it provides more metadata about the matching process:  \n",
    "\n",
    "- all_k_results -> Sorted ResolverLabels in the top `alternatives` that match the distance `threshold`\n",
    "- all_k_resolutions -> Respective ResolverNormalized strings\n",
    "- all_k_confidences -> Respective normalized probabilities based in inverse distance valuesprobability\n",
    "- all_k_distances -> Respective distance values after aggregation\n",
    "- target_text -> The actual searched string\n",
    "- resolved_text -> The top ResolverNormalized string\n",
    "- confidence -> Top probability\n",
    "- distance -> Top distance value\n",
    "- sentence -> Sentence index\n",
    "- chunk -> Chunk Index\n",
    "- token -> Token index"
   ]
  },
  {
   "cell_type": "code",
   "execution_count": 0,
   "metadata": {
    "colab": {},
    "colab_type": "code",
    "id": "9PtF8q-OIx1f"
   },
   "outputs": [],
   "source": [
    "def quick_metadata_analysis(df, doc_field, chunk_field, code_fields):\n",
    "    code_res_meta = \", \".join([f\"{cf}.metadata\" for cf in code_fields])\n",
    "    expression = f\"explode(arrays_zip({chunk_field}.begin, {chunk_field}.end, {chunk_field}.result, {chunk_field}.metadata, \"+code_res_meta+\")) as a\"\n",
    "    top_n_rest = [(f\"float(a['{i+4}'].confidence) as {(cf.split('_')[0])}_conf\",\n",
    "                    f\"arrays_zip(split(a['{i+4}'].all_k_results,':::'),split(a['{i+4}'].all_k_resolutions,':::')) as {cf.split('_')[0]+'_opts'}\")\n",
    "                    for i, cf in enumerate(code_fields)]\n",
    "    top_n_rest_args = []\n",
    "    for tr in top_n_rest:\n",
    "        for t in tr:\n",
    "            top_n_rest_args.append(t)\n",
    "    return df.selectExpr(doc_field, expression) \\\n",
    "        .orderBy(docid_col, F.expr(\"a['0']\"), F.expr(\"a['1']\"))\\\n",
    "        .selectExpr(f\"concat_ws('::',{doc_field},a['0'],a['1']) as coords\", \"a['2'] as chunk\",\"a['3'].entity as entity\", *top_n_rest_args)"
   ]
  },
  {
   "cell_type": "code",
   "execution_count": null,
   "metadata": {},
   "outputs": [],
   "source": [
    "# def quick_metadata_analysis(df, doc_field, chunk_field, code_fields):\n",
    "#     code_res_meta = \", \".join([f\"{cf}.metadata\" for cf in code_fields])\n",
    "#     expression = f\"explode({chunk_field}.begin, {chunk_field}.end, {chunk_field}.result, {chunk_field}.metadata, \"+code_res_meta+\")) as a\"\n",
    "#     top_n_rest = [(f\"float(a['{i+4}'].confidence) as {(cf.split('_')[0])}_conf\",\n",
    "#                     f\"arrays_zip(split(a['{i+4}'].all_k_results,':::'),split(a['{i+4}'].all_k_resolutions,':::')) as {cf.split('_')[0]+'_opts'}\")\n",
    "#                     for i, cf in enumerate(code_fields)]\n",
    "#     top_n_rest_args = []\n",
    "#     for tr in top_n_rest:\n",
    "#         for t in tr:\n",
    "#             top_n_rest_args.append(t)\n",
    "#     return df.selectExpr(doc_field, expression) \\\n",
    "#         .orderBy(docid_col, F.expr(\"a['0']\"), F.expr(\"a['1']\"))\\\n",
    "#         .selectExpr(f\"concat_ws('::',{doc_field},a['0'],a['1']) as coords\", \"a['2'] as chunk\",\"a['3'].entity as entity\", *top_n_rest_args)"
   ]
  },
  {
   "cell_type": "code",
   "execution_count": 0,
   "metadata": {
    "colab": {},
    "colab_type": "code",
    "id": "kLBs1QHUIx1z"
   },
   "outputs": [],
   "source": [
    "# icd10cm_analysis = \\\n",
    "# quick_metadata_analysis(output, docid_col, chunk_jsl_col,[icd10cm_col]).toPandas()"
   ]
  },
  {
   "cell_type": "code",
   "execution_count": 0,
   "metadata": {
    "colab": {},
    "colab_type": "code",
    "id": "e_OCxyUZIx18"
   },
   "outputs": [],
   "source": [
    "# rxnorm_analysis = \\\n",
    "# quick_metadata_analysis(output, docid_col, chunk_drug_col,[rxnorm_col]).toPandas()"
   ]
  },
  {
   "cell_type": "code",
   "execution_count": 27,
   "metadata": {
    "colab": {
     "base_uri": "https://localhost:8080/",
     "height": 430
    },
    "colab_type": "code",
    "id": "CErkieWRIx2N",
    "outputId": "375f2afe-1794-4cc5-cc66-2cd24f2900ca"
   },
   "outputs": [
    {
     "data": {
      "text/html": [
       "<div>\n",
       "<style scoped>\n",
       "    .dataframe tbody tr th:only-of-type {\n",
       "        vertical-align: middle;\n",
       "    }\n",
       "\n",
       "    .dataframe tbody tr th {\n",
       "        vertical-align: top;\n",
       "    }\n",
       "\n",
       "    .dataframe thead th {\n",
       "        text-align: right;\n",
       "    }\n",
       "</style>\n",
       "<table border=\"1\" class=\"dataframe\">\n",
       "  <thead>\n",
       "    <tr style=\"text-align: right;\">\n",
       "      <th></th>\n",
       "      <th>coords</th>\n",
       "      <th>chunk</th>\n",
       "      <th>entity</th>\n",
       "      <th>icd10cm_conf</th>\n",
       "      <th>icd10cm_opts</th>\n",
       "    </tr>\n",
       "  </thead>\n",
       "  <tbody>\n",
       "    <tr>\n",
       "      <th>5</th>\n",
       "      <td>6::51::90</td>\n",
       "      <td>restrictive and obstructive lung disease</td>\n",
       "      <td>Diagnosis</td>\n",
       "      <td>0.2596</td>\n",
       "      <td>[(J449, Chronic obstructive pulmonary disease, unspecified), (J670, Farmer's lung), (J660, Byssinosis), (J673, Suberosis), (G241, Genetic torsion dystonia)]</td>\n",
       "    </tr>\n",
       "    <tr>\n",
       "      <th>6</th>\n",
       "      <td>6::245::270</td>\n",
       "      <td>fixed inferolateral defect</td>\n",
       "      <td>Diagnosis</td>\n",
       "      <td>0.2716</td>\n",
       "      <td>[(Q214, Aortopulmonary septal defect), (I510, Cardiac septal defect, acquired), (Q790, Congenital diaphragmatic hernia), (Q212, Atrioventricular septal defect), (Q210, Ventricular septal defect)]</td>\n",
       "    </tr>\n",
       "    <tr>\n",
       "      <th>8</th>\n",
       "      <td>6::442::456</td>\n",
       "      <td>aortic stenosis</td>\n",
       "      <td>Diagnosis</td>\n",
       "      <td>0.2524</td>\n",
       "      <td>[(Q253, Supravalvular aortic stenosis), (Q230, Congenital stenosis of aortic valve), (I060, Rheumatic aortic stenosis), (Q9382, Williams syndrome), (I062, Rheumatic aortic stenosis with insufficiency)]</td>\n",
       "    </tr>\n",
       "    <tr>\n",
       "      <th>11</th>\n",
       "      <td>9::84::102</td>\n",
       "      <td>dilated left atrium</td>\n",
       "      <td>Diagnosis</td>\n",
       "      <td>0.3030</td>\n",
       "      <td>[(Q242, Cor triatriatum), (I420, Dilated cardiomyopathy), (I429, Cardiomyopathy, unspecified), (M5432, Sciatica, left side), (M7722, Periarthritis, left wrist)]</td>\n",
       "    </tr>\n",
       "    <tr>\n",
       "      <th>13</th>\n",
       "      <td>9::467::487</td>\n",
       "      <td>pericardial effusions</td>\n",
       "      <td>Diagnosis</td>\n",
       "      <td>0.2764</td>\n",
       "      <td>[(I318, Other specified diseases of pericardium), (J90, Pleural effusion, not elsewhere classified), (I313, Pericardial effusion (noninflammatory)), (J940, Chylous effusion), (S2611XS, Contusion of heart without hemopericardium, sequela)]</td>\n",
       "    </tr>\n",
       "    <tr>\n",
       "      <th>14</th>\n",
       "      <td>10::223::244</td>\n",
       "      <td>acanthamoeba infection</td>\n",
       "      <td>Diagnosis</td>\n",
       "      <td>0.2877</td>\n",
       "      <td>[(B6010, Acanthamebiasis, unspecified), (B72, Dracunculiasis), (B1081, Human herpesvirus 6 infection), (B810, Anisakiasis), (B831, Gnathostomiasis)]</td>\n",
       "    </tr>\n",
       "    <tr>\n",
       "      <th>16</th>\n",
       "      <td>10::467::478</td>\n",
       "      <td>hyponatremia</td>\n",
       "      <td>Diagnosis</td>\n",
       "      <td>0.5242</td>\n",
       "      <td>[(E871, Hypo-osmolality and hyponatremia), (E876, Hypokalemia), (E861, Hypovolemia), (E8351, Hypocalcemia), (E8342, Hypomagnesemia)]</td>\n",
       "    </tr>\n",
       "    <tr>\n",
       "      <th>18</th>\n",
       "      <td>13::145::172</td>\n",
       "      <td>right ventricular dilatation</td>\n",
       "      <td>Diagnosis</td>\n",
       "      <td>0.2664</td>\n",
       "      <td>[(I50810, Right heart failure, unspecified), (I509, Heart failure, unspecified), (N134, Hydroureter), (I2541, Coronary artery aneurysm), (I470, Re-entry ventricular arrhythmia)]</td>\n",
       "    </tr>\n",
       "    <tr>\n",
       "      <th>19</th>\n",
       "      <td>13::279::293</td>\n",
       "      <td>aortic stenosis</td>\n",
       "      <td>Diagnosis</td>\n",
       "      <td>0.2524</td>\n",
       "      <td>[(Q253, Supravalvular aortic stenosis), (Q230, Congenital stenosis of aortic valve), (I060, Rheumatic aortic stenosis), (Q9382, Williams syndrome), (I062, Rheumatic aortic stenosis with insufficiency)]</td>\n",
       "    </tr>\n",
       "  </tbody>\n",
       "</table>\n",
       "</div>"
      ],
      "text/plain": [
       "          coords  ...                                                                                                                                                                                                                                    icd10cm_opts\n",
       "5      6::51::90  ...                                                                                    [(J449, Chronic obstructive pulmonary disease, unspecified), (J670, Farmer's lung), (J660, Byssinosis), (J673, Suberosis), (G241, Genetic torsion dystonia)]\n",
       "6    6::245::270  ...                                             [(Q214, Aortopulmonary septal defect), (I510, Cardiac septal defect, acquired), (Q790, Congenital diaphragmatic hernia), (Q212, Atrioventricular septal defect), (Q210, Ventricular septal defect)]\n",
       "8    6::442::456  ...                                       [(Q253, Supravalvular aortic stenosis), (Q230, Congenital stenosis of aortic valve), (I060, Rheumatic aortic stenosis), (Q9382, Williams syndrome), (I062, Rheumatic aortic stenosis with insufficiency)]\n",
       "11    9::84::102  ...                                                                                [(Q242, Cor triatriatum), (I420, Dilated cardiomyopathy), (I429, Cardiomyopathy, unspecified), (M5432, Sciatica, left side), (M7722, Periarthritis, left wrist)]\n",
       "13   9::467::487  ...  [(I318, Other specified diseases of pericardium), (J90, Pleural effusion, not elsewhere classified), (I313, Pericardial effusion (noninflammatory)), (J940, Chylous effusion), (S2611XS, Contusion of heart without hemopericardium, sequela)]\n",
       "14  10::223::244  ...                                                                                            [(B6010, Acanthamebiasis, unspecified), (B72, Dracunculiasis), (B1081, Human herpesvirus 6 infection), (B810, Anisakiasis), (B831, Gnathostomiasis)]\n",
       "16  10::467::478  ...                                                                                                            [(E871, Hypo-osmolality and hyponatremia), (E876, Hypokalemia), (E861, Hypovolemia), (E8351, Hypocalcemia), (E8342, Hypomagnesemia)]\n",
       "18  13::145::172  ...                                                               [(I50810, Right heart failure, unspecified), (I509, Heart failure, unspecified), (N134, Hydroureter), (I2541, Coronary artery aneurysm), (I470, Re-entry ventricular arrhythmia)]\n",
       "19  13::279::293  ...                                       [(Q253, Supravalvular aortic stenosis), (Q230, Congenital stenosis of aortic valve), (I060, Rheumatic aortic stenosis), (Q9382, Williams syndrome), (I062, Rheumatic aortic stenosis with insufficiency)]\n",
       "\n",
       "[9 rows x 5 columns]"
      ]
     },
     "execution_count": 27,
     "metadata": {
      "tags": []
     },
     "output_type": "execute_result"
    }
   ],
   "source": [
    "# icd10cm_analysis[icd10cm_analysis.icd10cm_conf>0.25]"
   ]
  },
  {
   "cell_type": "code",
   "execution_count": 28,
   "metadata": {
    "colab": {
     "base_uri": "https://localhost:8080/",
     "height": 1000
    },
    "colab_type": "code",
    "id": "fW7xXFyAIx2S",
    "outputId": "19f674cb-5217-432e-f1eb-ae18729ac862"
   },
   "outputs": [
    {
     "data": {
      "text/html": [
       "<div>\n",
       "<style scoped>\n",
       "    .dataframe tbody tr th:only-of-type {\n",
       "        vertical-align: middle;\n",
       "    }\n",
       "\n",
       "    .dataframe tbody tr th {\n",
       "        vertical-align: top;\n",
       "    }\n",
       "\n",
       "    .dataframe thead th {\n",
       "        text-align: right;\n",
       "    }\n",
       "</style>\n",
       "<table border=\"1\" class=\"dataframe\">\n",
       "  <thead>\n",
       "    <tr style=\"text-align: right;\">\n",
       "      <th></th>\n",
       "      <th>coords</th>\n",
       "      <th>chunk</th>\n",
       "      <th>entity</th>\n",
       "      <th>rxnorm_conf</th>\n",
       "      <th>rxnorm_opts</th>\n",
       "    </tr>\n",
       "  </thead>\n",
       "  <tbody>\n",
       "    <tr>\n",
       "      <th>0</th>\n",
       "      <td>0::0::10</td>\n",
       "      <td>pentamidine</td>\n",
       "      <td>DrugChem</td>\n",
       "      <td>0.6458</td>\n",
       "      <td>[(2054812, chloroquine phosphate tablets), (370622, atovaquone oral suspension), (757307, paromomycin oral solution), (2181643, azithromycin for injection), (2108548, tobramycin inhalation solution)]</td>\n",
       "    </tr>\n",
       "    <tr>\n",
       "      <th>1</th>\n",
       "      <td>0::37::47</td>\n",
       "      <td>pentamidine</td>\n",
       "      <td>DrugChem</td>\n",
       "      <td>0.6458</td>\n",
       "      <td>[(2054812, chloroquine phosphate tablets), (370622, atovaquone oral suspension), (757307, paromomycin oral solution), (2181643, azithromycin for injection), (2108548, tobramycin inhalation solution)]</td>\n",
       "    </tr>\n",
       "    <tr>\n",
       "      <th>2</th>\n",
       "      <td>0::100::111</td>\n",
       "      <td>voriconazole</td>\n",
       "      <td>DrugChem</td>\n",
       "      <td>1.0000</td>\n",
       "      <td>[(2107778, fluconazole 5 0 mg oral tablet), (197702, flucytosine 2 5 0 mg oral capsule), (352218, voriconazole 5 0 mg oral tablet , film coated [ vfend ] ), (197701, fluconazole 5 0 mg oral tablet [ fluconazole ] ), (207106, fluconazole 5 0 mg oral tablet [ diflucan ] )]</td>\n",
       "    </tr>\n",
       "    <tr>\n",
       "      <th>3</th>\n",
       "      <td>0::136::144</td>\n",
       "      <td>acyclovir</td>\n",
       "      <td>DrugChem</td>\n",
       "      <td>1.0000</td>\n",
       "      <td>[(1811462, valacyclovir hydrochloride 1 g oral capsule), (314007, ganciclovir 2 5 0 mg oral capsule), (201905, acyclovir 4 0 0 mg oral tablet [ zovirax ] ), (197313, acyclovir 8 0 0 mg oral tablet [ acyclovir ] ), (213694, acyclovir 2 0 0 mg oral capsule [ zovirax ] )]</td>\n",
       "    </tr>\n",
       "    <tr>\n",
       "      <th>7</th>\n",
       "      <td>0::351::363</td>\n",
       "      <td>nitroglycerin</td>\n",
       "      <td>DrugChem</td>\n",
       "      <td>0.9094</td>\n",
       "      <td>[(374405, nitroglycerin ointment), (705128, nitroglycerin lingual spray), (373106, nitroglycerin sublingual tablets), (242946, nitroglycerin 2 % transdermal ointment), (378154, aminophylline tablets)]</td>\n",
       "    </tr>\n",
       "    <tr>\n",
       "      <th>10</th>\n",
       "      <td>0::518::528</td>\n",
       "      <td>fluconazole</td>\n",
       "      <td>DrugChem</td>\n",
       "      <td>1.0000</td>\n",
       "      <td>[(2107778, fluconazole 5 0 mg oral tablet), (197701, fluconazole 5 0 mg oral tablet [ fluconazole ] ), (207106, fluconazole 5 0 mg oral tablet [ diflucan ] ), (197702, flucytosine 2 5 0 mg oral capsule), (207108, fluconazole 1 5 0 mg oral tablet [ diflucan ] )]</td>\n",
       "    </tr>\n",
       "    <tr>\n",
       "      <th>12</th>\n",
       "      <td>0::608::614</td>\n",
       "      <td>tylenol</td>\n",
       "      <td>DrugChem</td>\n",
       "      <td>0.9080</td>\n",
       "      <td>[(207791, nitrofurantoin , macrocrystals 2 5 mg oral capsule [ macrodantin ] ), (1544490, insulin , regular , human 8 unt inhalation powder [ afrezza ] ), (1543207, insulin , regular , human 4 unt inhalation powder [ afrezza ] ), (994456, phendimetrazine tartrate 3 5 mg oral tablet [ bock - arate ] ), (763018, insulin human , rdna origin 3 mg inhalation powder [ exubera ] )]</td>\n",
       "    </tr>\n",
       "    <tr>\n",
       "      <th>14</th>\n",
       "      <td>0::690::698</td>\n",
       "      <td>neurontin</td>\n",
       "      <td>DrugChem</td>\n",
       "      <td>1.0000</td>\n",
       "      <td>[(2099314, moxetumomab pasudotox - tdfk 1 mg injection [ lumoxiti ] ), (1095283, factor xiii , human 1 unt injection [ corifact ] ), (207791, nitrofurantoin , macrocrystals 2 5 mg oral capsule [ macrodantin ] ), (205960, ergoloid mesylates , usp 1 mg oral tablet [ gerimal ] ), (104955, morphine sulfate 5 mg extended release oral tablet [ mst continus ] )]</td>\n",
       "    </tr>\n",
       "    <tr>\n",
       "      <th>16</th>\n",
       "      <td>0::846::855</td>\n",
       "      <td>phoslo 667</td>\n",
       "      <td>DrugChem</td>\n",
       "      <td>0.9984</td>\n",
       "      <td>[(1728063, pegaspargase 7 5 0 unt / ml injection [ oncaspar ] ), (2121428, calaspargase pegol - mknl 7 5 0 unt / ml injection [ asparlas ] ), (261137, monascus purpureus west 6 0 0 mg oral capsule [ cholestin ] ), (1087010, thyroid ( usp ) 1 9 5 mg oral tablet [ westhroid ] ), (208548, thyroid ( usp ) 1 8 0 mg oral tablet [ westhroid ] )]</td>\n",
       "    </tr>\n",
       "    <tr>\n",
       "      <th>19</th>\n",
       "      <td>1::0::8</td>\n",
       "      <td>albuterol</td>\n",
       "      <td>DrugChem</td>\n",
       "      <td>0.8700</td>\n",
       "      <td>[(370542, albuterol tablets), (544499, albuterol oral solution), (2108226, albuterol inhalation solution), (745678, albuterol inhalation aerosol), (197316, albuterol 2 mg oral tablet)]</td>\n",
       "    </tr>\n",
       "    <tr>\n",
       "      <th>20</th>\n",
       "      <td>1::39::46</td>\n",
       "      <td>atrovent</td>\n",
       "      <td>DrugChem</td>\n",
       "      <td>0.9963</td>\n",
       "      <td>[(404640, methscopolamine bromide 5 mg oral tablet [ pamine forte ] ), (1797835, ipratropium bromide 2 1 ug nasal spray , metered [ atrovent ] ), (207086, methscopolamine bromide 2 . 5 mg oral tablet [ pamine ] ), (314088, methscopolamine bromide 2 . 5 mg oral tablet [ methscopolamine bromide ] ), (2045382, fluticasone furoate 5 0 ug respiratory ( inhalation ) powder [ arnuity ellipta ] )]</td>\n",
       "    </tr>\n",
       "    <tr>\n",
       "      <th>21</th>\n",
       "      <td>1::92::100</td>\n",
       "      <td>albuterol</td>\n",
       "      <td>DrugChem</td>\n",
       "      <td>0.8700</td>\n",
       "      <td>[(370542, albuterol tablets), (544499, albuterol oral solution), (2108226, albuterol inhalation solution), (745678, albuterol inhalation aerosol), (197316, albuterol 2 mg oral tablet)]</td>\n",
       "    </tr>\n",
       "    <tr>\n",
       "      <th>22</th>\n",
       "      <td>1::106::113</td>\n",
       "      <td>atrovent</td>\n",
       "      <td>DrugChem</td>\n",
       "      <td>0.9963</td>\n",
       "      <td>[(404640, methscopolamine bromide 5 mg oral tablet [ pamine forte ] ), (1797835, ipratropium bromide 2 1 ug nasal spray , metered [ atrovent ] ), (207086, methscopolamine bromide 2 . 5 mg oral tablet [ pamine ] ), (314088, methscopolamine bromide 2 . 5 mg oral tablet [ methscopolamine bromide ] ), (2045382, fluticasone furoate 5 0 ug respiratory ( inhalation ) powder [ arnuity ellipta ] )]</td>\n",
       "    </tr>\n",
       "    <tr>\n",
       "      <th>23</th>\n",
       "      <td>1::117::125</td>\n",
       "      <td>rocaltrol</td>\n",
       "      <td>DrugChem</td>\n",
       "      <td>1.0000</td>\n",
       "      <td>[(2099314, moxetumomab pasudotox - tdfk 1 mg injection [ lumoxiti ] ), (728491, protein c , human 1 unt injection [ ceprotin ] ), (1095283, factor xiii , human 1 unt injection [ corifact ] ), (1659991, antithrombin iii , human 1 unt injection [ thrombate iii ] ), (1544490, insulin , regular , human 8 unt inhalation powder [ afrezza ] )]</td>\n",
       "    </tr>\n",
       "    <tr>\n",
       "      <th>25</th>\n",
       "      <td>1::202::217</td>\n",
       "      <td>vitamin b12 1000</td>\n",
       "      <td>DrugChem</td>\n",
       "      <td>0.7501</td>\n",
       "      <td>[(245506, vitamin e 5 unt oral tablet), (246010, vitamin e 1 5 unt oral capsule), (245502, vitamin e 2 5 unt oral capsule), (150930, vitamin e 7 5 unt oral capsule), (235489, vitamin e 5 0 unt oral capsule)]</td>\n",
       "    </tr>\n",
       "    <tr>\n",
       "      <th>26</th>\n",
       "      <td>1::264::272</td>\n",
       "      <td>diltiazem</td>\n",
       "      <td>DrugChem</td>\n",
       "      <td>0.9866</td>\n",
       "      <td>[(2054452, diltiazem hydrochloride tablets), (2247088, diltiazem hydrochloride for injection), (373067, nifedipine capsules), (370724, isradipine capsules), (1122731, verapamil hydrochloride crystal)]</td>\n",
       "    </tr>\n",
       "    <tr>\n",
       "      <th>28</th>\n",
       "      <td>1::340::345</td>\n",
       "      <td>haldol</td>\n",
       "      <td>DrugChem</td>\n",
       "      <td>0.9296</td>\n",
       "      <td>[(706831, risperidone 2 5 mg injection [ risperdal ] ), (2099314, moxetumomab pasudotox - tdfk 1 mg injection [ lumoxiti ] ), (205869, haloperidol 0 . 5 mg oral tablet [ haldol ] ), (1356693, omacetaxine mepesuccinate 3 . 5 mg injection [ synribo ] ), (706827, risperidone 3 7 . 5 mg injection [ risperdal ] )]</td>\n",
       "    </tr>\n",
       "    <tr>\n",
       "      <th>29</th>\n",
       "      <td>1::364::374</td>\n",
       "      <td>hydralazine</td>\n",
       "      <td>DrugChem</td>\n",
       "      <td>0.9999</td>\n",
       "      <td>[(2054688, hydralazine hydrochloride tablets), (371254, captopril tablets), (2054374, enalapril maleate tablets), (2054464, fosinopril sodium tablets), (2054433, labetalol hydrochloride tablets)]</td>\n",
       "    </tr>\n",
       "    <tr>\n",
       "      <th>31</th>\n",
       "      <td>1::521::526</td>\n",
       "      <td>zantac</td>\n",
       "      <td>DrugChem</td>\n",
       "      <td>0.9102</td>\n",
       "      <td>[(2099314, moxetumomab pasudotox - tdfk 1 mg injection [ lumoxiti ] ), (1233622, factor ix complex 1 unt injection [ bebulin ] ), (1670392, factor ix complex 1 unt injection [ profilnine ] ), (1095283, factor xiii , human 1 unt injection [ corifact ] ), (728491, protein c , human 1 unt injection [ ceprotin ] )]</td>\n",
       "    </tr>\n",
       "    <tr>\n",
       "      <th>32</th>\n",
       "      <td>1::594::604</td>\n",
       "      <td>macrodantin</td>\n",
       "      <td>DrugChem</td>\n",
       "      <td>0.8759</td>\n",
       "      <td>[(2099314, moxetumomab pasudotox - tdfk 1 mg injection [ lumoxiti ] ), (1233622, factor ix complex 1 unt injection [ bebulin ] ), (1670392, factor ix complex 1 unt injection [ profilnine ] ), (728491, protein c , human 1 unt injection [ ceprotin ] ), (1095283, factor xiii , human 1 unt injection [ corifact ] )]</td>\n",
       "    </tr>\n",
       "    <tr>\n",
       "      <th>33</th>\n",
       "      <td>2::0::6</td>\n",
       "      <td>tylenol</td>\n",
       "      <td>DrugChem</td>\n",
       "      <td>0.9080</td>\n",
       "      <td>[(207791, nitrofurantoin , macrocrystals 2 5 mg oral capsule [ macrodantin ] ), (1544490, insulin , regular , human 8 unt inhalation powder [ afrezza ] ), (1543207, insulin , regular , human 4 unt inhalation powder [ afrezza ] ), (994456, phendimetrazine tartrate 3 5 mg oral tablet [ bock - arate ] ), (763018, insulin human , rdna origin 3 mg inhalation powder [ exubera ] )]</td>\n",
       "    </tr>\n",
       "    <tr>\n",
       "      <th>34</th>\n",
       "      <td>2::57::65</td>\n",
       "      <td>acyclovir</td>\n",
       "      <td>DrugChem</td>\n",
       "      <td>1.0000</td>\n",
       "      <td>[(1811462, valacyclovir hydrochloride 1 g oral capsule), (314007, ganciclovir 2 5 0 mg oral capsule), (201905, acyclovir 4 0 0 mg oral tablet [ zovirax ] ), (197313, acyclovir 8 0 0 mg oral tablet [ acyclovir ] ), (213694, acyclovir 2 0 0 mg oral capsule [ zovirax ] )]</td>\n",
       "    </tr>\n",
       "    <tr>\n",
       "      <th>35</th>\n",
       "      <td>2::89::97</td>\n",
       "      <td>acyclovir</td>\n",
       "      <td>DrugChem</td>\n",
       "      <td>1.0000</td>\n",
       "      <td>[(1811462, valacyclovir hydrochloride 1 g oral capsule), (314007, ganciclovir 2 5 0 mg oral capsule), (201905, acyclovir 4 0 0 mg oral tablet [ zovirax ] ), (197313, acyclovir 8 0 0 mg oral tablet [ acyclovir ] ), (213694, acyclovir 2 0 0 mg oral capsule [ zovirax ] )]</td>\n",
       "    </tr>\n",
       "    <tr>\n",
       "      <th>36</th>\n",
       "      <td>2::248::257</td>\n",
       "      <td>folic acid</td>\n",
       "      <td>DrugChem</td>\n",
       "      <td>0.7789</td>\n",
       "      <td>[(619044, folic acid tablets), (310410, folic acid 1 mg tab), (260001, folic acid 5 mg oral capsule), (199318, folic acid 5 mg oral tablet), (370601, ascorbic acid tablets)]</td>\n",
       "    </tr>\n",
       "    <tr>\n",
       "      <th>39</th>\n",
       "      <td>2::428::433</td>\n",
       "      <td>zantac</td>\n",
       "      <td>DrugChem</td>\n",
       "      <td>0.9102</td>\n",
       "      <td>[(2099314, moxetumomab pasudotox - tdfk 1 mg injection [ lumoxiti ] ), (1233622, factor ix complex 1 unt injection [ bebulin ] ), (1670392, factor ix complex 1 unt injection [ profilnine ] ), (1095283, factor xiii , human 1 unt injection [ corifact ] ), (728491, protein c , human 1 unt injection [ ceprotin ] )]</td>\n",
       "    </tr>\n",
       "    <tr>\n",
       "      <th>41</th>\n",
       "      <td>2::553::561</td>\n",
       "      <td>lidocaine</td>\n",
       "      <td>DrugChem</td>\n",
       "      <td>0.9517</td>\n",
       "      <td>[(372598, lidocaine ointment), (2099476, lidocaine hydrochloride jelly), (1010836, lidocaine 3 % lotion), (377743, lidocaine and prilocaine cream), (1796087, lidocaine 4 % lotion)]</td>\n",
       "    </tr>\n",
       "    <tr>\n",
       "      <th>42</th>\n",
       "      <td>3::278::287</td>\n",
       "      <td>creatinine</td>\n",
       "      <td>DrugChem</td>\n",
       "      <td>1.0000</td>\n",
       "      <td>[(849628, creatinine 8 0 0 mg oral capsule), (746073, lithium aspartate 5 mg oral capsule), (198961, chromium aspartate 1 mg oral tablet), (1869470, sodium lactate 5 meq / ml injection), (1791855, milrinone lactate 1 mg / ml injection)]</td>\n",
       "    </tr>\n",
       "    <tr>\n",
       "      <th>43</th>\n",
       "      <td>4::400::407</td>\n",
       "      <td>atropine</td>\n",
       "      <td>DrugChem</td>\n",
       "      <td>0.9216</td>\n",
       "      <td>[(359226, atropine crystal), (2054609, atropine sulfate tablets), (2056255, atropine sulfate ophthalmic solution), (2050213, atropine sulfate ophthalmic ointment), (2054687, homatropine methylbromide tablets)]</td>\n",
       "    </tr>\n",
       "    <tr>\n",
       "      <th>45</th>\n",
       "      <td>7::83::93</td>\n",
       "      <td>cholesterol</td>\n",
       "      <td>DrugChem</td>\n",
       "      <td>1.0000</td>\n",
       "      <td>[(1670253, cholesterol 3 [ hp_x ] oral pellet), (1600165, cholesterol 3 [ hp_x ] oral granule [ cholesterinum ] ), (1860361, cholesterol 3 0 [ hp_c ] oral pellet [ cholesterinum ] ), (1728726, egg phospholipids 2 [ hp_x ] oral tablet), (1667307, egg phospholipids 2 [ hp_x ] oral pellet)]</td>\n",
       "    </tr>\n",
       "    <tr>\n",
       "      <th>46</th>\n",
       "      <td>10::397::406</td>\n",
       "      <td>creatinine</td>\n",
       "      <td>DrugChem</td>\n",
       "      <td>1.0000</td>\n",
       "      <td>[(849628, creatinine 8 0 0 mg oral capsule), (746073, lithium aspartate 5 mg oral capsule), (198961, chromium aspartate 1 mg oral tablet), (1869470, sodium lactate 5 meq / ml injection), (1791855, milrinone lactate 1 mg / ml injection)]</td>\n",
       "    </tr>\n",
       "    <tr>\n",
       "      <th>47</th>\n",
       "      <td>11::0::6</td>\n",
       "      <td>tylenol</td>\n",
       "      <td>DrugChem</td>\n",
       "      <td>0.9080</td>\n",
       "      <td>[(207791, nitrofurantoin , macrocrystals 2 5 mg oral capsule [ macrodantin ] ), (1544490, insulin , regular , human 8 unt inhalation powder [ afrezza ] ), (1543207, insulin , regular , human 4 unt inhalation powder [ afrezza ] ), (994456, phendimetrazine tartrate 3 5 mg oral tablet [ bock - arate ] ), (763018, insulin human , rdna origin 3 mg inhalation powder [ exubera ] )]</td>\n",
       "    </tr>\n",
       "    <tr>\n",
       "      <th>49</th>\n",
       "      <td>11::107::119</td>\n",
       "      <td>nortriptyline</td>\n",
       "      <td>DrugChem</td>\n",
       "      <td>0.9933</td>\n",
       "      <td>[(2054632, nortriptyline hydrochloride capsules), (2056385, nortriptyline hydrochloride oral solution), (375040, doxepin tablets), (374238, trimipramine capsules), (371532, citalopram tablets)]</td>\n",
       "    </tr>\n",
       "    <tr>\n",
       "      <th>50</th>\n",
       "      <td>11::143::153</td>\n",
       "      <td>simvastatin</td>\n",
       "      <td>DrugChem</td>\n",
       "      <td>1.0000</td>\n",
       "      <td>[(312962, simvastatin 5 mg oral tablet [ simvastatin ] ), (314231, simvastatin 1 0 mg oral tablet [ simvastatin ] ), (312961, simvastatin 2 0 mg oral tablet [ simvastatin ] ), (200345, simvastatin 8 0 mg oral tablet [ simvastatin ] ), (198211, simvastatin 4 0 mg oral tablet [ simvastatin ] )]</td>\n",
       "    </tr>\n",
       "    <tr>\n",
       "      <th>51</th>\n",
       "      <td>11::177::185</td>\n",
       "      <td>metamucil</td>\n",
       "      <td>DrugChem</td>\n",
       "      <td>0.7115</td>\n",
       "      <td>[(2099314, moxetumomab pasudotox - tdfk 1 mg injection [ lumoxiti ] ), (1233622, factor ix complex 1 unt injection [ bebulin ] ), (1670392, factor ix complex 1 unt injection [ profilnine ] ), (1095283, factor xiii , human 1 unt injection [ corifact ] ), (728491, protein c , human 1 unt injection [ ceprotin ] )]</td>\n",
       "    </tr>\n",
       "    <tr>\n",
       "      <th>52</th>\n",
       "      <td>11::222::230</td>\n",
       "      <td>neurontin</td>\n",
       "      <td>DrugChem</td>\n",
       "      <td>1.0000</td>\n",
       "      <td>[(2099314, moxetumomab pasudotox - tdfk 1 mg injection [ lumoxiti ] ), (1095283, factor xiii , human 1 unt injection [ corifact ] ), (207791, nitrofurantoin , macrocrystals 2 5 mg oral capsule [ macrodantin ] ), (205960, ergoloid mesylates , usp 1 mg oral tablet [ gerimal ] ), (104955, morphine sulfate 5 mg extended release oral tablet [ mst continus ] )]</td>\n",
       "    </tr>\n",
       "    <tr>\n",
       "      <th>54</th>\n",
       "      <td>11::289::320</td>\n",
       "      <td>lisinopril / hydrochlorothiazide</td>\n",
       "      <td>DrugChem</td>\n",
       "      <td>0.9633</td>\n",
       "      <td>[(311354, lisinopril 5 mg oral tablet [ lisinopril ] ), (206764, lisinopril 5 mg oral tablet [ prinivil ] ), (104376, lisinopril 5 mg oral tablet [ zestril ] ), (197770, hydrochlorothiazide 5 0 mg oral tablet [ hydrochlorothiazide ] ), (314076, lisinopril 1 0 mg oral tablet [ lisinopril ] )]</td>\n",
       "    </tr>\n",
       "    <tr>\n",
       "      <th>57</th>\n",
       "      <td>12::20::28</td>\n",
       "      <td>albuterol</td>\n",
       "      <td>DrugChem</td>\n",
       "      <td>0.8700</td>\n",
       "      <td>[(370542, albuterol tablets), (544499, albuterol oral solution), (2108226, albuterol inhalation solution), (745678, albuterol inhalation aerosol), (197316, albuterol 2 mg oral tablet)]</td>\n",
       "    </tr>\n",
       "    <tr>\n",
       "      <th>58</th>\n",
       "      <td>12::111::119</td>\n",
       "      <td>synthroid</td>\n",
       "      <td>DrugChem</td>\n",
       "      <td>1.0000</td>\n",
       "      <td>[(2099314, moxetumomab pasudotox - tdfk 1 mg injection [ lumoxiti ] ), (1095283, factor xiii , human 1 unt injection [ corifact ] ), (1544490, insulin , regular , human 8 unt inhalation powder [ afrezza ] ), (1543207, insulin , regular , human 4 unt inhalation powder [ afrezza ] ), (994456, phendimetrazine tartrate 3 5 mg oral tablet [ bock - arate ] )]</td>\n",
       "    </tr>\n",
       "    <tr>\n",
       "      <th>59</th>\n",
       "      <td>12::170::180</td>\n",
       "      <td>simvastatin</td>\n",
       "      <td>DrugChem</td>\n",
       "      <td>1.0000</td>\n",
       "      <td>[(312962, simvastatin 5 mg oral tablet [ simvastatin ] ), (314231, simvastatin 1 0 mg oral tablet [ simvastatin ] ), (312961, simvastatin 2 0 mg oral tablet [ simvastatin ] ), (200345, simvastatin 8 0 mg oral tablet [ simvastatin ] ), (198211, simvastatin 4 0 mg oral tablet [ simvastatin ] )]</td>\n",
       "    </tr>\n",
       "    <tr>\n",
       "      <th>60</th>\n",
       "      <td>12::234::243</td>\n",
       "      <td>zantac 150</td>\n",
       "      <td>DrugChem</td>\n",
       "      <td>1.0000</td>\n",
       "      <td>[(795144, urofollitropin 7 5 unt injection [ bravelle ] ), (207342, paramethadione 1 5 0 mg oral capsule [ paradione ] ), (211844, methsuximide 1 5 0 mg oral capsule [ celontin ] ), (105565, mitobronitol 1 2 5 mg oral tablet [ myelobromol ] ), (1728063, pegaspargase 7 5 0 unt / ml injection [ oncaspar ] )]</td>\n",
       "    </tr>\n",
       "    <tr>\n",
       "      <th>63</th>\n",
       "      <td>12::328::335</td>\n",
       "      <td>mestinon</td>\n",
       "      <td>DrugChem</td>\n",
       "      <td>0.9999</td>\n",
       "      <td>[(2099314, moxetumomab pasudotox - tdfk 1 mg injection [ lumoxiti ] ), (903859, pyridostigmine bromide 6 0 mg oral tablet [ mestinon ] ), (404640, methscopolamine bromide 5 mg oral tablet [ pamine ] ), (1356693, omacetaxine mepesuccinate 3 . 5 mg injection [ synribo ] ), (207140, neostigmine 1 5 mg oral tablet [ prostigmin bromide ] )]</td>\n",
       "    </tr>\n",
       "    <tr>\n",
       "      <th>64</th>\n",
       "      <td>12::372::379</td>\n",
       "      <td>mestinon</td>\n",
       "      <td>DrugChem</td>\n",
       "      <td>0.9999</td>\n",
       "      <td>[(2099314, moxetumomab pasudotox - tdfk 1 mg injection [ lumoxiti ] ), (903859, pyridostigmine bromide 6 0 mg oral tablet [ mestinon ] ), (404640, methscopolamine bromide 5 mg oral tablet [ pamine ] ), (1356693, omacetaxine mepesuccinate 3 . 5 mg injection [ synribo ] ), (207140, neostigmine 1 5 mg oral tablet [ prostigmin bromide ] )]</td>\n",
       "    </tr>\n",
       "    <tr>\n",
       "      <th>66</th>\n",
       "      <td>12::440::447</td>\n",
       "      <td>atrovent</td>\n",
       "      <td>DrugChem</td>\n",
       "      <td>0.9963</td>\n",
       "      <td>[(404640, methscopolamine bromide 5 mg oral tablet [ pamine forte ] ), (1797835, ipratropium bromide 2 1 ug nasal spray , metered [ atrovent ] ), (207086, methscopolamine bromide 2 . 5 mg oral tablet [ pamine ] ), (314088, methscopolamine bromide 2 . 5 mg oral tablet [ methscopolamine bromide ] ), (2045382, fluticasone furoate 5 0 ug respiratory ( inhalation ) powder [ arnuity ellipta ] )]</td>\n",
       "    </tr>\n",
       "    <tr>\n",
       "      <th>67</th>\n",
       "      <td>14::270::278</td>\n",
       "      <td>adenosine</td>\n",
       "      <td>DrugChem</td>\n",
       "      <td>1.0000</td>\n",
       "      <td>[(1361092, adenosine sublingual spray), (1153473, adenosine triphosphate cap / tab), (1654038, adenosine 3 mg / ml inj), (2054631, menadiol sodium diphosphate tablets), (856686, adenosine 3 mg / 1 ml intravenous solution)]</td>\n",
       "    </tr>\n",
       "    <tr>\n",
       "      <th>72</th>\n",
       "      <td>15::73::82</td>\n",
       "      <td>creatinine</td>\n",
       "      <td>DrugChem</td>\n",
       "      <td>1.0000</td>\n",
       "      <td>[(849628, creatinine 8 0 0 mg oral capsule), (746073, lithium aspartate 5 mg oral capsule), (198961, chromium aspartate 1 mg oral tablet), (1869470, sodium lactate 5 meq / ml injection), (1791855, milrinone lactate 1 mg / ml injection)]</td>\n",
       "    </tr>\n",
       "  </tbody>\n",
       "</table>\n",
       "</div>"
      ],
      "text/plain": [
       "          coords  ...                                                                                                                                                                                                                                                                                                                                                                                               rxnorm_opts\n",
       "0       0::0::10  ...                                                                                                                                                                                                   [(2054812, chloroquine phosphate tablets), (370622, atovaquone oral suspension), (757307, paromomycin oral solution), (2181643, azithromycin for injection), (2108548, tobramycin inhalation solution)]\n",
       "1      0::37::47  ...                                                                                                                                                                                                   [(2054812, chloroquine phosphate tablets), (370622, atovaquone oral suspension), (757307, paromomycin oral solution), (2181643, azithromycin for injection), (2108548, tobramycin inhalation solution)]\n",
       "2    0::100::111  ...                                                                                                                           [(2107778, fluconazole 5 0 mg oral tablet), (197702, flucytosine 2 5 0 mg oral capsule), (352218, voriconazole 5 0 mg oral tablet , film coated [ vfend ] ), (197701, fluconazole 5 0 mg oral tablet [ fluconazole ] ), (207106, fluconazole 5 0 mg oral tablet [ diflucan ] )]\n",
       "3    0::136::144  ...                                                                                                                             [(1811462, valacyclovir hydrochloride 1 g oral capsule), (314007, ganciclovir 2 5 0 mg oral capsule), (201905, acyclovir 4 0 0 mg oral tablet [ zovirax ] ), (197313, acyclovir 8 0 0 mg oral tablet [ acyclovir ] ), (213694, acyclovir 2 0 0 mg oral capsule [ zovirax ] )]\n",
       "7    0::351::363  ...                                                                                                                                                                                                  [(374405, nitroglycerin ointment), (705128, nitroglycerin lingual spray), (373106, nitroglycerin sublingual tablets), (242946, nitroglycerin 2 % transdermal ointment), (378154, aminophylline tablets)]\n",
       "10   0::518::528  ...                                                                                                                                     [(2107778, fluconazole 5 0 mg oral tablet), (197701, fluconazole 5 0 mg oral tablet [ fluconazole ] ), (207106, fluconazole 5 0 mg oral tablet [ diflucan ] ), (197702, flucytosine 2 5 0 mg oral capsule), (207108, fluconazole 1 5 0 mg oral tablet [ diflucan ] )]\n",
       "12   0::608::614  ...                 [(207791, nitrofurantoin , macrocrystals 2 5 mg oral capsule [ macrodantin ] ), (1544490, insulin , regular , human 8 unt inhalation powder [ afrezza ] ), (1543207, insulin , regular , human 4 unt inhalation powder [ afrezza ] ), (994456, phendimetrazine tartrate 3 5 mg oral tablet [ bock - arate ] ), (763018, insulin human , rdna origin 3 mg inhalation powder [ exubera ] )]\n",
       "14   0::690::698  ...                                     [(2099314, moxetumomab pasudotox - tdfk 1 mg injection [ lumoxiti ] ), (1095283, factor xiii , human 1 unt injection [ corifact ] ), (207791, nitrofurantoin , macrocrystals 2 5 mg oral capsule [ macrodantin ] ), (205960, ergoloid mesylates , usp 1 mg oral tablet [ gerimal ] ), (104955, morphine sulfate 5 mg extended release oral tablet [ mst continus ] )]\n",
       "16   0::846::855  ...                                                      [(1728063, pegaspargase 7 5 0 unt / ml injection [ oncaspar ] ), (2121428, calaspargase pegol - mknl 7 5 0 unt / ml injection [ asparlas ] ), (261137, monascus purpureus west 6 0 0 mg oral capsule [ cholestin ] ), (1087010, thyroid ( usp ) 1 9 5 mg oral tablet [ westhroid ] ), (208548, thyroid ( usp ) 1 8 0 mg oral tablet [ westhroid ] )]\n",
       "19       1::0::8  ...                                                                                                                                                                                                                  [(370542, albuterol tablets), (544499, albuterol oral solution), (2108226, albuterol inhalation solution), (745678, albuterol inhalation aerosol), (197316, albuterol 2 mg oral tablet)]\n",
       "20     1::39::46  ...  [(404640, methscopolamine bromide 5 mg oral tablet [ pamine forte ] ), (1797835, ipratropium bromide 2 1 ug nasal spray , metered [ atrovent ] ), (207086, methscopolamine bromide 2 . 5 mg oral tablet [ pamine ] ), (314088, methscopolamine bromide 2 . 5 mg oral tablet [ methscopolamine bromide ] ), (2045382, fluticasone furoate 5 0 ug respiratory ( inhalation ) powder [ arnuity ellipta ] )]\n",
       "21    1::92::100  ...                                                                                                                                                                                                                  [(370542, albuterol tablets), (544499, albuterol oral solution), (2108226, albuterol inhalation solution), (745678, albuterol inhalation aerosol), (197316, albuterol 2 mg oral tablet)]\n",
       "22   1::106::113  ...  [(404640, methscopolamine bromide 5 mg oral tablet [ pamine forte ] ), (1797835, ipratropium bromide 2 1 ug nasal spray , metered [ atrovent ] ), (207086, methscopolamine bromide 2 . 5 mg oral tablet [ pamine ] ), (314088, methscopolamine bromide 2 . 5 mg oral tablet [ methscopolamine bromide ] ), (2045382, fluticasone furoate 5 0 ug respiratory ( inhalation ) powder [ arnuity ellipta ] )]\n",
       "23   1::117::125  ...                                                        [(2099314, moxetumomab pasudotox - tdfk 1 mg injection [ lumoxiti ] ), (728491, protein c , human 1 unt injection [ ceprotin ] ), (1095283, factor xiii , human 1 unt injection [ corifact ] ), (1659991, antithrombin iii , human 1 unt injection [ thrombate iii ] ), (1544490, insulin , regular , human 8 unt inhalation powder [ afrezza ] )]\n",
       "25   1::202::217  ...                                                                                                                                                                                           [(245506, vitamin e 5 unt oral tablet), (246010, vitamin e 1 5 unt oral capsule), (245502, vitamin e 2 5 unt oral capsule), (150930, vitamin e 7 5 unt oral capsule), (235489, vitamin e 5 0 unt oral capsule)]\n",
       "26   1::264::272  ...                                                                                                                                                                                                  [(2054452, diltiazem hydrochloride tablets), (2247088, diltiazem hydrochloride for injection), (373067, nifedipine capsules), (370724, isradipine capsules), (1122731, verapamil hydrochloride crystal)]\n",
       "28   1::340::345  ...                                                                                    [(706831, risperidone 2 5 mg injection [ risperdal ] ), (2099314, moxetumomab pasudotox - tdfk 1 mg injection [ lumoxiti ] ), (205869, haloperidol 0 . 5 mg oral tablet [ haldol ] ), (1356693, omacetaxine mepesuccinate 3 . 5 mg injection [ synribo ] ), (706827, risperidone 3 7 . 5 mg injection [ risperdal ] )]\n",
       "29   1::364::374  ...                                                                                                                                                                                                       [(2054688, hydralazine hydrochloride tablets), (371254, captopril tablets), (2054374, enalapril maleate tablets), (2054464, fosinopril sodium tablets), (2054433, labetalol hydrochloride tablets)]\n",
       "31   1::521::526  ...                                                                                  [(2099314, moxetumomab pasudotox - tdfk 1 mg injection [ lumoxiti ] ), (1233622, factor ix complex 1 unt injection [ bebulin ] ), (1670392, factor ix complex 1 unt injection [ profilnine ] ), (1095283, factor xiii , human 1 unt injection [ corifact ] ), (728491, protein c , human 1 unt injection [ ceprotin ] )]\n",
       "32   1::594::604  ...                                                                                  [(2099314, moxetumomab pasudotox - tdfk 1 mg injection [ lumoxiti ] ), (1233622, factor ix complex 1 unt injection [ bebulin ] ), (1670392, factor ix complex 1 unt injection [ profilnine ] ), (728491, protein c , human 1 unt injection [ ceprotin ] ), (1095283, factor xiii , human 1 unt injection [ corifact ] )]\n",
       "33       2::0::6  ...                 [(207791, nitrofurantoin , macrocrystals 2 5 mg oral capsule [ macrodantin ] ), (1544490, insulin , regular , human 8 unt inhalation powder [ afrezza ] ), (1543207, insulin , regular , human 4 unt inhalation powder [ afrezza ] ), (994456, phendimetrazine tartrate 3 5 mg oral tablet [ bock - arate ] ), (763018, insulin human , rdna origin 3 mg inhalation powder [ exubera ] )]\n",
       "34     2::57::65  ...                                                                                                                             [(1811462, valacyclovir hydrochloride 1 g oral capsule), (314007, ganciclovir 2 5 0 mg oral capsule), (201905, acyclovir 4 0 0 mg oral tablet [ zovirax ] ), (197313, acyclovir 8 0 0 mg oral tablet [ acyclovir ] ), (213694, acyclovir 2 0 0 mg oral capsule [ zovirax ] )]\n",
       "35     2::89::97  ...                                                                                                                             [(1811462, valacyclovir hydrochloride 1 g oral capsule), (314007, ganciclovir 2 5 0 mg oral capsule), (201905, acyclovir 4 0 0 mg oral tablet [ zovirax ] ), (197313, acyclovir 8 0 0 mg oral tablet [ acyclovir ] ), (213694, acyclovir 2 0 0 mg oral capsule [ zovirax ] )]\n",
       "36   2::248::257  ...                                                                                                                                                                                                                             [(619044, folic acid tablets), (310410, folic acid 1 mg tab), (260001, folic acid 5 mg oral capsule), (199318, folic acid 5 mg oral tablet), (370601, ascorbic acid tablets)]\n",
       "39   2::428::433  ...                                                                                  [(2099314, moxetumomab pasudotox - tdfk 1 mg injection [ lumoxiti ] ), (1233622, factor ix complex 1 unt injection [ bebulin ] ), (1670392, factor ix complex 1 unt injection [ profilnine ] ), (1095283, factor xiii , human 1 unt injection [ corifact ] ), (728491, protein c , human 1 unt injection [ ceprotin ] )]\n",
       "41   2::553::561  ...                                                                                                                                                                                                                      [(372598, lidocaine ointment), (2099476, lidocaine hydrochloride jelly), (1010836, lidocaine 3 % lotion), (377743, lidocaine and prilocaine cream), (1796087, lidocaine 4 % lotion)]\n",
       "42   3::278::287  ...                                                                                                                                                              [(849628, creatinine 8 0 0 mg oral capsule), (746073, lithium aspartate 5 mg oral capsule), (198961, chromium aspartate 1 mg oral tablet), (1869470, sodium lactate 5 meq / ml injection), (1791855, milrinone lactate 1 mg / ml injection)]\n",
       "43   4::400::407  ...                                                                                                                                                                                         [(359226, atropine crystal), (2054609, atropine sulfate tablets), (2056255, atropine sulfate ophthalmic solution), (2050213, atropine sulfate ophthalmic ointment), (2054687, homatropine methylbromide tablets)]\n",
       "45     7::83::93  ...                                                                                                          [(1670253, cholesterol 3 [ hp_x ] oral pellet), (1600165, cholesterol 3 [ hp_x ] oral granule [ cholesterinum ] ), (1860361, cholesterol 3 0 [ hp_c ] oral pellet [ cholesterinum ] ), (1728726, egg phospholipids 2 [ hp_x ] oral tablet), (1667307, egg phospholipids 2 [ hp_x ] oral pellet)]\n",
       "46  10::397::406  ...                                                                                                                                                              [(849628, creatinine 8 0 0 mg oral capsule), (746073, lithium aspartate 5 mg oral capsule), (198961, chromium aspartate 1 mg oral tablet), (1869470, sodium lactate 5 meq / ml injection), (1791855, milrinone lactate 1 mg / ml injection)]\n",
       "47      11::0::6  ...                 [(207791, nitrofurantoin , macrocrystals 2 5 mg oral capsule [ macrodantin ] ), (1544490, insulin , regular , human 8 unt inhalation powder [ afrezza ] ), (1543207, insulin , regular , human 4 unt inhalation powder [ afrezza ] ), (994456, phendimetrazine tartrate 3 5 mg oral tablet [ bock - arate ] ), (763018, insulin human , rdna origin 3 mg inhalation powder [ exubera ] )]\n",
       "49  11::107::119  ...                                                                                                                                                                                                         [(2054632, nortriptyline hydrochloride capsules), (2056385, nortriptyline hydrochloride oral solution), (375040, doxepin tablets), (374238, trimipramine capsules), (371532, citalopram tablets)]\n",
       "50  11::143::153  ...                                                                                                     [(312962, simvastatin 5 mg oral tablet [ simvastatin ] ), (314231, simvastatin 1 0 mg oral tablet [ simvastatin ] ), (312961, simvastatin 2 0 mg oral tablet [ simvastatin ] ), (200345, simvastatin 8 0 mg oral tablet [ simvastatin ] ), (198211, simvastatin 4 0 mg oral tablet [ simvastatin ] )]\n",
       "51  11::177::185  ...                                                                                  [(2099314, moxetumomab pasudotox - tdfk 1 mg injection [ lumoxiti ] ), (1233622, factor ix complex 1 unt injection [ bebulin ] ), (1670392, factor ix complex 1 unt injection [ profilnine ] ), (1095283, factor xiii , human 1 unt injection [ corifact ] ), (728491, protein c , human 1 unt injection [ ceprotin ] )]\n",
       "52  11::222::230  ...                                     [(2099314, moxetumomab pasudotox - tdfk 1 mg injection [ lumoxiti ] ), (1095283, factor xiii , human 1 unt injection [ corifact ] ), (207791, nitrofurantoin , macrocrystals 2 5 mg oral capsule [ macrodantin ] ), (205960, ergoloid mesylates , usp 1 mg oral tablet [ gerimal ] ), (104955, morphine sulfate 5 mg extended release oral tablet [ mst continus ] )]\n",
       "54  11::289::320  ...                                                                                                      [(311354, lisinopril 5 mg oral tablet [ lisinopril ] ), (206764, lisinopril 5 mg oral tablet [ prinivil ] ), (104376, lisinopril 5 mg oral tablet [ zestril ] ), (197770, hydrochlorothiazide 5 0 mg oral tablet [ hydrochlorothiazide ] ), (314076, lisinopril 1 0 mg oral tablet [ lisinopril ] )]\n",
       "57    12::20::28  ...                                                                                                                                                                                                                  [(370542, albuterol tablets), (544499, albuterol oral solution), (2108226, albuterol inhalation solution), (745678, albuterol inhalation aerosol), (197316, albuterol 2 mg oral tablet)]\n",
       "58  12::111::119  ...                                       [(2099314, moxetumomab pasudotox - tdfk 1 mg injection [ lumoxiti ] ), (1095283, factor xiii , human 1 unt injection [ corifact ] ), (1544490, insulin , regular , human 8 unt inhalation powder [ afrezza ] ), (1543207, insulin , regular , human 4 unt inhalation powder [ afrezza ] ), (994456, phendimetrazine tartrate 3 5 mg oral tablet [ bock - arate ] )]\n",
       "59  12::170::180  ...                                                                                                     [(312962, simvastatin 5 mg oral tablet [ simvastatin ] ), (314231, simvastatin 1 0 mg oral tablet [ simvastatin ] ), (312961, simvastatin 2 0 mg oral tablet [ simvastatin ] ), (200345, simvastatin 8 0 mg oral tablet [ simvastatin ] ), (198211, simvastatin 4 0 mg oral tablet [ simvastatin ] )]\n",
       "60  12::234::243  ...                                                                                       [(795144, urofollitropin 7 5 unt injection [ bravelle ] ), (207342, paramethadione 1 5 0 mg oral capsule [ paradione ] ), (211844, methsuximide 1 5 0 mg oral capsule [ celontin ] ), (105565, mitobronitol 1 2 5 mg oral tablet [ myelobromol ] ), (1728063, pegaspargase 7 5 0 unt / ml injection [ oncaspar ] )]\n",
       "63  12::328::335  ...                                                         [(2099314, moxetumomab pasudotox - tdfk 1 mg injection [ lumoxiti ] ), (903859, pyridostigmine bromide 6 0 mg oral tablet [ mestinon ] ), (404640, methscopolamine bromide 5 mg oral tablet [ pamine ] ), (1356693, omacetaxine mepesuccinate 3 . 5 mg injection [ synribo ] ), (207140, neostigmine 1 5 mg oral tablet [ prostigmin bromide ] )]\n",
       "64  12::372::379  ...                                                         [(2099314, moxetumomab pasudotox - tdfk 1 mg injection [ lumoxiti ] ), (903859, pyridostigmine bromide 6 0 mg oral tablet [ mestinon ] ), (404640, methscopolamine bromide 5 mg oral tablet [ pamine ] ), (1356693, omacetaxine mepesuccinate 3 . 5 mg injection [ synribo ] ), (207140, neostigmine 1 5 mg oral tablet [ prostigmin bromide ] )]\n",
       "66  12::440::447  ...  [(404640, methscopolamine bromide 5 mg oral tablet [ pamine forte ] ), (1797835, ipratropium bromide 2 1 ug nasal spray , metered [ atrovent ] ), (207086, methscopolamine bromide 2 . 5 mg oral tablet [ pamine ] ), (314088, methscopolamine bromide 2 . 5 mg oral tablet [ methscopolamine bromide ] ), (2045382, fluticasone furoate 5 0 ug respiratory ( inhalation ) powder [ arnuity ellipta ] )]\n",
       "67  14::270::278  ...                                                                                                                                                                            [(1361092, adenosine sublingual spray), (1153473, adenosine triphosphate cap / tab), (1654038, adenosine 3 mg / ml inj), (2054631, menadiol sodium diphosphate tablets), (856686, adenosine 3 mg / 1 ml intravenous solution)]\n",
       "72    15::73::82  ...                                                                                                                                                              [(849628, creatinine 8 0 0 mg oral capsule), (746073, lithium aspartate 5 mg oral capsule), (198961, chromium aspartate 1 mg oral tablet), (1869470, sodium lactate 5 meq / ml injection), (1791855, milrinone lactate 1 mg / ml injection)]\n",
       "\n",
       "[45 rows x 5 columns]"
      ]
     },
     "execution_count": 28,
     "metadata": {
      "tags": []
     },
     "output_type": "execute_result"
    }
   ],
   "source": [
    "# rxnorm_analysis[rxnorm_analysis.rxnorm_conf>0.5]"
   ]
  },
  {
   "cell_type": "code",
   "execution_count": 0,
   "metadata": {
    "colab": {},
    "colab_type": "code",
    "id": "ZEPAiFXCIx2Z"
   },
   "outputs": [],
   "source": []
  }
 ],
 "metadata": {
  "colab": {
   "name": "ICD10CM-RxNorm-EntityResolution-Prescriptions.ipynb",
   "provenance": [],
   "toc_visible": true
  },
  "kernelspec": {
   "display_name": "jsl250",
   "language": "python",
   "name": "jsl250"
  },
  "language_info": {
   "codemirror_mode": {
    "name": "ipython",
    "version": 3
   },
   "file_extension": ".py",
   "mimetype": "text/x-python",
   "name": "python",
   "nbconvert_exporter": "python",
   "pygments_lexer": "ipython3",
   "version": "3.6.9"
  }
 },
 "nbformat": 4,
 "nbformat_minor": 1
}
