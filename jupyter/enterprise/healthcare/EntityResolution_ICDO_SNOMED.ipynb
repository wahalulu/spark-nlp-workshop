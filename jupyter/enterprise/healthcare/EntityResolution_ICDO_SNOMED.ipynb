{
 "cells": [
  {
   "cell_type": "markdown",
   "metadata": {
    "colab_type": "text",
    "id": "Hav2F1sxNHmy"
   },
   "source": [
    "[![Open In Colab](https://colab.research.google.com/assets/colab-badge.svg)](https://colab.research.google.com/github/JohnSnowLabs/spark-nlp-workshop/blob/master/jupyter/enterprise/healthcare/EntityResolution_ICDO_SNOMED.ipynb)"
   ]
  },
  {
   "cell_type": "markdown",
   "metadata": {
    "colab_type": "text",
    "id": "DYxY5b8WNHmw"
   },
   "source": [
    "<img src=\"https://nlp.johnsnowlabs.com/assets/images/logo.png\" width=\"180\" height=\"50\" style=\"float: left;\">"
   ]
  },
  {
   "cell_type": "markdown",
   "metadata": {
    "colab_type": "text",
    "id": "hRayBitmNHm0"
   },
   "source": [
    "# COLAB ENVIRONMENT SETUP"
   ]
  },
  {
   "cell_type": "code",
   "execution_count": 3,
   "metadata": {
    "colab": {
     "base_uri": "https://localhost:8080/",
     "height": 34
    },
    "colab_type": "code",
    "id": "BvsskI9dNHm2",
    "outputId": "a8d2a6e2-4486-4801-8b9d-8a0c3b981b7b"
   },
   "outputs": [
    {
     "data": {
      "text/plain": [
       "dict_keys(['secret', 'SPARK_NLP_LICENSE', 'JSL_OCR_LICENSE', 'AWS_ACCESS_KEY_ID', 'AWS_SECRET_ACCESS_KEY', 'JSL_OCR_SECRET'])"
      ]
     },
     "execution_count": 3,
     "metadata": {
      "tags": []
     },
     "output_type": "execute_result"
    }
   ],
   "source": [
    "import json\n",
    "\n",
    "with open('keys.json') as f:\n",
    "    license_keys = json.load(f)\n",
    "\n",
    "license_keys.keys()\n"
   ]
  },
  {
   "cell_type": "code",
   "execution_count": 4,
   "metadata": {
    "colab": {
     "base_uri": "https://localhost:8080/",
     "height": 170
    },
    "colab_type": "code",
    "id": "YjItswRvNHm_",
    "outputId": "e0426669-a56b-4ec1-be5c-dfe25784ecc9"
   },
   "outputs": [
    {
     "name": "stdout",
     "output_type": "stream",
     "text": [
      "openjdk version \"1.8.0_252\"\n",
      "OpenJDK Runtime Environment (build 1.8.0_252-8u252-b09-1~18.04-b09)\n",
      "OpenJDK 64-Bit Server VM (build 25.252-b09, mixed mode)\n",
      "Looking in indexes: https://pypi.org/simple, https://pypi.johnsnowlabs.com/9hk9l8ybo1\n",
      "Requirement already up-to-date: spark-nlp-jsl==2.5.1rc1 in /usr/local/lib/python3.6/dist-packages (2.5.1rc1)\n",
      "Requirement already satisfied, skipping upgrade: pyspark==2.4.4 in /usr/local/lib/python3.6/dist-packages (from spark-nlp-jsl==2.5.1rc1) (2.4.4)\n",
      "Requirement already satisfied, skipping upgrade: spark-nlp==2.5.1 in /usr/local/lib/python3.6/dist-packages (from spark-nlp-jsl==2.5.1rc1) (2.5.1)\n",
      "Requirement already satisfied, skipping upgrade: py4j==0.10.7 in /usr/local/lib/python3.6/dist-packages (from pyspark==2.4.4->spark-nlp-jsl==2.5.1rc1) (0.10.7)\n",
      "2.5.1\n"
     ]
    }
   ],
   "source": [
    "import os\n",
    "\n",
    "# Install java\n",
    "! apt-get update -qq\n",
    "! apt-get install -y openjdk-8-jdk-headless -qq > /dev/null\n",
    "\n",
    "secret = license_keys.get(\"secret\",license_keys.get('SPARK_NLP_SECRET', \"\"))\n",
    "spark_version = os.environ.get(\"SPARK_VERSION\", license_keys.get(\"SPARK_VERSION\",\"2.4\"))\n",
    "version = license_keys.get(\"version\",license_keys.get('SPARK_NLP_PUBLIC_VERSION', \"\"))\n",
    "jsl_version = license_keys.get(\"jsl_version\",license_keys.get('SPARK_NLP_VERSION', \"\"))\n",
    "\n",
    "os.environ[\"JAVA_HOME\"] = \"/usr/lib/jvm/java-8-openjdk-amd64\"\n",
    "os.environ[\"PATH\"] = os.environ[\"JAVA_HOME\"] + \"/bin:\" + os.environ[\"PATH\"]\n",
    "! java -version\n",
    "\n",
    "os.environ['SPARK_NLP_LICENSE'] = license_keys['SPARK_NLP_LICENSE']\n",
    "os.environ['JSL_OCR_LICENSE'] = license_keys['JSL_OCR_LICENSE']\n",
    "os.environ['AWS_ACCESS_KEY_ID']= license_keys['AWS_ACCESS_KEY_ID']\n",
    "os.environ['AWS_SECRET_ACCESS_KEY'] = license_keys['AWS_SECRET_ACCESS_KEY']\n",
    "\n",
    "print(spark_version, version, jsl_version)\n",
    "\n",
    "! python -m pip install \"pyspark==$spark_version\".*\n",
    "! python -m pip install --upgrade spark-nlp-jsl==$jsl_version  --extra-index-url https://pypi.johnsnowlabs.com/$secret\n",
    "\n",
    "import sparknlp\n",
    "import sparknlp_jsl\n",
    "from sparknlp.base import *\n",
    "from sparknlp.annotator import *\n",
    "from sparknlp_jsl.annotator import *\n",
    "from pyspark.ml import Pipeline\n",
    "from pyspark.sql import SparkSession\n",
    "\n",
    "print (sparknlp.version())\n",
    "print (sparknlp_jsl.version())\n",
    "\n",
    "spark = sparknlp_jsl.start(secret, gpu=False, spark23=(spark_version[:3]==\"2.3\"))"
   ]
  },
  {
   "cell_type": "code",
   "execution_count": 0,
   "metadata": {
    "colab": {},
    "colab_type": "code",
    "id": "8SQ9KP8dNHnG"
   },
   "outputs": [],
   "source": []
  },
  {
   "cell_type": "code",
   "execution_count": 0,
   "metadata": {
    "colab": {},
    "colab_type": "code",
    "id": "lpwcEH4qNHnN"
   },
   "outputs": [],
   "source": [
    "from pyspark.sql import functions as F\n",
    "import pandas as pd\n",
    "pd.set_option(\"display.max_colwidth\", 1000)"
   ]
  },
  {
   "cell_type": "markdown",
   "metadata": {
    "colab_type": "text",
    "id": "i_hdH_5LNHnW"
   },
   "source": [
    "# ICD-O - SNOMED Entity Resolution - version 2.4.6\n",
    "\n",
    "## Example for ICD-O Entity Resolution Pipeline\n",
    "A common NLP problem in medical applications is to identify histology behaviour in documented cancer studies.\n",
    "\n",
    "In this example we will use Spark-NLP to identify and resolve histology behavior expressions and resolve them to an ICD-O code.\n",
    "\n",
    "Some cancer related clinical notes (taken from https://www.cancernetwork.com/case-studies):  \n",
    "https://www.cancernetwork.com/case-studies/large-scrotal-mass-multifocal-intra-abdominal-retroperitoneal-and-pelvic-metastases  \n",
    "https://oncology.medicinematters.com/lymphoma/chronic-lymphocytic-leukemia/case-study-small-b-cell-lymphocytic-lymphoma-and-chronic-lymphoc/12133054\n",
    "https://oncology.medicinematters.com/lymphoma/epidemiology/central-nervous-system-lymphoma/12124056\n",
    "https://oncology.medicinematters.com/lymphoma/case-study-cutaneous-t-cell-lymphoma/12129416\n",
    "\n",
    "Note 1: Desmoplastic small round cell tumor\n",
    "<div style=\"border:2px solid #747474; background-color: #e3e3e3; margin: 5px; padding: 10px\"> \n",
    "A 35-year-old African-American man was referred to our urology clinic by his primary care physician for consultation about a large left scrotal mass. The patient reported a 3-month history of left scrotal swelling that had progressively increased in size and was associated with mild left scrotal pain. He also had complaints of mild constipation, with hard stools every other day. He denied any urinary complaints. On physical examination, a hard paratesticular mass could be palpated in the left hemiscrotum extending into the left groin, separate from the left testicle, and measuring approximately 10 × 7 cm in size. A hard, lower abdominal mass in the suprapubic region could also be palpated in the midline. The patient was admitted urgently to the hospital for further evaluation with cross-sectional imaging and blood work.\n",
    "\n",
    "Laboratory results, including results of a complete blood cell count with differential, liver function tests, coagulation panel, and basic chemistry panel, were unremarkable except for a serum creatinine level of 2.6 mg/dL. Typical markers for a testicular germ cell tumor were within normal limits: the beta–human chorionic gonadotropin level was less than 1 mIU/mL and the alpha fetoprotein level was less than 2.8 ng/mL. A CT scan of the chest, abdomen, and pelvis with intravenous contrast was obtained, and it showed large multifocal intra-abdominal, retroperitoneal, and pelvic masses (Figure 1). On cross-sectional imaging, a 7.8-cm para-aortic mass was visualized compressing the proximal portion of the left ureter, creating moderate left hydroureteronephrosis. Additionally, three separate pelvic masses were present in the retrovesical space, each measuring approximately 5 to 10 cm at their largest diameter; these displaced the bladder anteriorly and the rectum posteriorly.\n",
    "\n",
    "The patient underwent ultrasound-guided needle biopsy of one of the pelvic masses on hospital day 3 for definitive diagnosis. Microscopic examination of the tissue by our pathologist revealed cellular islands with oval to elongated, irregular, and hyperchromatic nuclei; scant cytoplasm; and invading fibrous tissue—as well as three mitoses per high-powered field (Figure 2). Immunohistochemical staining demonstrated strong positivity for cytokeratin AE1/AE3, vimentin, and desmin. Further mutational analysis of the cells detected the presence of an EWS-WT1 fusion transcript consistent with a diagnosis of desmoplastic small round cell tumor.\n",
    "</div>\n",
    "\n",
    "Note 2: SLL and CLL\n",
    "<div style=\"border:2px solid #747474; background-color: #e3e3e3; margin: 5px; padding: 10px\"> \n",
    "A 72-year-old man with a history of diabetes mellitus, hypertension, and hypercholesterolemia self-palpated a left submandibular lump in 2012. Complete blood count (CBC) in his internist’s office showed solitary leukocytosis (white count 22) with predominant lymphocytes for which he was referred to a hematologist. Peripheral blood flow cytometry on 04/11/12 confirmed chronic lymphocytic leukemia (CLL)/small lymphocytic lymphoma (SLL): abnormal cell population comprising 63% of CD45 positive leukocytes, co-expressing CD5 and CD23 in CD19-positive B cells. CD38 was negative but other prognostic markers were not assessed at that time. The patient was observed regularly for the next 3 years and his white count trend was as follows: 22.8 (4/2012) --> 28.5 (07/2012) --> 32.2 (12/2012) --> 36.5 (02/2013) --> 42 (09/2013) --> 44.9 (01/2014) --> 75.8 (2/2015). His other counts stayed normal until early 2015 when he also developed anemia (hemoglobin [HGB] 10.9) although platelets remained normal at 215. He had been noticing enlargement of his cervical, submandibular, supraclavicular, and axillary lymphadenopathy for several months since 2014 and a positron emission tomography (PET)/computed tomography (CT) scan done in 12/2014 had shown extensive diffuse lymphadenopathy within the neck, chest, abdomen, and pelvis. Maximum standardized uptake value (SUV max) was similar to low baseline activity within the vasculature of the neck and chest. In the abdomen and pelvis, however, there was mild to moderately hypermetabolic adenopathy measuring up to SUV of 4. The largest right neck nodes measured up to 2.3 x 3 cm and left neck nodes measured up to 2.3 x 1.5 cm. His right axillary lymphadenopathy measured up to 5.5 x 2.6 cm and on the left measured up to 4.8 x 3.4 cm. Lymph nodes on the right abdomen and pelvis measured up to 6.7 cm and seemed to have some mass effect with compression on the urinary bladder without symptoms. He underwent a bone marrow biopsy on 02/03/15, which revealed hypercellular marrow (60%) with involvement by CLL (30%); flow cytometry showed CD38 and ZAP-70 positivity; fluorescence in situ hybridization (FISH) analysis showed 13q deletion/monosomy 13; IgVH was unmutated; karyotype was 46XY.\n",
    "</div>\n",
    "\n",
    "Note 3: CNS lymphoma\n",
    "<div style=\"border:2px solid #747474; background-color: #e3e3e3; margin: 5px; padding: 10px\"> \n",
    "A 56-year-old woman began to experience vertigo, headaches, and frequent falls. A computed tomography (CT) scan of the brain revealed the presence of a 1.6 x 1.6 x 2.1 cm mass involving the fourth ventricle (Figure 14.1). A gadolinium-enhanced magnetic resonance imaging (MRI) scan confirmed the presence of the mass, and a stereotactic biopsy was performed that demonstrated a primary central nervous system lymphoma (PCNSL) with a diffuse large B-cell histology. Complete blood count (CBC), lactate dehydrogenase (LDH), and beta-2-microglobulin were normal. Systemic staging with a positron emission tomography (PET)/CT scan and bone marrow biopsy showed no evidence of lymphomatous involvement outside the CNS. An eye exam and lumbar puncture showed no evidence of either ocular or leptomeningeal involvement.\n",
    "</div>\n",
    "\n",
    "Note 4: Cutaneous T-cell lymphoma\n",
    "<div style=\"border:2px solid #747474; background-color: #e3e3e3; margin: 5px; padding: 10px\"> \n",
    "An 83-year-old female presented with a progressing pruritic cutaneous rash that started 8 years ago. On clinical exam there were numerous coalescing, infiltrated, scaly, and partially crusted erythematous plaques distributed over her trunk and extremities and a large fungating ulcerated nodule on her right thigh covering 75% of her total body surface area (Figure 10.1). Lymphoma associated alopecia and a left axillary lymphadenopathy were also noted. For the past 3–4 months she reported fatigue, severe pruritus, night sweats, 20 pounds of weight loss, and loss of appetite. \n",
    "</div>"
   ]
  },
  {
   "cell_type": "markdown",
   "metadata": {
    "colab_type": "text",
    "id": "RhNMBEeqNHnY"
   },
   "source": [
    "Let's create a dataset with all four case studies"
   ]
  },
  {
   "cell_type": "code",
   "execution_count": 0,
   "metadata": {
    "colab": {},
    "colab_type": "code",
    "id": "GMM6CNKWNHnZ"
   },
   "outputs": [],
   "source": [
    "notes = []\n",
    "notes.append(\"\"\"A 35-year-old African-American man was referred to our urology clinic by his primary care physician for consultation about a large left scrotal mass. The patient reported a 3-month history of left scrotal swelling that had progressively increased in size and was associated with mild left scrotal pain. He also had complaints of mild constipation, with hard stools every other day. He denied any urinary complaints. On physical examination, a hard paratesticular mass could be palpated in the left hemiscrotum extending into the left groin, separate from the left testicle, and measuring approximately 10 × 7 cm in size. A hard, lower abdominal mass in the suprapubic region could also be palpated in the midline. The patient was admitted urgently to the hospital for further evaluation with cross-sectional imaging and blood work.\n",
    "Laboratory results, including results of a complete blood cell count with differential, liver function tests, coagulation panel, and basic chemistry panel, were unremarkable except for a serum creatinine level of 2.6 mg/dL. Typical markers for a testicular germ cell tumor were within normal limits: the beta–human chorionic gonadotropin level was less than 1 mIU/mL and the alpha fetoprotein level was less than 2.8 ng/mL. A CT scan of the chest, abdomen, and pelvis with intravenous contrast was obtained, and it showed large multifocal intra-abdominal, retroperitoneal, and pelvic masses (Figure 1). On cross-sectional imaging, a 7.8-cm para-aortic mass was visualized compressing the proximal portion of the left ureter, creating moderate left hydroureteronephrosis. Additionally, three separate pelvic masses were present in the retrovesical space, each measuring approximately 5 to 10 cm at their largest diameter; these displaced the bladder anteriorly and the rectum posteriorly.\n",
    "The patient underwent ultrasound-guided needle biopsy of one of the pelvic masses on hospital day 3 for definitive diagnosis. Microscopic examination of the tissue by our pathologist revealed cellular islands with oval to elongated, irregular, and hyperchromatic nuclei; scant cytoplasm; and invading fibrous tissue—as well as three mitoses per high-powered field (Figure 2). Immunohistochemical staining demonstrated strong positivity for cytokeratin AE1/AE3, vimentin, and desmin. Further mutational analysis of the cells detected the presence of an EWS-WT1 fusion transcript consistent with a diagnosis of desmoplastic small round cell tumor.\"\"\")\n",
    "notes.append(\"\"\"A 72-year-old man with a history of diabetes mellitus, hypertension, and hypercholesterolemia self-palpated a left submandibular lump in 2012. Complete blood count (CBC) in his internist’s office showed solitary leukocytosis (white count 22) with predominant lymphocytes for which he was referred to a hematologist. Peripheral blood flow cytometry on 04/11/12 confirmed chronic lymphocytic leukemia (CLL)/small lymphocytic lymphoma (SLL): abnormal cell population comprising 63% of CD45 positive leukocytes, co-expressing CD5 and CD23 in CD19-positive B cells. CD38 was negative but other prognostic markers were not assessed at that time. The patient was observed regularly for the next 3 years and his white count trend was as follows: 22.8 (4/2012) --> 28.5 (07/2012) --> 32.2 (12/2012) --> 36.5 (02/2013) --> 42 (09/2013) --> 44.9 (01/2014) --> 75.8 (2/2015). His other counts stayed normal until early 2015 when he also developed anemia (hemoglobin [HGB] 10.9) although platelets remained normal at 215. He had been noticing enlargement of his cervical, submandibular, supraclavicular, and axillary lymphadenopathy for several months since 2014 and a positron emission tomography (PET)/computed tomography (CT) scan done in 12/2014 had shown extensive diffuse lymphadenopathy within the neck, chest, abdomen, and pelvis. Maximum standardized uptake value (SUV max) was similar to low baseline activity within the vasculature of the neck and chest. In the abdomen and pelvis, however, there was mild to moderately hypermetabolic adenopathy measuring up to SUV of 4. The largest right neck nodes measured up to 2.3 x 3 cm and left neck nodes measured up to 2.3 x 1.5 cm. His right axillary lymphadenopathy measured up to 5.5 x 2.6 cm and on the left measured up to 4.8 x 3.4 cm. Lymph nodes on the right abdomen and pelvis measured up to 6.7 cm and seemed to have some mass effect with compression on the urinary bladder without symptoms. He underwent a bone marrow biopsy on 02/03/15, which revealed hypercellular marrow (60%) with involvement by CLL (30%); flow cytometry showed CD38 and ZAP-70 positivity; fluorescence in situ hybridization (FISH) analysis showed 13q deletion/monosomy 13; IgVH was unmutated; karyotype was 46XY.\"\"\")\n",
    "notes.append(\"A 56-year-old woman began to experience vertigo, headaches, and frequent falls. A computed tomography (CT) scan of the brain revealed the presence of a 1.6 x 1.6 x 2.1 cm mass involving the fourth ventricle (Figure 14.1). A gadolinium-enhanced magnetic resonance imaging (MRI) scan confirmed the presence of the mass, and a stereotactic biopsy was performed that demonstrated a primary central nervous system lymphoma (PCNSL) with a diffuse large B-cell histology. Complete blood count (CBC), lactate dehydrogenase (LDH), and beta-2-microglobulin were normal. Systemic staging with a positron emission tomography (PET)/CT scan and bone marrow biopsy showed no evidence of lymphomatous involvement outside the CNS. An eye exam and lumbar puncture showed no evidence of either ocular or leptomeningeal involvement.\") \n",
    "notes.append(\"An 83-year-old female presented with a progressing pruritic cutaneous rash that started 8 years ago. On clinical exam there were numerous coalescing, infiltrated, scaly, and partially crusted erythematous plaques distributed over her trunk and extremities and a large fungating ulcerated nodule on her right thigh covering 75% of her total body surface area (Figure 10.1). Lymphoma associated alopecia and a left axillary lymphadenopathy were also noted. For the past 3–4 months she reported fatigue, severe pruritus, night sweats, 20 pounds of weight loss, and loss of appetite.\")\n",
    "\n",
    "# Notes column names\n",
    "\n",
    "docid_col         = \"doc_id\"\n",
    "note_col          = \"text_feed\"\n",
    "\n",
    "data = spark.createDataFrame([(i,n.lower()) for i,n in enumerate(notes)]).toDF(docid_col, note_col)"
   ]
  },
  {
   "cell_type": "markdown",
   "metadata": {
    "colab_type": "text",
    "id": "dCPjYF8BNHng"
   },
   "source": [
    "And let's build a SparkNLP pipeline with the following stages:\n",
    "- DocumentAssembler: Entry annotator for our pipelines; it creates the data structure for the Annotation Framework\n",
    "- SentenceDetector: Annotator to pragmatically separate complete sentences inside each document\n",
    "- Tokenizer: Annotator to separate sentences in tokens (generally words)\n",
    "- WordEmbeddings: Vectorization of word tokens, in this case using word embeddings trained from PubMed, ICD10 and other clinical resources.\n",
    "- EntityResolver: Annotator that performs search for the KNNs, in this case trained from ICDO Histology Behavior."
   ]
  },
  {
   "cell_type": "markdown",
   "metadata": {
    "colab_type": "text",
    "id": "qcX8fqmANHnh"
   },
   "source": [
    "In order to find cancer related chunks, we are going to use a pretrained Search Trie wrapped up in our TextMatcher Annotator; and to identify treatments/procedures we are going to use our good old NER.\n",
    "\n",
    "- NerDLModel: TensorFlow based Named Entity Recognizer, trained to extract PROBLEMS, TREATMENTS and TESTS\n",
    "- NerConverter: Chunk builder out of tokens tagged by the Ner Model"
   ]
  },
  {
   "cell_type": "code",
   "execution_count": 7,
   "metadata": {
    "colab": {
     "base_uri": "https://localhost:8080/",
     "height": 68
    },
    "colab_type": "code",
    "id": "bnrv5H_vNHnj",
    "outputId": "f8510f00-93e1-4d0a-922e-3514ba165ce1"
   },
   "outputs": [
    {
     "name": "stdout",
     "output_type": "stream",
     "text": [
      "embeddings_clinical download started this may take some time.\n",
      "Approximate size to download 1.6 GB\n",
      "[OK!]\n"
     ]
    }
   ],
   "source": [
    "docAssembler = DocumentAssembler().setInputCol(note_col).setOutputCol(\"document\")\n",
    "\n",
    "sentenceDetector = SentenceDetector().setInputCols(\"document\").setOutputCol(\"sentence\")\n",
    "\n",
    "tokenizer = Tokenizer().setInputCols(\"sentence\").setOutputCol(\"token\")\n",
    "\n",
    "#Working on adjusting WordEmbeddingsModel to work with the subset of matched tokens\n",
    "word_embeddings = WordEmbeddingsModel.pretrained(\"embeddings_clinical\", \"en\", \"clinical/models\")\\\n",
    "    .setInputCols(\"sentence\", \"token\")\\\n",
    "    .setOutputCol(\"word_embeddings\")"
   ]
  },
  {
   "cell_type": "code",
   "execution_count": 10,
   "metadata": {
    "colab": {
     "base_uri": "https://localhost:8080/",
     "height": 119
    },
    "colab_type": "code",
    "id": "wFTmht9XNHnw",
    "outputId": "a5112bfd-142c-4291-911a-8c1d4b5ec6dd"
   },
   "outputs": [
    {
     "name": "stdout",
     "output_type": "stream",
     "text": [
      "ner_bionlp download started this may take some time.\n",
      "Approximate size to download 13.9 MB\n",
      "[OK!]\n",
      "chunkresolve_icdo_clinical download started this may take some time.\n",
      "Approximate size to download 8.2 MB\n",
      "[OK!]\n"
     ]
    }
   ],
   "source": [
    "icdo_ner = NerDLModel.pretrained(\"ner_bionlp\", \"en\", \"clinical/models\")\\\n",
    "    .setInputCols(\"sentence\", \"token\", \"word_embeddings\")\\\n",
    "    .setOutputCol(\"icdo_ner\")\n",
    "\n",
    "icdo_chunk = NerConverter().setInputCols(\"sentence\",\"token\",\"icdo_ner\").setOutputCol(\"icdo_chunk\").setWhiteList([\"Cancer\"])\n",
    "\n",
    "icdo_chunk_embeddings = ChunkEmbeddings()\\\n",
    "    .setInputCols(\"icdo_chunk\", \"word_embeddings\")\\\n",
    "    .setOutputCol(\"icdo_chunk_embeddings\")\n",
    "\n",
    "icdo_chunk_resolver = ChunkEntityResolverModel.pretrained(\"chunkresolve_icdo_clinical\", \"en\", \"clinical/models\")\\\n",
    "    .setInputCols(\"token\",\"icdo_chunk_embeddings\")\\\n",
    "    .setOutputCol(\"tm_icdo_code\")"
   ]
  },
  {
   "cell_type": "code",
   "execution_count": 11,
   "metadata": {
    "colab": {
     "base_uri": "https://localhost:8080/",
     "height": 68
    },
    "colab_type": "code",
    "id": "_dR03PWjNHn3",
    "outputId": "67b886ba-3c37-4711-f504-cc903bc79c33"
   },
   "outputs": [
    {
     "name": "stdout",
     "output_type": "stream",
     "text": [
      "ner_clinical download started this may take some time.\n",
      "Approximate size to download 13.8 MB\n",
      "[OK!]\n"
     ]
    }
   ],
   "source": [
    "clinical_ner = NerDLModel.pretrained(\"ner_clinical\", \"en\", \"clinical/models\") \\\n",
    "  .setInputCols([\"sentence\", \"token\", \"word_embeddings\"]) \\\n",
    "  .setOutputCol(\"ner\")\n",
    "\n",
    "ner_converter = NerConverter() \\\n",
    "  .setInputCols([\"sentence\", \"token\", \"ner\"]) \\\n",
    "  .setOutputCol(\"ner_chunk\")\n",
    "\n",
    "ner_chunk_tokenizer = ChunkTokenizer()\\\n",
    "    .setInputCols(\"ner_chunk\")\\\n",
    "    .setOutputCol(\"ner_token\")\n",
    "\n",
    "ner_chunk_embeddings = ChunkEmbeddings()\\\n",
    "    .setInputCols(\"ner_chunk\", \"word_embeddings\")\\\n",
    "    .setOutputCol(\"ner_chunk_embeddings\")"
   ]
  },
  {
   "cell_type": "code",
   "execution_count": 13,
   "metadata": {
    "colab": {
     "base_uri": "https://localhost:8080/",
     "height": 68
    },
    "colab_type": "code",
    "id": "IZl49BCVNHn-",
    "outputId": "a417d9b5-e7bb-49c7-a497-aa340af92c61"
   },
   "outputs": [
    {
     "name": "stdout",
     "output_type": "stream",
     "text": [
      "ensembleresolve_snomed_clinical download started this may take some time.\n",
      "Approximate size to download 592.9 MB\n",
      "[OK!]\n"
     ]
    }
   ],
   "source": [
    "#SNOMED Resolution\n",
    "ner_snomed_resolver = \\\n",
    "    ChunkEntityResolverModel.pretrained(\"chunkresolve_snomed_findings_clinical\",\"en\",\"clinical/models\")\\\n",
    "    .setInputCols(\"ner_token\",\"ner_chunk_embeddings\").setOutputCol(\"snomed_result\")"
   ]
  },
  {
   "cell_type": "code",
   "execution_count": 0,
   "metadata": {
    "colab": {},
    "colab_type": "code",
    "id": "EQenYMniNHoE"
   },
   "outputs": [],
   "source": [
    "pipelineFull = Pipeline().setStages([\n",
    "    docAssembler, \n",
    "    sentenceDetector, \n",
    "    tokenizer, \n",
    "    word_embeddings, \n",
    "    \n",
    "    clinical_ner, \n",
    "    ner_converter, \n",
    "    ner_chunk_embeddings,\n",
    "    ner_chunk_tokenizer,\n",
    "    ner_snomed_resolver,\n",
    "    \n",
    "    icdo_ner,\n",
    "    icdo_chunk,\n",
    "    icdo_chunk_embeddings, \n",
    "    icdo_chunk_resolver\n",
    "])"
   ]
  },
  {
   "cell_type": "markdown",
   "metadata": {
    "colab_type": "text",
    "id": "5-fevCw_NHoL"
   },
   "source": [
    "Let's train our Pipeline and make it ready to start transforming"
   ]
  },
  {
   "cell_type": "code",
   "execution_count": 0,
   "metadata": {
    "colab": {},
    "colab_type": "code",
    "id": "BmJI1pN4NHoM"
   },
   "outputs": [],
   "source": [
    "pipelineModelFull = pipelineFull.fit(data)"
   ]
  },
  {
   "cell_type": "code",
   "execution_count": 0,
   "metadata": {
    "colab": {},
    "colab_type": "code",
    "id": "_z_FMNcJNHoT"
   },
   "outputs": [],
   "source": [
    "output = pipelineModelFull.transform(data).cache()"
   ]
  },
  {
   "cell_type": "markdown",
   "metadata": {
    "colab_type": "text",
    "id": "dsqbRaEiNHoZ"
   },
   "source": [
    "### EntityResolver:  \n",
    "Trained on an augmented ICDO Dataset from JSL Data Market it provides histology codes resolution for the matched expressions. Other than providing the code in the \"result\" field it provides more metadata about the matching process:  \n",
    "\n",
    "- target_text -> Text to resolve\n",
    "- resolved_text -> Best match text\n",
    "- confidence -> Relative confidence for the top match (distance to probability)\n",
    "- confidence_ratio -> Relative confidence for the top match. TopMatchConfidence / SecondMatchConfidence\n",
    "- alternative_codes -> List of other plausible codes (in the KNN neighborhood)\n",
    "- alternative_confidence_ratios -> Rest of confidence ratios\n",
    "- all_k_results -> All resolved codes for metrics calculation purposes\n",
    "- sentence -> SentenceId\n",
    "- chunk -> ChunkId"
   ]
  },
  {
   "cell_type": "code",
   "execution_count": 0,
   "metadata": {
    "colab": {},
    "colab_type": "code",
    "id": "w9zgN6I-TcEh"
   },
   "outputs": [],
   "source": []
  },
  {
   "cell_type": "code",
   "execution_count": 0,
   "metadata": {
    "colab": {},
    "colab_type": "code",
    "id": "cDZ0ywHaTczN"
   },
   "outputs": [],
   "source": [
    "# def quick_metadata_analysis(df, doc_field, chunk_field, code_fields):\n",
    "#     code_res_meta = \", \".join([f\"{cf}.metadata\" for cf in code_fields])\n",
    "#     expression = f\"explode(arrays_zip({chunk_field}.begin, {chunk_field}.end, {chunk_field}.result, {chunk_field}.metadata, \"+code_res_meta+\")) as a\"\n",
    "#     top_n_rest = [(f\"float(a['{i+4}'].confidence) as {(cf.split('_')[0])}_conf\",\n",
    "#                     f\"arrays_zip(split(a['{i+4}'].all_k_results,':::'),split(a['{i+4}'].all_k_resolutions,':::')) as {cf.split('_')[0]+'_opts'}\")\n",
    "#                     for i, cf in enumerate(code_fields)]\n",
    "#     top_n_rest_args = []\n",
    "#     for tr in top_n_rest:\n",
    "#         for t in tr:\n",
    "#             top_n_rest_args.append(t)\n",
    "#     return df.selectExpr(doc_field, expression) \\\n",
    "#         .orderBy(docid_col, F.expr(\"a['0']\"), F.expr(\"a['1']\"))\\\n",
    "#         .selectExpr(f\"concat_ws('::',{doc_field},a['0'],a['1']) as coords\", \"a['2'] as chunk\",\"a['3'].entity as entity\", *top_n_rest_args)"
   ]
  },
  {
   "cell_type": "code",
   "execution_count": 0,
   "metadata": {
    "colab": {},
    "colab_type": "code",
    "id": "NxGONpdfTb_B"
   },
   "outputs": [],
   "source": [
    "# icdo = \\\n",
    "# quick_metadata_analysis(output, docid_col, \"icdo_chunk\",[\"tm_icdo_code\"]).toPandas()"
   ]
  },
  {
   "cell_type": "code",
   "execution_count": 0,
   "metadata": {
    "colab": {},
    "colab_type": "code",
    "id": "_WMLu8vbU7kZ"
   },
   "outputs": [],
   "source": [
    "# snomed = \\\n",
    "# quick_metadata_analysis(output, docid_col, \"ner_chunk\",[\"snomed_result\"]).toPandas()"
   ]
  },
  {
   "cell_type": "code",
   "execution_count": 0,
   "metadata": {
    "colab": {},
    "colab_type": "code",
    "id": "qBJt01j4VjL5"
   },
   "outputs": [],
   "source": []
  },
  {
   "cell_type": "code",
   "execution_count": 19,
   "metadata": {
    "colab": {
     "base_uri": "https://localhost:8080/",
     "height": 390
    },
    "colab_type": "code",
    "id": "lCYB49SdVkbu",
    "outputId": "90cac713-03b6-4179-c2b2-4e8815b7a0bc"
   },
   "outputs": [
    {
     "data": {
      "text/html": [
       "<div>\n",
       "<style scoped>\n",
       "    .dataframe tbody tr th:only-of-type {\n",
       "        vertical-align: middle;\n",
       "    }\n",
       "\n",
       "    .dataframe tbody tr th {\n",
       "        vertical-align: top;\n",
       "    }\n",
       "\n",
       "    .dataframe thead th {\n",
       "        text-align: right;\n",
       "    }\n",
       "</style>\n",
       "<table border=\"1\" class=\"dataframe\">\n",
       "  <thead>\n",
       "    <tr style=\"text-align: right;\">\n",
       "      <th></th>\n",
       "      <th>coords</th>\n",
       "      <th>chunk</th>\n",
       "      <th>entity</th>\n",
       "      <th>tm_conf</th>\n",
       "      <th>tm_opts</th>\n",
       "    </tr>\n",
       "  </thead>\n",
       "  <tbody>\n",
       "    <tr>\n",
       "      <th>0</th>\n",
       "      <td>0::448::461</td>\n",
       "      <td>paratesticular</td>\n",
       "      <td>Cancer</td>\n",
       "      <td>0.1276</td>\n",
       "      <td>[(9540/3, Malignant peripheral nerve sheath tu...</td>\n",
       "    </tr>\n",
       "    <tr>\n",
       "      <th>1</th>\n",
       "      <td>0::1078::1103</td>\n",
       "      <td>testicular germ cell tumor</td>\n",
       "      <td>Cancer</td>\n",
       "      <td>0.0849</td>\n",
       "      <td>[(9085/3, Mixed germ cell tumor), (9065/3, Ger...</td>\n",
       "    </tr>\n",
       "    <tr>\n",
       "      <th>2</th>\n",
       "      <td>0::1632::1644</td>\n",
       "      <td>pelvic masses</td>\n",
       "      <td>Cancer</td>\n",
       "      <td>0.1089</td>\n",
       "      <td>[(8312/3, Renal cell carcinoma), (8162/3, Klat...</td>\n",
       "    </tr>\n",
       "    <tr>\n",
       "      <th>3</th>\n",
       "      <td>0::2429::2463</td>\n",
       "      <td>desmoplastic small round cell tumor</td>\n",
       "      <td>Cancer</td>\n",
       "      <td>0.1150</td>\n",
       "      <td>[(8806/3, Desmoplastic small round cell tumor)...</td>\n",
       "    </tr>\n",
       "    <tr>\n",
       "      <th>4</th>\n",
       "      <td>1::370::397</td>\n",
       "      <td>chronic lymphocytic leukemia</td>\n",
       "      <td>Cancer</td>\n",
       "      <td>0.0710</td>\n",
       "      <td>[(9729/3, Precursor T-cell lymphoblastic lymph...</td>\n",
       "    </tr>\n",
       "    <tr>\n",
       "      <th>5</th>\n",
       "      <td>1::399::399</td>\n",
       "      <td>(</td>\n",
       "      <td>Cancer</td>\n",
       "      <td>0.0667</td>\n",
       "      <td>[(9591/3, Malignant lymphoma, non-Hodgkin), (9...</td>\n",
       "    </tr>\n",
       "    <tr>\n",
       "      <th>6</th>\n",
       "      <td>1::411::430</td>\n",
       "      <td>lymphocytic lymphoma</td>\n",
       "      <td>Cancer</td>\n",
       "      <td>0.0698</td>\n",
       "      <td>[(9673/3, Mantle cell lymphoma), (9823/3, Chro...</td>\n",
       "    </tr>\n",
       "    <tr>\n",
       "      <th>7</th>\n",
       "      <td>2::386::416</td>\n",
       "      <td>central nervous system lymphoma</td>\n",
       "      <td>Cancer</td>\n",
       "      <td>0.0918</td>\n",
       "      <td>[(9501/3, Medulloepithelioma, NOS), (9475/3, M...</td>\n",
       "    </tr>\n",
       "    <tr>\n",
       "      <th>8</th>\n",
       "      <td>2::419::423</td>\n",
       "      <td>pcnsl</td>\n",
       "      <td>Cancer</td>\n",
       "      <td>0.2148</td>\n",
       "      <td>[(9679/3, Mediastinal large B-cell lymphoma), ...</td>\n",
       "    </tr>\n",
       "    <tr>\n",
       "      <th>9</th>\n",
       "      <td>3::373::380</td>\n",
       "      <td>lymphoma</td>\n",
       "      <td>Cancer</td>\n",
       "      <td>0.0662</td>\n",
       "      <td>[(9591/3, Malignant lymphoma, non-Hodgkin), (9...</td>\n",
       "    </tr>\n",
       "    <tr>\n",
       "      <th>10</th>\n",
       "      <td>3::408::436</td>\n",
       "      <td>left axillary lymphadenopathy</td>\n",
       "      <td>Cancer</td>\n",
       "      <td>0.2064</td>\n",
       "      <td>[(9705/3, Angioimmunoblastic T-cell lymphoma),...</td>\n",
       "    </tr>\n",
       "  </tbody>\n",
       "</table>\n",
       "</div>"
      ],
      "text/plain": [
       "           coords  ...                                            tm_opts\n",
       "0     0::448::461  ...  [(9540/3, Malignant peripheral nerve sheath tu...\n",
       "1   0::1078::1103  ...  [(9085/3, Mixed germ cell tumor), (9065/3, Ger...\n",
       "2   0::1632::1644  ...  [(8312/3, Renal cell carcinoma), (8162/3, Klat...\n",
       "3   0::2429::2463  ...  [(8806/3, Desmoplastic small round cell tumor)...\n",
       "4     1::370::397  ...  [(9729/3, Precursor T-cell lymphoblastic lymph...\n",
       "5     1::399::399  ...  [(9591/3, Malignant lymphoma, non-Hodgkin), (9...\n",
       "6     1::411::430  ...  [(9673/3, Mantle cell lymphoma), (9823/3, Chro...\n",
       "7     2::386::416  ...  [(9501/3, Medulloepithelioma, NOS), (9475/3, M...\n",
       "8     2::419::423  ...  [(9679/3, Mediastinal large B-cell lymphoma), ...\n",
       "9     3::373::380  ...  [(9591/3, Malignant lymphoma, non-Hodgkin), (9...\n",
       "10    3::408::436  ...  [(9705/3, Angioimmunoblastic T-cell lymphoma),...\n",
       "\n",
       "[11 rows x 5 columns]"
      ]
     },
     "execution_count": 19,
     "metadata": {
      "tags": []
     },
     "output_type": "execute_result"
    }
   ],
   "source": [
    "# icdo"
   ]
  },
  {
   "cell_type": "code",
   "execution_count": 26,
   "metadata": {
    "colab": {
     "base_uri": "https://localhost:8080/",
     "height": 572
    },
    "colab_type": "code",
    "id": "0aKIffkvVjJ5",
    "outputId": "c9793b72-5c93-4541-a904-8232ce123a79"
   },
   "outputs": [
    {
     "data": {
      "text/html": [
       "<div>\n",
       "<style scoped>\n",
       "    .dataframe tbody tr th:only-of-type {\n",
       "        vertical-align: middle;\n",
       "    }\n",
       "\n",
       "    .dataframe tbody tr th {\n",
       "        vertical-align: top;\n",
       "    }\n",
       "\n",
       "    .dataframe thead th {\n",
       "        text-align: right;\n",
       "    }\n",
       "</style>\n",
       "<table border=\"1\" class=\"dataframe\">\n",
       "  <thead>\n",
       "    <tr style=\"text-align: right;\">\n",
       "      <th></th>\n",
       "      <th>coords</th>\n",
       "      <th>chunk</th>\n",
       "      <th>entity</th>\n",
       "      <th>snomed_conf</th>\n",
       "      <th>snomed_opts</th>\n",
       "    </tr>\n",
       "  </thead>\n",
       "  <tbody>\n",
       "    <tr>\n",
       "      <th>0</th>\n",
       "      <td>0::123::147</td>\n",
       "      <td>a large left scrotal mass</td>\n",
       "      <td>PROBLEM</td>\n",
       "      <td>0.2057</td>\n",
       "      <td>[(15634751000119101, Mass of left ovary), (12240181000119103, Mass in left breast), (10682191000119102, Mass of skin of left foot), (10682271000119109, Mass of skin of left hand), (10692461000119101, Mass of skin of left thumb)]</td>\n",
       "    </tr>\n",
       "    <tr>\n",
       "      <th>1</th>\n",
       "      <td>0::192::212</td>\n",
       "      <td>left scrotal swelling</td>\n",
       "      <td>PROBLEM</td>\n",
       "      <td>0.2164</td>\n",
       "      <td>[(762916009, Swelling of left foot), (12242351000119109, Swelling of left arm), (442648006, Swelling of left tonsil), (10678471000119104, Localised swelling of left foot), (10679071000119103, Localised swelling of left hand)]</td>\n",
       "    </tr>\n",
       "    <tr>\n",
       "      <th>2</th>\n",
       "      <td>0::223::253</td>\n",
       "      <td>progressively increased in size</td>\n",
       "      <td>PROBLEM</td>\n",
       "      <td>0.2464</td>\n",
       "      <td>[(691471000119109, Ischemia co-occurrent and due to increased oxygen demand (disorder)), (191290006, Hemorrhagic disorder due to increase in anti-8a), (4069002, Cerebral hypoxia during AND/OR resulting from a procedure), (14052004, Impaired glucose tolerance in and individual with a heritable form of maturity onset diabetes in the young), (59534005, Passage of meconium, not clear if noted before OR after onset of labour in liveborn infant)]</td>\n",
       "    </tr>\n",
       "    <tr>\n",
       "      <th>3</th>\n",
       "      <td>0::279::300</td>\n",
       "      <td>mild left scrotal pain</td>\n",
       "      <td>PROBLEM</td>\n",
       "      <td>0.2551</td>\n",
       "      <td>[(722829006, Acute scrotal pain), (301368006, Left hypochondrial pain), (316821000119105, Pain of left thigh), (316851000119102, Pain of left wrist), (316751000119107, Pain in left foot)]</td>\n",
       "    </tr>\n",
       "    <tr>\n",
       "      <th>4</th>\n",
       "      <td>0::329::345</td>\n",
       "      <td>mild constipation</td>\n",
       "      <td>PROBLEM</td>\n",
       "      <td>0.2228</td>\n",
       "      <td>[(111360009, Intractable constipation), (197118003, Functional constipation), (370218001, Mild asthma), (426979002, Mild persistent asthma), (427679007, Mild intermittent asthma)]</td>\n",
       "    </tr>\n",
       "    <tr>\n",
       "      <th>...</th>\n",
       "      <td>...</td>\n",
       "      <td>...</td>\n",
       "      <td>...</td>\n",
       "      <td>...</td>\n",
       "      <td>...</td>\n",
       "    </tr>\n",
       "    <tr>\n",
       "      <th>126</th>\n",
       "      <td>3::492::498</td>\n",
       "      <td>fatigue</td>\n",
       "      <td>PROBLEM</td>\n",
       "      <td>0.2335</td>\n",
       "      <td>[(84229001, Fatigue), (8614008, Voice fatigue), (442099003, Psychogenic fatigue), (61157009, Combat fatigue), (444042007, Postexertional fatigue)]</td>\n",
       "    </tr>\n",
       "    <tr>\n",
       "      <th>127</th>\n",
       "      <td>3::501::515</td>\n",
       "      <td>severe pruritus</td>\n",
       "      <td>PROBLEM</td>\n",
       "      <td>0.2485</td>\n",
       "      <td>[(418363000, Pruritus), (276444007, Generalised pruritus), (279333002, Pruritus of skin), (42570001, Pruritus senilis), (238695001, Aquagenic pruritus)]</td>\n",
       "    </tr>\n",
       "    <tr>\n",
       "      <th>128</th>\n",
       "      <td>3::518::529</td>\n",
       "      <td>night sweats</td>\n",
       "      <td>PROBLEM</td>\n",
       "      <td>0.2705</td>\n",
       "      <td>[(42984000, Night sweats), (415690000, Sweats), (224962007, Hot sweats), (161858001, Sweats normally), (65194006, Night blindness)]</td>\n",
       "    </tr>\n",
       "    <tr>\n",
       "      <th>129</th>\n",
       "      <td>3::545::555</td>\n",
       "      <td>weight loss</td>\n",
       "      <td>PROBLEM</td>\n",
       "      <td>0.2134</td>\n",
       "      <td>[(89362005, Weight loss), (359649009, Weight loss diet), (267024001, Abnormal weight loss), (309257005, Excessive weight loss), (161832001, Progressive weight loss)]</td>\n",
       "    </tr>\n",
       "    <tr>\n",
       "      <th>130</th>\n",
       "      <td>3::562::577</td>\n",
       "      <td>loss of appetite</td>\n",
       "      <td>PROBLEM</td>\n",
       "      <td>0.2441</td>\n",
       "      <td>[(79890006, Loss of appetite), (405788002, Psychogenic loss of appetite), (289161009, Observation of appetite), (282299006, Loss of balance), (277521002, Loss of motivation)]</td>\n",
       "    </tr>\n",
       "  </tbody>\n",
       "</table>\n",
       "<p>131 rows × 5 columns</p>\n",
       "</div>"
      ],
      "text/plain": [
       "          coords  ...                                                                                                                                                                                                                                                                                                                                                                                                                                                   snomed_opts\n",
       "0    0::123::147  ...                                                                                                                                                                                                                          [(15634751000119101, Mass of left ovary), (12240181000119103, Mass in left breast), (10682191000119102, Mass of skin of left foot), (10682271000119109, Mass of skin of left hand), (10692461000119101, Mass of skin of left thumb)]\n",
       "1    0::192::212  ...                                                                                                                                                                                                                             [(762916009, Swelling of left foot), (12242351000119109, Swelling of left arm), (442648006, Swelling of left tonsil), (10678471000119104, Localised swelling of left foot), (10679071000119103, Localised swelling of left hand)]\n",
       "2    0::223::253  ...  [(691471000119109, Ischemia co-occurrent and due to increased oxygen demand (disorder)), (191290006, Hemorrhagic disorder due to increase in anti-8a), (4069002, Cerebral hypoxia during AND/OR resulting from a procedure), (14052004, Impaired glucose tolerance in and individual with a heritable form of maturity onset diabetes in the young), (59534005, Passage of meconium, not clear if noted before OR after onset of labour in liveborn infant)]\n",
       "3    0::279::300  ...                                                                                                                                                                                                                                                                   [(722829006, Acute scrotal pain), (301368006, Left hypochondrial pain), (316821000119105, Pain of left thigh), (316851000119102, Pain of left wrist), (316751000119107, Pain in left foot)]\n",
       "4    0::329::345  ...                                                                                                                                                                                                                                                                           [(111360009, Intractable constipation), (197118003, Functional constipation), (370218001, Mild asthma), (426979002, Mild persistent asthma), (427679007, Mild intermittent asthma)]\n",
       "..           ...  ...                                                                                                                                                                                                                                                                                                                                                                                                                                                           ...\n",
       "126  3::492::498  ...                                                                                                                                                                                                                                                                                                            [(84229001, Fatigue), (8614008, Voice fatigue), (442099003, Psychogenic fatigue), (61157009, Combat fatigue), (444042007, Postexertional fatigue)]\n",
       "127  3::501::515  ...                                                                                                                                                                                                                                                                                                      [(418363000, Pruritus), (276444007, Generalised pruritus), (279333002, Pruritus of skin), (42570001, Pruritus senilis), (238695001, Aquagenic pruritus)]\n",
       "128  3::518::529  ...                                                                                                                                                                                                                                                                                                                           [(42984000, Night sweats), (415690000, Sweats), (224962007, Hot sweats), (161858001, Sweats normally), (65194006, Night blindness)]\n",
       "129  3::545::555  ...                                                                                                                                                                                                                                                                                         [(89362005, Weight loss), (359649009, Weight loss diet), (267024001, Abnormal weight loss), (309257005, Excessive weight loss), (161832001, Progressive weight loss)]\n",
       "130  3::562::577  ...                                                                                                                                                                                                                                                                                [(79890006, Loss of appetite), (405788002, Psychogenic loss of appetite), (289161009, Observation of appetite), (282299006, Loss of balance), (277521002, Loss of motivation)]\n",
       "\n",
       "[131 rows x 5 columns]"
      ]
     },
     "execution_count": 26,
     "metadata": {
      "tags": []
     },
     "output_type": "execute_result"
    }
   ],
   "source": [
    "# snomed"
   ]
  },
  {
   "cell_type": "code",
   "execution_count": 0,
   "metadata": {
    "colab": {},
    "colab_type": "code",
    "id": "yP9T-rZyVjEK"
   },
   "outputs": [],
   "source": []
  },
  {
   "cell_type": "code",
   "execution_count": 0,
   "metadata": {
    "colab": {},
    "colab_type": "code",
    "id": "0CJZA8kGNHos"
   },
   "outputs": [],
   "source": []
  }
 ],
 "metadata": {
  "colab": {
   "name": "ICDO-SNOMED-EntityResolution.ipynb",
   "provenance": [],
   "toc_visible": true
  },
  "kernelspec": {
   "display_name": "jsl240",
   "language": "python",
   "name": "jsl240"
  },
  "language_info": {
   "codemirror_mode": {
    "name": "ipython",
    "version": 3
   },
   "file_extension": ".py",
   "mimetype": "text/x-python",
   "name": "python",
   "nbconvert_exporter": "python",
   "pygments_lexer": "ipython3",
   "version": "3.6.9"
  }
 },
 "nbformat": 4,
 "nbformat_minor": 1
}
