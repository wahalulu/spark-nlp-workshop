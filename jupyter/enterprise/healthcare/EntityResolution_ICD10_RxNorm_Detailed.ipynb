{
 "cells": [
  {
   "cell_type": "markdown",
   "metadata": {
    "colab_type": "text",
    "id": "Hav2F1sxNHmy"
   },
   "source": [
    "[![Open In Colab](https://colab.research.google.com/assets/colab-badge.svg)](https://colab.research.google.com/github/JohnSnowLabs/spark-nlp-workshop/blob/master/jupyter/enterprise/healthcare/EntityResolution_ICD10_RxNorm_Detailed.ipynb)"
   ]
  },
  {
   "cell_type": "markdown",
   "metadata": {
    "colab_type": "text",
    "id": "HyN6wglFbq2Y"
   },
   "source": [
    "<img src=\"https://nlp.johnsnowlabs.com/assets/images/logo.png\" width=\"180\" height=\"50\" style=\"float: left;\">"
   ]
  },
  {
   "cell_type": "markdown",
   "metadata": {
    "colab_type": "text",
    "id": "V77s9a5zbq2Z"
   },
   "source": [
    "# COLAB ENVIRONMENT SETUP"
   ]
  },
  {
   "cell_type": "code",
   "execution_count": 1,
   "metadata": {
    "colab": {
     "base_uri": "https://localhost:8080/",
     "height": 34
    },
    "colab_type": "code",
    "id": "M27BeE1obq2Z",
    "outputId": "931ddeb1-1e5e-4f65-832d-da42164e49d8"
   },
   "outputs": [
    {
     "data": {
      "text/plain": [
       "dict_keys(['secret', 'SPARK_NLP_LICENSE', 'JSL_OCR_LICENSE', 'AWS_ACCESS_KEY_ID', 'AWS_SECRET_ACCESS_KEY', 'JSL_OCR_SECRET'])"
      ]
     },
     "execution_count": 1,
     "metadata": {
      "tags": []
     },
     "output_type": "execute_result"
    }
   ],
   "source": [
    "import json\n",
    "\n",
    "with open('keys.json') as f:\n",
    "    license_keys = json.load(f)\n",
    "\n",
    "license_keys.keys()\n"
   ]
  },
  {
   "cell_type": "code",
   "execution_count": 2,
   "metadata": {
    "colab": {
     "base_uri": "https://localhost:8080/",
     "height": 170
    },
    "colab_type": "code",
    "id": "NYkJ6nM16sn6",
    "outputId": "cae68f58-003c-441e-a722-9fd2d593693e"
   },
   "outputs": [
    {
     "name": "stdout",
     "output_type": "stream",
     "text": [
      "openjdk version \"1.8.0_252\"\n",
      "OpenJDK Runtime Environment (build 1.8.0_252-8u252-b09-1~18.04-b09)\n",
      "OpenJDK 64-Bit Server VM (build 25.252-b09, mixed mode)\n",
      "Looking in indexes: https://pypi.org/simple, https://pypi.johnsnowlabs.com/9hk9l8ybo1\n",
      "Requirement already up-to-date: spark-nlp-jsl==2.5.2 in /usr/local/lib/python3.6/dist-packages (2.5.1rc1)\n",
      "Requirement already satisfied, skipping upgrade: spark-nlp==2.5.1 in /usr/local/lib/python3.6/dist-packages (from spark-nlp-jsl==2.5.1rc1) (2.5.1)\n",
      "Requirement already satisfied, skipping upgrade: pyspark==2.4.4 in /usr/local/lib/python3.6/dist-packages (from spark-nlp-jsl==2.5.1rc1) (2.4.4)\n",
      "Requirement already satisfied, skipping upgrade: py4j==0.10.7 in /usr/local/lib/python3.6/dist-packages (from pyspark==2.4.4->spark-nlp-jsl==2.5.1rc1) (0.10.7)\n",
      "2.5.1\n"
     ]
    }
   ],
   "source": [
    "import os\n",
    "\n",
    "# Install java\n",
    "! apt-get update -qq\n",
    "! apt-get install -y openjdk-8-jdk-headless -qq > /dev/null\n",
    "\n",
    "secret = license_keys.get(\"secret\",license_keys.get('SPARK_NLP_SECRET', \"\"))\n",
    "spark_version = os.environ.get(\"SPARK_VERSION\", license_keys.get(\"SPARK_VERSION\",\"2.4\"))\n",
    "version = license_keys.get(\"version\",license_keys.get('SPARK_NLP_PUBLIC_VERSION', \"\"))\n",
    "jsl_version = license_keys.get(\"jsl_version\",license_keys.get('SPARK_NLP_VERSION', \"\"))\n",
    "\n",
    "os.environ[\"JAVA_HOME\"] = \"/usr/lib/jvm/java-8-openjdk-amd64\"\n",
    "os.environ[\"PATH\"] = os.environ[\"JAVA_HOME\"] + \"/bin:\" + os.environ[\"PATH\"]\n",
    "! java -version\n",
    "\n",
    "os.environ['SPARK_NLP_LICENSE'] = license_keys['SPARK_NLP_LICENSE']\n",
    "os.environ['JSL_OCR_LICENSE'] = license_keys['JSL_OCR_LICENSE']\n",
    "os.environ['AWS_ACCESS_KEY_ID']= license_keys['AWS_ACCESS_KEY_ID']\n",
    "os.environ['AWS_SECRET_ACCESS_KEY'] = license_keys['AWS_SECRET_ACCESS_KEY']\n",
    "\n",
    "print(spark_version, version, jsl_version)\n",
    "\n",
    "! python -m pip install \"pyspark==$spark_version\".*\n",
    "! python -m pip install --upgrade spark-nlp-jsl==$jsl_version  --extra-index-url https://pypi.johnsnowlabs.com/$secret\n",
    "\n",
    "import sparknlp\n",
    "import sparknlp_jsl\n",
    "from sparknlp.base import *\n",
    "from sparknlp.annotator import *\n",
    "from sparknlp_jsl.annotator import *\n",
    "from pyspark.ml import Pipeline\n",
    "from pyspark.sql import SparkSession\n",
    "\n",
    "print (sparknlp.version())\n",
    "print (sparknlp_jsl.version())\n",
    "\n",
    "spark = sparknlp_jsl.start(secret, gpu=False, spark23=(spark_version[:3]==\"2.3\"))"
   ]
  },
  {
   "cell_type": "markdown",
   "metadata": {
    "colab_type": "text",
    "id": "vMgr3qnZbq2d"
   },
   "source": [
    "### Step 1. Prepare the environment\n",
    "#### The previous cell should have taken care of all the setup"
   ]
  },
  {
   "cell_type": "markdown",
   "metadata": {
    "colab_type": "text",
    "id": "4yaB99Mmbq2e"
   },
   "source": [
    "# ICD10 Entity Resolution - version 2.5.1\n",
    "\n",
    "## Example for Named Entity Recognition with Entity Resolution Pipeline\n",
    "A common NLP problem in biomedical aplications is to identify the presence of clinical entities in a given text. This clinical entities could be diseases, symptoms, drugs, results of clinical investigations or others.\n",
    "\n",
    "In this example we will use Spark-NLP to identify all the entities present in a typical clinical note.\n",
    "\n",
    "The clinical note (taken from https://www.ncbi.nlm.nih.gov/pmc/articles/PMC6553675/) is as follows:\n",
    "\n",
    "<div style=\"border:2px solid #747474; background-color: #e3e3e3; margin: 5px; padding: 10px\"> \n",
    "<p>A 28-year-old female with a history of gestational diabetes mellitus diagnosed eight years prior to presentation and subsequent type two diabetes mellitus (T2DM), one prior episode of HTG-induced pancreatitis three years prior to presentation, and obesity with a body mass index (BMI) of 33.5 kg/m2, presented with a one-week history of polyuria, polydipsia, poor appetite, and vomiting. Two weeks prior to presentation, she was treated with a five-day course of amoxicillin for a respiratory tract infection. She was on metformin, glipizide, and dapagliflozin for T2DM and atorvastatin and gemfibrozil for HTG. She had been on dapagliflozin for six months at the time of presentation.</p>\n",
    "\n",
    "<p>Physical examination on presentation was significant for dry oral mucosa; significantly, her abdominal examination was benign with no tenderness, guarding, or rigidity. Pertinent laboratory findings on admission were: serum glucose 111 mg/dl, bicarbonate 18 mmol/l, anion gap 20, creatinine 0.4 mg/dL, triglycerides 508 mg/dL, total cholesterol 122 mg/dL, glycated hemoglobin (HbA1c) 10%, and venous pH 7.27. Serum lipase was normal at 43 U/L. Serum acetone levels could not be assessed as blood samples kept hemolyzing due to significant lipemia.</p>\n",
    "\n",
    "<p>The patient was initially admitted for starvation ketosis, as she reported poor oral intake for three days prior to admission. However, serum chemistry obtained six hours after presentation revealed her glucose was 186 mg/dL, the anion gap was still elevated at 21, serum bicarbonate was 16 mmol/L, triglyceride level peaked at 2050 mg/dL, and lipase was 52 U/L. The β-hydroxybutyrate level was obtained and found to be elevated at 5.29 mmol/L - the original sample was centrifuged and the chylomicron layer removed prior to analysis due to interference from turbidity caused by lipemia again. The patient was treated with an insulin drip for euDKA and HTG with a reduction in the anion gap to 13 and triglycerides to 1400 mg/dL, within 24 hours. Her euDKA was thought to be precipitated by her respiratory tract infection in the setting of SGLT2 inhibitor use. The patient was seen by the endocrinology service and she was discharged on 40 units of insulin glargine at night, 12 units of insulin lispro with meals, and metformin 1000 mg two times a day. It was determined that all SGLT2 inhibitors should be discontinued indefinitely. She had close follow-up with endocrinology post discharge.</p>\n",
    "</div>\n",
    "\n",
    "We will use Spark-NLP capabilities to identify a list of medical problems, treatments and medical tests, and then try to assign a ICD-10 code to each element of this list."
   ]
  },
  {
   "cell_type": "code",
   "execution_count": 0,
   "metadata": {
    "colab": {},
    "colab_type": "code",
    "id": "typDLYy8bq2f"
   },
   "outputs": [],
   "source": [
    "import sys, os, time\n",
    "from sparknlp.base import *\n",
    "from sparknlp.annotator import *\n",
    "from sparknlp.util import *\n",
    "from sparknlp_jsl.annotator import *\n",
    "\n",
    "from sparknlp.pretrained import ResourceDownloader\n",
    "\n",
    "from pyspark.sql import functions as F\n",
    "from pyspark.ml import Pipeline, PipelineModel"
   ]
  },
  {
   "cell_type": "markdown",
   "metadata": {
    "colab_type": "text",
    "id": "cnaj7768bq2i"
   },
   "source": [
    "### Step 2. Clinical NER Pipeline creation\n",
    "\n",
    "In Spark-NLP annotating NLP happens through pipelines. Pipelines are made out of various Annotator steps. In our case the architecture of the Clinical Named Entity Recognition pipeline will be:\n",
    "\n",
    "* DocumentAssembler (text -> document)\n",
    "* SentenceDetector (document -> sentence)\n",
    "* Tokenizer (sentence -> token)\n",
    "* WordEmbeddingsModel ([sentence, token] -> embeddings)\n",
    "* NerDLModel ([sentence, token, embeddings] -> ner)\n",
    "\n",
    "So from a text we end having a list of Named Entities (Patient problems, Treatments and Tests)."
   ]
  },
  {
   "cell_type": "markdown",
   "metadata": {
    "colab_type": "text",
    "id": "9K--Eu-9bq2j"
   },
   "source": [
    "#### Step 2.1 Initialize all the annotators required by the pipeline\n",
    "\n",
    "The first 3 annotators of the pipeline are \"DocumentAssembler\", \"SentenceDectector\" and \"Tokenizer\":"
   ]
  },
  {
   "cell_type": "code",
   "execution_count": 0,
   "metadata": {
    "colab": {},
    "colab_type": "code",
    "id": "-d-svDEmbq2j"
   },
   "outputs": [],
   "source": [
    "# Annotator that transforms a text column from dataframe into an Annotation ready for NLP\n",
    "\n",
    "documentAssembler = DocumentAssembler()\\\n",
    "  .setInputCol(\"text\")\\\n",
    "  .setOutputCol(\"document\")\n",
    "\n",
    "# Sentence Detector annotator, processes various sentences per line\n",
    "\n",
    "sentenceDetector = SentenceDetector()\\\n",
    "  .setInputCols([\"document\"])\\\n",
    "  .setOutputCol(\"sentence\")\n",
    "\n",
    "# Tokenizer splits words in a relevant format for NLP\n",
    "\n",
    "tokenizer = Tokenizer()\\\n",
    "  .setInputCols([\"sentence\"])\\\n",
    "  .setOutputCol(\"token\")"
   ]
  },
  {
   "cell_type": "markdown",
   "metadata": {
    "colab_type": "text",
    "id": "Xu67Ev9gbq2m"
   },
   "source": [
    "The fourth annotator in the pipeline is \"WordEmbeddingsModel\". We will download a pretrained model available from \"clinical/models\" named \"embeddings_clinical\".\n",
    "\n",
    "When running this cell your are advised to be patient. \n",
    "\n",
    "First time you call this pretrained model it needs to be downloaded in your local.\n",
    "\n",
    "The model size is about will download the embeddings_clinical corpus it takes a while.\n",
    "\n",
    "The size is about 1.7Gb and will be saved typically in your home folder as\n",
    "\n",
    "    ~HOMEFOLDER/cached_models/embeddings_clinical_en_2.0.2_2.4_1558454742956.zip\n",
    "\n",
    "Next times you call it the model is loaded from your cached copy but even in that case it needs to be indexed each time so expect waiting up to 5 minutes (depending on your machine)"
   ]
  },
  {
   "cell_type": "code",
   "execution_count": 5,
   "metadata": {
    "colab": {
     "base_uri": "https://localhost:8080/",
     "height": 68
    },
    "colab_type": "code",
    "id": "FwpjTrwjbq2m",
    "outputId": "9840d023-4649-4e3b-ed30-495feadd82c1"
   },
   "outputs": [
    {
     "name": "stdout",
     "output_type": "stream",
     "text": [
      "embeddings_clinical download started this may take some time.\n",
      "Approximate size to download 1.6 GB\n",
      "[OK!]\n"
     ]
    }
   ],
   "source": [
    "# WordEmbeddingsModel pretrained \"embeddings_clinical\" includes a model of 1.7Gb that needs to be downloaded\n",
    "\n",
    "word_embeddings = WordEmbeddingsModel.pretrained(\"embeddings_clinical\", \"en\", \"clinical/models\")\\\n",
    "  .setInputCols([\"sentence\", \"token\"])\\\n",
    "  .setOutputCol(\"embeddings\")"
   ]
  },
  {
   "cell_type": "markdown",
   "metadata": {
    "colab_type": "text",
    "id": "ome80skxbq2q"
   },
   "source": [
    "The fifth and final annotator in our NER pipeline is the pretrained \"ner_clinical\" NerDLModel avaliable from \"clinical/models\". It requires as input the \"sentence\", \"token\" and \"embeddings\" (clinical embeddings pretrained model) and will classify each token in four categories:\n",
    "<ol>\n",
    "    <li>PROBLEM: for patient problems</li>\n",
    "    <li>TEST: for tests, labs, etc.</li>\n",
    "    <li>TREATMENT: for treatments, medicines, etc.</li>\n",
    "    <li>OTHER: for the rest of tokens.</li>\n",
    "</ol>\n",
    "\n",
    "In order to split those identified NER that are consecutive, the B prefix (as B-PROBLEM) will be used at the first token of each NER. The I prefix (as I-PROBLEM) will be used for the rest of tokens inside the NER."
   ]
  },
  {
   "cell_type": "code",
   "execution_count": 6,
   "metadata": {
    "colab": {
     "base_uri": "https://localhost:8080/",
     "height": 68
    },
    "colab_type": "code",
    "id": "TDRdcaMqbq2q",
    "outputId": "7a53f478-92de-4031-f280-bdaca83c042e"
   },
   "outputs": [
    {
     "name": "stdout",
     "output_type": "stream",
     "text": [
      "ner_clinical download started this may take some time.\n",
      "Approximate size to download 13.8 MB\n",
      "[OK!]\n"
     ]
    }
   ],
   "source": [
    "# Named Entity Recognition for clinical concepts.\n",
    "\n",
    "clinical_ner = NerDLModel.pretrained(\"ner_clinical\", \"en\", \"clinical/models\") \\\n",
    "  .setInputCols([\"sentence\", \"token\", \"embeddings\"]) \\\n",
    "  .setOutputCol(\"ner\")"
   ]
  },
  {
   "cell_type": "markdown",
   "metadata": {
    "colab_type": "text",
    "id": "1LntCaLUbq2t"
   },
   "source": [
    "#### Step 2.2 Define the NER pipeline\n",
    "\n",
    "Now we will define the actual pipeline that puts together the annotators we have created."
   ]
  },
  {
   "cell_type": "code",
   "execution_count": 0,
   "metadata": {
    "colab": {},
    "colab_type": "code",
    "id": "EnB1NbgUbq2u"
   },
   "outputs": [],
   "source": [
    "# Build up the pipeline\n",
    "\n",
    "pipeline_ner = Pipeline(\n",
    "    stages = [\n",
    "    documentAssembler,\n",
    "    sentenceDetector,\n",
    "    tokenizer,\n",
    "    word_embeddings,\n",
    "    clinical_ner\n",
    "  ])"
   ]
  },
  {
   "cell_type": "markdown",
   "metadata": {
    "colab_type": "text",
    "id": "Bd0_kK1tbq2w"
   },
   "source": [
    "### Step 3 Create a SparkDataFrame with the content"
   ]
  },
  {
   "cell_type": "markdown",
   "metadata": {
    "colab_type": "text",
    "id": "y5U5NG06bq2x"
   },
   "source": [
    "Now we will create a sample Spark dataframe with our clinical note example.\n",
    "\n",
    "In this example we are working over a unique clinical note. In production environments a table with several of those clinical notes could be distributed in a cluster and be run in large scale systems."
   ]
  },
  {
   "cell_type": "code",
   "execution_count": 0,
   "metadata": {
    "colab": {},
    "colab_type": "code",
    "id": "MyyOQVMMbq2x"
   },
   "outputs": [],
   "source": [
    "# reference https://www.ncbi.nlm.nih.gov/pmc/articles/PMC6553675/\n",
    "\n",
    "clinical_note = (\n",
    "    'A 28-year-old female with a history of gestational diabetes mellitus diagnosed eight years '\n",
    "    'prior to presentation and subsequent type two diabetes mellitus (T2DM), one prior '\n",
    "    'episode of HTG-induced pancreatitis three years prior to presentation, associated '\n",
    "    'with an acute hepatitis, and obesity with a body mass index (BMI) of 33.5 kg/m2, '\n",
    "    'presented with a one-week history of polyuria, polydipsia, poor appetite, and vomiting. '\n",
    "    'Two weeks prior to presentation, she was treated with a five-day course of amoxicillin '\n",
    "    'for a respiratory tract infection. She was on metformin, glipizide, and dapagliflozin '\n",
    "    'for T2DM and atorvastatin and gemfibrozil for HTG. She had been on dapagliflozin for six months '\n",
    "    'at the time of presentation. Physical examination on presentation was significant for dry oral mucosa; '\n",
    "    'significantly, her abdominal examination was benign with no tenderness, guarding, or rigidity. Pertinent '\n",
    "    'laboratory findings on admission were: serum glucose 111 mg/dl, bicarbonate 18 mmol/l, anion gap 20, '\n",
    "    'creatinine 0.4 mg/dL, triglycerides 508 mg/dL, total cholesterol 122 mg/dL, glycated hemoglobin (HbA1c) '\n",
    "    '10%, and venous pH 7.27. Serum lipase was normal at 43 U/L. Serum acetone levels could not be assessed '\n",
    "    'as blood samples kept hemolyzing due to significant lipemia. The patient was initially admitted for '\n",
    "    'starvation ketosis, as she reported poor oral intake for three days prior to admission. However, '\n",
    "    'serum chemistry obtained six hours after presentation revealed her glucose was 186 mg/dL, the anion gap '\n",
    "    'was still elevated at 21, serum bicarbonate was 16 mmol/L, triglyceride level peaked at 2050 mg/dL, and '\n",
    "    'lipase was 52 U/L. The β-hydroxybutyrate level was obtained and found to be elevated at 5.29 mmol/L - '\n",
    "    'the original sample was centrifuged and the chylomicron layer removed prior to analysis due to '\n",
    "    'interference from turbidity caused by lipemia again. The patient was treated with an insulin drip '\n",
    "    'for euDKA and HTG with a reduction in the anion gap to 13 and triglycerides to 1400 mg/dL, within '\n",
    "    '24 hours. Her euDKA was thought to be precipitated by her respiratory tract infection in the setting '\n",
    "    'of SGLT2 inhibitor use. The patient was seen by the endocrinology service and she was discharged on '\n",
    "    '40 units of insulin glargine at night, 12 units of insulin lispro with meals, and metformin 1000 mg '\n",
    "    'two times a day. It was determined that all SGLT2 inhibitors should be discontinued indefinitely. She '\n",
    "    'had close follow-up with endocrinology post discharge.'\n",
    ")\n",
    "\n",
    "data_ner = spark.createDataFrame([[clinical_note]]).toDF(\"text\")"
   ]
  },
  {
   "cell_type": "code",
   "execution_count": 9,
   "metadata": {
    "colab": {
     "base_uri": "https://localhost:8080/",
     "height": 119
    },
    "colab_type": "code",
    "id": "j2SVzE3Cbq2z",
    "outputId": "c9be1564-ab88-4ec8-d9b1-79786f00acf5"
   },
   "outputs": [
    {
     "name": "stdout",
     "output_type": "stream",
     "text": [
      "+--------------------+\n",
      "|                text|\n",
      "+--------------------+\n",
      "|A 28-year-old fem...|\n",
      "+--------------------+\n",
      "\n"
     ]
    }
   ],
   "source": [
    "data_ner.show()"
   ]
  },
  {
   "cell_type": "markdown",
   "metadata": {
    "colab_type": "text",
    "id": "txJmCIi_bq22"
   },
   "source": [
    "### Step 4 Create a model fitting the NER pipeline with the clinical note.\n",
    "\n",
    "Now we can use the pipeline and the clinical note to generate a model.\n",
    "Even though the WordEmbeddings and NER models are pretrained models we need to call the fit method given we want the previous \"estimators\" in the pipeline to return the respective \"transformers\" (as in Estimator / Transformer ML API)"
   ]
  },
  {
   "cell_type": "code",
   "execution_count": 0,
   "metadata": {
    "colab": {},
    "colab_type": "code",
    "id": "51FK9lA_bq22"
   },
   "outputs": [],
   "source": [
    "# We convert the pipeline into a model fitting our clinical note (data).\n",
    "model_ner = pipeline_ner.fit(data_ner)"
   ]
  },
  {
   "cell_type": "markdown",
   "metadata": {
    "colab_type": "text",
    "id": "bM5rCEwabq25"
   },
   "source": [
    "### Step 5 Transform / annotate the clinical note using the model.\n",
    "\n",
    "In order to process the data with the new created model we have two options.\n",
    "\n",
    "The first one would be to use the model to transform our clinical note by the command:\n",
    "\n",
    "<code>output = model_ner.transform(data_ner)</code>\n",
    "\n",
    "That would save in a Spakr DataFrame (output) the resuls of running the model over the clinical note. \n",
    "\n",
    "However for small tests like this or for real-time request a LightPipelines is a simpler way of managing the data. It will return a dictionary (instead of a Spark DataFrame) with the results of the transformation\n",
    "\n",
    "We will create a light_pipeline_ner using our model_ner and then will annotate the clinical_note using this light_pipeline."
   ]
  },
  {
   "cell_type": "code",
   "execution_count": 0,
   "metadata": {
    "colab": {},
    "colab_type": "code",
    "id": "scC8bUKnbq25"
   },
   "outputs": [],
   "source": [
    "light_pipeline = LightPipeline(model_ner)\n",
    "light_data = light_pipeline.annotate(clinical_note)"
   ]
  },
  {
   "cell_type": "markdown",
   "metadata": {
    "colab_type": "text",
    "id": "IQ3bMbEkbq27"
   },
   "source": [
    "Now we have a dictionaty (light_data_ner) that contains the results of running the NER pipeline over our clinical note.\n",
    "\n",
    "It contains the original document:"
   ]
  },
  {
   "cell_type": "code",
   "execution_count": 12,
   "metadata": {
    "colab": {
     "base_uri": "https://localhost:8080/",
     "height": 34
    },
    "colab_type": "code",
    "id": "C0r_dbMRbq28",
    "outputId": "99d871bb-577c-4e3c-eea6-99602c5e929d"
   },
   "outputs": [
    {
     "data": {
      "text/plain": [
       "'A 28-year-old female with a history of gestational diabetes mellitus diagnosed eight years prior to '"
      ]
     },
     "execution_count": 12,
     "metadata": {
      "tags": []
     },
     "output_type": "execute_result"
    }
   ],
   "source": [
    "light_data['document'][0][0:100]"
   ]
  },
  {
   "cell_type": "markdown",
   "metadata": {
    "colab_type": "text",
    "id": "eyEpOeeBbq2_"
   },
   "source": [
    "The 17 sentences:"
   ]
  },
  {
   "cell_type": "code",
   "execution_count": 13,
   "metadata": {
    "colab": {
     "base_uri": "https://localhost:8080/",
     "height": 136
    },
    "colab_type": "code",
    "id": "x0ckA16Fbq2_",
    "outputId": "ee42abf4-ca47-49ee-f909-522f46f7954c"
   },
   "outputs": [
    {
     "name": "stdout",
     "output_type": "stream",
     "text": [
      "Number of sentences: 17\n",
      "\n",
      "Sentence 0: A 28-year-old female with a history of gestational diabetes mellitus diagnosed e\n",
      "Sentence 1: Two weeks prior to presentation, she was treated with a five-day course of amoxi\n",
      "Sentence 2: She was on metformin, glipizide, and dapagliflozin for T2DM and atorvastatin and\n",
      "Sentence 3: She had been on dapagliflozin for six months at the time of presentation.\n",
      "Sentence 4: Physical examination on presentation was significant for dry oral mucosa;\n"
     ]
    }
   ],
   "source": [
    "print(\"Number of sentences: {}\".format(len(light_data['sentence'])))\n",
    "print(\"\")\n",
    "for i in range(5):\n",
    "    print(\"Sentence {}: {}\".format(i, light_data['sentence'][i][0:80]))"
   ]
  },
  {
   "cell_type": "markdown",
   "metadata": {
    "colab_type": "text",
    "id": "NvkjjHZNbq3C"
   },
   "source": [
    "And the 437 tokens with their assigned NER class."
   ]
  },
  {
   "cell_type": "code",
   "execution_count": 14,
   "metadata": {
    "colab": {
     "base_uri": "https://localhost:8080/",
     "height": 493
    },
    "colab_type": "code",
    "id": "O6c23Oc9bq3C",
    "outputId": "63bfc0ab-3d04-45de-d1a6-7af40832fb66"
   },
   "outputs": [
    {
     "name": "stdout",
     "output_type": "stream",
     "text": [
      "Number of tokens: 436\n",
      "\n",
      "Token 0: A (O)\n",
      "Token 1: 28-year-old (O)\n",
      "Token 2: female (O)\n",
      "Token 3: with (O)\n",
      "Token 4: a (O)\n",
      "Token 5: history (O)\n",
      "Token 6: of (O)\n",
      "Token 7: gestational (B-PROBLEM)\n",
      "Token 8: diabetes (I-PROBLEM)\n",
      "Token 9: mellitus (I-PROBLEM)\n",
      "Token 10: diagnosed (O)\n",
      "Token 11: eight (O)\n",
      "Token 12: years (O)\n",
      "Token 13: prior (O)\n",
      "Token 14: to (O)\n",
      "Token 15: presentation (O)\n",
      "Token 16: and (O)\n",
      "Token 17: subsequent (O)\n",
      "Token 18: type (B-PROBLEM)\n",
      "Token 19: two (I-PROBLEM)\n",
      "Token 20: diabetes (I-PROBLEM)\n",
      "Token 21: mellitus (I-PROBLEM)\n",
      "Token 22: ( (O)\n",
      "Token 23: T2DM (B-PROBLEM)\n",
      "Token 24: ), (I-PROBLEM)\n",
      "...\n"
     ]
    }
   ],
   "source": [
    "print(\"Number of tokens: {}\".format(len(light_data['token'])))\n",
    "print(\"\")\n",
    "for i in range(25):\n",
    "    print(\"Token {}: {} ({})\".format(i, light_data['token'][i][0:20], light_data['ner'][i]))\n",
    "print(\"...\")"
   ]
  },
  {
   "cell_type": "markdown",
   "metadata": {
    "colab_type": "text",
    "id": "kvHpU26sbq3F"
   },
   "source": [
    "Lets apply some HTML formating to see the results of the pipeline in a nicer layout:"
   ]
  },
  {
   "cell_type": "code",
   "execution_count": 15,
   "metadata": {
    "colab": {
     "base_uri": "https://localhost:8080/",
     "height": 298
    },
    "colab_type": "code",
    "id": "vEjqATjtbq3F",
    "outputId": "358092da-6c76-4c1f-d2b8-d7ae0acfd10b"
   },
   "outputs": [
    {
     "data": {
      "text/html": [
       "<center><h2>Results of NER Annotation Pipeline</h2></center><div style=\"border:2px solid #747474; background-color: #e3e3e3; margin: 5px; padding: 10px\">A 28-year-old female with a history of <SPAN style=\"background-color: #ffffcc\">gestational </SPAN><SPAN style=\"background-color: #ffffcc\">diabetes </SPAN><SPAN style=\"background-color: #ffffcc\">mellitus </SPAN>diagnosed eight years prior to presentation and subsequent <SPAN style=\"background-color: #ffffcc\">type </SPAN><SPAN style=\"background-color: #ffffcc\">two </SPAN><SPAN style=\"background-color: #ffffcc\">diabetes </SPAN><SPAN style=\"background-color: #ffffcc\">mellitus </SPAN>( <SPAN style=\"background-color: #ffffcc\">T2DM </SPAN><SPAN style=\"background-color: #ffffcc\">), </SPAN>one prior episode of <SPAN style=\"background-color: #ffffcc\">HTG-induced </SPAN><SPAN style=\"background-color: #ffffcc\">pancreatitis </SPAN>three years prior to presentation , associated with <SPAN style=\"background-color: #ffffcc\">an </SPAN><SPAN style=\"background-color: #ffffcc\">acute </SPAN><SPAN style=\"background-color: #ffffcc\">hepatitis </SPAN>, and <SPAN style=\"background-color: #ffffcc\">obesity </SPAN>with <SPAN style=\"background-color: #ffffcc\">a </SPAN><SPAN style=\"background-color: #ffffcc\">body </SPAN><SPAN style=\"background-color: #ffffcc\">mass </SPAN><SPAN style=\"background-color: #ffffcc\">index </SPAN>( <SPAN style=\"background-color: #ffffcc\">BMI </SPAN><SPAN style=\"background-color: #ffffcc\">) </SPAN><SPAN style=\"background-color: #ffffcc\">of </SPAN><SPAN style=\"background-color: #ffffcc\">33.5 </SPAN><SPAN style=\"background-color: #ffffcc\">kg/m2 </SPAN>, presented with a one-week history of <SPAN style=\"background-color: #ffffcc\">polyuria </SPAN>, <SPAN style=\"background-color: #ffffcc\">polydipsia </SPAN>, <SPAN style=\"background-color: #ffffcc\">poor </SPAN><SPAN style=\"background-color: #ffffcc\">appetite </SPAN>, and <SPAN style=\"background-color: #ffffcc\">vomiting </SPAN>. Two weeks prior to presentation , she was treated with a five-day course of <SPAN style=\"background-color:  #cce6ff\">amoxicillin </SPAN>for <SPAN style=\"background-color: #ffffcc\">a </SPAN><SPAN style=\"background-color: #ffffcc\">respiratory </SPAN><SPAN style=\"background-color: #ffffcc\">tract </SPAN><SPAN style=\"background-color: #ffffcc\">infection </SPAN>. She was on <SPAN style=\"background-color:  #cce6ff\">metformin </SPAN>, <SPAN style=\"background-color:  #cce6ff\">glipizide </SPAN>, and <SPAN style=\"background-color:  #cce6ff\">dapagliflozin </SPAN>for <SPAN style=\"background-color: #ffffcc\">T2DM </SPAN>and <SPAN style=\"background-color:  #cce6ff\">atorvastatin </SPAN>and <SPAN style=\"background-color:  #cce6ff\">gemfibrozil </SPAN>for <SPAN style=\"background-color: #ffffcc\">HTG </SPAN>. She had been on <SPAN style=\"background-color:  #cce6ff\">dapagliflozin </SPAN>for six months at the time of presentation . <SPAN style=\"background-color: pink\">Physical </SPAN><SPAN style=\"background-color: pink\">examination </SPAN>on presentation was significant for dry oral mucosa ; significantly , <SPAN style=\"background-color: pink\">her </SPAN><SPAN style=\"background-color: pink\">abdominal </SPAN><SPAN style=\"background-color: pink\">examination </SPAN>was benign with no <SPAN style=\"background-color: #ffffcc\">tenderness </SPAN>, <SPAN style=\"background-color: #ffffcc\">guarding </SPAN>, or <SPAN style=\"background-color: #ffffcc\">rigidity </SPAN>. Pertinent laboratory findings on admission were : <SPAN style=\"background-color: pink\">serum </SPAN><SPAN style=\"background-color: pink\">glucose </SPAN>111 <SPAN style=\"background-color: pink\">mg/dl </SPAN>, <SPAN style=\"background-color: pink\">bicarbonate </SPAN>18 <SPAN style=\"background-color: pink\">mmol/l </SPAN>, <SPAN style=\"background-color: pink\">anion </SPAN><SPAN style=\"background-color: pink\">gap </SPAN>20 , <SPAN style=\"background-color: pink\">creatinine </SPAN>0.4 mg/dL , <SPAN style=\"background-color: pink\">triglycerides </SPAN>508 mg/dL , <SPAN style=\"background-color: pink\">total </SPAN><SPAN style=\"background-color: pink\">cholesterol </SPAN>122 mg/dL , <SPAN style=\"background-color: pink\">glycated </SPAN><SPAN style=\"background-color: pink\">hemoglobin </SPAN>( <SPAN style=\"background-color: pink\">HbA1c </SPAN>) 10% , and <SPAN style=\"background-color: pink\">venous </SPAN><SPAN style=\"background-color: pink\">pH </SPAN>7.27 . <SPAN style=\"background-color: pink\">Serum </SPAN><SPAN style=\"background-color: pink\">lipase </SPAN>was normal at 43 <SPAN style=\"background-color: pink\">U/L </SPAN>. <SPAN style=\"background-color: pink\">Serum </SPAN><SPAN style=\"background-color: pink\">acetone </SPAN><SPAN style=\"background-color: pink\">levels </SPAN>could not be assessed as <SPAN style=\"background-color: pink\">blood </SPAN><SPAN style=\"background-color: pink\">samples </SPAN>kept <SPAN style=\"background-color: pink\">hemolyzing </SPAN>due to <SPAN style=\"background-color: #ffffcc\">significant </SPAN><SPAN style=\"background-color: #ffffcc\">lipemia </SPAN>. The patient was initially admitted for <SPAN style=\"background-color: #ffffcc\">starvation </SPAN><SPAN style=\"background-color: #ffffcc\">ketosis </SPAN>, as she reported <SPAN style=\"background-color: #ffffcc\">poor </SPAN><SPAN style=\"background-color: #ffffcc\">oral </SPAN><SPAN style=\"background-color: #ffffcc\">intake </SPAN>for three days prior to admission . However , <SPAN style=\"background-color: pink\">serum </SPAN><SPAN style=\"background-color: pink\">chemistry </SPAN>obtained six hours after presentation revealed <SPAN style=\"background-color: pink\">her </SPAN><SPAN style=\"background-color: pink\">glucose </SPAN>was 186 mg/dL , <SPAN style=\"background-color: pink\">the </SPAN><SPAN style=\"background-color: pink\">anion </SPAN><SPAN style=\"background-color: pink\">gap </SPAN>was <SPAN style=\"background-color: #ffffcc\">still </SPAN><SPAN style=\"background-color: #ffffcc\">elevated </SPAN>at 21 , <SPAN style=\"background-color: pink\">serum </SPAN><SPAN style=\"background-color: pink\">bicarbonate </SPAN>was 16 mmol/L , <SPAN style=\"background-color: pink\">triglyceride </SPAN><SPAN style=\"background-color: pink\">level </SPAN>peaked at 2050 <SPAN style=\"background-color: pink\">mg/dL </SPAN>, and <SPAN style=\"background-color: pink\">lipase </SPAN>was 52 <SPAN style=\"background-color: pink\">U/L </SPAN>. <SPAN style=\"background-color: pink\">The </SPAN><SPAN style=\"background-color: pink\">β-hydroxybutyrate </SPAN><SPAN style=\"background-color: pink\">level </SPAN>was obtained and found to be elevated at 5.29 mmol/L - the original sample was centrifuged and the chylomicron layer removed prior to <SPAN style=\"background-color: pink\">analysis </SPAN>due to <SPAN style=\"background-color: #ffffcc\">interference </SPAN><SPAN style=\"background-color: #ffffcc\">from </SPAN><SPAN style=\"background-color: #ffffcc\">turbidity </SPAN>caused by <SPAN style=\"background-color: #ffffcc\">lipemia </SPAN>again . The patient was treated with <SPAN style=\"background-color:  #cce6ff\">an </SPAN><SPAN style=\"background-color:  #cce6ff\">insulin </SPAN><SPAN style=\"background-color:  #cce6ff\">drip </SPAN>for <SPAN style=\"background-color: #ffffcc\">euDKA </SPAN>and <SPAN style=\"background-color: #ffffcc\">HTG </SPAN>with <SPAN style=\"background-color: #ffffcc\">a </SPAN><SPAN style=\"background-color: #ffffcc\">reduction </SPAN><SPAN style=\"background-color: #ffffcc\">in </SPAN><SPAN style=\"background-color: #ffffcc\">the </SPAN><SPAN style=\"background-color: #ffffcc\">anion </SPAN><SPAN style=\"background-color: #ffffcc\">gap </SPAN>to 13 and <SPAN style=\"background-color: pink\">triglycerides </SPAN>to 1400 mg/dL , within 24 hours . <SPAN style=\"background-color: #ffffcc\">Her </SPAN><SPAN style=\"background-color: #ffffcc\">euDKA </SPAN>was thought to be precipitated by <SPAN style=\"background-color: #ffffcc\">her </SPAN><SPAN style=\"background-color: #ffffcc\">respiratory </SPAN><SPAN style=\"background-color: #ffffcc\">tract </SPAN><SPAN style=\"background-color: #ffffcc\">infection </SPAN>in the setting of <SPAN style=\"background-color:  #cce6ff\">SGLT2 </SPAN><SPAN style=\"background-color:  #cce6ff\">inhibitor </SPAN>use . The patient was seen by the endocrinology service and she was discharged on 40 units of <SPAN style=\"background-color:  #cce6ff\">insulin </SPAN><SPAN style=\"background-color:  #cce6ff\">glargine </SPAN>at night , 12 units of <SPAN style=\"background-color:  #cce6ff\">insulin </SPAN><SPAN style=\"background-color:  #cce6ff\">lispro </SPAN>with meals , and <SPAN style=\"background-color:  #cce6ff\">metformin </SPAN>1000 mg two times a day . It was determined that <SPAN style=\"background-color:  #cce6ff\">all </SPAN><SPAN style=\"background-color:  #cce6ff\">SGLT2 </SPAN><SPAN style=\"background-color:  #cce6ff\">inhibitors </SPAN>should be discontinued indefinitely . She had close follow-up with endocrinology post discharge . </div><div>Color codes: <SPAN style=\"background-color: #ffffcc\">Patient problem</SPAN>, <SPAN style=\"background-color: pink\">Test</SPAN>, <SPAN style=\"background-color: #cce6ff\">Treatment</SPAN>"
      ],
      "text/plain": [
       "<IPython.core.display.HTML object>"
      ]
     },
     "metadata": {
      "tags": []
     },
     "output_type": "display_data"
    }
   ],
   "source": [
    "html_output = '<center><h2>Results of NER Annotation Pipeline</h2></center>'\n",
    "html_output += '<div style=\"border:2px solid #747474; background-color: #e3e3e3; margin: 5px; padding: 10px\">'\n",
    "problem_flag = False\n",
    "new_problem = []\n",
    "problem_list = []\n",
    "for index, this_token in enumerate(light_data['token']):\n",
    "    \n",
    "    if light_data['ner'][index] in ['B-PROBLEM','I-PROBLEM']:\n",
    "        if problem_flag == False:\n",
    "            new_problem = [this_token]\n",
    "        else:\n",
    "            new_problem.append(this_token)\n",
    "        problem_flag = True\n",
    "    else:\n",
    "        if problem_flag == True:\n",
    "            problem_list.append(new_problem)\n",
    "            new_problem = []\n",
    "        problem_flag = False\n",
    "\n",
    "    if light_data['ner'][index]=='O':\n",
    "        html_output+=this_token + \" \"\n",
    "    elif light_data['ner'][index]=='B-PROBLEM':\n",
    "        html_output+='<SPAN style=\"background-color: #ffffcc\">' + this_token + \" </SPAN>\"\n",
    "    elif light_data['ner'][index]=='I-PROBLEM':\n",
    "        html_output+='<SPAN style=\"background-color: #ffffcc\">' + this_token + \" </SPAN>\"\n",
    "    elif light_data['ner'][index]=='B-TEST':\n",
    "        html_output+='<SPAN style=\"background-color: pink\">' + this_token + \" </SPAN>\"\n",
    "    elif light_data['ner'][index]=='I-TEST':\n",
    "        html_output+='<SPAN style=\"background-color: pink\">' + this_token + \" </SPAN>\"\n",
    "    elif light_data['ner'][index]=='B-TREATMENT':\n",
    "        html_output+='<SPAN style=\"background-color:  #cce6ff\">' + this_token + \" </SPAN>\"\n",
    "    elif light_data['ner'][index]=='I-TREATMENT':\n",
    "        html_output+='<SPAN style=\"background-color:  #cce6ff\">' + this_token + \" </SPAN>\"\n",
    "    \n",
    "\n",
    "html_output += '</div>'\n",
    "        \n",
    "html_output += '<div>Color codes: <SPAN style=\"background-color: #ffffcc\">Patient problem</SPAN>, '\n",
    "html_output += '<SPAN style=\"background-color: pink\">Test</SPAN>, '\n",
    "html_output += '<SPAN style=\"background-color: #cce6ff\">Treatment</SPAN>'\n",
    "\n",
    "from IPython.core.display import display, HTML\n",
    "display(HTML(html_output))"
   ]
  },
  {
   "cell_type": "markdown",
   "metadata": {
    "colab_type": "text",
    "id": "HO-7lmsjbq3I"
   },
   "source": [
    "### Step 6 ICD10 coding Pipeline creation.\n",
    "\n",
    "After running the NER Pipeline we have been able to extract a list of \"Patient Problems\" that is printed below:"
   ]
  },
  {
   "cell_type": "code",
   "execution_count": 16,
   "metadata": {
    "colab": {
     "base_uri": "https://localhost:8080/",
     "height": 510
    },
    "colab_type": "code",
    "id": "7j51DUY0bq3I",
    "outputId": "08f67be2-8e67-450f-957e-9c5aad876aad"
   },
   "outputs": [
    {
     "name": "stdout",
     "output_type": "stream",
     "text": [
      "gestational diabetes mellitus\n",
      "type two diabetes mellitus\n",
      "T2DM ),\n",
      "HTG-induced pancreatitis\n",
      "an acute hepatitis\n",
      "obesity\n",
      "a body mass index\n",
      "BMI ) of 33.5 kg/m2\n",
      "polyuria\n",
      "polydipsia\n",
      "poor appetite\n",
      "vomiting\n",
      "a respiratory tract infection\n",
      "T2DM\n",
      "HTG\n",
      "tenderness\n",
      "guarding\n",
      "rigidity\n",
      "significant lipemia\n",
      "starvation ketosis\n",
      "poor oral intake\n",
      "still elevated\n",
      "interference from turbidity\n",
      "lipemia\n",
      "euDKA\n",
      "HTG\n",
      "a reduction in the anion gap\n",
      "Her euDKA\n",
      "her respiratory tract infection\n"
     ]
    }
   ],
   "source": [
    "for problem in problem_list:\n",
    "    print(\" \".join(problem))"
   ]
  },
  {
   "cell_type": "markdown",
   "metadata": {
    "colab_type": "text",
    "id": "EZq-3VVJbq3L"
   },
   "source": [
    "We will now create a new pipeline that from each of these problems will try to assign an ICD10 base on the content, the wordembeddings and some pretrained models for ICD10 annotation.\n",
    "\n",
    "The architecture of this new pipeline will be as follows:\n",
    "* DocumentAssembler (text -> document)\n",
    "* SentenceDetector (document -> sentence)\n",
    "* Tokenizer (sentence -> token)\n",
    "* WordEmbeddingsModel ([sentence, token] -> embeddings)\n",
    "* NerDLModel ([sentence, token, embeddings] -> ner)\n",
    "* NerConverter ([\"sentence, token, ner] -> ner_chunk\n",
    "* ChunkTokenizer (ner_chunk -> ner_chunk_tokenized)\n",
    "* ICD10CMEntityResolverModel ([ner_chunk_tokenized, embeddings] -> resolution)\n",
    "* ICD10PCSEntityResolverModel ([ner_chunk_tokenized, embeddings] -> resolution)\n",
    "\n",
    "So from a text we end having a list of Named Entities (ner_chunk) and their ICD10 codes (resolution)"
   ]
  },
  {
   "cell_type": "markdown",
   "metadata": {
    "colab_type": "text",
    "id": "WTbm6gUCbq3L"
   },
   "source": [
    "Most of the annotators in this pipeline have been already created for the previous pipeline, but we need to create four additional annotators: NerConverter, ChunkEmbeddigns, EntityResolverModel for ICD10CM and EntityResolverModel for ICD10PCS."
   ]
  },
  {
   "cell_type": "markdown",
   "metadata": {
    "colab_type": "text",
    "id": "LBzs-ZKfbq3M"
   },
   "source": [
    "Now we define the new pipeline"
   ]
  },
  {
   "cell_type": "code",
   "execution_count": 17,
   "metadata": {
    "colab": {
     "base_uri": "https://localhost:8080/",
     "height": 68
    },
    "colab_type": "code",
    "id": "R4NEl4edbq3M",
    "outputId": "d9ad5cc7-921d-4044-b4e8-398aa619a5f3"
   },
   "outputs": [
    {
     "name": "stdout",
     "output_type": "stream",
     "text": [
      "chunkresolve_icd10cm_clinical download started this may take some time.\n",
      "Approximate size to download 166.3 MB\n",
      "[OK!]\n"
     ]
    }
   ],
   "source": [
    "# Named Entity Recognition concepts parser, transforms entities into CHUNKS (required for next step: assertion status)\n",
    "\n",
    "ner_converter = NerConverter() \\\n",
    "  .setInputCols([\"sentence\", \"token\", \"ner\"]) \\\n",
    "  .setOutputCol(\"ner_chunk\")\n",
    "\n",
    "chunk_embeddings = ChunkEmbeddings()\\\n",
    "    .setInputCols(\"ner_chunk\", \"embeddings\")\\\n",
    "    .setOutputCol(\"chunk_embeddings\")\n",
    "\n",
    "chunk_tokenizer = ChunkTokenizer()\\\n",
    "    .setInputCols(\"ner_chunk\")\\\n",
    "    .setOutputCol(\"ner_token\")\n",
    "\n",
    "# ICD resolution model\n",
    "\n",
    "icd10cm_resolution = ChunkEntityResolverModel.pretrained(\"chunkresolve_icd10cm_clinical\", \"en\", \"clinical/models\") \\\n",
    "  .setInputCols([\"ner_token\", \"chunk_embeddings\"]) \\\n",
    "  .setOutputCol(\"icd10cm_code\") \\\n",
    "  .setDistanceFunction(\"COSINE\")  \\\n",
    "  .setNeighbours(5)"
   ]
  },
  {
   "cell_type": "code",
   "execution_count": 18,
   "metadata": {
    "colab": {
     "base_uri": "https://localhost:8080/",
     "height": 68
    },
    "colab_type": "code",
    "id": "g9wtdj_Lbq3O",
    "outputId": "f9c76a1a-cf69-49cd-8c18-8dd39ef952e0"
   },
   "outputs": [
    {
     "name": "stdout",
     "output_type": "stream",
     "text": [
      "ensembleresolve_rxnorm_clinical download started this may take some time.\n",
      "Approximate size to download 783.3 MB\n",
      "[OK!]\n"
     ]
    }
   ],
   "source": [
    "#RxNorm Resolution\n",
    "rxnorm_resolution = ChunkEntityResolverModel.pretrained(\"chunkresolve_rxnorm_scd_clinical\", \"en\", \"clinical/models\")\\\n",
    "    .setInputCols(\"ner_token\",\"chunk_embeddings\").setOutputCol(\"rxnorm_result\")"
   ]
  },
  {
   "cell_type": "code",
   "execution_count": 0,
   "metadata": {
    "colab": {},
    "colab_type": "code",
    "id": "cTc4Qzf5bq3Q"
   },
   "outputs": [],
   "source": [
    "# Build up the pipeline\n",
    "\n",
    "pipeline_icd10 = Pipeline(\n",
    "    stages = [\n",
    "    documentAssembler,\n",
    "    sentenceDetector,\n",
    "    tokenizer,\n",
    "    word_embeddings,\n",
    "    clinical_ner,\n",
    "    ner_converter,\n",
    "    chunk_embeddings,\n",
    "    chunk_tokenizer,\n",
    "    icd10cm_resolution\n",
    "  ])\n",
    "\n",
    "model_icd10 = pipeline_icd10.fit(data_ner)"
   ]
  },
  {
   "cell_type": "markdown",
   "metadata": {
    "colab_type": "text",
    "id": "pNZMFlxTbq3T"
   },
   "source": [
    "For each of the patient problems identified in the clinical note, we can run the ICD10 resolution pipeline and in case we found a candidate ICD10 code we print the results."
   ]
  },
  {
   "cell_type": "code",
   "execution_count": 0,
   "metadata": {
    "colab": {},
    "colab_type": "code",
    "id": "GQzIIZdmbq3T"
   },
   "outputs": [],
   "source": [
    "light_pipeline_icd10 = LightPipeline(model_icd10)"
   ]
  },
  {
   "cell_type": "code",
   "execution_count": 22,
   "metadata": {
    "colab": {
     "base_uri": "https://localhost:8080/",
     "height": 561
    },
    "colab_type": "code",
    "id": "lLHOw0E0bq3V",
    "outputId": "f0026501-ae75-4f0c-8554-827ddd59f9cf"
   },
   "outputs": [
    {
     "name": "stdout",
     "output_type": "stream",
     "text": [
      "====================================================================================\n",
      "ICD10 codes identified for the list of patients problems found in the clinical note.\n",
      "====================================================================================\n",
      "gestational diabetes mellitus >>> ICD10CM: P702\n",
      "type two diabetes mellitus >>> ICD10CM: E1142\n",
      "T2DM ), >>> ICD10CM: E1121\n",
      "HTG-induced pancreatitis >>> ICD10CM: B252\n",
      "an acute hepatitis >>> ICD10CM: B172\n",
      "obesity >>> ICD10CM: E661\n",
      "a body mass index >>> ICD10CM: Z681\n",
      "BMI ) of 33.5 kg/m2 >>> ICD10CM: Z6831\n",
      "polyuria >>> ICD10CM: R358\n",
      "polydipsia >>> ICD10CM: R631\n",
      "poor appetite >>> ICD10CM: R630\n",
      "vomiting >>> ICD10CM: R1114\n",
      "a respiratory tract infection >>> ICD10CM: J989\n",
      "T2DM >>> ICD10CM: E1121\n",
      "HTG >>> ICD10CM: E781\n",
      "tenderness >>> ICD10CM: R10815\n",
      "guarding >>> ICD10CM: R1083\n",
      "rigidity >>> ICD10CM: R1935\n",
      "significant lipemia >>> ICD10CM: E891\n",
      "starvation ketosis >>> ICD10CM: E71121\n",
      "poor oral intake >>> ICD10CM: F5082\n",
      "still elevated >>> ICD10CM: E7841\n",
      "interference from turbidity >>> ICD10CM: M2656\n",
      "lipemia >>> ICD10CM: R81\n",
      "euDKA >>> ICD10CM: R0602\n",
      "HTG >>> ICD10CM: E781\n",
      "a reduction in the anion gap >>> ICD10CM: M2653\n",
      "Her euDKA >>> ICD10CM: R94110\n",
      "her respiratory tract infection >>> ICD10CM: J989\n"
     ]
    }
   ],
   "source": [
    "# Now for the list of Patient Problem entities we will run the LightPipeline\n",
    "problem_list_str = [\" \".join(this_problem) for this_problem in problem_list]\n",
    "\n",
    "print(\"====================================================================================\")\n",
    "print(\"ICD10 codes identified for the list of patients problems found in the clinical note.\")\n",
    "print(\"====================================================================================\")\n",
    "\n",
    "for problem in problem_list_str:\n",
    "    this_r = light_pipeline_icd10.annotate(problem)\n",
    "    if(len(this_r['icd10cm_code'])>0):\n",
    "        print(\"{} >>> ICD10CM: {}\".format(this_r['sentence'][0], this_r['icd10cm_code'][0]))"
   ]
  },
  {
   "cell_type": "markdown",
   "metadata": {
    "colab_type": "text",
    "id": "bpDKunPtbq3Y"
   },
   "source": [
    "In case you see there are some imprecisions made by the semantic / syntactic nature of the recognized chunks, you can always take a deeper look at all the alternatives.\n",
    "\n",
    "One possible way, would be using the provided metadata like the following:"
   ]
  },
  {
   "cell_type": "code",
   "execution_count": 0,
   "metadata": {
    "colab": {},
    "colab_type": "code",
    "id": "J0jzGXwPbq3Z"
   },
   "outputs": [],
   "source": [
    "output = model_icd10.transform(data_ner).cache()"
   ]
  },
  {
   "cell_type": "code",
   "execution_count": null,
   "metadata": {},
   "outputs": [],
   "source": [
    "output.toPandas()"
   ]
  },
  {
   "cell_type": "code",
   "execution_count": 24,
   "metadata": {
    "colab": {
     "base_uri": "https://localhost:8080/",
     "height": 917
    },
    "colab_type": "code",
    "id": "XEpr--FSbq3b",
    "outputId": "be0792dd-e87f-447a-c4e1-e493b258b885"
   },
   "outputs": [
    {
     "data": {
      "text/html": [
       "<div>\n",
       "<style scoped>\n",
       "    .dataframe tbody tr th:only-of-type {\n",
       "        vertical-align: middle;\n",
       "    }\n",
       "\n",
       "    .dataframe tbody tr th {\n",
       "        vertical-align: top;\n",
       "    }\n",
       "\n",
       "    .dataframe thead th {\n",
       "        text-align: right;\n",
       "    }\n",
       "</style>\n",
       "<table border=\"1\" class=\"dataframe\">\n",
       "  <thead>\n",
       "    <tr style=\"text-align: right;\">\n",
       "      <th></th>\n",
       "      <th>chunk</th>\n",
       "      <th>entity</th>\n",
       "      <th>resolved_text</th>\n",
       "      <th>code</th>\n",
       "      <th>cms</th>\n",
       "      <th>confidence_ratio</th>\n",
       "    </tr>\n",
       "  </thead>\n",
       "  <tbody>\n",
       "    <tr>\n",
       "      <th>0</th>\n",
       "      <td>T2DM),</td>\n",
       "      <td>PROBLEM</td>\n",
       "      <td>Type 2 diabetes mellitus with diabetic nephrop...</td>\n",
       "      <td>E1121</td>\n",
       "      <td>Type 2 diabetes mellitus with diabetic nephrop...</td>\n",
       "      <td>1.0000</td>\n",
       "    </tr>\n",
       "    <tr>\n",
       "      <th>1</th>\n",
       "      <td>T2DM</td>\n",
       "      <td>PROBLEM</td>\n",
       "      <td>Type 2 diabetes mellitus with diabetic nephrop...</td>\n",
       "      <td>E1121</td>\n",
       "      <td>Type 2 diabetes mellitus with diabetic nephrop...</td>\n",
       "      <td>1.0000</td>\n",
       "    </tr>\n",
       "    <tr>\n",
       "      <th>2</th>\n",
       "      <td>polydipsia</td>\n",
       "      <td>PROBLEM</td>\n",
       "      <td>Polydipsia</td>\n",
       "      <td>R631</td>\n",
       "      <td>Polydipsia:::Anhedonia:::Galactorrhea</td>\n",
       "      <td>0.8878:::0.0606:::0.0516</td>\n",
       "    </tr>\n",
       "    <tr>\n",
       "      <th>3</th>\n",
       "      <td>interference from turbidity</td>\n",
       "      <td>PROBLEM</td>\n",
       "      <td>Non-working side interference</td>\n",
       "      <td>M2656</td>\n",
       "      <td>Non-working side interference:::Hemoglobinuria...</td>\n",
       "      <td>0.7725:::0.1345:::0.0484:::0.0446</td>\n",
       "    </tr>\n",
       "    <tr>\n",
       "      <th>4</th>\n",
       "      <td>polyuria</td>\n",
       "      <td>PROBLEM</td>\n",
       "      <td>Other polyuria</td>\n",
       "      <td>R358</td>\n",
       "      <td>Other polyuria:::Polydipsia:::Generalized edem...</td>\n",
       "      <td>0.7395:::0.1131:::0.0878:::0.0337:::0.0259</td>\n",
       "    </tr>\n",
       "    <tr>\n",
       "      <th>5</th>\n",
       "      <td>lipemia</td>\n",
       "      <td>PROBLEM</td>\n",
       "      <td>Glycosuria</td>\n",
       "      <td>R81</td>\n",
       "      <td>Glycosuria:::Pure hyperglyceridemia:::Hyperchy...</td>\n",
       "      <td>0.6114:::0.3736:::0.0151</td>\n",
       "    </tr>\n",
       "    <tr>\n",
       "      <th>6</th>\n",
       "      <td>starvation ketosis</td>\n",
       "      <td>PROBLEM</td>\n",
       "      <td>Propionic acidemia</td>\n",
       "      <td>E71121</td>\n",
       "      <td>Propionic acidemia:::Bartter's syndrome:::Hypo...</td>\n",
       "      <td>0.6098:::0.1194:::0.1012:::0.0902:::0.0794</td>\n",
       "    </tr>\n",
       "    <tr>\n",
       "      <th>7</th>\n",
       "      <td>HTG</td>\n",
       "      <td>PROBLEM</td>\n",
       "      <td>Pure hyperglyceridemia</td>\n",
       "      <td>E781</td>\n",
       "      <td>Pure hyperglyceridemia:::Familial hypercholest...</td>\n",
       "      <td>0.6041:::0.3887:::0.0072</td>\n",
       "    </tr>\n",
       "    <tr>\n",
       "      <th>8</th>\n",
       "      <td>an acute hepatitis</td>\n",
       "      <td>PROBLEM</td>\n",
       "      <td>Acute hepatitis E</td>\n",
       "      <td>B172</td>\n",
       "      <td>Acute hepatitis E:::Autoimmune hepatitis:::Mum...</td>\n",
       "      <td>0.5241:::0.2466:::0.2293</td>\n",
       "    </tr>\n",
       "    <tr>\n",
       "      <th>9</th>\n",
       "      <td>vomiting</td>\n",
       "      <td>PROBLEM</td>\n",
       "      <td>Bilious vomiting</td>\n",
       "      <td>R1114</td>\n",
       "      <td>Bilious vomiting:::Vomiting without nausea:::N...</td>\n",
       "      <td>0.4885:::0.3548:::0.1566</td>\n",
       "    </tr>\n",
       "    <tr>\n",
       "      <th>10</th>\n",
       "      <td>type two diabetes mellitus</td>\n",
       "      <td>PROBLEM</td>\n",
       "      <td>Type 2 diabetes mellitus with diabetic polyneu...</td>\n",
       "      <td>E1142</td>\n",
       "      <td>Type 2 diabetes mellitus with diabetic polyneu...</td>\n",
       "      <td>0.4613:::0.3926:::0.1461</td>\n",
       "    </tr>\n",
       "    <tr>\n",
       "      <th>11</th>\n",
       "      <td>gestational diabetes mellitus</td>\n",
       "      <td>PROBLEM</td>\n",
       "      <td>Neonatal diabetes mellitus</td>\n",
       "      <td>P702</td>\n",
       "      <td>Neonatal diabetes mellitus:::Type 2 diabetes m...</td>\n",
       "      <td>0.4513:::0.3521:::0.1966</td>\n",
       "    </tr>\n",
       "    <tr>\n",
       "      <th>12</th>\n",
       "      <td>obesity</td>\n",
       "      <td>PROBLEM</td>\n",
       "      <td>Drug-induced obesity</td>\n",
       "      <td>E661</td>\n",
       "      <td>Drug-induced obesity:::Other obesity:::Bariatr...</td>\n",
       "      <td>0.4211:::0.3508:::0.2281</td>\n",
       "    </tr>\n",
       "    <tr>\n",
       "      <th>13</th>\n",
       "      <td>tenderness</td>\n",
       "      <td>PROBLEM</td>\n",
       "      <td>Periumbilic abdominal tenderness</td>\n",
       "      <td>R10815</td>\n",
       "      <td>Periumbilic abdominal tenderness:::Epigastric ...</td>\n",
       "      <td>0.4188:::0.3172:::0.2640</td>\n",
       "    </tr>\n",
       "    <tr>\n",
       "      <th>14</th>\n",
       "      <td>poor oral intake</td>\n",
       "      <td>PROBLEM</td>\n",
       "      <td>Avoidant/restrictive food intake disorder</td>\n",
       "      <td>F5082</td>\n",
       "      <td>Avoidant/restrictive food intake disorder:::Nu...</td>\n",
       "      <td>0.3966:::0.3283:::0.1984:::0.0767</td>\n",
       "    </tr>\n",
       "    <tr>\n",
       "      <th>15</th>\n",
       "      <td>her respiratory tract infection</td>\n",
       "      <td>PROBLEM</td>\n",
       "      <td>Respiratory disorder, unspecified</td>\n",
       "      <td>J989</td>\n",
       "      <td>Respiratory disorder, unspecified:::Acute naso...</td>\n",
       "      <td>0.3792:::0.3220:::0.2988</td>\n",
       "    </tr>\n",
       "    <tr>\n",
       "      <th>16</th>\n",
       "      <td>HTG-induced pancreatitis</td>\n",
       "      <td>PROBLEM</td>\n",
       "      <td>Cytomegaloviral pancreatitis</td>\n",
       "      <td>B252</td>\n",
       "      <td>Cytomegaloviral pancreatitis:::Alcohol-induced...</td>\n",
       "      <td>0.3606:::0.3149:::0.2639:::0.0606</td>\n",
       "    </tr>\n",
       "    <tr>\n",
       "      <th>17</th>\n",
       "      <td>significant lipemia</td>\n",
       "      <td>PROBLEM</td>\n",
       "      <td>Postprocedural hypoinsulinemia</td>\n",
       "      <td>E891</td>\n",
       "      <td>Postprocedural hypoinsulinemia:::Pure hypergly...</td>\n",
       "      <td>0.3600:::0.3080:::0.1791:::0.1529</td>\n",
       "    </tr>\n",
       "    <tr>\n",
       "      <th>18</th>\n",
       "      <td>Her euDKA</td>\n",
       "      <td>PROBLEM</td>\n",
       "      <td>Abnormal electro-oculogram [EOG]</td>\n",
       "      <td>R94110</td>\n",
       "      <td>Abnormal electro-oculogram [EOG]:::Abnormal el...</td>\n",
       "      <td>0.3566:::0.2077:::0.2077:::0.2077:::0.0204</td>\n",
       "    </tr>\n",
       "    <tr>\n",
       "      <th>19</th>\n",
       "      <td>rigidity</td>\n",
       "      <td>PROBLEM</td>\n",
       "      <td>Periumbilic abdominal rigidity</td>\n",
       "      <td>R1935</td>\n",
       "      <td>Periumbilic abdominal rigidity:::Generalized a...</td>\n",
       "      <td>0.3519:::0.2834:::0.2651:::0.0996</td>\n",
       "    </tr>\n",
       "    <tr>\n",
       "      <th>20</th>\n",
       "      <td>poor appetite</td>\n",
       "      <td>PROBLEM</td>\n",
       "      <td>Anorexia</td>\n",
       "      <td>R630</td>\n",
       "      <td>Anorexia:::Nutritional deficiency, unspecified...</td>\n",
       "      <td>0.3424:::0.2478:::0.2452:::0.1412:::0.0234</td>\n",
       "    </tr>\n",
       "    <tr>\n",
       "      <th>21</th>\n",
       "      <td>a body mass index</td>\n",
       "      <td>PROBLEM</td>\n",
       "      <td>Body mass index (BMI) 19.9 or less, adult</td>\n",
       "      <td>Z681</td>\n",
       "      <td>Body mass index (BMI) 19.9 or less, adult:::Bo...</td>\n",
       "      <td>0.3122:::0.2293:::0.2293:::0.2293</td>\n",
       "    </tr>\n",
       "    <tr>\n",
       "      <th>22</th>\n",
       "      <td>a respiratory tract infection</td>\n",
       "      <td>PROBLEM</td>\n",
       "      <td>Respiratory disorder, unspecified</td>\n",
       "      <td>J989</td>\n",
       "      <td>Respiratory disorder, unspecified:::Acute naso...</td>\n",
       "      <td>0.2960:::0.2577:::0.2267:::0.2195</td>\n",
       "    </tr>\n",
       "    <tr>\n",
       "      <th>23</th>\n",
       "      <td>still elevated</td>\n",
       "      <td>PROBLEM</td>\n",
       "      <td>Elevated Lipoprotein(a)</td>\n",
       "      <td>E7841</td>\n",
       "      <td>Elevated Lipoprotein(a):::Fever, unspecified::...</td>\n",
       "      <td>0.2886:::0.2172:::0.1990:::0.1514:::0.1438</td>\n",
       "    </tr>\n",
       "    <tr>\n",
       "      <th>24</th>\n",
       "      <td>a reduction in the anion gap</td>\n",
       "      <td>PROBLEM</td>\n",
       "      <td>Deviation in opening and closing of the mandible</td>\n",
       "      <td>M2653</td>\n",
       "      <td>Deviation in opening and closing of the mandib...</td>\n",
       "      <td>0.2762:::0.2676:::0.2608:::0.1242:::0.0711</td>\n",
       "    </tr>\n",
       "    <tr>\n",
       "      <th>25</th>\n",
       "      <td>guarding</td>\n",
       "      <td>PROBLEM</td>\n",
       "      <td>Colic</td>\n",
       "      <td>R1083</td>\n",
       "      <td>Colic:::Scrotal pain:::Dysuria:::Periumbilic a...</td>\n",
       "      <td>0.2617:::0.2617:::0.2617:::0.2148</td>\n",
       "    </tr>\n",
       "    <tr>\n",
       "      <th>26</th>\n",
       "      <td>BMI) of 33.5 kg/m2</td>\n",
       "      <td>PROBLEM</td>\n",
       "      <td>Body mass index (BMI) 31.0-31.9, adult</td>\n",
       "      <td>Z6831</td>\n",
       "      <td>Body mass index (BMI) 31.0-31.9, adult:::Body ...</td>\n",
       "      <td>0.2327:::0.2327:::0.2327:::0.2327:::0.0691</td>\n",
       "    </tr>\n",
       "    <tr>\n",
       "      <th>27</th>\n",
       "      <td>euDKA</td>\n",
       "      <td>PROBLEM</td>\n",
       "      <td>Shortness of breath</td>\n",
       "      <td>R0602</td>\n",
       "      <td>Shortness of breath:::Chancroid:::Phimosis:::R...</td>\n",
       "      <td>0.2000:::0.2000:::0.2000:::0.2000:::0.2000</td>\n",
       "    </tr>\n",
       "  </tbody>\n",
       "</table>\n",
       "</div>"
      ],
      "text/plain": [
       "                              chunk  ...                            confidence_ratio\n",
       "0                            T2DM),  ...                                      1.0000\n",
       "1                              T2DM  ...                                      1.0000\n",
       "2                        polydipsia  ...                    0.8878:::0.0606:::0.0516\n",
       "3       interference from turbidity  ...           0.7725:::0.1345:::0.0484:::0.0446\n",
       "4                          polyuria  ...  0.7395:::0.1131:::0.0878:::0.0337:::0.0259\n",
       "5                           lipemia  ...                    0.6114:::0.3736:::0.0151\n",
       "6                starvation ketosis  ...  0.6098:::0.1194:::0.1012:::0.0902:::0.0794\n",
       "7                               HTG  ...                    0.6041:::0.3887:::0.0072\n",
       "8                an acute hepatitis  ...                    0.5241:::0.2466:::0.2293\n",
       "9                          vomiting  ...                    0.4885:::0.3548:::0.1566\n",
       "10       type two diabetes mellitus  ...                    0.4613:::0.3926:::0.1461\n",
       "11    gestational diabetes mellitus  ...                    0.4513:::0.3521:::0.1966\n",
       "12                          obesity  ...                    0.4211:::0.3508:::0.2281\n",
       "13                       tenderness  ...                    0.4188:::0.3172:::0.2640\n",
       "14                 poor oral intake  ...           0.3966:::0.3283:::0.1984:::0.0767\n",
       "15  her respiratory tract infection  ...                    0.3792:::0.3220:::0.2988\n",
       "16         HTG-induced pancreatitis  ...           0.3606:::0.3149:::0.2639:::0.0606\n",
       "17              significant lipemia  ...           0.3600:::0.3080:::0.1791:::0.1529\n",
       "18                        Her euDKA  ...  0.3566:::0.2077:::0.2077:::0.2077:::0.0204\n",
       "19                         rigidity  ...           0.3519:::0.2834:::0.2651:::0.0996\n",
       "20                    poor appetite  ...  0.3424:::0.2478:::0.2452:::0.1412:::0.0234\n",
       "21                a body mass index  ...           0.3122:::0.2293:::0.2293:::0.2293\n",
       "22    a respiratory tract infection  ...           0.2960:::0.2577:::0.2267:::0.2195\n",
       "23                   still elevated  ...  0.2886:::0.2172:::0.1990:::0.1514:::0.1438\n",
       "24     a reduction in the anion gap  ...  0.2762:::0.2676:::0.2608:::0.1242:::0.0711\n",
       "25                         guarding  ...           0.2617:::0.2617:::0.2617:::0.2148\n",
       "26               BMI) of 33.5 kg/m2  ...  0.2327:::0.2327:::0.2327:::0.2327:::0.0691\n",
       "27                            euDKA  ...  0.2000:::0.2000:::0.2000:::0.2000:::0.2000\n",
       "\n",
       "[28 rows x 6 columns]"
      ]
     },
     "execution_count": 24,
     "metadata": {
      "tags": []
     },
     "output_type": "execute_result"
    }
   ],
   "source": [
    "# output.select(F.explode(F.arrays_zip(\"ner_chunk.result\",\"ner_chunk.metadata\",\n",
    "#                                      \"icd10cm_code.result\",\"icd10cm_code.metadata\")).alias(\"icd10cm_result\")) \\\n",
    "# .select(F.expr(\"icd10cm_result['0']\").alias(\"chunk\"),\n",
    "#         F.expr(\"icd10cm_result['1'].entity\").alias(\"entity\"),\n",
    "#         F.expr(\"icd10cm_result['3'].resolved_text\").alias(\"resolved_text\"),\n",
    "#         F.expr(\"icd10cm_result['2']\").alias(\"code\"),\n",
    "#         F.expr(\"icd10cm_result['3'].all_k_resolutions\").alias(\"cms\"),\n",
    "#         F.expr(\"icd10cm_result['3'].all_k_confidences\").alias(\"confidence_ratio\")) \\\n",
    "# .filter(F.expr(\"entity='PROBLEM' and code is not null\").alias(\"entity\")) \\\n",
    "# .distinct() \\\n",
    "# .orderBy(\"confidence_ratio\", ascending=False) \\\n",
    "# .toPandas()"
   ]
  },
  {
   "cell_type": "code",
   "execution_count": 0,
   "metadata": {
    "colab": {},
    "colab_type": "code",
    "id": "fnyEQRs-pMvU"
   },
   "outputs": [],
   "source": [
    "output_rx = rxnorm_resolution.transform(output).cache()"
   ]
  },
  {
   "cell_type": "code",
   "execution_count": null,
   "metadata": {},
   "outputs": [],
   "source": [
    "output_rx.toPandas()"
   ]
  },
  {
   "cell_type": "code",
   "execution_count": 26,
   "metadata": {
    "colab": {
     "base_uri": "https://localhost:8080/",
     "height": 390
    },
    "colab_type": "code",
    "id": "-TWUhAKHbq3d",
    "outputId": "287c39e5-81f3-4cab-c4cf-8342fee6cf9f"
   },
   "outputs": [
    {
     "data": {
      "text/html": [
       "<div>\n",
       "<style scoped>\n",
       "    .dataframe tbody tr th:only-of-type {\n",
       "        vertical-align: middle;\n",
       "    }\n",
       "\n",
       "    .dataframe tbody tr th {\n",
       "        vertical-align: top;\n",
       "    }\n",
       "\n",
       "    .dataframe thead th {\n",
       "        text-align: right;\n",
       "    }\n",
       "</style>\n",
       "<table border=\"1\" class=\"dataframe\">\n",
       "  <thead>\n",
       "    <tr style=\"text-align: right;\">\n",
       "      <th></th>\n",
       "      <th>chunk</th>\n",
       "      <th>entity</th>\n",
       "      <th>target_text</th>\n",
       "      <th>code</th>\n",
       "      <th>alternative_codes</th>\n",
       "      <th>conf</th>\n",
       "    </tr>\n",
       "  </thead>\n",
       "  <tbody>\n",
       "    <tr>\n",
       "      <th>0</th>\n",
       "      <td>gemfibrozil</td>\n",
       "      <td>TREATMENT</td>\n",
       "      <td>Gemfibrozil:::Bezafibrate:::Fenofibrate:::Prav...</td>\n",
       "      <td>4719</td>\n",
       "      <td>Gemfibrozil:::Bezafibrate:::Fenofibrate:::Prav...</td>\n",
       "      <td>0.4737:::0.1468:::0.1390:::0.1389:::0.1016</td>\n",
       "    </tr>\n",
       "    <tr>\n",
       "      <th>1</th>\n",
       "      <td>glipizide</td>\n",
       "      <td>TREATMENT</td>\n",
       "      <td>Glipizide:::GlipiZIDE XL:::Glimepiride:::Glybu...</td>\n",
       "      <td>4821</td>\n",
       "      <td>Glipizide:::GlipiZIDE XL:::Glimepiride:::Glybu...</td>\n",
       "      <td>0.4084:::0.3423:::0.1258:::0.1236</td>\n",
       "    </tr>\n",
       "    <tr>\n",
       "      <th>2</th>\n",
       "      <td>atorvastatin</td>\n",
       "      <td>TREATMENT</td>\n",
       "      <td>Atorvastatin:::atorvastatin and ezetimibe:::Si...</td>\n",
       "      <td>83367</td>\n",
       "      <td>Atorvastatin:::atorvastatin and ezetimibe:::Si...</td>\n",
       "      <td>0.3737:::0.2599:::0.1237:::0.1228:::0.1199</td>\n",
       "    </tr>\n",
       "    <tr>\n",
       "      <th>3</th>\n",
       "      <td>insulin glargine</td>\n",
       "      <td>TREATMENT</td>\n",
       "      <td>Insulin glargine:::Insulin detemir:::Insulin l...</td>\n",
       "      <td>274783</td>\n",
       "      <td>Insulin glargine:::Insulin detemir:::Insulin l...</td>\n",
       "      <td>0.3642:::0.2142:::0.2122:::0.2094</td>\n",
       "    </tr>\n",
       "    <tr>\n",
       "      <th>4</th>\n",
       "      <td>dapagliflozin</td>\n",
       "      <td>TREATMENT</td>\n",
       "      <td>dapagliflozin:::dapagliflozin-metformin:::saxa...</td>\n",
       "      <td>1488564</td>\n",
       "      <td>dapagliflozin:::dapagliflozin-metformin:::saxa...</td>\n",
       "      <td>0.3073:::0.2266:::0.2172:::0.1545:::0.0944</td>\n",
       "    </tr>\n",
       "    <tr>\n",
       "      <th>5</th>\n",
       "      <td>amoxicillin</td>\n",
       "      <td>TREATMENT</td>\n",
       "      <td>Amoxicillin:::amoxicillin sodium:::Amoxicillin...</td>\n",
       "      <td>723</td>\n",
       "      <td>Amoxicillin:::amoxicillin sodium:::Amoxicillin...</td>\n",
       "      <td>0.2721:::0.2422:::0.2277:::0.1294:::0.1285</td>\n",
       "    </tr>\n",
       "    <tr>\n",
       "      <th>6</th>\n",
       "      <td>insulin lispro</td>\n",
       "      <td>TREATMENT</td>\n",
       "      <td>Insulin lispro:::Insulin lispro protamine:::in...</td>\n",
       "      <td>86009</td>\n",
       "      <td>Insulin lispro:::Insulin lispro protamine:::in...</td>\n",
       "      <td>0.2536:::0.2344:::0.2165:::0.1478:::0.1477</td>\n",
       "    </tr>\n",
       "    <tr>\n",
       "      <th>7</th>\n",
       "      <td>metformin</td>\n",
       "      <td>TREATMENT</td>\n",
       "      <td>Metformin:::metformin HCl:::Orabet Metformin::...</td>\n",
       "      <td>6809</td>\n",
       "      <td>Metformin:::metformin HCl:::Orabet Metformin::...</td>\n",
       "      <td>0.2439:::0.2100:::0.1975:::0.1829:::0.1657</td>\n",
       "    </tr>\n",
       "    <tr>\n",
       "      <th>8</th>\n",
       "      <td>all SGLT2 inhibitors</td>\n",
       "      <td>TREATMENT</td>\n",
       "      <td>MAO inhibitors:::Prolactine inhibitors:::Renin...</td>\n",
       "      <td>1431605</td>\n",
       "      <td>MAO inhibitors:::Prolactine inhibitors:::Renin...</td>\n",
       "      <td>0.2272:::0.2095:::0.1960:::0.1852:::0.1821</td>\n",
       "    </tr>\n",
       "    <tr>\n",
       "      <th>9</th>\n",
       "      <td>an insulin drip</td>\n",
       "      <td>TREATMENT</td>\n",
       "      <td>INSULIN ARGINE:::Insulin, NPH:::insulin isopha...</td>\n",
       "      <td>1740938</td>\n",
       "      <td>INSULIN ARGINE:::Insulin, NPH:::insulin isopha...</td>\n",
       "      <td>0.2253:::0.2078:::0.1911:::0.1886:::0.1872</td>\n",
       "    </tr>\n",
       "    <tr>\n",
       "      <th>10</th>\n",
       "      <td>SGLT2 inhibitor</td>\n",
       "      <td>TREATMENT</td>\n",
       "      <td>Protease inhibitor:::Enzyme inhibitor:::Phosph...</td>\n",
       "      <td>386943</td>\n",
       "      <td>Protease inhibitor:::Enzyme inhibitor:::Phosph...</td>\n",
       "      <td>0.2051:::0.2045:::0.1981:::0.1964:::0.1958</td>\n",
       "    </tr>\n",
       "  </tbody>\n",
       "</table>\n",
       "</div>"
      ],
      "text/plain": [
       "                   chunk  ...                                        conf\n",
       "0            gemfibrozil  ...  0.4737:::0.1468:::0.1390:::0.1389:::0.1016\n",
       "1              glipizide  ...           0.4084:::0.3423:::0.1258:::0.1236\n",
       "2           atorvastatin  ...  0.3737:::0.2599:::0.1237:::0.1228:::0.1199\n",
       "3       insulin glargine  ...           0.3642:::0.2142:::0.2122:::0.2094\n",
       "4          dapagliflozin  ...  0.3073:::0.2266:::0.2172:::0.1545:::0.0944\n",
       "5            amoxicillin  ...  0.2721:::0.2422:::0.2277:::0.1294:::0.1285\n",
       "6         insulin lispro  ...  0.2536:::0.2344:::0.2165:::0.1478:::0.1477\n",
       "7              metformin  ...  0.2439:::0.2100:::0.1975:::0.1829:::0.1657\n",
       "8   all SGLT2 inhibitors  ...  0.2272:::0.2095:::0.1960:::0.1852:::0.1821\n",
       "9        an insulin drip  ...  0.2253:::0.2078:::0.1911:::0.1886:::0.1872\n",
       "10       SGLT2 inhibitor  ...  0.2051:::0.2045:::0.1981:::0.1964:::0.1958\n",
       "\n",
       "[11 rows x 6 columns]"
      ]
     },
     "execution_count": 26,
     "metadata": {
      "tags": []
     },
     "output_type": "execute_result"
    }
   ],
   "source": [
    "# output_rx.select(F.explode(F.arrays_zip(\"ner_chunk.result\",\"ner_chunk.metadata\",\"rxnorm_result.result\",\"rxnorm_result.metadata\")).alias(\"rxnorm_result\")) \\\n",
    "# .select(F.expr(\"rxnorm_result['0']\").alias(\"chunk\"),\n",
    "#         F.expr(\"rxnorm_result['1'].entity\").alias(\"entity\"),\n",
    "#         F.expr(\"rxnorm_result['3'].all_k_resolutions\").alias(\"target_text\"),\n",
    "#         F.expr(\"rxnorm_result['2']\").alias(\"code\"),\n",
    "#         F.expr(\"rxnorm_result['3'].all_k_resolutions\").alias(\"alternative_codes\"),\n",
    "#         F.expr(\"rxnorm_result['3'].all_k_confidences\").alias(\"conf\")) \\\n",
    "# .filter(F.expr(\"entity in ('TREATMENT')\").alias(\"entity\")) \\\n",
    "# .distinct() \\\n",
    "# .orderBy(\"conf\", ascending=False) \\\n",
    "# .toPandas()"
   ]
  },
  {
   "cell_type": "code",
   "execution_count": 0,
   "metadata": {
    "colab": {},
    "colab_type": "code",
    "id": "Iai68OmmqLGv"
   },
   "outputs": [],
   "source": []
  }
 ],
 "metadata": {
  "colab": {
   "name": "ICD10-RxNorm-EntityResolution-Detailed.ipynb",
   "provenance": [],
   "toc_visible": true
  },
  "kernelspec": {
   "display_name": "Python 3",
   "language": "python",
   "name": "python3"
  },
  "language_info": {
   "codemirror_mode": {
    "name": "ipython",
    "version": 3
   },
   "file_extension": ".py",
   "mimetype": "text/x-python",
   "name": "python",
   "nbconvert_exporter": "python",
   "pygments_lexer": "ipython3",
   "version": "3.6.9"
  }
 },
 "nbformat": 4,
 "nbformat_minor": 1
}
