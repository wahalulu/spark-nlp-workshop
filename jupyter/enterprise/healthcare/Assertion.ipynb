{
 "cells": [
  {
   "cell_type": "markdown",
   "metadata": {
    "colab_type": "text",
    "id": "0Xn2cfVZUYSh"
   },
   "source": [
    "[![Open In Colab](https://colab.research.google.com/assets/colab-badge.svg)](https://colab.research.google.com/github/JohnSnowLabs/spark-nlp-workshop/blob/master/jupyter/enterprise/healthcare/Assertion.ipynb)"
   ]
  },
  {
   "cell_type": "markdown",
   "metadata": {
    "colab_type": "text",
    "id": "7GZuAzJYTzz0"
   },
   "source": [
    "<img src=\"https://nlp.johnsnowlabs.com/assets/images/logo.png\" width=\"180\" height=\"50\" style=\"float: left;\">"
   ]
  },
  {
   "cell_type": "code",
   "execution_count": 1,
   "metadata": {
    "colab": {
     "base_uri": "https://localhost:8080/",
     "height": 34
    },
    "colab_type": "code",
    "id": "f4BdwqEIUQ1d",
    "outputId": "26948dfd-7a11-4629-818c-8e8088c7a803"
   },
   "outputs": [
    {
     "data": {
      "text/plain": [
       "dict_keys(['SPARK_NLP_PUBLIC_VERSION', 'SPARK_NLP_VERSION', 'SPARK_NLP_SECRET', 'SPARK_NLP_LICENSE', 'AWS_ACCESS_KEY_ID', 'AWS_SECRET_ACCESS_KEY', 'JSL_OCR_LICENSE', 'JSL_OCR_SECRET'])"
      ]
     },
     "execution_count": 1,
     "metadata": {},
     "output_type": "execute_result"
    }
   ],
   "source": [
    "import json\n",
    "\n",
    "with open('keys.json') as f:\n",
    "    license_keys = json.load(f)\n",
    "\n",
    "license_keys.keys()"
   ]
  },
  {
   "cell_type": "markdown",
   "metadata": {
    "colab_type": "text",
    "id": "_9yF5h8JTzz2"
   },
   "source": [
    "# Clinical Entity Recognition with Assertion - version 2.3.4\n",
    "\n",
    "## Example for Named Entity Recognition with Assertion Pipeline\n",
    "\n",
    "A common NLP problem in biomedical aplications is to identify the presence of clinical entities in a given text. This clinical entities could be diseases, symptoms, drugs, results of clinical investigations or others.\n",
    "\n",
    "But just identifying the presence of a clinical entity in an unestructured content is not enough for most of real world applications. As clinical care is full of uncertainty, in practice many of the entities refered in a medical record will not be really present in the patient but are mentioned just as working hypothesis, or identify a condition that want to be ruled out by means of a complementary test, or a condition being prevented by an intervention (for instance \"patient was vaccinated against hepatitis B\" does not imply that patient suffering from hepatitis B). In other cases a disease is mentioned associated with a relative of the patient (as in \"Father with Alzheimer disease\") as those family history is a risk factor in diseases with a genetic component.\n",
    "\n",
    "In order to extract this information from the content the Spark-NLP enterprise version includes an Assertion annotator that based in a Machine Learning pretrained model will assign, for every entity identified, a tag that informs about the nature of that entity in terms of certainty: \"present\", \"absent\", \"hypothesis\", \"conditional\", \"associated_with_other_person\", etc.\n",
    "\n",
    "In this example we will use Spark-NLP to identify some entities present in a a list of sentences adding an assertion about their certainty."
   ]
  },
  {
   "cell_type": "markdown",
   "metadata": {
    "colab_type": "text",
    "id": "6UxqjnNHUt7i"
   },
   "source": [
    "### Step 1. Environment Setup"
   ]
  },
  {
   "cell_type": "code",
   "execution_count": 4,
   "metadata": {
    "colab": {
     "base_uri": "https://localhost:8080/",
     "height": 408
    },
    "colab_type": "code",
    "id": "2cMOa3smUyKy",
    "outputId": "cd1114e1-1845-49cc-905b-11b73f1032fe"
   },
   "outputs": [
    {
     "name": "stdout",
     "output_type": "stream",
     "text": [
      "E: Could not open lock file /var/lib/dpkg/lock-frontend - open (13: Permission denied)\n",
      "E: Unable to acquire the dpkg frontend lock (/var/lib/dpkg/lock-frontend), are you root?\n",
      "openjdk version \"1.8.0_265\"\n",
      "OpenJDK Runtime Environment (build 1.8.0_265-8u265-b01-0ubuntu2~18.04-b01)\n",
      "OpenJDK 64-Bit Server VM (build 25.265-b01, mixed mode)\n",
      "Looking in indexes",
      "Requirement already up-to-date: spark-nlp-jsl==2.5.5 in /home/fernandrez/.local/lib/python3.6/site-packages (2.5.5)\n",
      "Requirement already satisfied, skipping upgrade: pyspark==2.4.4 in /home/fernandrez/JSL/lib/spark-2.4.4-bin-hadoop2.7/python (from spark-nlp-jsl==2.5.5) (2.4.4)\n",
      "Requirement already satisfied, skipping upgrade: spark-nlp==2.5.5 in /home/fernandrez/.local/lib/python3.6/site-packages (from spark-nlp-jsl==2.5.5) (2.5.5)\n",
      "Requirement already satisfied, skipping upgrade: py4j==0.10.7 in /home/fernandrez/.local/lib/python3.6/site-packages (from pyspark==2.4.4->spark-nlp-jsl==2.5.5) (0.10.7)\n",
      "\u001b[33mWARNING: You are using pip version 20.0.2; however, version 20.2.1 is available.\n",
      "You should consider upgrading via the '/usr/bin/python3 -m pip install --upgrade pip' command.\u001b[0m\n"
     ]
    },
    {
     "ename": "ModuleNotFoundError",
     "evalue": "No module named 'sparknlp'",
     "output_type": "error",
     "traceback": [
      "\u001b[0;31m---------------------------------------------------------------------------\u001b[0m",
      "\u001b[0;31mModuleNotFoundError\u001b[0m                       Traceback (most recent call last)",
      "\u001b[0;32m<ipython-input-4-c2e7d4cb4902>\u001b[0m in \u001b[0;36m<module>\u001b[0;34m\u001b[0m\n\u001b[1;32m     17\u001b[0m \u001b[0mget_ipython\u001b[0m\u001b[0;34m(\u001b[0m\u001b[0;34m)\u001b[0m\u001b[0;34m.\u001b[0m\u001b[0msystem\u001b[0m\u001b[0;34m(\u001b[0m\u001b[0;34m' pip install --upgrade spark-nlp-jsl==$jsl_version --user --extra-index-url https://pypi.johnsnowlabs.com/$secret'\u001b[0m\u001b[0;34m)\u001b[0m\u001b[0;34m\u001b[0m\u001b[0;34m\u001b[0m\u001b[0m\n\u001b[1;32m     18\u001b[0m \u001b[0;34m\u001b[0m\u001b[0m\n\u001b[0;32m---> 19\u001b[0;31m \u001b[0;32mimport\u001b[0m \u001b[0msparknlp\u001b[0m\u001b[0;34m\u001b[0m\u001b[0;34m\u001b[0m\u001b[0m\n\u001b[0m\u001b[1;32m     20\u001b[0m \u001b[0;32mimport\u001b[0m \u001b[0msparknlp_jsl\u001b[0m\u001b[0;34m\u001b[0m\u001b[0;34m\u001b[0m\u001b[0m\n\u001b[1;32m     21\u001b[0m \u001b[0;32mfrom\u001b[0m \u001b[0msparknlp\u001b[0m\u001b[0;34m.\u001b[0m\u001b[0mbase\u001b[0m \u001b[0;32mimport\u001b[0m \u001b[0;34m*\u001b[0m\u001b[0;34m\u001b[0m\u001b[0;34m\u001b[0m\u001b[0m\n",
      "\u001b[0;31mModuleNotFoundError\u001b[0m: No module named 'sparknlp'"
     ]
    }
   ],
   "source": [
    "import os\n",
    "\n",
    "# Install java\n",
    "! apt-get update -qq\n",
    "! apt-get install -y openjdk-8-jdk-headless -qq > /dev/null\n",
    "\n",
    "secret = license_keys.get(\"secret\",license_keys.get('SPARK_NLP_SECRET', \"\"))\n",
    "spark_version = os.environ.get(\"SPARK_VERSION\", license_keys.get(\"SPARK_VERSION\",\"2.4\"))\n",
    "version = license_keys.get(\"version\",license_keys.get('SPARK_NLP_PUBLIC_VERSION', \"\"))\n",
    "jsl_version = license_keys.get(\"jsl_version\",license_keys.get('SPARK_NLP_VERSION', \"\"))\n",
    "\n",
    "os.environ[\"JAVA_HOME\"] = \"/usr/lib/jvm/java-8-openjdk-amd64\"\n",
    "os.environ[\"PATH\"] = os.environ[\"JAVA_HOME\"] + \"/bin:\" + os.environ[\"PATH\"]\n",
    "! java -version\n",
    "\n",
    "os.environ['SPARK_NLP_LICENSE'] = license_keys['SPARK_NLP_LICENSE']\n",
    "os.environ['JSL_OCR_LICENSE'] = license_keys['JSL_OCR_LICENSE']\n",
    "os.environ['AWS_ACCESS_KEY_ID']= license_keys['AWS_ACCESS_KEY_ID']\n",
    "os.environ['AWS_SECRET_ACCESS_KEY'] = license_keys['AWS_SECRET_ACCESS_KEY']\n",
    "\n",
    "print(spark_version, version, jsl_version)\n",
    "\n",
    "! python -m pip install \"pyspark==$spark_version\".*\n",
    "! python -m pip install --upgrade spark-nlp-jsl==$jsl_version  --extra-index-url https://pypi.johnsnowlabs.com/$secret\n",
    "\n",
    "import sparknlp\n",
    "import sparknlp_jsl\n",
    "from sparknlp.base import *\n",
    "from sparknlp.annotator import *\n",
    "from sparknlp_jsl.annotator import *\n",
    "from pyspark.ml import Pipeline\n",
    "from pyspark.sql import SparkSession\n",
    "\n",
    "print (sparknlp.version())\n",
    "print (sparknlp_jsl.version())\n",
    "\n",
    "spark = sparknlp_jsl.start(secret, gpu=False, spark23=(spark_version[:3]==\"2.3\"))"
   ]
  },
  {
   "cell_type": "markdown",
   "metadata": {
    "colab_type": "text",
    "id": "guVWWWtYTz0M"
   },
   "source": [
    "### Step 2. Clinical NER Pipeline creation\n",
    "\n",
    "In Spark-NLP annotating NLP happens through pipelines. Pipelines are made out of various Annotator steps. In our case the architecture of the Clinical Named Entity Recognition pipeline with Assertion will be:\n",
    "\n",
    "* DocumentAssembler (text -> document)\n",
    "* SentenceDetector (document -> sentence)\n",
    "* Tokenizer (sentence -> token)\n",
    "* WordEmbeddingsModel ([sentence, token] -> embeddings)\n",
    "* NerDLModel ([sentence, token, embeddings] -> ner)\n",
    "* NerConverter([sentence, token, ner] -> ner_chunk)\n",
    "* AssertionLogRegModel ([sentence, ner_chunk, embeddings] -> assertion)\n",
    "\n",
    "So from a text we end having a list of Named Entities (Patient problems, Treatments and Tests) along with their certainty assertion tags."
   ]
  },
  {
   "cell_type": "markdown",
   "metadata": {
    "colab_type": "text",
    "id": "5X4odV4rTz0N"
   },
   "source": [
    "#### Step 2.1 Initialize all the annotators required by the pipeline\n",
    "\n",
    "The first 3 annotators of the pipeline are \"DocumentAssembler\", \"SentenceDectector\" and \"Tokenizer\":"
   ]
  },
  {
   "cell_type": "code",
   "execution_count": 0,
   "metadata": {
    "colab": {},
    "colab_type": "code",
    "id": "qonhIRzFTz0O"
   },
   "outputs": [],
   "source": [
    "# Annotator that transforms a text column from dataframe into an Annotation ready for NLP\n",
    "\n",
    "documentAssembler = DocumentAssembler()\\\n",
    "  .setInputCol(\"text\")\\\n",
    "  .setOutputCol(\"document\")\n",
    "\n",
    "# Sentence Detector annotator, processes various sentences per line\n",
    "\n",
    "sentenceDetector = SentenceDetector()\\\n",
    "  .setInputCols([\"document\"])\\\n",
    "  .setOutputCol(\"sentence\")\n",
    "\n",
    "# Tokenizer splits words in a relevant format for NLP\n",
    "\n",
    "tokenizer = Tokenizer()\\\n",
    "  .setInputCols([\"sentence\"])\\\n",
    "  .setOutputCol(\"token\")"
   ]
  },
  {
   "cell_type": "markdown",
   "metadata": {
    "colab_type": "text",
    "id": "AbBRaz5CTz0S"
   },
   "source": [
    "The fourth annotator in the pipeline is \"WordEmbeddingsModel\". We will download a pretrained model available from \"clinical/models\" named \"embeddings_clinical\".\n",
    "\n",
    "When running this cell your are advised to be patient. \n",
    "\n",
    "First time you call this pretrained model it needs to be downloaded in your local.\n",
    "\n",
    "The model size is about will download the embeddings_clinical corpus it takes a while.\n",
    "\n",
    "The size is about 1.7Gb and will be saved typically in your home folder as\n",
    "\n",
    "    ~HOMEFOLDER/cached_models/embeddings_clinical_en_2.0.2_2.4_1558454742956.zip\n",
    "\n",
    "Next times you call it the model is loaded from your cached copy but even in that case it needs to be indexed each time so expect waiting up to 5 minutes (depending on your machine)"
   ]
  },
  {
   "cell_type": "code",
   "execution_count": 4,
   "metadata": {
    "colab": {
     "base_uri": "https://localhost:8080/",
     "height": 68
    },
    "colab_type": "code",
    "id": "cNiujLC6Tz0T",
    "outputId": "c2d2c7c0-c982-4b97-8c84-5572a4738b24"
   },
   "outputs": [
    {
     "name": "stdout",
     "output_type": "stream",
     "text": [
      "embeddings_clinical download started this may take some time.\n",
      "Approximate size to download 1.6 GB\n",
      "[OK!]\n"
     ]
    }
   ],
   "source": [
    "word_embeddings = WordEmbeddingsModel.pretrained(\"embeddings_clinical\", \"en\", \"clinical/models\")\\\n",
    "  .setInputCols([\"sentence\", \"token\"])\\\n",
    "  .setOutputCol(\"embeddings\")"
   ]
  },
  {
   "cell_type": "markdown",
   "metadata": {
    "colab_type": "text",
    "id": "6h75ZQADTz0Z"
   },
   "source": [
    "The next annotator in our pipeline is the pretrained \"ner_clinical\" NerDLModel avaliable from \"clinical/models\". It requires as input the \"sentence\", \"token\" and \"embeddings\" (clinical embeddings pretrained model) and will classify each token in four categories:\n",
    "<ol>\n",
    "    <li>PROBLEM: for patient problems</li>\n",
    "    <li>TEST: for tests, labs, etc.</li>\n",
    "    <li>TREATMENT: for treatments, medicines, etc.</li>\n",
    "    <li>OTHER: for the rest of tokens.</li>\n",
    "</ol>\n",
    "\n",
    "In order to split those identified NER that are consecutive, the B prefix (as B-PROBLEM) will be used at the first token of each NER. The I prefix (as I-PROBLEM) will be used for the rest of tokens inside the NER."
   ]
  },
  {
   "cell_type": "code",
   "execution_count": 5,
   "metadata": {
    "colab": {
     "base_uri": "https://localhost:8080/",
     "height": 68
    },
    "colab_type": "code",
    "id": "mroxK47xTz0a",
    "outputId": "7344b2b9-ac03-4552-e169-f8a1410cd0cd"
   },
   "outputs": [
    {
     "name": "stdout",
     "output_type": "stream",
     "text": [
      "ner_clinical download started this may take some time.\n",
      "Approximate size to download 13.8 MB\n",
      "[OK!]\n"
     ]
    }
   ],
   "source": [
    "# Named Entity Recognition for clinical concepts. Includes #Problems #Diagnostics\n",
    "\n",
    "#switch to ner_clinical instead of _noncontrib for better performance, if you are in Linux or MAC\n",
    "clinical_ner = NerDLModel.pretrained(\"ner_clinical\", \"en\", \"clinical/models\") \\\n",
    "  .setInputCols([\"sentence\", \"token\", \"embeddings\"]) \\\n",
    "  .setOutputCol(\"ner\")"
   ]
  },
  {
   "cell_type": "markdown",
   "metadata": {
    "colab_type": "text",
    "id": "my-Bz_nnTz0e"
   },
   "source": [
    "The Assertion annotator requires as an input the NER entities in a chunked format so we need the NerConverter annotator to generate that \"ner_chunk\" column in the Spark dataframe."
   ]
  },
  {
   "cell_type": "code",
   "execution_count": 0,
   "metadata": {
    "colab": {},
    "colab_type": "code",
    "id": "gJsezUAGTz0e"
   },
   "outputs": [],
   "source": [
    "# Named Entity Recognition concepts parser, transforms entities into CHUNKS (required for next step: assertion status)\n",
    "\n",
    "ner_converter = NerConverter() \\\n",
    "  .setInputCols([\"sentence\", \"token\", \"ner\"]) \\\n",
    "  .setOutputCol(\"ner_chunk\")"
   ]
  },
  {
   "cell_type": "markdown",
   "metadata": {
    "colab_type": "text",
    "id": "sVOzXYs2Tz0j"
   },
   "source": [
    "Finally the pretrained AssertionLogRegModel named \"assertion_ml\" is included. It will classify each named entity into its assertion type: \"present\", \"absent\", \"hypothetical\", \"conditional\", \"associated_with_other_person\", etc."
   ]
  },
  {
   "cell_type": "code",
   "execution_count": 7,
   "metadata": {
    "colab": {
     "base_uri": "https://localhost:8080/",
     "height": 68
    },
    "colab_type": "code",
    "id": "is4OluxWTz0k",
    "outputId": "b05011da-baee-41a6-93f9-499519c274fd"
   },
   "outputs": [
    {
     "name": "stdout",
     "output_type": "stream",
     "text": [
      "assertion_dl download started this may take some time.\n",
      "Approximate size to download 1.3 MB\n",
      "[OK!]\n"
     ]
    }
   ],
   "source": [
    "# Assertion Status, verifies whether a particular subject wears a condition or not, and labels the condition by status\n",
    "\n",
    "assertion = AssertionDLModel.pretrained(\"assertion_dl\", \"en\", \"clinical/models\") \\\n",
    "  .setInputCols([\"sentence\", \"ner_chunk\", \"embeddings\"]) \\\n",
    "  .setOutputCol(\"assertion\")"
   ]
  },
  {
   "cell_type": "markdown",
   "metadata": {
    "colab_type": "text",
    "id": "5FvBqcTaTz02"
   },
   "source": [
    "#### Step 2.2 Define the NER pipeline\n",
    "\n",
    "Now we will define the actual pipeline that puts together the annotators we have created."
   ]
  },
  {
   "cell_type": "code",
   "execution_count": 0,
   "metadata": {
    "colab": {},
    "colab_type": "code",
    "id": "D17CPDrMTz04"
   },
   "outputs": [],
   "source": [
    "# Build up the pipeline\n",
    "\n",
    "pipeline = Pipeline(\n",
    "    stages = [\n",
    "    documentAssembler,\n",
    "    sentenceDetector,\n",
    "    tokenizer,\n",
    "    word_embeddings,\n",
    "    clinical_ner,\n",
    "    ner_converter,\n",
    "    assertion\n",
    "  ])"
   ]
  },
  {
   "cell_type": "markdown",
   "metadata": {
    "colab_type": "text",
    "id": "CPxiJ1cwTz09"
   },
   "source": [
    "### Step 3 Create a SparkDataFrame with the content\n",
    "\n",
    "Now we will create a sample Spark dataframe with some sentences. In production environments a table with several of those sentences could be distributed in a cluster and be run in large scale systems."
   ]
  },
  {
   "cell_type": "code",
   "execution_count": 9,
   "metadata": {
    "colab": {
     "base_uri": "https://localhost:8080/",
     "height": 204
    },
    "colab_type": "code",
    "id": "CgMMH9lGTz0-",
    "outputId": "3d9b49b6-9c10-4d6a-ff3a-b4b400eb47f6"
   },
   "outputs": [
    {
     "name": "stdout",
     "output_type": "stream",
     "text": [
      "+----------------------------------------------------------------+\n",
      "|text                                                            |\n",
      "+----------------------------------------------------------------+\n",
      "|Patient with severe feber and sore throat                       |\n",
      "|Patient shows no stomach pain                                   |\n",
      "|She was maintained on an epidural and PCA for pain control.     |\n",
      "|He also became short of breath when climbing a flight of stairs.|\n",
      "|Lung tumour located at the right lower lobe                     |\n",
      "|Father with Alzheimer.                                          |\n",
      "+----------------------------------------------------------------+\n",
      "\n"
     ]
    }
   ],
   "source": [
    "# We want to know more about this simple dataframe\n",
    "\n",
    "data = spark.createDataFrame([\n",
    "  [\"Patient with severe feber and sore throat\"],\n",
    "  [\"Patient shows no stomach pain\"],\n",
    "  [\"She was maintained on an epidural and PCA for pain control.\"],\n",
    "  [\"He also became short of breath when climbing a flight of stairs.\"],\n",
    "  [\"Lung tumour located at the right lower lobe\"],\n",
    "  [\"Father with Alzheimer.\"]\n",
    "]).toDF(\"text\")\n",
    "\n",
    "data.show(truncate=False)"
   ]
  },
  {
   "cell_type": "markdown",
   "metadata": {
    "colab_type": "text",
    "id": "L0cRffnHTz1J"
   },
   "source": [
    "### Step 4 Create a model fiting the NER pipeline with the clinical note.\n",
    "\n",
    "Now we can use the pipeline and the sentences to generate a model."
   ]
  },
  {
   "cell_type": "code",
   "execution_count": 0,
   "metadata": {
    "colab": {},
    "colab_type": "code",
    "id": "bmvdZ0GqTz1K"
   },
   "outputs": [],
   "source": [
    "# We convert the pipeline into a model, train any annotator if required (not the case)\n",
    "\n",
    "model = pipeline.fit(data)"
   ]
  },
  {
   "cell_type": "markdown",
   "metadata": {
    "colab_type": "text",
    "id": "9cr4M2FyTz1f"
   },
   "source": [
    "### Step 5 Transform/annotate the sentences using the model.\n",
    "\n",
    "In order to process the data with the new created model we apply a transformation.\n",
    "\n",
    "This will save in a Spakr DataFrame (output) the resuls of running the model over the clinical note. \n"
   ]
  },
  {
   "cell_type": "code",
   "execution_count": 0,
   "metadata": {
    "colab": {},
    "colab_type": "code",
    "id": "0HUpz0s_Tz1g"
   },
   "outputs": [],
   "source": [
    "output = model.transform(data)"
   ]
  },
  {
   "cell_type": "markdown",
   "metadata": {
    "colab_type": "text",
    "id": "w7hIVX8QTz1n"
   },
   "source": [
    "Lets print a column with the Named Entities chunked and a column with the assertion classification assigned by the model.\n",
    "\n",
    "We see for example that in the sentence \"Patient shows no stomach pain\", the sympton \"stomach pain\" has been identified but correctly asserted as \"absent\".\n",
    "\n",
    "In the case of \"She was maintained on an epidural and PCA for pain control.\" the entity \"pain control\" has been identified and asserted as \"hypothetical\". In this case the fact that the PCA effectively controled pain is not completely certain, therefore the entity is marked as an hypothesis. However the presence of an epidural procedure and a PCA are considered as certain and asserted as \"present\".\n",
    "\n",
    "In the case of \"Father with Alzheimer\" the Assertion annotator is able to identify that this condition is associated not with the patient, but with a relative."
   ]
  },
  {
   "cell_type": "code",
   "execution_count": 12,
   "metadata": {
    "colab": {
     "base_uri": "https://localhost:8080/",
     "height": 224
    },
    "colab_type": "code",
    "id": "kz_Hu4MhTz1o",
    "outputId": "8960b5cd-5b7d-4329-b48e-a91fce22c7ef"
   },
   "outputs": [
    {
     "name": "stdout",
     "output_type": "stream",
     "text": [
      "+---------------------------------------------------------------------------------------------------------------------------------------------------------------------------------------------------------------------------------------------------+---------------------------------------------------------------------------------------------------------------------------------------------------------------------------------------------+\n",
      "|ner_chunk                                                                                                                                                                                                                                          |assertion                                                                                                                                                                                    |\n",
      "+---------------------------------------------------------------------------------------------------------------------------------------------------------------------------------------------------------------------------------------------------+---------------------------------------------------------------------------------------------------------------------------------------------------------------------------------------------+\n",
      "|[[chunk, 13, 24, severe feber, [entity -> PROBLEM, sentence -> 0, chunk -> 0], []], [chunk, 30, 40, sore throat, [entity -> PROBLEM, sentence -> 0, chunk -> 1], []]]                                                                              |[[assertion, 13, 24, present, [sentence -> 0, chunk -> 0], []], [assertion, 30, 40, present, [sentence -> 0, chunk -> 1], []]]                                                               |\n",
      "|[[chunk, 17, 28, stomach pain, [entity -> PROBLEM, sentence -> 0, chunk -> 0], []]]                                                                                                                                                                |[[assertion, 17, 28, absent, [sentence -> 0, chunk -> 0], []]]                                                                                                                               |\n",
      "|[[chunk, 22, 32, an epidural, [entity -> TREATMENT, sentence -> 0, chunk -> 0], []], [chunk, 38, 40, PCA, [entity -> TREATMENT, sentence -> 0, chunk -> 1], []], [chunk, 46, 57, pain control, [entity -> PROBLEM, sentence -> 0, chunk -> 2], []]]|[[assertion, 22, 32, present, [sentence -> 0, chunk -> 0], []], [assertion, 38, 40, present, [sentence -> 0, chunk -> 1], []], [assertion, 46, 57, present, [sentence -> 0, chunk -> 2], []]]|\n",
      "|[[chunk, 15, 29, short of breath, [entity -> PROBLEM, sentence -> 0, chunk -> 0], []]]                                                                                                                                                             |[[assertion, 15, 29, conditional, [sentence -> 0, chunk -> 0], []]]                                                                                                                          |\n",
      "|[[chunk, 0, 10, Lung tumour, [entity -> PROBLEM, sentence -> 0, chunk -> 0], []]]                                                                                                                                                                  |[[assertion, 0, 10, present, [sentence -> 0, chunk -> 0], []]]                                                                                                                               |\n",
      "|[[chunk, 12, 20, Alzheimer, [entity -> PROBLEM, sentence -> 0, chunk -> 0], []]]                                                                                                                                                                   |[[assertion, 12, 20, associated_with_someone_else, [sentence -> 0, chunk -> 0], []]]                                                                                                         |\n",
      "+---------------------------------------------------------------------------------------------------------------------------------------------------------------------------------------------------------------------------------------------------+---------------------------------------------------------------------------------------------------------------------------------------------------------------------------------------------+\n",
      "\n"
     ]
    }
   ],
   "source": [
    "output.select(\"ner_chunk\", \"assertion\").show(truncate=False)"
   ]
  },
  {
   "cell_type": "code",
   "execution_count": 13,
   "metadata": {
    "colab": {
     "base_uri": "https://localhost:8080/",
     "height": 204
    },
    "colab_type": "code",
    "id": "EuLhOhfMPAv0",
    "outputId": "2816ea3e-1788-4f43-cc9e-cc503e94f19d"
   },
   "outputs": [
    {
     "name": "stdout",
     "output_type": "stream",
     "text": [
      "+--------------------------------+------------------------------+\n",
      "|result                          |result                        |\n",
      "+--------------------------------+------------------------------+\n",
      "|[severe feber, sore throat]     |[present, present]            |\n",
      "|[stomach pain]                  |[absent]                      |\n",
      "|[an epidural, PCA, pain control]|[present, present, present]   |\n",
      "|[short of breath]               |[conditional]                 |\n",
      "|[Lung tumour]                   |[present]                     |\n",
      "|[Alzheimer]                     |[associated_with_someone_else]|\n",
      "+--------------------------------+------------------------------+\n",
      "\n"
     ]
    }
   ],
   "source": [
    "output.select(\"ner_chunk.result\", \"assertion.result\").show(truncate=False)"
   ]
  },
  {
   "cell_type": "code",
   "execution_count": 0,
   "metadata": {
    "colab": {},
    "colab_type": "code",
    "id": "Rp4dK__-Tz1u"
   },
   "outputs": [],
   "source": []
  }
 ],
 "metadata": {
  "colab": {
   "name": "Clinical-Entity-Assertion.ipynb",
   "provenance": []
  },
  "kernelspec": {
   "display_name": "rasa",
   "language": "python",
   "name": "rasa"
  },
  "language_info": {
   "codemirror_mode": {
    "name": "ipython",
    "version": 3
   },
   "file_extension": ".py",
   "mimetype": "text/x-python",
   "name": "python",
   "nbconvert_exporter": "python",
   "pygments_lexer": "ipython3",
   "version": "3.6.8"
  }
 },
 "nbformat": 4,
 "nbformat_minor": 1
}
