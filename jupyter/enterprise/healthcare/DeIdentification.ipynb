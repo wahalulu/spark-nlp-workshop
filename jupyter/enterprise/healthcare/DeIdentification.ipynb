{
 "cells": [
  {
   "cell_type": "markdown",
   "metadata": {
    "colab_type": "text",
    "id": "5O9HSDTQzeFR"
   },
   "source": [
    "[![Open In Colab](https://colab.research.google.com/assets/colab-badge.svg)](https://colab.research.google.com/github/JohnSnowLabs/spark-nlp-workshop/blob/master/jupyter/enterprise/healthcare/DeIdentification.ipynb)"
   ]
  },
  {
   "cell_type": "markdown",
   "metadata": {
    "colab_type": "text",
    "id": "ICHD-Gary_6m"
   },
   "source": [
    "<img src=\"https://nlp.johnsnowlabs.com/assets/images/logo.png\" width=\"180\" height=\"50\" style=\"float: left;\">"
   ]
  },
  {
   "cell_type": "code",
   "execution_count": 1,
   "metadata": {
    "colab": {
     "base_uri": "https://localhost:8080/",
     "height": 34
    },
    "colab_type": "code",
    "id": "i8U-tz4lzttG",
    "outputId": "a42b1e13-55d9-4336-cb0d-1b5114cb4041"
   },
   "outputs": [
    {
     "data": {
      "text/plain": [
       "dict_keys(['version', 'secret', 'SPARK_NLP_LICENSE', 'JSL_OCR_LICENSE', 'AWS_ACCESS_KEY_ID', 'AWS_SECRET_ACCESS_KEY', 'JSL_OCR_SECRET'])"
      ]
     },
     "execution_count": 1,
     "metadata": {
      "tags": []
     },
     "output_type": "execute_result"
    }
   ],
   "source": [
    "import json\n",
    "\n",
    "with open('keys.json') as f:\n",
    "    license_keys = json.load(f)\n",
    "\n",
    "license_keys.keys()\n"
   ]
  },
  {
   "cell_type": "code",
   "execution_count": 2,
   "metadata": {
    "colab": {
     "base_uri": "https://localhost:8080/",
     "height": 170
    },
    "colab_type": "code",
    "id": "jD5kLq1yzvCv",
    "outputId": "d6c88705-daee-4bfc-e555-9b46fee4a896"
   },
   "outputs": [
    {
     "name": "stdout",
     "output_type": "stream",
     "text": [
      "openjdk version \"1.8.0_252\"\n",
      "OpenJDK Runtime Environment (build 1.8.0_252-8u252-b09-1~18.04-b09)\n",
      "OpenJDK 64-Bit Server VM (build 25.252-b09, mixed mode)\n",
      "Looking in indexes: https://pypi.org/simple, https://pypi.johnsnowlabs.com/8zvTuUjWPt\n",
      "Requirement already up-to-date: spark-nlp-jsl==2.5.2 in /usr/local/lib/python3.6/dist-packages (2.5.2)\n",
      "Requirement already satisfied, skipping upgrade: spark-nlp==2.5.2 in /usr/local/lib/python3.6/dist-packages (from spark-nlp-jsl==2.5.2) (2.5.2)\n",
      "Requirement already satisfied, skipping upgrade: pyspark==2.4.4 in /usr/local/lib/python3.6/dist-packages (from spark-nlp-jsl==2.5.2) (2.4.4)\n",
      "Requirement already satisfied, skipping upgrade: py4j==0.10.7 in /usr/local/lib/python3.6/dist-packages (from pyspark==2.4.4->spark-nlp-jsl==2.5.2) (0.10.7)\n",
      "2.5.2\n"
     ]
    }
   ],
   "source": [
    "import os\n",
    "\n",
    "# Install java\n",
    "! apt-get update -qq\n",
    "! apt-get install -y openjdk-8-jdk-headless -qq > /dev/null\n",
    "\n",
    "secret = license_keys.get(\"secret\",license_keys.get('SPARK_NLP_SECRET', \"\"))\n",
    "spark_version = os.environ.get(\"SPARK_VERSION\", license_keys.get(\"SPARK_VERSION\",\"2.4\"))\n",
    "version = license_keys.get(\"version\",license_keys.get('SPARK_NLP_PUBLIC_VERSION', \"\"))\n",
    "jsl_version = license_keys.get(\"jsl_version\",license_keys.get('SPARK_NLP_VERSION', \"\"))\n",
    "\n",
    "os.environ[\"JAVA_HOME\"] = \"/usr/lib/jvm/java-8-openjdk-amd64\"\n",
    "os.environ[\"PATH\"] = os.environ[\"JAVA_HOME\"] + \"/bin:\" + os.environ[\"PATH\"]\n",
    "! java -version\n",
    "\n",
    "os.environ['SPARK_NLP_LICENSE'] = license_keys['SPARK_NLP_LICENSE']\n",
    "os.environ['JSL_OCR_LICENSE'] = license_keys['JSL_OCR_LICENSE']\n",
    "os.environ['AWS_ACCESS_KEY_ID']= license_keys['AWS_ACCESS_KEY_ID']\n",
    "os.environ['AWS_SECRET_ACCESS_KEY'] = license_keys['AWS_SECRET_ACCESS_KEY']\n",
    "\n",
    "print(spark_version, version, jsl_version)\n",
    "\n",
    "! python -m pip install \"pyspark==$spark_version\".*\n",
    "! python -m pip install --upgrade spark-nlp-jsl==$jsl_version  --extra-index-url https://pypi.johnsnowlabs.com/$secret\n",
    "\n",
    "import sparknlp\n",
    "import sparknlp_jsl\n",
    "from sparknlp.base import *\n",
    "from sparknlp.annotator import *\n",
    "from sparknlp_jsl.annotator import *\n",
    "from pyspark.ml import Pipeline\n",
    "from pyspark.sql import SparkSession\n",
    "\n",
    "print (sparknlp.version())\n",
    "print (sparknlp_jsl.version())\n",
    "\n",
    "spark = sparknlp_jsl.start(secret, gpu=False, spark23=(spark_version[:3]==\"2.3\"))"
   ]
  },
  {
   "cell_type": "markdown",
   "metadata": {
    "colab_type": "text",
    "id": "DDflYvM4y_6p"
   },
   "source": [
    "# DeIdentification - version 2.5.1\n",
    "\n",
    "## Example for Named Entity Recognition with De-Identification Pipeline\n",
    "\n",
    "One of the major issues when it comes to the analysis of medical records is how to deal with the confidentiality nature of the content.\n",
    "\n",
    "Lets imagine we have a clinical record that contains this heading:\n",
    "\n",
    "<div style=\"border:2px solid #747474; background-color: #e3e3e3; margin: 5px; padding: 10px\"> \n",
    "Record date: 2093-01-13<br>\n",
    "David Hale, M.D.<br>\n",
    "Name: Hendrickson, Ora MR. #7194334 Date: 01/13/93 PCP: Oliveira<br>\n",
    "Record date: 2079-11-09. Cocke County Baptist Hospital. 0295 Keats Street.<br>\n",
    "</div>\n",
    "\n",
    "A usual requisite is to remove or ofuscate any content fragment that contains or potentially containts data that could be linked to an individual as for instance:\n",
    "- Names and surnames of the patient\n",
    "- Names and surnames of the doctors\n",
    "- Name of a medical center\n",
    "- Name of a City or Town\n",
    "- Street adress\n",
    "- Telephone number\n",
    "- e-mail\n",
    "- Date of birth (because combined with other data could lead to identification of patients)\n",
    "- etc...\n",
    "\n",
    "SparkNLP Enterprise provides with pipeline functionalities that allow to locate those fragments with personal sensible information and anonimize if required. We will see in this notebook an example of such a pipeline."
   ]
  },
  {
   "cell_type": "markdown",
   "metadata": {
    "colab_type": "text",
    "id": "bOAyNt4Xy_7w"
   },
   "source": [
    "### Step 1: De-identification pipeline generation\n",
    "\n",
    "In Spark-NLP annotating NLP happens through pipelines. Pipelines are made out of various Annotator steps. In our case the architecture of the De-identification pipeline will be:\n",
    "\n",
    "* DocumentAssembler (text -> document)\n",
    "* SentenceDetector (document -> sentence)\n",
    "* Tokenizer (sentence -> token)\n",
    "* WordEmbeddingsModel ([sentence, token] -> embeddings)\n",
    "* NerDLModel (deidentify_dl) ([sentence, token, embeddings] -> ner)\n",
    "* NerConverter ([sentence, token, ner] -> ner_chunk)\n",
    "* DeIdentificationModel ([sentence, token, ner_chunk] -> deidentified\n",
    "\n",
    "So from a text we end having a deidentified text.\n",
    "\n",
    "We will use a pretrained model (NerDLModel deidentify) that uses wordembeddings to recognize tokens that contains personal information. Then we transform its output (ner) into ner_chunk that is then used by another pretrained annotator (DeIdentificationModel) that will finally generate a deidentified text."
   ]
  },
  {
   "cell_type": "markdown",
   "metadata": {
    "colab_type": "text",
    "id": "s4bBkMliy_7x"
   },
   "source": [
    "#### Step 1.1 Load all the components of the pipeline"
   ]
  },
  {
   "cell_type": "code",
   "execution_count": 0,
   "metadata": {
    "colab": {},
    "colab_type": "code",
    "id": "mEYwmzvWy_7z"
   },
   "outputs": [],
   "source": [
    "# Annotator that transforms a text column from dataframe into an Annotation ready for NLP\n",
    "\n",
    "documentAssembler = DocumentAssembler()\\\n",
    "  .setInputCol(\"text\")\\\n",
    "  .setOutputCol(\"document\")\n",
    "\n",
    "# Sentence Detector annotator, processes various sentences per line\n",
    "\n",
    "sentenceDetector = SentenceDetector()\\\n",
    "  .setInputCols([\"document\"])\\\n",
    "  .setOutputCol(\"sentence\")\n",
    "\n",
    "# Tokenizer splits words in a relevant format for NLP\n",
    "\n",
    "tokenizer = Tokenizer()\\\n",
    "  .setInputCols([\"sentence\"])\\\n",
    "  .setOutputCol(\"token\")"
   ]
  },
  {
   "cell_type": "markdown",
   "metadata": {
    "colab_type": "text",
    "id": "4GsReIPry_7_"
   },
   "source": [
    "The fourth annotator in the pipeline is \"WordEmbeddingsModel\". We will download a pretrained model available from \"clinical/models\" named \"embeddings_clinical\".\n",
    "\n",
    "When running this cell your are advised to be patient. \n",
    "\n",
    "First time you call this pretrained model it needs to be downloaded in your local and it takes a while.\n",
    "\n",
    "The size is about 1.7Gb and will be saved typically in your home folder as\n",
    "\n",
    "    ~HOMEFOLDER/cached_models/embeddings_clinical_en_2.0.2_2.4_1558454742956.zip\n",
    "\n",
    "Next times you call it the model is loaded from your cached copy but even in that case it needs to be indexed each time so expect waiting up to 5 minutes (depending on your machine)"
   ]
  },
  {
   "cell_type": "code",
   "execution_count": 4,
   "metadata": {
    "colab": {
     "base_uri": "https://localhost:8080/",
     "height": 68
    },
    "colab_type": "code",
    "id": "jccmwbwBy_8A",
    "outputId": "2bc0b80a-de0a-4617-f417-07a71216a9ea"
   },
   "outputs": [
    {
     "name": "stdout",
     "output_type": "stream",
     "text": [
      "embeddings_clinical download started this may take some time.\n",
      "Approximate size to download 1.6 GB\n",
      "[OK!]\n"
     ]
    }
   ],
   "source": [
    "word_embeddings = WordEmbeddingsModel.pretrained(\"embeddings_clinical\", \"en\", \"clinical/models\")\\\n",
    "  .setInputCols([\"sentence\", \"token\"])\\\n",
    "  .setOutputCol(\"embeddings\")"
   ]
  },
  {
   "cell_type": "code",
   "execution_count": 5,
   "metadata": {
    "colab": {
     "base_uri": "https://localhost:8080/",
     "height": 68
    },
    "colab_type": "code",
    "id": "uxJYkX_Ry_8M",
    "outputId": "c316428c-04a1-4db7-ba4f-61dd2ffb3a51"
   },
   "outputs": [
    {
     "name": "stdout",
     "output_type": "stream",
     "text": [
      "ner_deid_large download started this may take some time.\n",
      "Approximate size to download 14 MB\n",
      "[OK!]\n"
     ]
    }
   ],
   "source": [
    "# Named Entity Recognition for clinical sensitive information. Includes names, phone numbers, addresses, etc\n",
    "\n",
    "clinical_sensitive_entities = NerDLModel.pretrained(\"ner_deid_large\", \"en\", \"clinical/models\") \\\n",
    "  .setInputCols([\"sentence\", \"token\", \"embeddings\"]) \\\n",
    "  .setOutputCol(\"ner\")"
   ]
  },
  {
   "cell_type": "code",
   "execution_count": 0,
   "metadata": {
    "colab": {},
    "colab_type": "code",
    "id": "sZzdcujJy_8T"
   },
   "outputs": [],
   "source": [
    "# Named Entity Recognition concepts parser, transforms entities into CHUNKS (required for next step: assertion status)\n",
    "\n",
    "ner_converter = NerConverter() \\\n",
    "  .setInputCols([\"sentence\", \"token\", \"ner\"]) \\\n",
    "  .setOutputCol(\"ner_chunk\")"
   ]
  },
  {
   "cell_type": "code",
   "execution_count": 7,
   "metadata": {
    "colab": {
     "base_uri": "https://localhost:8080/",
     "height": 68
    },
    "colab_type": "code",
    "id": "wDF_6mzXy_8b",
    "outputId": "dfd6656d-9ccf-4c01-80d8-563f31ac8a12"
   },
   "outputs": [
    {
     "name": "stdout",
     "output_type": "stream",
     "text": [
      "deidentify_large download started this may take some time.\n",
      "Approximate size to download 24.3 KB\n",
      "[OK!]\n"
     ]
    }
   ],
   "source": [
    "deidentification_rules = DeIdentificationModel.pretrained(\"deidentify_large\", \"en\", \"clinical/models\") \\\n",
    "  .setMode(\"obfuscate\") \\\n",
    "  .setInputCols([\"sentence\", \"token\", \"ner_chunk\"]) \\\n",
    "  .setOutputCol(\"deidentified\")"
   ]
  },
  {
   "cell_type": "markdown",
   "metadata": {
    "colab_type": "text",
    "id": "PtPJyUfYy_8h"
   },
   "source": [
    "#### Step 1.2 Defining the stages of the pipeline\n",
    "Now that we have created all the components of our pipeline, lets put all them together into a pipeline."
   ]
  },
  {
   "cell_type": "code",
   "execution_count": 0,
   "metadata": {
    "colab": {},
    "colab_type": "code",
    "id": "GZvvYmFDy_8i"
   },
   "outputs": [],
   "source": [
    "# Build up the pipeline\n",
    "\n",
    "pipeline = Pipeline(\n",
    "    stages = [\n",
    "    documentAssembler,\n",
    "    sentenceDetector,\n",
    "    tokenizer,\n",
    "    word_embeddings,\n",
    "    clinical_sensitive_entities,\n",
    "    ner_converter,\n",
    "    deidentification_rules\n",
    "  ])"
   ]
  },
  {
   "cell_type": "markdown",
   "metadata": {
    "colab_type": "text",
    "id": "ainShoDIy_8o"
   },
   "source": [
    "### Step 2 Get your model by fitting the pipeline with some data\n",
    "Lest now see how our Deidientification pipeline works with some data. We will use the following data containing personal information as an example:\n",
    "\n",
    "<div style=\"border:2px solid #747474; background-color: #e3e3e3; margin: 5px; padding: 10px\"> \n",
    "Record date: 2093-01-13<br>\n",
    "David Hale, M.D.<br>\n",
    "Name: Hendrickson, Ora MR. #7194334 Date: 01/13/93 PCP: Oliveira<br>\n",
    "Record date: 2079-11-09. Cocke County Baptist Hospital. 0295 Keats Street.<br>\n",
    "</div>\n",
    "\n",
    "We will create a Spark DataFrame containing the lines of this document:"
   ]
  },
  {
   "cell_type": "code",
   "execution_count": 9,
   "metadata": {
    "colab": {
     "base_uri": "https://localhost:8080/",
     "height": 170
    },
    "colab_type": "code",
    "id": "P17e0UXGy_8p",
    "outputId": "88d20c9d-d773-4f41-dd68-54feda9aff7b"
   },
   "outputs": [
    {
     "name": "stdout",
     "output_type": "stream",
     "text": [
      "+--------------------------------------------------------------------------+\n",
      "|text                                                                      |\n",
      "+--------------------------------------------------------------------------+\n",
      "|Record date: 2093-01-13                                                   |\n",
      "|David Hale, M.D.                                                          |\n",
      "|Name: Hendrickson, Ora MR. #7194334 Date: 01/13/93 PCP: Oliveira          |\n",
      "|Record date: 2079-11-09. Cocke County Baptist Hospital. 0295 Keats Street.|\n",
      "+--------------------------------------------------------------------------+\n",
      "\n"
     ]
    }
   ],
   "source": [
    "# We want to know more about this simple dataframe\n",
    "\n",
    "data = spark.createDataFrame([\n",
    "  [\"Record date: 2093-01-13\"],\n",
    "  [\"David Hale, M.D.\"],\n",
    "  [\"Name: Hendrickson, Ora MR. #7194334 Date: 01/13/93 PCP: Oliveira\"],\n",
    "  [\"Record date: 2079-11-09. Cocke County Baptist Hospital. 0295 Keats Street.\"]\n",
    "]).toDF(\"text\")\n",
    "\n",
    "data.show(truncate=False)"
   ]
  },
  {
   "cell_type": "markdown",
   "metadata": {
    "colab_type": "text",
    "id": "5FglqRwEy_8y"
   },
   "source": [
    "Now we will create a model by fitting our pipeline to our content:"
   ]
  },
  {
   "cell_type": "code",
   "execution_count": 0,
   "metadata": {
    "colab": {},
    "colab_type": "code",
    "id": "GPpWbYi_y_8z"
   },
   "outputs": [],
   "source": [
    "# We convert the pipeline into a model, train any annotator if required (not the case)\n",
    "\n",
    "model = pipeline.fit(data)"
   ]
  },
  {
   "cell_type": "markdown",
   "metadata": {
    "colab_type": "text",
    "id": "USgReNNjy_8-"
   },
   "source": [
    "### Step 3. Transform your data with the model to deidentify content.\n",
    "As a next step we transform our content using the new model generated:"
   ]
  },
  {
   "cell_type": "code",
   "execution_count": 0,
   "metadata": {
    "colab": {},
    "colab_type": "code",
    "id": "X7RMO92Gy_9A"
   },
   "outputs": [],
   "source": [
    "output = model.transform(data)"
   ]
  },
  {
   "cell_type": "markdown",
   "metadata": {
    "colab_type": "text",
    "id": "UYAeLkQ9y_9G"
   },
   "source": [
    "Lets compare the original sentence ('sentence.result') with the final deidentified text ('deidentified.result') generated by the pipeline:"
   ]
  },
  {
   "cell_type": "code",
   "execution_count": 12,
   "metadata": {
    "colab": {
     "base_uri": "https://localhost:8080/",
     "height": 391
    },
    "colab_type": "code",
    "id": "JZKMdbxpy_9J",
    "outputId": "948222ab-7f7a-424e-97b2-f3054aaaa60f"
   },
   "outputs": [
    {
     "name": "stdout",
     "output_type": "stream",
     "text": [
      "Original sentences:\n",
      "+------------------------------------------------------------------------------+\n",
      "|result                                                                        |\n",
      "+------------------------------------------------------------------------------+\n",
      "|[Record date: 2093-01-13]                                                     |\n",
      "|[David Hale, M.D.]                                                            |\n",
      "|[Name: Hendrickson, Ora MR. #7194334 Date: 01/13/93 PCP: Oliveira]            |\n",
      "|[Record date: 2079-11-09., Cocke County Baptist Hospital., 0295 Keats Street.]|\n",
      "+------------------------------------------------------------------------------+\n",
      "\n",
      "Annonymized output:\n",
      "+----------------------------------------------------+\n",
      "|result                                              |\n",
      "+----------------------------------------------------+\n",
      "|[Record date: 2093-02-13]                           |\n",
      "|[<NAME>, M.D.]                                      |\n",
      "|[Name: <NAME> MR. #7194334 Date: <DATE> PCP: <NAME>]|\n",
      "|[Record date: 2079-12-06., <LOCATION>., <LOCATION>.]|\n",
      "+----------------------------------------------------+\n",
      "\n",
      "CPU times: user 6.81 ms, sys: 1.42 ms, total: 8.23 ms\n",
      "Wall time: 2.34 s\n"
     ]
    }
   ],
   "source": [
    "%%time\n",
    "\n",
    "# Apply the actual transformation\n",
    "\n",
    "print(\"Original sentences:\")\n",
    "output.select(\"sentence.result\").show(truncate=False)\n",
    "print(\"Annonymized output:\")\n",
    "output.select(\"deidentified.result\").show(truncate=False)\n"
   ]
  },
  {
   "cell_type": "markdown",
   "metadata": {
    "colab_type": "text",
    "id": "9NR93XATy_9Q"
   },
   "source": [
    "Surnames, dates, names of healthcare facilities and street address have been identified as a potential personal information and substitued by generic masks."
   ]
  },
  {
   "cell_type": "markdown",
   "metadata": {
    "colab_type": "text",
    "id": "cEJtDukvy_9R"
   },
   "source": [
    "### Step 4 with LightPipelines\n",
    "\n",
    "Once you have created a model by fitting a pipeline with some data you can leverage the use of LightPipelines, faster and easier to use for testing or real-time queries.\n",
    "\n",
    "Lets created a light_pipeline from our model:"
   ]
  },
  {
   "cell_type": "code",
   "execution_count": 0,
   "metadata": {
    "colab": {},
    "colab_type": "code",
    "id": "YdAi3Rs2y_9S"
   },
   "outputs": [],
   "source": [
    "light_pipeline = LightPipeline(model)"
   ]
  },
  {
   "cell_type": "markdown",
   "metadata": {
    "colab_type": "text",
    "id": "APA-HGeyy_9Y"
   },
   "source": [
    "Now by just calling the method .annotate of our light_pipeline we will deidentify any content:"
   ]
  },
  {
   "cell_type": "code",
   "execution_count": 14,
   "metadata": {
    "colab": {
     "base_uri": "https://localhost:8080/",
     "height": 51
    },
    "colab_type": "code",
    "id": "HswnRSVly_9Z",
    "outputId": "f519fd0f-398b-4da0-b965-ae98992e0d8d"
   },
   "outputs": [
    {
     "name": "stdout",
     "output_type": "stream",
     "text": [
      "Name: Smith García, DOB: 23/07/1977 Dr. Suarez. 17 Main Street, Miami Hospital, USA\n",
      "Name: <NAME>, DOB: 16/09/1977 Dr. <NAME>.<LOCATION>, <LOCATION>, <LOCATION>\n"
     ]
    }
   ],
   "source": [
    "# Call annotate() in order to test a sentence or a list of sentences\n",
    "ori_str = \"Name: Smith García, DOB: 23/07/1977 Dr. Suarez. 17 Main Street, Miami Hospital, USA\"\n",
    "light_data = light_pipeline.annotate(ori_str)\n",
    "print(ori_str)\n",
    "print(\"\".join(light_data['deidentified']))"
   ]
  },
  {
   "cell_type": "markdown",
   "metadata": {
    "colab_type": "text",
    "id": "Gvt2lWSSy_9f"
   },
   "source": [
    "Here we can how the NERDl for deidentification assigns the different NER classes to the tokens:"
   ]
  },
  {
   "cell_type": "code",
   "execution_count": 15,
   "metadata": {
    "colab": {
     "base_uri": "https://localhost:8080/",
     "height": 731
    },
    "colab_type": "code",
    "id": "CvEeiDETy_9g",
    "outputId": "49fd2efb-460f-4e34-fc40-c8fa612eadba"
   },
   "outputs": [
    {
     "name": "stdout",
     "output_type": "stream",
     "text": [
      "TOKEN (NER)\n",
      "============\n",
      "Name (O)\n",
      "------------\n",
      ": (O)\n",
      "------------\n",
      "Smith (B-NAME)\n",
      "------------\n",
      "García (I-NAME)\n",
      "------------\n",
      ", (O)\n",
      "------------\n",
      "DOB (O)\n",
      "------------\n",
      ": (O)\n",
      "------------\n",
      "23/07/1977 (B-DATE)\n",
      "------------\n",
      "Dr (O)\n",
      "------------\n",
      ". (O)\n",
      "------------\n",
      "Suarez (B-NAME)\n",
      "------------\n",
      ". (O)\n",
      "------------\n",
      "17 (B-LOCATION)\n",
      "------------\n",
      "Main (I-LOCATION)\n",
      "------------\n",
      "Street (I-LOCATION)\n",
      "------------\n",
      ", (O)\n",
      "------------\n",
      "Miami (B-LOCATION)\n",
      "------------\n",
      "Hospital (I-LOCATION)\n",
      "------------\n",
      ", (O)\n",
      "------------\n",
      "USA (B-LOCATION)\n",
      "------------\n"
     ]
    }
   ],
   "source": [
    "print(\"TOKEN (NER)\")\n",
    "print(\"============\")\n",
    "for i in range(len(light_data['token'])):\n",
    "    print(light_data['token'][i] + \" (\" + light_data['ner'][i]+\")\")\n",
    "    print(\"------------\")"
   ]
  },
  {
   "cell_type": "code",
   "execution_count": 0,
   "metadata": {
    "colab": {},
    "colab_type": "code",
    "id": "ES4HS_d1y_9m"
   },
   "outputs": [],
   "source": []
  }
 ],
 "metadata": {
  "colab": {
   "name": "DeIdentification.ipynb",
   "provenance": []
  },
  "kernelspec": {
   "display_name": "Python 3",
   "language": "python",
   "name": "python3"
  },
  "language_info": {
   "codemirror_mode": {
    "name": "ipython",
    "version": 3
   },
   "file_extension": ".py",
   "mimetype": "text/x-python",
   "name": "python",
   "nbconvert_exporter": "python",
   "pygments_lexer": "ipython3",
   "version": "3.6.9"
  }
 },
 "nbformat": 4,
 "nbformat_minor": 1
}
