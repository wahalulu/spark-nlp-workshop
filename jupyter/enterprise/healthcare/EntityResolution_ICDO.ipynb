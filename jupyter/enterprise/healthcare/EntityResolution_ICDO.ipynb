{
 "cells": [
  {
   "cell_type": "markdown",
   "metadata": {
    "colab_type": "text",
    "id": "Hav2F1sxNHmy"
   },
   "source": [
    "[![Open In Colab](https://colab.research.google.com/assets/colab-badge.svg)](https://colab.research.google.com/github/JohnSnowLabs/spark-nlp-workshop/blob/master/jupyter/enterprise/healthcare/EntityResolution_ICDO.ipynb)"
   ]
  },
  {
   "cell_type": "markdown",
   "metadata": {
    "colab_type": "text",
    "id": "TRlGl97jFVnE"
   },
   "source": [
    "<img src=\"https://nlp.johnsnowlabs.com/assets/images/logo.png\" width=\"180\" height=\"50\" style=\"float: left;\">"
   ]
  },
  {
   "cell_type": "markdown",
   "metadata": {
    "colab_type": "text",
    "id": "vBb4h2eLFVnH"
   },
   "source": [
    "# COLAB ENVIRONMENT SETUP"
   ]
  },
  {
   "cell_type": "code",
   "execution_count": 12,
   "metadata": {
    "colab": {
     "base_uri": "https://localhost:8080/",
     "height": 34
    },
    "colab_type": "code",
    "id": "NCp9ihYnFVnJ",
    "outputId": "12ca862b-2aec-4e3f-d35c-06af92a6cbac"
   },
   "outputs": [
    {
     "data": {
      "text/plain": [
       "dict_keys(['version', 'secret', 'SPARK_NLP_LICENSE', 'JSL_OCR_LICENSE', 'AWS_ACCESS_KEY_ID', 'AWS_SECRET_ACCESS_KEY', 'JSL_OCR_SECRET'])"
      ]
     },
     "execution_count": 12,
     "metadata": {
      "tags": []
     },
     "output_type": "execute_result"
    }
   ],
   "source": [
    "import json\n",
    "\n",
    "with open('keys.json') as f:\n",
    "    license_keys = json.load(f)\n",
    "\n",
    "license_keys.keys()\n"
   ]
  },
  {
   "cell_type": "code",
   "execution_count": 13,
   "metadata": {
    "colab": {
     "base_uri": "https://localhost:8080/",
     "height": 170
    },
    "colab_type": "code",
    "id": "q7lTfFVAFnFW",
    "outputId": "8a7e9a09-591a-4ab2-acec-1abd3f062c7d"
   },
   "outputs": [
    {
     "name": "stdout",
     "output_type": "stream",
     "text": [
      "openjdk version \"1.8.0_252\"\n",
      "OpenJDK Runtime Environment (build 1.8.0_252-8u252-b09-1~18.04-b09)\n",
      "OpenJDK 64-Bit Server VM (build 25.252-b09, mixed mode)\n",
      "Looking in indexes: https://pypi.org/simple, https://pypi.johnsnowlabs.com/8zvTuUjWPt\n",
      "Requirement already up-to-date: spark-nlp-jsl==2.5.2 in /usr/local/lib/python3.6/dist-packages (2.5.2)\n",
      "Requirement already satisfied, skipping upgrade: pyspark==2.4.4 in /usr/local/lib/python3.6/dist-packages (from spark-nlp-jsl==2.5.2) (2.4.4)\n",
      "Requirement already satisfied, skipping upgrade: spark-nlp==2.5.2 in /usr/local/lib/python3.6/dist-packages (from spark-nlp-jsl==2.5.2) (2.5.2)\n",
      "Requirement already satisfied, skipping upgrade: py4j==0.10.7 in /usr/local/lib/python3.6/dist-packages (from pyspark==2.4.4->spark-nlp-jsl==2.5.2) (0.10.7)\n",
      "2.5.2\n"
     ]
    }
   ],
   "source": [
    "import os\n",
    "\n",
    "# Install java\n",
    "! apt-get update -qq\n",
    "! apt-get install -y openjdk-8-jdk-headless -qq > /dev/null\n",
    "\n",
    "secret = license_keys.get(\"secret\",license_keys.get('SPARK_NLP_SECRET', \"\"))\n",
    "spark_version = os.environ.get(\"SPARK_VERSION\", license_keys.get(\"SPARK_VERSION\",\"2.4\"))\n",
    "version = license_keys.get(\"version\",license_keys.get('SPARK_NLP_PUBLIC_VERSION', \"\"))\n",
    "jsl_version = license_keys.get(\"jsl_version\",license_keys.get('SPARK_NLP_VERSION', \"\"))\n",
    "\n",
    "os.environ[\"JAVA_HOME\"] = \"/usr/lib/jvm/java-8-openjdk-amd64\"\n",
    "os.environ[\"PATH\"] = os.environ[\"JAVA_HOME\"] + \"/bin:\" + os.environ[\"PATH\"]\n",
    "! java -version\n",
    "\n",
    "os.environ['SPARK_NLP_LICENSE'] = license_keys['SPARK_NLP_LICENSE']\n",
    "os.environ['JSL_OCR_LICENSE'] = license_keys['JSL_OCR_LICENSE']\n",
    "os.environ['AWS_ACCESS_KEY_ID']= license_keys['AWS_ACCESS_KEY_ID']\n",
    "os.environ['AWS_SECRET_ACCESS_KEY'] = license_keys['AWS_SECRET_ACCESS_KEY']\n",
    "\n",
    "print(spark_version, version, jsl_version)\n",
    "\n",
    "! python -m pip install \"pyspark==$spark_version\".*\n",
    "! python -m pip install --upgrade spark-nlp-jsl==$jsl_version  --extra-index-url https://pypi.johnsnowlabs.com/$secret\n",
    "\n",
    "import sparknlp\n",
    "import sparknlp_jsl\n",
    "from sparknlp.base import *\n",
    "from sparknlp.annotator import *\n",
    "from sparknlp_jsl.annotator import *\n",
    "from pyspark.ml import Pipeline\n",
    "from pyspark.sql import SparkSession\n",
    "\n",
    "print (sparknlp.version())\n",
    "print (sparknlp_jsl.version())\n",
    "\n",
    "spark = sparknlp_jsl.start(secret, gpu=False, spark23=(spark_version[:3]==\"2.3\"))"
   ]
  },
  {
   "cell_type": "markdown",
   "metadata": {
    "colab_type": "text",
    "id": "w6Uo3QeGFVnT"
   },
   "source": [
    "# ICD-O Entity Resolution - version 2.5.1\n",
    "\n",
    "## Example for ICD-O Entity Resolution Pipeline\n",
    "A common NLP problem in medical applications is to identify histology behaviour in documented cancer studies.\n",
    "\n",
    "In this example we will use Spark-NLP to identify and resolve histology behavior expressions and resolve them to an ICD-O code.\n",
    "\n",
    "Some cancer related clinical notes (taken from https://www.cancernetwork.com/case-studies):  \n",
    "https://www.cancernetwork.com/case-studies/large-scrotal-mass-multifocal-intra-abdominal-retroperitoneal-and-pelvic-metastases  \n",
    "https://oncology.medicinematters.com/lymphoma/chronic-lymphocytic-leukemia/case-study-small-b-cell-lymphocytic-lymphoma-and-chronic-lymphoc/12133054\n",
    "https://oncology.medicinematters.com/lymphoma/epidemiology/central-nervous-system-lymphoma/12124056\n",
    "https://oncology.medicinematters.com/lymphoma/case-study-cutaneous-t-cell-lymphoma/12129416\n",
    "\n",
    "Note 1: Desmoplastic small round cell tumor\n",
    "<div style=\"border:2px solid #747474; background-color: #e3e3e3; margin: 5px; padding: 10px\"> \n",
    "A 35-year-old African-American man was referred to our urology clinic by his primary care physician for consultation about a large left scrotal mass. The patient reported a 3-month history of left scrotal swelling that had progressively increased in size and was associated with mild left scrotal pain. He also had complaints of mild constipation, with hard stools every other day. He denied any urinary complaints. On physical examination, a hard paratesticular mass could be palpated in the left hemiscrotum extending into the left groin, separate from the left testicle, and measuring approximately 10 × 7 cm in size. A hard, lower abdominal mass in the suprapubic region could also be palpated in the midline. The patient was admitted urgently to the hospital for further evaluation with cross-sectional imaging and blood work.\n",
    "\n",
    "Laboratory results, including results of a complete blood cell count with differential, liver function tests, coagulation panel, and basic chemistry panel, were unremarkable except for a serum creatinine level of 2.6 mg/dL. Typical markers for a testicular germ cell tumor were within normal limits: the beta–human chorionic gonadotropin level was less than 1 mIU/mL and the alpha fetoprotein level was less than 2.8 ng/mL. A CT scan of the chest, abdomen, and pelvis with intravenous contrast was obtained, and it showed large multifocal intra-abdominal, retroperitoneal, and pelvic masses (Figure 1). On cross-sectional imaging, a 7.8-cm para-aortic mass was visualized compressing the proximal portion of the left ureter, creating moderate left hydroureteronephrosis. Additionally, three separate pelvic masses were present in the retrovesical space, each measuring approximately 5 to 10 cm at their largest diameter; these displaced the bladder anteriorly and the rectum posteriorly.\n",
    "\n",
    "The patient underwent ultrasound-guided needle biopsy of one of the pelvic masses on hospital day 3 for definitive diagnosis. Microscopic examination of the tissue by our pathologist revealed cellular islands with oval to elongated, irregular, and hyperchromatic nuclei; scant cytoplasm; and invading fibrous tissue—as well as three mitoses per high-powered field (Figure 2). Immunohistochemical staining demonstrated strong positivity for cytokeratin AE1/AE3, vimentin, and desmin. Further mutational analysis of the cells detected the presence of an EWS-WT1 fusion transcript consistent with a diagnosis of desmoplastic small round cell tumor.\n",
    "</div>\n",
    "\n",
    "Note 2: SLL and CLL\n",
    "<div style=\"border:2px solid #747474; background-color: #e3e3e3; margin: 5px; padding: 10px\"> \n",
    "A 72-year-old man with a history of diabetes mellitus, hypertension, and hypercholesterolemia self-palpated a left submandibular lump in 2012. Complete blood count (CBC) in his internist’s office showed solitary leukocytosis (white count 22) with predominant lymphocytes for which he was referred to a hematologist. Peripheral blood flow cytometry on 04/11/12 confirmed chronic lymphocytic leukemia (CLL)/small lymphocytic lymphoma (SLL): abnormal cell population comprising 63% of CD45 positive leukocytes, co-expressing CD5 and CD23 in CD19-positive B cells. CD38 was negative but other prognostic markers were not assessed at that time. The patient was observed regularly for the next 3 years and his white count trend was as follows: 22.8 (4/2012) --> 28.5 (07/2012) --> 32.2 (12/2012) --> 36.5 (02/2013) --> 42 (09/2013) --> 44.9 (01/2014) --> 75.8 (2/2015). His other counts stayed normal until early 2015 when he also developed anemia (hemoglobin [HGB] 10.9) although platelets remained normal at 215. He had been noticing enlargement of his cervical, submandibular, supraclavicular, and axillary lymphadenopathy for several months since 2014 and a positron emission tomography (PET)/computed tomography (CT) scan done in 12/2014 had shown extensive diffuse lymphadenopathy within the neck, chest, abdomen, and pelvis. Maximum standardized uptake value (SUV max) was similar to low baseline activity within the vasculature of the neck and chest. In the abdomen and pelvis, however, there was mild to moderately hypermetabolic adenopathy measuring up to SUV of 4. The largest right neck nodes measured up to 2.3 x 3 cm and left neck nodes measured up to 2.3 x 1.5 cm. His right axillary lymphadenopathy measured up to 5.5 x 2.6 cm and on the left measured up to 4.8 x 3.4 cm. Lymph nodes on the right abdomen and pelvis measured up to 6.7 cm and seemed to have some mass effect with compression on the urinary bladder without symptoms. He underwent a bone marrow biopsy on 02/03/15, which revealed hypercellular marrow (60%) with involvement by CLL (30%); flow cytometry showed CD38 and ZAP-70 positivity; fluorescence in situ hybridization (FISH) analysis showed 13q deletion/monosomy 13; IgVH was unmutated; karyotype was 46XY.\n",
    "</div>\n",
    "\n",
    "Note 3: CNS lymphoma\n",
    "<div style=\"border:2px solid #747474; background-color: #e3e3e3; margin: 5px; padding: 10px\"> \n",
    "A 56-year-old woman began to experience vertigo, headaches, and frequent falls. A computed tomography (CT) scan of the brain revealed the presence of a 1.6 x 1.6 x 2.1 cm mass involving the fourth ventricle (Figure 14.1). A gadolinium-enhanced magnetic resonance imaging (MRI) scan confirmed the presence of the mass, and a stereotactic biopsy was performed that demonstrated a primary central nervous system lymphoma (PCNSL) with a diffuse large B-cell histology. Complete blood count (CBC), lactate dehydrogenase (LDH), and beta-2-microglobulin were normal. Systemic staging with a positron emission tomography (PET)/CT scan and bone marrow biopsy showed no evidence of lymphomatous involvement outside the CNS. An eye exam and lumbar puncture showed no evidence of either ocular or leptomeningeal involvement.\n",
    "</div>\n",
    "\n",
    "Note 4: Cutaneous T-cell lymphoma\n",
    "<div style=\"border:2px solid #747474; background-color: #e3e3e3; margin: 5px; padding: 10px\"> \n",
    "An 83-year-old female presented with a progressing pruritic cutaneous rash that started 8 years ago. On clinical exam there were numerous coalescing, infiltrated, scaly, and partially crusted erythematous plaques distributed over her trunk and extremities and a large fungating ulcerated nodule on her right thigh covering 75% of her total body surface area (Figure 10.1). Lymphoma associated alopecia and a left axillary lymphadenopathy were also noted. For the past 3–4 months she reported fatigue, severe pruritus, night sweats, 20 pounds of weight loss, and loss of appetite. \n",
    "</div>"
   ]
  },
  {
   "cell_type": "code",
   "execution_count": 0,
   "metadata": {
    "colab": {},
    "colab_type": "code",
    "id": "d9z1uFzJFVnU"
   },
   "outputs": [],
   "source": [
    "import sys, os, time, pandas as pd\n",
    "\n",
    "from sparknlp.base import *\n",
    "from sparknlp.annotator import *\n",
    "from sparknlp_jsl.annotator import *\n",
    "import pyspark.sql.functions as F\n",
    "from pyspark.sql.types import StructType, StructField, StringType\n",
    "\n",
    "pd.set_option('display.max_colwidth', 250)\n",
    "pd.set_option('display.max_rows', 500)"
   ]
  },
  {
   "cell_type": "markdown",
   "metadata": {
    "colab_type": "text",
    "id": "cNXSgrR7FVnh"
   },
   "source": [
    "## Let's create a dataset with all four case studies"
   ]
  },
  {
   "cell_type": "code",
   "execution_count": 0,
   "metadata": {
    "colab": {},
    "colab_type": "code",
    "id": "ptlXDcHrFVnj"
   },
   "outputs": [],
   "source": [
    "notes = []\n",
    "notes.append(\"\"\"A 35-year-old African-American man was referred to our urology clinic by his primary care physician for consultation about a large left scrotal mass. The patient reported a 3-month history of left scrotal swelling that had progressively increased in size and was associated with mild left scrotal pain. He also had complaints of mild constipation, with hard stools every other day. He denied any urinary complaints. On physical examination, a hard paratesticular mass could be palpated in the left hemiscrotum extending into the left groin, separate from the left testicle, and measuring approximately 10 × 7 cm in size. A hard, lower abdominal mass in the suprapubic region could also be palpated in the midline. The patient was admitted urgently to the hospital for further evaluation with cross-sectional imaging and blood work.\n",
    "Laboratory results, including results of a complete blood cell count with differential, liver function tests, coagulation panel, and basic chemistry panel, were unremarkable except for a serum creatinine level of 2.6 mg/dL. Typical markers for a testicular germ cell tumor were within normal limits: the beta–human chorionic gonadotropin level was less than 1 mIU/mL and the alpha fetoprotein level was less than 2.8 ng/mL. A CT scan of the chest, abdomen, and pelvis with intravenous contrast was obtained, and it showed large multifocal intra-abdominal, retroperitoneal, and pelvic masses (Figure 1). On cross-sectional imaging, a 7.8-cm para-aortic mass was visualized compressing the proximal portion of the left ureter, creating moderate left hydroureteronephrosis. Additionally, three separate pelvic masses were present in the retrovesical space, each measuring approximately 5 to 10 cm at their largest diameter; these displaced the bladder anteriorly and the rectum posteriorly.\n",
    "The patient underwent ultrasound-guided needle biopsy of one of the pelvic masses on hospital day 3 for definitive diagnosis. Microscopic examination of the tissue by our pathologist revealed cellular islands with oval to elongated, irregular, and hyperchromatic nuclei; scant cytoplasm; and invading fibrous tissue—as well as three mitoses per high-powered field (Figure 2). Immunohistochemical staining demonstrated strong positivity for cytokeratin AE1/AE3, vimentin, and desmin. Further mutational analysis of the cells detected the presence of an EWS-WT1 fusion transcript consistent with a diagnosis of desmoplastic small round cell tumor.\"\"\")\n",
    "notes.append(\"\"\"A 72-year-old man with a history of diabetes mellitus, hypertension, and hypercholesterolemia self-palpated a left submandibular lump in 2012. Complete blood count (CBC) in his internist’s office showed solitary leukocytosis (white count 22) with predominant lymphocytes for which he was referred to a hematologist. Peripheral blood flow cytometry on 04/11/12 confirmed chronic lymphocytic leukemia (CLL)/small lymphocytic lymphoma (SLL): abnormal cell population comprising 63% of CD45 positive leukocytes, co-expressing CD5 and CD23 in CD19-positive B cells. CD38 was negative but other prognostic markers were not assessed at that time. The patient was observed regularly for the next 3 years and his white count trend was as follows: 22.8 (4/2012) --> 28.5 (07/2012) --> 32.2 (12/2012) --> 36.5 (02/2013) --> 42 (09/2013) --> 44.9 (01/2014) --> 75.8 (2/2015). His other counts stayed normal until early 2015 when he also developed anemia (hemoglobin [HGB] 10.9) although platelets remained normal at 215. He had been noticing enlargement of his cervical, submandibular, supraclavicular, and axillary lymphadenopathy for several months since 2014 and a positron emission tomography (PET)/computed tomography (CT) scan done in 12/2014 had shown extensive diffuse lymphadenopathy within the neck, chest, abdomen, and pelvis. Maximum standardized uptake value (SUV max) was similar to low baseline activity within the vasculature of the neck and chest. In the abdomen and pelvis, however, there was mild to moderately hypermetabolic adenopathy measuring up to SUV of 4. The largest right neck nodes measured up to 2.3 x 3 cm and left neck nodes measured up to 2.3 x 1.5 cm. His right axillary lymphadenopathy measured up to 5.5 x 2.6 cm and on the left measured up to 4.8 x 3.4 cm. Lymph nodes on the right abdomen and pelvis measured up to 6.7 cm and seemed to have some mass effect with compression on the urinary bladder without symptoms. He underwent a bone marrow biopsy on 02/03/15, which revealed hypercellular marrow (60%) with involvement by CLL (30%); flow cytometry showed CD38 and ZAP-70 positivity; fluorescence in situ hybridization (FISH) analysis showed 13q deletion/monosomy 13; IgVH was unmutated; karyotype was 46XY.\"\"\")\n",
    "notes.append(\"A 56-year-old woman began to experience vertigo, headaches, and frequent falls. A computed tomography (CT) scan of the brain revealed the presence of a 1.6 x 1.6 x 2.1 cm mass involving the fourth ventricle (Figure 14.1). A gadolinium-enhanced magnetic resonance imaging (MRI) scan confirmed the presence of the mass, and a stereotactic biopsy was performed that demonstrated a primary central nervous system lymphoma (PCNSL) with a diffuse large B-cell histology. Complete blood count (CBC), lactate dehydrogenase (LDH), and beta-2-microglobulin were normal. Systemic staging with a positron emission tomography (PET)/CT scan and bone marrow biopsy showed no evidence of lymphomatous involvement outside the CNS. An eye exam and lumbar puncture showed no evidence of either ocular or leptomeningeal involvement.\") \n",
    "notes.append(\"An 83-year-old female presented with a progressing pruritic cutaneous rash that started 8 years ago. On clinical exam there were numerous coalescing, infiltrated, scaly, and partially crusted erythematous plaques distributed over her trunk and extremities and a large fungating ulcerated nodule on her right thigh covering 75% of her total body surface area (Figure 10.1). Lymphoma associated alopecia and a left axillary lymphadenopathy were also noted. For the past 3–4 months she reported fatigue, severe pruritus, night sweats, 20 pounds of weight loss, and loss of appetite.\")\n",
    "\n",
    "data = spark.createDataFrame([(i,n,) for i,n in enumerate(notes)], \n",
    "                             StructType([StructField(\"doc\", StringType()),\n",
    "                                         StructField(\"description\", StringType())]))"
   ]
  },
  {
   "cell_type": "markdown",
   "metadata": {
    "colab_type": "text",
    "id": "4HL4sv4_FVny"
   },
   "source": [
    "## And let's build a SparkNLP pipeline with the following stages:\n",
    "- DocumentAssembler: Entry annotator for our pipelines; it creates the data structure for the Annotation Framework\n",
    "- SentenceDetector: Annotator to pragmatically separate complete sentences inside each document\n",
    "- Tokenizer: Annotator to separate sentences in tokens (generally words)\n",
    "- StopWordsCleaner: Annotator to remove words defined as StopWords in SparkML\n",
    "- WordEmbeddings: Vectorization of word tokens, in this case using word embeddings trained from PubMed, ICD10 and other clinical resources.\n",
    "- ChunkEmbeddings: Aggregates the WordEmbeddings for each NER Chunk\n",
    "- BioNLP NER + NerConverter: This annotators return Chunks related to Cancer and Genetics diseases\n",
    "- ChunkEntityResolver: Annotator that performs search for the KNNs, in this case trained from ICDO Histology Behavior."
   ]
  },
  {
   "cell_type": "code",
   "execution_count": 16,
   "metadata": {
    "colab": {
     "base_uri": "https://localhost:8080/",
     "height": 119
    },
    "colab_type": "code",
    "id": "SNM7ZZS4FVn0",
    "outputId": "45090169-7a28-409f-9b5a-e082c79827c7"
   },
   "outputs": [
    {
     "name": "stdout",
     "output_type": "stream",
     "text": [
      "embeddings_clinical download started this may take some time.\n",
      "Approximate size to download 1.6 GB\n",
      "[OK!]\n",
      "ner_bionlp download started this may take some time.\n",
      "Approximate size to download 13.9 MB\n",
      "[OK!]\n"
     ]
    }
   ],
   "source": [
    "#Usual preparation Annotators\n",
    "docAssembler = DocumentAssembler().setInputCol(\"description\").setOutputCol(\"document\")\n",
    "sentenceDetector = SentenceDetector().setInputCols(\"document\").setOutputCol(\"sentence\")\n",
    "tokenizer = Tokenizer().setInputCols(\"sentence\").setOutputCol(\"token\")\n",
    "stopCleaner = StopWordsCleaner().setOutputCol(\"clean_token\")\n",
    "\n",
    "#Embeddings and their aggregations per chunk\n",
    "embeddings = WordEmbeddingsModel.pretrained(\"embeddings_clinical\", \"en\", \"clinical/models\")\\\n",
    "    .setInputCols(\"sentence\", \"clean_token\")\\\n",
    "    .setOutputCol(\"embeddings\")\n",
    "chunkEmbeddings = ChunkEmbeddings()\\\n",
    "  .setInputCols(\"ner_chunk\", \"embeddings\")\\\n",
    "  .setOutputCol(\"chunk_embeddings\")\n",
    "\n",
    "# Annotators responsible for the Canger Genetics Entity Recognition task\n",
    "nerTagger = NerDLModel.pretrained(\"ner_bionlp\", \"en\", \"clinical/models\")\\\n",
    "    .setInputCols(\"sentence\", \"clean_token\",\"embeddings\")\\\n",
    "    .setOutputCol(\"ner\")\n",
    "nerConverter = NerConverter().setInputCols(\"sentence\",\"token\",\"ner\").setOutputCol(\"ner_chunk\")\\\n",
    ".setWhiteList(['Cellular_component', 'Multi-tissue_structure', 'Organism_substance',\n",
    "       'Gene_or_gene_product', 'Organism_subdivision', 'Cancer',\n",
    "       'Cell'])"
   ]
  },
  {
   "cell_type": "code",
   "execution_count": 17,
   "metadata": {
    "colab": {
     "base_uri": "https://localhost:8080/",
     "height": 119
    },
    "colab_type": "code",
    "id": "CFjZLrj3FVn-",
    "outputId": "c99eb647-89f1-487d-d662-d3f66d1c36f3"
   },
   "outputs": [
    {
     "name": "stdout",
     "output_type": "stream",
     "text": [
      "chunkresolve_icd10cm_neoplasms_clinical download started this may take some time.\n",
      "Approximate size to download 20.4 MB\n",
      "[OK!]\n",
      "chunkresolve_icdo_clinical download started this may take some time.\n",
      "Approximate size to download 8.2 MB\n",
      "[OK!]\n"
     ]
    }
   ],
   "source": [
    "chunkResolverCM = ChunkEntityResolverModel.pretrained(\"chunkresolve_icd10cm_neoplasms_clinical\", \"en\", \"clinical/models\")\\\n",
    "    .setNeighbours(100).setAlternatives(10)\\\n",
    "    .setEnableLevenshtein(True).setDistanceWeights([1,2,2,0,0,2])\\\n",
    "    .setInputCols(\"clean_token\",\"chunk_embeddings\")\\\n",
    "    .setOutputCol(\"icdcm_code\")\n",
    "\n",
    "chunkResolverO = ChunkEntityResolverModel.pretrained(\"chunkresolve_icdo_clinical\", \"en\", \"clinical/models\")\\\n",
    "    .setNeighbours(100).setAlternatives(10)\\\n",
    "    .setEnableLevenshtein(True).setDistanceWeights([1,2,2,0,0,2])\\\n",
    "    .setInputCols(\"clean_token\",\"chunk_embeddings\")\\\n",
    "    .setOutputCol(\"icdo_code\")"
   ]
  },
  {
   "cell_type": "code",
   "execution_count": 0,
   "metadata": {
    "colab": {},
    "colab_type": "code",
    "id": "wlfgAQR5FVoG"
   },
   "outputs": [],
   "source": [
    "pipelineFull = Pipeline().setStages([\n",
    "    docAssembler, \n",
    "    sentenceDetector, \n",
    "    tokenizer, \n",
    "    stopCleaner, \n",
    "    embeddings, \n",
    "    nerTagger,\n",
    "    nerConverter,\n",
    "    chunkEmbeddings, \n",
    "    chunkResolverCM,\n",
    "    chunkResolverO])"
   ]
  },
  {
   "cell_type": "markdown",
   "metadata": {
    "colab_type": "text",
    "id": "4X_cLC6CFVoY"
   },
   "source": [
    "Let's train our Pipeline and make it ready to start transforming"
   ]
  },
  {
   "cell_type": "code",
   "execution_count": 0,
   "metadata": {
    "colab": {},
    "colab_type": "code",
    "id": "aF9BCLiNFVoa"
   },
   "outputs": [],
   "source": [
    "pipelineModelFull = pipelineFull.fit(data)"
   ]
  },
  {
   "cell_type": "code",
   "execution_count": 0,
   "metadata": {
    "colab": {},
    "colab_type": "code",
    "id": "QSKBdno7FVog"
   },
   "outputs": [],
   "source": [
    "output = pipelineModelFull.transform(data).cache()"
   ]
  },
  {
   "cell_type": "markdown",
   "metadata": {
    "colab_type": "text",
    "id": "6GuU5kP6FVom"
   },
   "source": [
    "## The key parts of our model are the **WordEmbeddings and ChunkEntityResolver**: \n",
    "\n",
    "### WordEmebeddings:   \n",
    "Word2Vec model trained on semantically augmented datasets using information from curated Datasets in JSL Data Market.  \n",
    "\n",
    "### EntityResolver:  \n",
    "Trained on an augmented ICDO Dataset from JSL Data Market it provides histology codes resolution for the matched expressions. Other than providing the code in the \"result\" field it provides more metadata about the matching process:  \n",
    "\n",
    "- all_k_results -> Sorted ResolverLabels in the top `alternatives` that match the distance `threshold`\n",
    "- all_k_resolutions -> Respective ResolverNormalized strings\n",
    "- all_k_distances -> Respective distance values after aggregation\n",
    "- all_k_wmd_distances -> Respective WMD distance values\n",
    "- all_k_tfidf_distances -> Respective TFIDF Cosinge distance values\n",
    "- all_k_jaccard_distances -> Respective Jaccard distance values\n",
    "- all_k_sorensen_distances -> Respective SorensenDice distance values\n",
    "- all_k_jaro_distances -> Respective JaroWinkler distance values\n",
    "- all_k_levenshtein_distances -> Respective Levenshtein distance values\n",
    "- all_k_confidences -> Respective normalized probabilities based in inverse distance values\n",
    "- all_k_confidence_ratios -> Convenience indicator calculated as the ratio between the i_th and the (i+1)_th probability\n",
    "- target_text -> The actual searched string\n",
    "- resolved_text -> The top ResolverNormalized string\n",
    "- confidence -> Top probability\n",
    "- confidence_ratio -> Top confidence ratio\n",
    "- distance -> Top distance value\n",
    "- sentence -> Sentence index\n",
    "- chunk -> Chunk Index\n",
    "- token -> Token index"
   ]
  },
  {
   "cell_type": "code",
   "execution_count": 0,
   "metadata": {
    "colab": {},
    "colab_type": "code",
    "id": "f6z2g68qFVon"
   },
   "outputs": [],
   "source": [
    "# analysis_df = output\\\n",
    "# .selectExpr(\"doc\",\"\"\"explode(arrays_zip(\n",
    "# ner_chunk.result,\n",
    "# ner_chunk.metadata,\n",
    "# icdcm_code.result,\n",
    "# icdo_code.result,\n",
    "# icdcm_code.metadata,\n",
    "# icdo_code.metadata\n",
    "# )) as arrays\"\"\")\\\n",
    "# .selectExpr(\"doc\",\n",
    "#             \"arrays['0'] as chunk\",\n",
    "#             \"arrays['1'].entity as entity\",\n",
    "#             \"concat_ws('::',arrays['2'],float(arrays['4'].all_k_confidences)) as cmcode_conf\",\n",
    "#             \"split(arrays['4'].all_k_resolutions,':::') as cm_res\",\n",
    "#             \"concat_ws('::',arrays['3'],float(arrays['5'].all_k_confidences)) as ocode_conf\",\n",
    "#             \"split(arrays['5'].all_k_resolutions,':::') as o_res\")\\\n",
    "# .where(\"entity='Cancer'\")\\\n",
    "# .toPandas()"
   ]
  },
  {
   "cell_type": "code",
   "execution_count": 22,
   "metadata": {
    "colab": {
     "base_uri": "https://localhost:8080/",
     "height": 951
    },
    "colab_type": "code",
    "id": "SxtaX0fIFVou",
    "outputId": "f5362a8a-7be2-4d38-ce84-e74e72fd9648"
   },
   "outputs": [
    {
     "data": {
      "text/html": [
       "<div>\n",
       "<style scoped>\n",
       "    .dataframe tbody tr th:only-of-type {\n",
       "        vertical-align: middle;\n",
       "    }\n",
       "\n",
       "    .dataframe tbody tr th {\n",
       "        vertical-align: top;\n",
       "    }\n",
       "\n",
       "    .dataframe thead th {\n",
       "        text-align: right;\n",
       "    }\n",
       "</style>\n",
       "<table border=\"1\" class=\"dataframe\">\n",
       "  <thead>\n",
       "    <tr style=\"text-align: right;\">\n",
       "      <th></th>\n",
       "      <th>doc</th>\n",
       "      <th>chunk</th>\n",
       "      <th>entity</th>\n",
       "      <th>cmcode_conf</th>\n",
       "      <th>cm_res</th>\n",
       "      <th>ocode_conf</th>\n",
       "      <th>o_res</th>\n",
       "    </tr>\n",
       "  </thead>\n",
       "  <tbody>\n",
       "    <tr>\n",
       "      <th>0</th>\n",
       "      <td>0</td>\n",
       "      <td>testicular germ cell tumor</td>\n",
       "      <td>Cancer</td>\n",
       "      <td>C6290</td>\n",
       "      <td>[Malignant neoplasm of unspecified testis, unspecified whether descended or undescended, Malignant (primary) neoplasm, unspecified, Malignant neoplasm of unspecified ovary, Malignant neoplasm of right ovary, Malignant neoplasm of left ovary, Beni...</td>\n",
       "      <td>9085/3</td>\n",
       "      <td>[Mixed germ cell tumor, Germ cell tumor, nonseminomatous, Germ cell tumors with associated hematological malignancy, Androblastoma, malignant, Merkel cell carcinoma, Vipoma, Granulosa cell-theca cell tumor, mal., Granulosa cell tumor, malignant, ...</td>\n",
       "    </tr>\n",
       "    <tr>\n",
       "      <th>1</th>\n",
       "      <td>0</td>\n",
       "      <td>pelvic masses</td>\n",
       "      <td>Cancer</td>\n",
       "      <td>C763</td>\n",
       "      <td>[Malignant neoplasm of pelvis, Malignant neoplasm of specified parts of peritoneum, Benign neoplasm of peripheral nerves and autonomic nervous system of pelvis, Benign neoplasm of peripheral nerves and autonomic nervous system of abdomen, Maligna...</td>\n",
       "      <td>8312/3</td>\n",
       "      <td>[Renal cell carcinoma, Craniopharyngioma, Neoplasm, benign, Blue nevus, malignant, Papillary craniopharyngioma, T-cell large granular lymphocytic leukemia, Adamantinomatous craniopharyngioma, Paraganglioma, malignant, Hemangiopericytoma, NOS, Aor...</td>\n",
       "    </tr>\n",
       "    <tr>\n",
       "      <th>2</th>\n",
       "      <td>0</td>\n",
       "      <td>desmoplastic small</td>\n",
       "      <td>Cancer</td>\n",
       "      <td>C439</td>\n",
       "      <td>[Malignant melanoma of skin, unspecified, Benign neoplasm of unspecified part of small intestine, Neoplasm of uncertain behavior of connective and other soft tissue, Malignant neoplasm of small intestine, unspecified, Secondary malignant neoplasm...</td>\n",
       "      <td>8806/3</td>\n",
       "      <td>[Desmoplastic small round cell tumor, Desmoplastic melanoma, malignant, Desmoplastic medulloblastoma, Duct carcinoma, desmoplastic type, Malignant lymphoma, non-Hodgkin, Small cell sarcoma, Oat cell carcinoma, Small cell osteosarcoma, Malignant l...</td>\n",
       "    </tr>\n",
       "    <tr>\n",
       "      <th>3</th>\n",
       "      <td>0</td>\n",
       "      <td>cell tumor</td>\n",
       "      <td>Cancer</td>\n",
       "      <td>D489</td>\n",
       "      <td>[Neoplasm of uncertain behavior, unspecified, Mast cell sarcoma, Malignant neoplasm of unspecified testis, unspecified whether descended or undescended, Merkel cell carcinoma, unspecified, Benign neoplasm of endocrine pancreas, Benign neoplasm of...</td>\n",
       "      <td>8630/3</td>\n",
       "      <td>[Androblastoma, malignant, Enterochromaffin-like cell tumor, malignant, Granulosa cell-theca cell tumor, mal., Merkel cell carcinoma, Acinar cell carcinoma, Mixed germ cell tumor, Granular cell tumor, malignant, Islet cell carcinoma, Insulinoma, ...</td>\n",
       "    </tr>\n",
       "    <tr>\n",
       "      <th>4</th>\n",
       "      <td>1</td>\n",
       "      <td>chronic lymphocytic leukemia</td>\n",
       "      <td>Cancer</td>\n",
       "      <td>C9110</td>\n",
       "      <td>[Chronic lymphocytic leukemia of B-cell type not having achieved remission, Chronic myeloid leukemia, BCR/ABL-positive, not having achieved remission, Chronic myelomonocytic leukemia not having achieved remission, Acute lymphoblastic leukemia not...</td>\n",
       "      <td>9805/3</td>\n",
       "      <td>[Acute biphenotypic leukemia, Precursor T-cell lymphoblastic lymphoma, Juvenile myelomonocytic leukemia, Chronic lymphocytic leukemia/small lymphocytic lymphoma, Burkitt cell leukemia, Precursor cell lymphoblastic leukemia, NOS, Chronic myeloid l...</td>\n",
       "    </tr>\n",
       "    <tr>\n",
       "      <th>5</th>\n",
       "      <td>1</td>\n",
       "      <td>lymphocytic lymphoma</td>\n",
       "      <td>Cancer</td>\n",
       "      <td>C8350</td>\n",
       "      <td>[Lymphoblastic (diffuse) lymphoma, unspecified site, Small cell B-cell lymphoma, unspecified site, Mantle cell lymphoma, spleen, Waldenstrom macroglobulinemia, Non-Hodgkin lymphoma, unspecified, unspecified site, Enteropathy-type (intestinal) T-c...</td>\n",
       "      <td>9673/3</td>\n",
       "      <td>[Mantle cell lymphoma, Chronic lymphocytic leukemia/small lymphocytic lymphoma, Follicular lymphoma, NOS, Waldenstrom macroglobulinemia, Malignant lymphoma, non-Hodgkin, Hodgkin lymphoma, lymphocytic deplet., NOS, Follicular lymphoma, grade 1, Se...</td>\n",
       "    </tr>\n",
       "    <tr>\n",
       "      <th>6</th>\n",
       "      <td>1</td>\n",
       "      <td>SLL</td>\n",
       "      <td>Cancer</td>\n",
       "      <td>C8295</td>\n",
       "      <td>[Follicular lymphoma, unspecified, lymph nodes of inguinal region and lower limb, Follicular lymphoma grade II, unspecified site, Follicular lymphoma grade IIIa, spleen, Follicular lymphoma grade IIIb, spleen, Follicular lymphoma grade III, unspe...</td>\n",
       "      <td>9705/3</td>\n",
       "      <td>[Angioimmunoblastic T-cell lymphoma, Mantle cell lymphoma, Hodgkin lymphoma, lymphocyte-rich, Primary effusion lymphoma, Hodgkin lymphoma, nodular sclerosis, NOS, Malignant lymphoma, non-Hodgkin, Composite Hodgkin and non-Hodgkin lymphoma, Plasma...</td>\n",
       "    </tr>\n",
       "    <tr>\n",
       "      <th>7</th>\n",
       "      <td>1</td>\n",
       "      <td>CLL</td>\n",
       "      <td>Cancer</td>\n",
       "      <td>C8337</td>\n",
       "      <td>[Diffuse large B-cell lymphoma, spleen, Other lymphoid leukemia not having achieved remission, Prolymphocytic leukemia of T-cell type not having achieved remission, Prolymphocytic leukemia of B-cell type not having achieved remission, Lymphoid le...</td>\n",
       "      <td>9679/3</td>\n",
       "      <td>[Mediastinal large B-cell lymphoma, Acute myeloid leukemia, Hairy cell leukemia, Plasma cell leukemia, Prolymphocytic leukemia, NOS, Acute monocytic leukemia, Acute megakaryoblastic leukemia, Burkitt cell leukemia, Chronic myelogenous leukemia, B...</td>\n",
       "    </tr>\n",
       "    <tr>\n",
       "      <th>8</th>\n",
       "      <td>2</td>\n",
       "      <td>central nervous system lymphoma</td>\n",
       "      <td>Cancer</td>\n",
       "      <td>C8589</td>\n",
       "      <td>[Other specified types of non-Hodgkin lymphoma, extranodal and solid organ sites, Other non-follicular lymphoma, unspecified site, Other non-follicular lymphoma, spleen, Malignant neoplasm of central nervous system, unspecified, Other non-follicu...</td>\n",
       "      <td>9501/3</td>\n",
       "      <td>[Medulloepithelioma, NOS, Medulloblastoma, WNT-activated, Medulloblastoma, non-WNT/non-SHH, Craniopharyngioma, Medulloblastoma, NOS, Oligodendroglioma, NOS, Medulloblastoma, SHH-activated and TP53-mutant, Oligodendroglioma, anaplastic, Central os...</td>\n",
       "    </tr>\n",
       "    <tr>\n",
       "      <th>9</th>\n",
       "      <td>2</td>\n",
       "      <td>PCNSL</td>\n",
       "      <td>Cancer</td>\n",
       "      <td>C8448</td>\n",
       "      <td>[Peripheral T-cell lymphoma, not classified, lymph nodes of multiple sites, Peripheral T-cell lymphoma, not classified, intrathoracic lymph nodes, Peripheral T-cell lymphoma, not classified, lymph nodes of inguinal region and lower limb, Peripher...</td>\n",
       "      <td>9679/3</td>\n",
       "      <td>[Mediastinal large B-cell lymphoma, Hydroa vacciniforme-like lymphoma, Histiocytic sarcoma, Mantle cell lymphoma, Sezary syndrome, Malignant lymphoma, non-Hodgkin, Angioimmunoblastic T-cell lymphoma, Waldenstrom macroglobulinemia, Plasmablastic l...</td>\n",
       "    </tr>\n",
       "    <tr>\n",
       "      <th>10</th>\n",
       "      <td>3</td>\n",
       "      <td>Lymphoma</td>\n",
       "      <td>Cancer</td>\n",
       "      <td>C8190</td>\n",
       "      <td>[Hodgkin lymphoma, unspecified, unspecified site, Lymphocyte depleted Hodgkin lymphoma, intra-abdominal lymph nodes, Burkitt lymphoma, unspecified site, Sezary disease, unspecified site, Immunoproliferative small intestinal disease, Enteropathy-t...</td>\n",
       "      <td>9591/3</td>\n",
       "      <td>[Malignant lymphoma, non-Hodgkin, Mantle cell lymphoma, Immunoproliferative small intestinal disease, Sezary syndrome, Hydroa vacciniforme-like lymphoma, Hodgkin lymphoma, lymphocyte-rich, Histiocytic sarcoma, Malignant histiocytosis, Plasmablast...</td>\n",
       "    </tr>\n",
       "  </tbody>\n",
       "</table>\n",
       "</div>"
      ],
      "text/plain": [
       "   doc  ...                                                                                                                                                                                                                                                      o_res\n",
       "0    0  ...  [Mixed germ cell tumor, Germ cell tumor, nonseminomatous, Germ cell tumors with associated hematological malignancy, Androblastoma, malignant, Merkel cell carcinoma, Vipoma, Granulosa cell-theca cell tumor, mal., Granulosa cell tumor, malignant, ...\n",
       "1    0  ...  [Renal cell carcinoma, Craniopharyngioma, Neoplasm, benign, Blue nevus, malignant, Papillary craniopharyngioma, T-cell large granular lymphocytic leukemia, Adamantinomatous craniopharyngioma, Paraganglioma, malignant, Hemangiopericytoma, NOS, Aor...\n",
       "2    0  ...  [Desmoplastic small round cell tumor, Desmoplastic melanoma, malignant, Desmoplastic medulloblastoma, Duct carcinoma, desmoplastic type, Malignant lymphoma, non-Hodgkin, Small cell sarcoma, Oat cell carcinoma, Small cell osteosarcoma, Malignant l...\n",
       "3    0  ...  [Androblastoma, malignant, Enterochromaffin-like cell tumor, malignant, Granulosa cell-theca cell tumor, mal., Merkel cell carcinoma, Acinar cell carcinoma, Mixed germ cell tumor, Granular cell tumor, malignant, Islet cell carcinoma, Insulinoma, ...\n",
       "4    1  ...  [Acute biphenotypic leukemia, Precursor T-cell lymphoblastic lymphoma, Juvenile myelomonocytic leukemia, Chronic lymphocytic leukemia/small lymphocytic lymphoma, Burkitt cell leukemia, Precursor cell lymphoblastic leukemia, NOS, Chronic myeloid l...\n",
       "5    1  ...  [Mantle cell lymphoma, Chronic lymphocytic leukemia/small lymphocytic lymphoma, Follicular lymphoma, NOS, Waldenstrom macroglobulinemia, Malignant lymphoma, non-Hodgkin, Hodgkin lymphoma, lymphocytic deplet., NOS, Follicular lymphoma, grade 1, Se...\n",
       "6    1  ...  [Angioimmunoblastic T-cell lymphoma, Mantle cell lymphoma, Hodgkin lymphoma, lymphocyte-rich, Primary effusion lymphoma, Hodgkin lymphoma, nodular sclerosis, NOS, Malignant lymphoma, non-Hodgkin, Composite Hodgkin and non-Hodgkin lymphoma, Plasma...\n",
       "7    1  ...  [Mediastinal large B-cell lymphoma, Acute myeloid leukemia, Hairy cell leukemia, Plasma cell leukemia, Prolymphocytic leukemia, NOS, Acute monocytic leukemia, Acute megakaryoblastic leukemia, Burkitt cell leukemia, Chronic myelogenous leukemia, B...\n",
       "8    2  ...  [Medulloepithelioma, NOS, Medulloblastoma, WNT-activated, Medulloblastoma, non-WNT/non-SHH, Craniopharyngioma, Medulloblastoma, NOS, Oligodendroglioma, NOS, Medulloblastoma, SHH-activated and TP53-mutant, Oligodendroglioma, anaplastic, Central os...\n",
       "9    2  ...  [Mediastinal large B-cell lymphoma, Hydroa vacciniforme-like lymphoma, Histiocytic sarcoma, Mantle cell lymphoma, Sezary syndrome, Malignant lymphoma, non-Hodgkin, Angioimmunoblastic T-cell lymphoma, Waldenstrom macroglobulinemia, Plasmablastic l...\n",
       "10   3  ...  [Malignant lymphoma, non-Hodgkin, Mantle cell lymphoma, Immunoproliferative small intestinal disease, Sezary syndrome, Hydroa vacciniforme-like lymphoma, Hodgkin lymphoma, lymphocyte-rich, Histiocytic sarcoma, Malignant histiocytosis, Plasmablast...\n",
       "\n",
       "[11 rows x 7 columns]"
      ]
     },
     "execution_count": 22,
     "metadata": {
      "tags": []
     },
     "output_type": "execute_result"
    }
   ],
   "source": [
    "#analysis_df"
   ]
  },
  {
   "cell_type": "code",
   "execution_count": 0,
   "metadata": {
    "colab": {},
    "colab_type": "code",
    "id": "1zxqUQlPFVpA"
   },
   "outputs": [],
   "source": []
  }
 ],
 "metadata": {
  "colab": {
   "name": "ICD-O-EntityResolution.ipynb",
   "provenance": [],
   "toc_visible": true
  },
  "kernelspec": {
   "display_name": "jsl368",
   "language": "python",
   "name": "jsl368"
  },
  "language_info": {
   "codemirror_mode": {
    "name": "ipython",
    "version": 3
   },
   "file_extension": ".py",
   "mimetype": "text/x-python",
   "name": "python",
   "nbconvert_exporter": "python",
   "pygments_lexer": "ipython3",
   "version": "3.6.8"
  }
 },
 "nbformat": 4,
 "nbformat_minor": 1
}
